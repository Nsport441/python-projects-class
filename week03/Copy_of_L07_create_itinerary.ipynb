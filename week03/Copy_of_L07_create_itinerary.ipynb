{
  "cells": [
    {
      "cell_type": "markdown",
      "metadata": {
        "id": "1PDjCFxFKzE0"
      },
      "source": [
        "# هفته سوم - درس ۷: ساخت برنامه سفر به چند شهر"
      ]
    },
    {
      "cell_type": "markdown",
      "metadata": {
        "id": "hxnsntepKzE3"
      },
      "source": [
        "با چیزهایی که تا حالا یاد گرفتی تو این درس بناست که برنامه سفر به دور دنیا برای تعطیلات بسازی."
      ]
    },
    {
      "cell_type": "markdown",
      "source": [
        "## پیشنیازها"
      ],
      "metadata": {
        "id": "0J_Q9HQcN2tj"
      }
    },
    {
      "cell_type": "code",
      "source": [
        "# کلون مخزن گیت هاب  و تغییر مسیر کاری به پوشه این درس\n",
        "import os\n",
        "\n",
        "if not os.path.exists('Python-with-AI'):\n",
        "    !git clone https://github.com/asefycom/Python-with-AI.git\n",
        "\n",
        "os.chdir('Python-with-AI/3rd-week/L07')\n",
        "print(\"Current Working Directory:\", os.getcwd())"
      ],
      "metadata": {
        "id": "us_d-NwVJcyG",
        "outputId": "399d1798-b54f-4950-916b-553ebd8cc76b",
        "colab": {
          "base_uri": "https://localhost:8080/"
        }
      },
      "execution_count": 7,
      "outputs": [
        {
          "output_type": "stream",
          "name": "stdout",
          "text": [
            "Cloning into 'Python-with-AI'...\n",
            "remote: Enumerating objects: 322, done.\u001b[K\n",
            "remote: Counting objects: 100% (168/168), done.\u001b[K\n",
            "remote: Compressing objects: 100% (164/164), done.\u001b[K\n",
            "Receiving objects: 100% (322/322), 171.00 KiB | 13.15 MiB/s, done.\n",
            "remote: Total 322 (delta 102), reused 4 (delta 4), pack-reused 154 (from 1)\u001b[K\n",
            "Resolving deltas: 100% (166/166), done.\n",
            "Current Working Directory: /content/Python-with-AI/3rd-week/L07/Python-with-AI/3rd-week/L07\n"
          ]
        }
      ]
    },
    {
      "cell_type": "code",
      "execution_count": 8,
      "metadata": {
        "id": "0nfNDKEOKzE4"
      },
      "outputs": [],
      "source": [
        "# ایمپورت‌های لازم\n",
        "from IPython.display import Markdown, HTML\n",
        "import csv\n",
        "import pandas as pd"
      ]
    },
    {
      "cell_type": "code",
      "source": [
        "# تابعی برای نمایش داده ها به صورت جدول\n",
        "def display_table(data):\n",
        "    # تبدیل داده ورودی به دیتافریم\n",
        "    df = pd.DataFrame(data)\n",
        "\n",
        "    # نمایش دیتافریم به شکل جدول ا‌چ‌تی‌ام‌ال\n",
        "    display(HTML(df.to_html(index=False)))"
      ],
      "metadata": {
        "id": "xfE37W0HOJhc"
      },
      "execution_count": 9,
      "outputs": []
    },
    {
      "cell_type": "code",
      "source": [
        "# نصب بسته توگدر\n",
        "!pip install together"
      ],
      "metadata": {
        "id": "k8iYwnz2OVqB",
        "outputId": "03cc2bc9-62f3-46e2-d11f-0068ba96b2d8",
        "colab": {
          "base_uri": "https://localhost:8080/"
        }
      },
      "execution_count": 10,
      "outputs": [
        {
          "output_type": "stream",
          "name": "stdout",
          "text": [
            "Requirement already satisfied: together in /usr/local/lib/python3.11/dist-packages (1.5.21)\n",
            "Requirement already satisfied: aiohttp<4.0.0,>=3.9.3 in /usr/local/lib/python3.11/dist-packages (from together) (3.12.14)\n",
            "Requirement already satisfied: click<9.0.0,>=8.1.7 in /usr/local/lib/python3.11/dist-packages (from together) (8.1.8)\n",
            "Requirement already satisfied: eval-type-backport<0.3.0,>=0.1.3 in /usr/local/lib/python3.11/dist-packages (from together) (0.2.2)\n",
            "Requirement already satisfied: filelock<4.0.0,>=3.13.1 in /usr/local/lib/python3.11/dist-packages (from together) (3.18.0)\n",
            "Requirement already satisfied: numpy>=1.23.5 in /usr/local/lib/python3.11/dist-packages (from together) (2.0.2)\n",
            "Requirement already satisfied: pillow<12.0.0,>=11.1.0 in /usr/local/lib/python3.11/dist-packages (from together) (11.3.0)\n",
            "Requirement already satisfied: pydantic<3.0.0,>=2.6.3 in /usr/local/lib/python3.11/dist-packages (from together) (2.11.7)\n",
            "Requirement already satisfied: requests<3.0.0,>=2.31.0 in /usr/local/lib/python3.11/dist-packages (from together) (2.32.3)\n",
            "Requirement already satisfied: rich<15.0.0,>=13.8.1 in /usr/local/lib/python3.11/dist-packages (from together) (13.9.4)\n",
            "Requirement already satisfied: tabulate<0.10.0,>=0.9.0 in /usr/local/lib/python3.11/dist-packages (from together) (0.9.0)\n",
            "Requirement already satisfied: tqdm<5.0.0,>=4.66.2 in /usr/local/lib/python3.11/dist-packages (from together) (4.67.1)\n",
            "Requirement already satisfied: typer<0.16,>=0.9 in /usr/local/lib/python3.11/dist-packages (from together) (0.15.4)\n",
            "Requirement already satisfied: aiohappyeyeballs>=2.5.0 in /usr/local/lib/python3.11/dist-packages (from aiohttp<4.0.0,>=3.9.3->together) (2.6.1)\n",
            "Requirement already satisfied: aiosignal>=1.4.0 in /usr/local/lib/python3.11/dist-packages (from aiohttp<4.0.0,>=3.9.3->together) (1.4.0)\n",
            "Requirement already satisfied: attrs>=17.3.0 in /usr/local/lib/python3.11/dist-packages (from aiohttp<4.0.0,>=3.9.3->together) (25.3.0)\n",
            "Requirement already satisfied: frozenlist>=1.1.1 in /usr/local/lib/python3.11/dist-packages (from aiohttp<4.0.0,>=3.9.3->together) (1.7.0)\n",
            "Requirement already satisfied: multidict<7.0,>=4.5 in /usr/local/lib/python3.11/dist-packages (from aiohttp<4.0.0,>=3.9.3->together) (6.6.3)\n",
            "Requirement already satisfied: propcache>=0.2.0 in /usr/local/lib/python3.11/dist-packages (from aiohttp<4.0.0,>=3.9.3->together) (0.3.2)\n",
            "Requirement already satisfied: yarl<2.0,>=1.17.0 in /usr/local/lib/python3.11/dist-packages (from aiohttp<4.0.0,>=3.9.3->together) (1.20.1)\n",
            "Requirement already satisfied: annotated-types>=0.6.0 in /usr/local/lib/python3.11/dist-packages (from pydantic<3.0.0,>=2.6.3->together) (0.7.0)\n",
            "Requirement already satisfied: pydantic-core==2.33.2 in /usr/local/lib/python3.11/dist-packages (from pydantic<3.0.0,>=2.6.3->together) (2.33.2)\n",
            "Requirement already satisfied: typing-extensions>=4.12.2 in /usr/local/lib/python3.11/dist-packages (from pydantic<3.0.0,>=2.6.3->together) (4.14.1)\n",
            "Requirement already satisfied: typing-inspection>=0.4.0 in /usr/local/lib/python3.11/dist-packages (from pydantic<3.0.0,>=2.6.3->together) (0.4.1)\n",
            "Requirement already satisfied: charset-normalizer<4,>=2 in /usr/local/lib/python3.11/dist-packages (from requests<3.0.0,>=2.31.0->together) (3.4.2)\n",
            "Requirement already satisfied: idna<4,>=2.5 in /usr/local/lib/python3.11/dist-packages (from requests<3.0.0,>=2.31.0->together) (3.10)\n",
            "Requirement already satisfied: urllib3<3,>=1.21.1 in /usr/local/lib/python3.11/dist-packages (from requests<3.0.0,>=2.31.0->together) (2.5.0)\n",
            "Requirement already satisfied: certifi>=2017.4.17 in /usr/local/lib/python3.11/dist-packages (from requests<3.0.0,>=2.31.0->together) (2025.7.14)\n",
            "Requirement already satisfied: markdown-it-py>=2.2.0 in /usr/local/lib/python3.11/dist-packages (from rich<15.0.0,>=13.8.1->together) (3.0.0)\n",
            "Requirement already satisfied: pygments<3.0.0,>=2.13.0 in /usr/local/lib/python3.11/dist-packages (from rich<15.0.0,>=13.8.1->together) (2.19.2)\n",
            "Requirement already satisfied: shellingham>=1.3.0 in /usr/local/lib/python3.11/dist-packages (from typer<0.16,>=0.9->together) (1.5.4)\n",
            "Requirement already satisfied: mdurl~=0.1 in /usr/local/lib/python3.11/dist-packages (from markdown-it-py>=2.2.0->rich<15.0.0,>=13.8.1->together) (0.1.2)\n"
          ]
        }
      ]
    },
    {
      "cell_type": "code",
      "source": [
        "# فراخوانی توگدر با کلیدی که ازش گرفتیم\n",
        "# که به صورت امن تو محیط اجرای این دفترچه کولب کار گذاشتیم\n",
        "from google.colab import userdata\n",
        "from together import Together\n",
        "\n",
        "client = Together(api_key=userdata.get('TOGETHER_API_KEY'))\n",
        "\n",
        "# تابعی برای ارسال پرامپت به مدل زبانی به واسطه توگدر و بعد چاپ جواب\n",
        "def print_llm_response(prompt):\n",
        "    response = client.chat.completions.create(\n",
        "        model=\"google/gemma-3n-E4B-it\",\n",
        "        # model=\"meta-llama/Llama-3.3-70B-Instruct-Turbo-Free\",\n",
        "        messages=[\n",
        "        {\n",
        "            \"role\": \"user\",\n",
        "            \"content\": prompt\n",
        "        }\n",
        "        ]\n",
        "    )\n",
        "    return response.choices[0].message.content"
      ],
      "metadata": {
        "id": "5efr2u_GOjWx"
      },
      "execution_count": 11,
      "outputs": []
    },
    {
      "cell_type": "markdown",
      "metadata": {
        "id": "29jZ2_gyKzE7"
      },
      "source": [
        "## واکشی برنامه‌ سفر از فایل‌ سی‌اس‌وی"
      ]
    },
    {
      "cell_type": "markdown",
      "metadata": {
        "id": "_hgFNAZOKzE8"
      },
      "source": [
        "نخست بیا تابعی تعریف کنیم که اطلاعات فایل سی‌اس‌وی رو بخونه و به صورت یک دیکشنری به ما بده."
      ]
    },
    {
      "cell_type": "code",
      "execution_count": 12,
      "metadata": {
        "id": "81SHUPkVKzE9"
      },
      "outputs": [],
      "source": [
        "def read_csv(file):\n",
        "    f = open(file, \"r\")\n",
        "\n",
        "    csv_reader = csv.DictReader(f)\n",
        "    data = []\n",
        "    for row in csv_reader:\n",
        "        data.append(row)\n",
        "    f.close()\n",
        "\n",
        "    return data"
      ]
    },
    {
      "cell_type": "markdown",
      "metadata": {
        "id": "a2D0KNijKzE-"
      },
      "source": [
        "حالا از این تابع استفاده کنیم. برنامه‌های سفر رو از فایل\n",
        "\n",
        " `itinerary.csv`\n",
        "\n",
        " بخونیم و اطلاعاتش رو که به صورت دیکشنری دریافت می‌کنیم و به صورت یک جدول نمایش بدیم."
      ]
    },
    {
      "cell_type": "code",
      "execution_count": 13,
      "metadata": {
        "id": "avIEiIP_KzE-",
        "outputId": "ad944f8c-cab0-4a57-ab86-0afd333aa53d",
        "colab": {
          "base_uri": "https://localhost:8080/",
          "height": 269
        }
      },
      "outputs": [
        {
          "output_type": "display_data",
          "data": {
            "text/plain": [
              "<IPython.core.display.HTML object>"
            ],
            "text/html": [
              "<table border=\"1\" class=\"dataframe\">\n",
              "  <thead>\n",
              "    <tr style=\"text-align: right;\">\n",
              "      <th>Arrival</th>\n",
              "      <th>Departure</th>\n",
              "      <th>City</th>\n",
              "      <th>Country</th>\n",
              "    </tr>\n",
              "  </thead>\n",
              "  <tbody>\n",
              "    <tr>\n",
              "      <td>July-01</td>\n",
              "      <td>July-08</td>\n",
              "      <td>New York</td>\n",
              "      <td>USA</td>\n",
              "    </tr>\n",
              "    <tr>\n",
              "      <td>July-09</td>\n",
              "      <td>July-16</td>\n",
              "      <td>Rio de Janeiro</td>\n",
              "      <td>Brazil</td>\n",
              "    </tr>\n",
              "    <tr>\n",
              "      <td>July-17</td>\n",
              "      <td>July-24</td>\n",
              "      <td>Cape Town</td>\n",
              "      <td>South Africa</td>\n",
              "    </tr>\n",
              "    <tr>\n",
              "      <td>July-25</td>\n",
              "      <td>August-01</td>\n",
              "      <td>Istanbul</td>\n",
              "      <td>Turkey</td>\n",
              "    </tr>\n",
              "    <tr>\n",
              "      <td>August-02</td>\n",
              "      <td>August-09</td>\n",
              "      <td>Paris</td>\n",
              "      <td>France</td>\n",
              "    </tr>\n",
              "    <tr>\n",
              "      <td>August-10</td>\n",
              "      <td>August-17</td>\n",
              "      <td>Tokyo</td>\n",
              "      <td>Japan</td>\n",
              "    </tr>\n",
              "    <tr>\n",
              "      <td>August-18</td>\n",
              "      <td>August-25</td>\n",
              "      <td>Sydney</td>\n",
              "      <td>Australia</td>\n",
              "    </tr>\n",
              "  </tbody>\n",
              "</table>"
            ]
          },
          "metadata": {}
        }
      ],
      "source": [
        "# Read the itinerary.csv file\n",
        "itinerary = read_csv(\"itinerary.csv\")\n",
        "\n",
        "# Display the itinerary\n",
        "display_table(itinerary)"
      ]
    },
    {
      "cell_type": "markdown",
      "metadata": {
        "id": "wiCG5-5jKzE_"
      },
      "source": [
        "## واکشی اطلاعات رستوران‌ها از یادداشت‌های غذایی"
      ]
    },
    {
      "cell_type": "markdown",
      "metadata": {
        "id": "5zGwHKpJKzE_"
      },
      "source": [
        "حالا تابعی بسازیم که محتوای فایل متنی رو می‌خونه و به صورت یک استرینگ بلند برمی‌گردونه."
      ]
    },
    {
      "cell_type": "code",
      "execution_count": 14,
      "metadata": {
        "id": "-3ywHhXmKzFA"
      },
      "outputs": [],
      "source": [
        "# این تابع رو «رید جورنال» نام گذاشتیم\n",
        "def read_journal(journal_file):\n",
        "    f = open(journal_file, \"r\")\n",
        "    journal = f.read()\n",
        "    f.close()\n",
        "\n",
        "    # بازگشت محتوای یادداشت\n",
        "    return journal"
      ]
    },
    {
      "cell_type": "markdown",
      "metadata": {
        "id": "6b1ab3qrKzFA"
      },
      "source": [
        "حالا برای نمونه از این تابع استفاده کنیم و یادداشت شهر سیدنی رو بخونیم."
      ]
    },
    {
      "cell_type": "code",
      "execution_count": 15,
      "metadata": {
        "id": "UYcL6p5UKzFA",
        "outputId": "9d286ee9-93e1-479f-b80f-c030c10814fe",
        "colab": {
          "base_uri": "https://localhost:8080/"
        }
      },
      "outputs": [
        {
          "output_type": "stream",
          "name": "stdout",
          "text": [
            "My culinary adventure began at Saint Peter, a renowned seafood restaurant in Paddington. This place is a temple to Australian seafood, and the \"Murray Cod\" was a revelation. The fish, sourced from the Murray River, was perfectly cooked, with a crispy skin and tender, flaky flesh. It was served with a simple yet flavorful accompaniment of seasonal vegetables, allowing the quality of the fish to shine. The restaurant's dedication to sustainability and nose-to-tail seafood cooking added an educational aspect to the delicious meal.\n",
            "\n",
            "Next, I visited Billy Kwong in Potts Point, where celebrated chef Kylie Kwong puts a unique spin on modern Australian cuisine using native ingredients. The standout dish here was the \"Crispy Skin Duck with Davidson’s Plum Sauce.\" The duck was cooked to perfection, with a rich, flavorful meat and delightfully crispy skin, complemented by the tart and slightly sweet Davidson’s plum sauce. This dish was a perfect example of how traditional recipes can be elevated with local, indigenous ingredients, creating something both familiar and new.\n",
            "\n",
            "In search of a true Australian pub experience, I headed to The Lord Nelson Brewery Hotel in The Rocks. This historic pub serves up hearty, classic Australian fare, and the \"Roast Lamb\" was exactly what I was craving. The lamb, roasted to tender perfection, was served with a medley of root vegetables and a rich gravy, making for a comforting and satisfying meal. Paired with one of their house-brewed ales, it was a quintessential Aussie pub experience that I would highly recommend.\n",
            "\n",
            "I couldn't miss out on trying some of the famous Australian barbecue, so I headed to Vic's Meat Market at the Sydney Fish Market. The \"BBQ Beef Brisket\" was a highlight, slow-cooked to achieve a melt-in-the-mouth texture, and served with a tangy barbecue sauce. The smoky, rich flavor of the brisket was enhanced by the vibrant, outdoor setting of the market, where the aroma of grilling meat filled the air.\n",
            "\n",
            "To round off my exploration of local cuisine, I visited Bennelong, located within the iconic Sydney Opera House. This fine dining restaurant celebrates Australian produce in every dish. The \"Sydney Rock Oysters\" were an exquisite start to the meal, served with a delicate vinaigrette that highlighted their briny freshness. The oysters, sourced from local waters, were plump and succulent, offering a pure taste of the sea.\n",
            "\n",
            "\n"
          ]
        }
      ],
      "source": [
        "journal = read_journal(\"sydney.txt\")\n",
        "\n",
        "print(journal)"
      ]
    },
    {
      "cell_type": "markdown",
      "metadata": {
        "id": "W9BmadpDKzFB"
      },
      "source": [
        "و حالا ... یک پرامپت (سپارش) بنویسیم که اطلاعات رستوران‌ها و غذای مخصوص هر کدوم رو استخراج و به فرمت سی‌اس‌وی ذخیره کنه."
      ]
    },
    {
      "cell_type": "code",
      "execution_count": 16,
      "metadata": {
        "id": "ugQsi635KzFB",
        "outputId": "5079a870-933b-4af8-dc92-1f680ded9599",
        "colab": {
          "base_uri": "https://localhost:8080/"
        }
      },
      "outputs": [
        {
          "output_type": "stream",
          "name": "stdout",
          "text": [
            "Restaurant,Specialty\n",
            "Saint Peter,Murray Cod\n",
            "Billy Kwong,Crispy Skin Duck with Davidson’s Plum Sauce\n",
            "The Lord Nelson Brewery Hotel,Roast Lamb\n",
            "Vic's Meat Market,BBQ Beef Brisket\n",
            "Bennelong,Sydney Rock Oysters\n",
            "\n"
          ]
        }
      ],
      "source": [
        "# Write the prompt\n",
        "prompt = f\"\"\"Please extract a comprehensive list of the restaurants\n",
        "and their respective specialties mentioned in the following journal entry.\n",
        "Ensure that each restaurant name is accurately identified and listed.\n",
        "Provide your answer in CSV format, ready to save.\n",
        "Exclude the \"```csv\" declaration, don't add spaces after the comma, include column headers.\n",
        "\n",
        "Format:\n",
        "Restaurant, Specialty\n",
        "Res_1, Sp_1\n",
        "...\n",
        "\n",
        "Journal entry:\n",
        "{journal}\n",
        "\"\"\"\n",
        "\n",
        "# Print the prompt\n",
        "print(print_llm_response(prompt))"
      ]
    },
    {
      "cell_type": "markdown",
      "source": [
        "از مدل زبانی بخواه تابعی برای ذخیره داده‌های سی اس وی به صورت فایل به زبان پایتون تولید کنه.\n",
        "\n",
        "این پایین بنویسش."
      ],
      "metadata": {
        "id": "UNEK6TRJVLgG"
      }
    },
    {
      "cell_type": "code",
      "source": [
        "# تابع ایجاد فایل سی اس وی رو بنویس\n"
      ],
      "metadata": {
        "id": "4_JRbDpHKXq4"
      },
      "execution_count": 17,
      "outputs": []
    },
    {
      "cell_type": "markdown",
      "metadata": {
        "id": "dTSJlNCOKzFB"
      },
      "source": [
        "فایل پایین یک نمونه ذخیره شده از خروجی مدل هست:\n",
        "\n",
        "`Sydney.csv`\n",
        "\n",
        "فایل رو بخون و به صورت جدول نمایش بده:"
      ]
    },
    {
      "cell_type": "code",
      "execution_count": 18,
      "metadata": {
        "id": "eFCoyK1zKzFC",
        "outputId": "c8364984-415f-46b1-80c7-558245fda14f",
        "colab": {
          "base_uri": "https://localhost:8080/",
          "height": 238
        }
      },
      "outputs": [
        {
          "output_type": "display_data",
          "data": {
            "text/plain": [
              "<IPython.core.display.HTML object>"
            ],
            "text/html": [
              "<table border=\"1\" class=\"dataframe\">\n",
              "  <thead>\n",
              "    <tr style=\"text-align: right;\">\n",
              "      <th>Restaurant</th>\n",
              "      <th>Specialty</th>\n",
              "    </tr>\n",
              "  </thead>\n",
              "  <tbody>\n",
              "    <tr>\n",
              "      <td>Saint Peter</td>\n",
              "      <td>Murray Cod</td>\n",
              "    </tr>\n",
              "    <tr>\n",
              "      <td>Billy Kwong</td>\n",
              "      <td>Crispy Skin Duck with Davidson’s Plum Sauce</td>\n",
              "    </tr>\n",
              "    <tr>\n",
              "      <td>The Lord Nelson Brewery Hotel</td>\n",
              "      <td>Roast Lamb</td>\n",
              "    </tr>\n",
              "    <tr>\n",
              "      <td>Carriageworks Farmers Market</td>\n",
              "      <td>Kangaroo Pie</td>\n",
              "    </tr>\n",
              "    <tr>\n",
              "      <td>Vic's Meat Market</td>\n",
              "      <td>BBQ Beef Brisket</td>\n",
              "    </tr>\n",
              "    <tr>\n",
              "      <td>Bennelong</td>\n",
              "      <td>Sydney Rock Oysters</td>\n",
              "    </tr>\n",
              "  </tbody>\n",
              "</table>"
            ]
          },
          "metadata": {}
        }
      ],
      "source": [
        "# استفاده از تابعی که پیش‌تر تعریف کردی\n",
        "sydney_restaurants = read_csv(\"Sydney.csv\")\n",
        "\n",
        "display_table(sydney_restaurants)"
      ]
    },
    {
      "cell_type": "markdown",
      "metadata": {
        "id": "aRntI1Z3KzFC"
      },
      "source": [
        "## ساخت برنامه سفر کامل با پیشنهادهایی برای رستوران"
      ]
    },
    {
      "cell_type": "markdown",
      "metadata": {
        "id": "JS_EoslpKzFD"
      },
      "source": [
        "بیا داده‌های برنامه  سفر و یادداشت غذا رو کنار هم بگذاریم و یک برنامه کامل برای بازدید از سیدنی بسازیم.\n",
        "\n",
        "دقت کن که اطلاعات سیدنی در ایندکس ۶ «فایل برنامه سفر» درج شده چون سیدنی هفتمین مقصد سفر هست."
      ]
    },
    {
      "cell_type": "code",
      "execution_count": 19,
      "metadata": {
        "id": "b9XpKBHyKzFE"
      },
      "outputs": [],
      "source": [
        "# انتخاب سیدنی از برنامه سفر\n",
        "trip_stop = itinerary[6]"
      ]
    },
    {
      "cell_type": "markdown",
      "metadata": {
        "id": "7Lzttp9pKzFE"
      },
      "source": [
        "حالا همه اطلاعات برنامه سفر سیدنی رو داخل متغیرهای جداگانه ذخیره کن:"
      ]
    },
    {
      "cell_type": "code",
      "execution_count": 20,
      "metadata": {
        "id": "YaDmsZ0tKzFE"
      },
      "outputs": [],
      "source": [
        "city = trip_stop[\"City\"]\n",
        "country = trip_stop[\"Country\"]\n",
        "arrival = trip_stop[\"Arrival\"]\n",
        "departure = trip_stop[\"Departure\"]\n",
        "restaurants = sydney_restaurants"
      ]
    },
    {
      "cell_type": "markdown",
      "metadata": {
        "id": "7hdbVa5aKzFF"
      },
      "source": [
        "سرانجام همه این اطلاعات رو در یک پرامپت به مدل‌زبانی بده تا یک برنامه سفر جامع تهیه کنه."
      ]
    },
    {
      "cell_type": "code",
      "execution_count": 21,
      "metadata": {
        "id": "MNpm_2msKzFF",
        "outputId": "c7251218-755c-477e-fe92-a3879af31421",
        "colab": {
          "base_uri": "https://localhost:8080/",
          "height": 1000
        }
      },
      "outputs": [
        {
          "output_type": "display_data",
          "data": {
            "text/plain": [
              "<IPython.core.display.Markdown object>"
            ],
            "text/markdown": "Okay, here is a detailed itinerary for your trip to Sydney from August 18th to August 25th, incorporating your desired restaurant visits and designed to be a balanced and enjoyable experience.  I've included approximate timings, but feel free to adjust based on your preferences. I've also built in some flexibility.\n\n**Important Notes Before We Start:**\n\n*   **August Weather:** Expect mild, but potentially rainy, weather in Sydney. Pack layers!\n*   **Transportation:** Sydney has a good public transport system (trains, buses, ferries). Consider an Opal card for easy travel. Rideshares (Uber/Ola) are also readily available.\n*   **Reservations:**  Highly recommended for dinner, especially at the restaurants listed. Book in advance!\n*   **Flexibility:** This is a suggested itinerary.  Feel free to swap days or activities based on your interests and energy levels.\n*   **Restaurant Specials:**  I've highlighted the specialty at each restaurant, but be sure to check their current menus.\n*   **Opening Hours:** Double-check the opening hours of all attractions and restaurants, as they can vary.\n\n\n\n\n---\n\n## **Sydney Itinerary: August 18 - August 25**\n\n**Day 1: Arrival & Harbour Exploration (August 18th - Monday)**\n\n*   **9:00 AM:** Arrive at Sydney Airport (SYD).  Take the Airport Link train to your accommodation in the city center (e.g., near Circular Quay, Darling Harbour, or CBD).\n*   **10:30 AM:** Check into your hotel and leave your luggage.\n*   **11:30 AM:**  **Lunch:** Casual lunch at a cafe near Circular Quay. (Plenty of options!)\n*   **1:00 PM:** **Sydney Opera House & Harbour Bridge:** Take a walk around the Sydney Opera House and Harbour Bridge.  Consider a guided tour of the Opera House (book in advance).\n*   **3:00 PM:** **Harbour Cruise:** Enjoy a scenic harbour cruise. Many options are available, ranging from short sightseeing tours to longer cruises with lunch or dinner.\n*   **6:00 PM:** **Dinner:** **Bennelong** (Sydney Opera House). *Specialty: Sydney Rock Oysters*.  Enjoy stunning views while indulging in fresh oysters and modern Australian cuisine.  (Book well in advance!)\n*   **8:30 PM:**  Enjoy a walk around Circular Quay, taking in the illuminated Opera House.\n\n\n\n**Day 2:  The Rocks & Coastal Walk (August 19th - Tuesday)**\n\n*   **8:00 AM:** **Breakfast:**  Your hotel or a cafe in The Rocks.\n*   **9:00 AM:** **The Rocks:** Explore The Rocks, Sydney's historic district.  Wander through the cobblestone streets, browse the markets (weekends), and visit the Rocks Discovery Museum.\n*   **11:00 AM:** **Coastal Walk:** Begin the scenic coastal walk from Circular Quay towards Bondi Beach. (You don't have to do the whole walk – choose a section.)\n*   **1:00 PM:** **Lunch:**  Grab lunch at a cafe along the coastal walk or in Bondi.\n*   **2:30 PM:** **Bondi Beach:** Relax on Bondi Beach, watch the surfers, or take a surf lesson.\n*   **4:30 PM:** **Bondi to Coogee Walk (optional):** Continue the coastal walk to Coogee (allow 2-3 hours).\n*   **7:00 PM:** **Dinner:**  A restaurant in Bondi or Coogee.  (Consider Fish and Chips by the beach for a casual option.)\n\n\n\n**Day 3:  Art & Gardens (August 20th - Wednesday)**\n\n*   **8:00 AM:** **Breakfast:**  Your hotel or a cafe in the city center.\n*   **9:00 AM:** **Art Gallery of NSW:**  Visit the Art Gallery of New South Wales, home to a diverse collection of Australian and international art.\n*   **12:00 PM:** **Lunch:**  Cafe at the Art Gallery or a nearby restaurant.\n*   **1:30 PM:** **Royal Botanic Garden Sydney:** Explore the Royal Botanic Garden, a beautiful oasis with stunning harbour views.\n*   **3:30 PM:**  **Mrs. Macquarie's Chair:**  Take photos from Mrs. Macquarie's Chair, a famous spot offering panoramic views of the Opera House and Harbour Bridge.\n*   **5:00 PM:**  **Shopping:**  Explore the shops in the city center (Pitt Street Mall, Queen Victoria Building).\n*   **7:00 PM:** **Dinner:** **Billy Kwong** (Surry Hills). *Specialty: Crispy Skin Duck with Davidson’s Plum Sauce*.  Experience authentic Australian-Chinese cuisine – book ahead!\n\n\n\n**Day 4:  Blue Mountains Day Trip (August 21st - Thursday)**\n\n*   **7:00 AM:**  Early start! Take a train from Central Station to Katoomba (approx. 2 hours).\n*   **9:00 AM:** **Scenic World:**  Ride the Scenic Railway, Scenic Cableway, and Scenic Skyway for breathtaking views of the Blue Mountains.\n*   **11:00 AM:** **Three Sisters:**  Visit Echo Point for the iconic view of the Three Sisters rock formation.\n*   **12:30 PM:** **Lunch:**  Cafe in Katoomba or Leura.\n*   **2:00 PM:** **Explore Leura:**  Wander through the charming village of Leura, known for its gardens, boutiques, and cafes.\n*   **4:00 PM:**  **Return to Sydney:** Take the train back to Central Station.\n*   **7:00 PM:** **Dinner:** Casual dinner near your hotel.\n\n\n\n**Day 5:  Northern Beaches & Relaxation (August 22nd - Friday)**\n\n*   **8:30 AM:** **Breakfast:**  Your hotel or a cafe near your accommodation.\n*   **9:30 AM:** **Manly Beach:** Take a ferry from Circular Quay to Manly Beach (approx. 30 minutes).\n*   **10:00 AM:** **Manly Beach:** Relax on the beach, swim, or surf.\n*   **12:00 PM:** **Lunch:**  Seafood lunch at a restaurant on Manly Corso.\n*   **1:30 PM:** **Explore Manly:**  Browse the shops, visit the Corso, and enjoy the laid-back atmosphere.\n*   **3:30 PM:** **Relaxation:** Enjoy a walk along the beach, or relax at a cafe.\n*   **6:00 PM:** **Dinner:** **The Lord Nelson Brewery Hotel** (Cronulla - requires a bit of travel). *Specialty: Roast Lamb*. Take a train to Cronulla and enjoy a traditional pub meal with a great selection of craft beers. (Book ahead, especially on weekends.)\n*   **9:00 PM:** Return to your accommodation.\n\n\n\n**Day 6:  Central Markets & Darling Harbour (August 23rd - Saturday)**\n\n*   **9:00 AM:** **Breakfast:** Your hotel or a cafe near Central Station.\n*   **10:00 AM:** **Carriageworks Farmers Market:** (If it's a Saturday – check dates). *Specialty: Kangaroo Pie*. Explore the vibrant Carriageworks Farmers Market for fresh produce, artisan foods, and local crafts.  Grab a delicious Kangaroo Pie for lunch.\n*   **1:00 PM:**  **Lunch:**  Enjoy food from the market or a cafe nearby.\n*   **2:30 PM:** **Darling Harbour:**  Explore Darling Harbour. Visit the Sea Life Sydney Aquarium, WILD LIFE Sydney Zoo, or the Australian National Maritime Museum.\n*   **5:00 PM:**  **Dinner:** **Vic's Meat Market**. *Specialty: BBQ Beef Brisket*. Indulge in delicious BBQ at this popular spot. It can get busy so consider arriving early.\n*   **7:30 PM:** **Darling Harbour Entertainment:** Enjoy the evening entertainment in Darling Harbour – street performers, shows, or a walk along the waterfront.\n\n\n\n**Day 7:  Paddington & Cafe Culture (August 24th - Sunday)**\n\n*   **9:00 AM:** **Breakfast:**  Your hotel or a cafe in Paddington.\n*   **10:00 AM:** **Paddington Markets:** (If it's a Sunday – check dates). Explore the Paddington Markets for fashion, homewares, and art.\n*   **11:30 AM:** **Paddington Exploration:**  Wander through the streets of Paddington, admiring the Victorian terraces and boutique shops.\n*   **1:00 PM:** **Lunch:**  Cafe in Paddington.\n*   **2:30 PM:** **Shopping/Relaxation:**  Browse the shops or relax at a cafe in Paddington.\n*   **5:00 PM:** **Farewell Dinner:** Choose a restaurant based on your preference – perhaps revisit a favorite or try a new place.\n\n\n\n**Day 8: Departure (August 25th - Monday)**\n\n*   **8:00 AM:** **Breakfast:**  Your hotel.\n*   **9:00 AM:**  Check out of your hotel.\n"
          },
          "metadata": {}
        }
      ],
      "source": [
        "# متن پرامپت یا سپارش\n",
        "prompt = f\"\"\"I will visit {city}, {country} from {arrival} to {departure}.\n",
        "Create a daily itinerary with detailed activities.\n",
        "Designate times for breakfast, lunch, and dinner.\n",
        "\n",
        "I want to visit the restaurants listed in the restaurant dictionary\n",
        "without repeating any place. Make sure to mention the specialty\n",
        "that I should try at each of them.\n",
        "\n",
        "Restaurant dictionary:\n",
        "{restaurants}\n",
        "\n",
        "\"\"\"\n",
        "\n",
        "response = print_llm_response(prompt)\n",
        "\n",
        "# چاپ پاسخ مدل به فرمت مارک‌داون\n",
        "display(Markdown(response))"
      ]
    },
    {
      "cell_type": "markdown",
      "metadata": {
        "id": "lXRXYvShKzFF"
      },
      "source": [
        "## ساخت برنامه جامع سفر برای همه شهرها"
      ]
    },
    {
      "cell_type": "markdown",
      "metadata": {
        "id": "8cvD_luLKzFF"
      },
      "source": [
        "یک حلقه فور و بعد بوممممم! همه چیز برای همه شهرها تکرار می‌شه."
      ]
    },
    {
      "cell_type": "code",
      "execution_count": 22,
      "metadata": {
        "id": "u-7CMutmKzFF",
        "outputId": "70b9d183-3bd3-40c2-9f57-249557c5d781",
        "colab": {
          "base_uri": "https://localhost:8080/"
        }
      },
      "outputs": [
        {
          "output_type": "stream",
          "name": "stdout",
          "text": [
            "Creating detailed itinerary for New York, USA.\n",
            "Creating detailed itinerary for Rio de Janeiro, Brazil.\n",
            "Creating detailed itinerary for Cape Town, South Africa.\n",
            "Creating detailed itinerary for Istanbul, Turkey.\n",
            "Creating detailed itinerary for Paris, France.\n",
            "Creating detailed itinerary for Tokyo, Japan.\n",
            "Creating detailed itinerary for Sydney, Australia.\n"
          ]
        }
      ],
      "source": [
        "# دیکشنری خالی برای ثبت برنامه همه شهرها\n",
        "detailed_itinerary = {}\n",
        "\n",
        " # حلقه تکرار برای واکشی اطلاعات همه مقصدها\n",
        "for trip_stop in itinerary:\n",
        "    city = trip_stop[\"City\"]\n",
        "    country = trip_stop[\"Country\"]\n",
        "    arrival = trip_stop[\"Arrival\"]\n",
        "    departure = trip_stop[\"Departure\"]\n",
        "\n",
        "    rest_dict = read_csv(f\"{city}.csv\")\n",
        "\n",
        "    print(f\"Creating detailed itinerary for {city}, {country}.\")\n",
        "\n",
        "    prompt = f\"\"\"I will visit {city}, {country} from {arrival} to {departure}.\n",
        "    Create a daily itinerary with detailed activities.\n",
        "    Designate times for breakfast, lunch, and dinner.\n",
        "\n",
        "    I want to visit the restaurants listed in the restaurant dictionary without repeating any place.\n",
        "    Make sure to mention the specialty that I should try at each of them.\n",
        "\n",
        "    Restaurant dictionary:\n",
        "    {rest_dict}\n",
        "\n",
        "    \"\"\"\n",
        "    # ذخیره برنامه سفر پیشنهادی برای همه شهرها در دیکشنری\n",
        "    detailed_itinerary[city] = print_llm_response(prompt)"
      ]
    },
    {
      "cell_type": "code",
      "source": [
        "def create_detailed_itinerary(itinerary):\n",
        "    # دیکشنری خالی برای ثبت برنامه همه شهرها\n",
        "    detailed_itinerary = {}\n",
        "\n",
        "    # حلقه تکرار برای واکشی اطلاعات همه مقصدها\n",
        "    for trip_stop in itinerary:\n",
        "        city = trip_stop[\"City\"]\n",
        "        country = trip_stop[\"Country\"]\n",
        "        arrival = trip_stop[\"Arrival\"]\n",
        "        departure = trip_stop[\"Departure\"]\n",
        "\n",
        "        rest_dict = read_csv(f\"{city}.csv\")\n",
        "\n",
        "        print(f\"Creating detailed itinerary for {city}, {country}.\")\n",
        "\n",
        "        prompt = f\"\"\"I will visit {city}, {country} from {arrival} to {departure}.\n",
        "        Create a daily itinerary with detailed activities.\n",
        "        Designate times for breakfast, lunch, and dinner.\n",
        "\n",
        "        I want to visit the restaurants listed in the restaurant dictionary without repeating any place.\n",
        "        Make sure to mention the specialty that I should try at each of them.\n",
        "\n",
        "        Restaurant dictionary:\n",
        "        {rest_dict}\n",
        "\n",
        "        \"\"\"\n",
        "        # ذخیره برنامه سفر پیشنهادی برای همه شهرها در دیکشنری\n",
        "        detailed_itinerary[city] = print_llm_response(prompt)\n",
        "\n",
        "    return detailed_itinerary\n",
        "\n",
        "# نحوه استفاده:\n",
        "result = create_detailed_itinerary(itinerary)"
      ],
      "metadata": {
        "colab": {
          "base_uri": "https://localhost:8080/"
        },
        "id": "qNRGV6Fr0vSC",
        "outputId": "4868048c-421e-47b5-83e1-7644a886eef5"
      },
      "execution_count": 23,
      "outputs": [
        {
          "output_type": "stream",
          "name": "stdout",
          "text": [
            "Creating detailed itinerary for New York, USA.\n",
            "Creating detailed itinerary for Rio de Janeiro, Brazil.\n",
            "Creating detailed itinerary for Cape Town, South Africa.\n",
            "Creating detailed itinerary for Istanbul, Turkey.\n",
            "Creating detailed itinerary for Paris, France.\n",
            "Creating detailed itinerary for Tokyo, Japan.\n",
            "Creating detailed itinerary for Sydney, Australia.\n"
          ]
        }
      ]
    },
    {
      "cell_type": "markdown",
      "metadata": {
        "id": "MKzpBCeAKzFG"
      },
      "source": [
        "حالا برنامه هر شهری که بخواهی کافیه نامش رو از دیکشنری صدا بزنی."
      ]
    },
    {
      "cell_type": "code",
      "execution_count": 24,
      "metadata": {
        "id": "MgRWMC3GKzFG",
        "outputId": "cde31ea2-8068-4671-ec52-4997305ca68f",
        "colab": {
          "base_uri": "https://localhost:8080/"
        }
      },
      "outputs": [
        {
          "output_type": "stream",
          "name": "stdout",
          "text": [
            "Okay, here's a detailed itinerary for your Tokyo trip from August 10th to August 17th, incorporating your restaurant preferences and aiming for a balance of cultural experiences, food adventures, and some flexibility.  I've included estimated times, but you should adjust these based on your pace and interests.  Remember August in Tokyo is hot and humid, so stay hydrated!\n",
            "\n",
            "**Important Notes Before You Start:**\n",
            "\n",
            "*   **Reservations:**  *Crucially*, many of these restaurants (especially Jiro, Narisawa, Ginza Kojyu, Akasaka Kikunoi, and Den) require reservations *well* in advance (sometimes months!).  I *highly* recommend you book these ASAP.  Use online reservation services (like TableCheck, OpenTable Japan, or ask your hotel concierge).  Some may only accept reservations through a Japanese speaker.\n",
            "*   **Transportation:** Tokyo has an excellent public transportation system.  Get a Suica or Pasmo card for easy travel on trains and buses.  Consider a Japan Rail Pass *only* if you plan on extensive travel outside of Tokyo during your trip.\n",
            "*   **Pocket Wifi/eSIM:** Essential for navigation, translation, and staying connected.\n",
            "*   **Restaurant Cost:** Be aware that many of these restaurants, especially the high-end ones, can be quite expensive.\n",
            "*    **Flexibility:** This is a suggestion! Feel free to swap days, adjust timings, and add activities that appeal to you.\n",
            "\n",
            "\n",
            "\n",
            "---\n",
            "\n",
            "**Day 1: August 10th (Arrival & Shinjuku Exploration)**\n",
            "\n",
            "*   **14:00:** Arrive at Narita (NRT) or Haneda (HND) Airport.\n",
            "*   **15:00:** Transfer to your hotel in Shinjuku. (Narita Express or Limousine Bus from NRT; Train or Limousine Bus from HND).\n",
            "*   **16:30:** Check in, freshen up.\n",
            "*   **17:30:** Shinjuku Gyoen National Garden. A beautiful oasis in the city. Explore the English Landscape, French Formal, and Japanese Traditional gardens.\n",
            "*   **19:00:** Dinner at **Ichiran Ramen** (Shinjuku Central East Entrance Branch).  *Specialty: Tonkotsu ramen*. Customize your broth, noodles, and toppings.  (Approx. 750-1200 JPY)\n",
            "*   **20:30:**  Tokyo Metropolitan Government Building observation decks. Free panoramic views of the city.\n",
            "*   **22:00:** Relax at your hotel or explore Shinjuku's nightlife (Golden Gai or Omoide Yokocho).\n",
            "\n",
            "**Day 2: August 11th (Culture & Tradition in Asakusa & Ueno)**\n",
            "\n",
            "*   **08:00:** Breakfast at your hotel or a local cafe (try a Japanese-style breakfast set).\n",
            "*   **09:00:** Asakusa – Senso-ji Temple. Explore Tokyo's oldest temple. Walk through Nakamise-dori market for souvenirs and snacks.\n",
            "*   **11:00:** Sumida River Cruise. A relaxing boat ride offering different perspectives of the city.\n",
            "*   **12:30:** Lunch near Senso-ji – try some street food from Nakamise-dori or a local restaurant.\n",
            "*   **14:00:** Ueno Park. Visit museums like the Tokyo National Museum, Tokyo Metropolitan Art Museum, or Ueno Zoo. Choose one or two based on your interests.\n",
            "*   **17:00:** Ameya Yokocho Market (Ueno). A vibrant market with food, clothing, and souvenirs.\n",
            "*   **19:00:** Dinner at **Tsukiji Outer Market**. *Specialty: Fresh sashimi and street food*.  Enjoy a variety of seafood options. (Approx. 2000-4000 JPY)\n",
            "*    **20:30:** Explore Ueno's nightlife or head back to your hotel.\n",
            "\n",
            "**Day 3: August 12th (Harajuku & Shibuya – Pop Culture & Fashion)**\n",
            "\n",
            "*   **08:00:** Breakfast at your hotel or a local cafe.\n",
            "*   **09:00:** Harajuku – Takeshita Street. Experience the unique street style, quirky shops, and colorful treats.\n",
            "*   **10:30:** Meiji Jingu Shrine. A peaceful oasis dedicated to Emperor Meiji and Empress Shoken.\n",
            "*   **12:00:** Lunch in Harajuku – try a crepe or a themed cafe.\n",
            "*   **13:30:** Shibuya – Shibuya Crossing. Witness the world's busiest intersection.\n",
            "*   **14:30:** Hachiko Statue.  A famous meeting spot and a symbol of loyalty.\n",
            "*   **15:00:** Shopping in Shibuya – explore department stores like Shibuya 109 or independent boutiques.\n",
            "*   **17:00:**  Shibuya Sky observation deck.  Amazing panoramic views of Shibuya and the city.\n",
            "*   **19:00:** Dinner at **Den**. *Specialty: Creative Japanese cuisine*. (Reservations essential!) (Approx. 8000-15000 JPY)\n",
            "*   **21:00:** Explore Shibuya's nightlife.\n",
            "\n",
            "\n",
            "\n",
            "**Day 4: August 13th (Ginza & Imperial Palace)**\n",
            "\n",
            "*   **08:00:** Breakfast at your hotel or a cafe in Ginza.\n",
            "*   **09:00:** Ginza – Explore the upscale shopping district. Window shop at designer boutiques, visit department stores like Mitsukoshi and Wako.\n",
            "*   **11:00:** Kabuki-za Theatre. (Optional) – If interested, catch a Kabuki performance (traditional Japanese theatre). Book tickets in advance.\n",
            "*   **12:30:** Lunch in Ginza – Find a restaurant offering tempura or other refined Japanese cuisine.\n",
            "*   **14:00:** Imperial Palace East Garden. Explore the grounds of the former Edo Castle.\n",
            "*   **15:30:**  Nijubashi Bridge.  Take photos of this iconic bridge at the Imperial Palace.\n",
            "*   **17:00:**  Shopping or exploring in the Marunouchi district near Tokyo Station.\n",
            "*   **19:00:** Dinner at **Ginza Kojyu**. *Specialty: Kaiseki (traditional multi-course meal)*. (Reservations essential!) (Approx. 30000-50000 JPY)\n",
            "*   **21:00:** Enjoy a drink at a Ginza bar.\n",
            "\n",
            "**Day 5: August 14th (Day Trip to Hakone – Mountain Scenery & Art)**\n",
            "\n",
            "*   **08:00:** Breakfast at your hotel.\n",
            "*   **09:00:** Travel to Hakone. (Odakyu Romancecar from Shinjuku is a scenic option). (Approx. 1.5-2 hours)\n",
            "*   **11:00:** Hakone Open-Air Museum. Enjoy contemporary sculptures against the backdrop of Mount Fuji (weather permitting).\n",
            "*   **13:00:** Lunch in Hakone – Try local specialties like black eggs (cooked in hot springs).\n",
            "*   **14:30:** Lake Ashi Cruise. Scenic boat ride across the lake with views of Mount Fuji.\n",
            "*   **16:00:** Hakone Ropeway. Ride over volcanic hot springs and enjoy panoramic views.\n",
            "*   **17:30:** Return to Shinjuku.\n",
            "*   **19:30:** Dinner near your hotel in Shinjuku.\n",
            "\n",
            "**Day 6: August 15th (Tsukiji &  Sushi)**\n",
            "\n",
            "*   **08:00:** Breakfast at your hotel.\n",
            "*   **09:00:**  **Tsukiji Outer Market** - Enjoy a leisurely morning exploring the market, trying different foods, and buying souvenirs.  (Focus on seafood!)\n",
            "*   **12:00:** Lunch at Tsukiji Outer Market - continue to explore the market and enjoy lunch.\n",
            "*   **14:00:**  **Kyubey** – Experience high-end sushi. (Reservations essential!). (Approx. 20000-50000 JPY)\n",
            "*   **16:00:**  Explore the Ginza area again, perhaps focusing on art galleries or specialty shops.\n",
            "*   **18:00:**  Relax and freshen up at your hotel.\n",
            "*   **19:30:** Dinner at a restaurant of your choice in Ginza or explore a different neighborhood.\n",
            "\n",
            "**Day 7: August 16th (Nakamise-dori & Cooking Class)**\n",
            "\n",
            "*   **08:00:** Breakfast at your hotel or local cafe.\n",
            "*   **09:00:** **Nakamise-dori** - Located in Asakusa, browse the shops for souvenirs and snacks.\n",
            "*   **11:00:** **Cooking Class:** Participate in a Japanese cooking class and learn to make sushi, ramen, or other dishes. (Book in advance).\n",
            "*   **13:00:** Lunch - Enjoy the food you prepared in your cooking class.\n",
            "*   **15:00:**  Explore the Yanaka Ginza district; a retro shopping street with local shops and food\n"
          ]
        }
      ],
      "source": [
        "# Print in Markdown format\n",
        "print(detailed_itinerary[\"Tokyo\"])"
      ]
    },
    {
      "cell_type": "markdown",
      "metadata": {
        "id": "zsvMA5oeKzFG"
      },
      "source": [
        "## تمرین\n",
        "\n",
        "کد پایین رو اصلاح کن تا برنامه دریافتی برای تک تک شهرهای پایین رو ببینی:\n",
        "\n",
        "**گزینه‌ها:**\n",
        "- Cape Town\n",
        "- Istanbul\n",
        "- New York\n",
        "- Paris\n",
        "- Rio de Janeiro\n",
        "- Sydney\n",
        "- Tokyo"
      ]
    },
    {
      "cell_type": "code",
      "source": [
        "print(detailed_itinerary[\"Cape Town\"])"
      ],
      "metadata": {
        "colab": {
          "base_uri": "https://localhost:8080/"
        },
        "id": "d5L-GUO5xbzH",
        "outputId": "066bfe0c-df91-4292-e871-99b706878cdc"
      },
      "execution_count": 26,
      "outputs": [
        {
          "output_type": "stream",
          "name": "stdout",
          "text": [
            "Okay, here is a detailed itinerary for your trip to Cape Town from July 17th to July 24th, incorporating your restaurant requests and aiming for a good balance of activities.  I've included times for meals and activities, but feel free to adjust them to your preferences.  I've also prioritized a mix of sightseeing, cultural experiences, and relaxation.\n",
            "\n",
            "**Important Notes:**\n",
            "\n",
            "*   **July in Cape Town:** Expect cool weather (average highs around 18°C/64°F, lows around 10°C/50°F). Pack layers!  Rain is possible.\n",
            "*   **Reservations:**  *Crucially*, reservations are **essential** for all the restaurants listed, especially The Test Kitchen and La Colombe. Book as far in advance as possible (weeks or even months!). I strongly recommend booking these ASAP.\n",
            "*   **Transportation:** Consider using Uber, Bolt (ride-sharing apps), or renting a car. Public transport is available but can be slower.  For some excursions like Table Mountain, a tour bus might be convenient.\n",
            "*   **Safety:** Be aware of your surroundings and take standard safety precautions (don't flash valuables, avoid walking alone at night in unfamiliar areas).\n",
            "*   **Flexibility:** This is a suggestion; feel free to swap days or activities based on your interests and energy levels.\n",
            "\n",
            "\n",
            "---\n",
            "\n",
            "## **Cape Town Itinerary: July 17th - July 24th**\n",
            "\n",
            "**Day 1: July 17th (Arrival & City Exploration)**\n",
            "\n",
            "*   **9:00 AM:** Arrive at Cape Town International Airport (CPT). Transfer to your accommodation (hotel/Airbnb). Check in and freshen up.\n",
            "*   **11:00 AM:**  Explore the V&A Waterfront. Walk around, browse the shops, and soak in the atmosphere.\n",
            "*   **1:00 PM:** Lunch at **Harbour House**.  Enjoy their signature **Grilled Kingklip**. *Address: V&A Waterfront, 8-12 Jetty Street, Green Point, 8000, South Africa*\n",
            "*   **3:00 PM:**  Optional:  Cape Wheel for panoramic views of the city and harbor.\n",
            "*   **6:00 PM:**  Relax and freshen up at your accommodation.\n",
            "*   **8:00 PM:** Dinner at **The Pot Luck Club**.  Indulge in their **Beef Tataki** and enjoy the stunning city views. *Address: 6 Long Street, Cape Town CBD, 8000, South Africa*\n",
            "\n",
            "**Day 2: July 18th (Table Mountain & City History)**\n",
            "\n",
            "*   **8:00 AM:** Breakfast at your accommodation or a local cafe.\n",
            "*   **9:00 AM:**  Table Mountain.  Take the cable car up (weather permitting – check conditions beforehand!).  Enjoy the breathtaking views. Allow at least 2-3 hours. *Book cable car tickets online in advance to avoid queues.*\n",
            "*   **12:00 PM:** Lunch at a cafe near the Table Mountain cable car station.\n",
            "*   **2:00 PM:** Explore the Company's Garden, a historic garden in the city center. Visit the South African Museum (optional).\n",
            "*   **4:00 PM:**  Walk through the city center, admiring the architecture. Consider a walking tour focusing on the city's history, including visits to Parliament Buildings and St. George's Cathedral.\n",
            "*   **7:00 PM:** Dinner at a restaurant of your choice in the city center.  Consider trying a local South African cuisine.\n",
            "\n",
            "**Day 3: July 19th (Cape Peninsula Scenic Drive)**\n",
            "\n",
            "*   **8:00 AM:** Breakfast at your accommodation or a cafe.\n",
            "*   **9:00 AM:**  Start the Cape Peninsula scenic drive.  Consider a guided tour if you prefer not to drive yourself.\n",
            "*   **10:00 AM:**  Visit Boulders Beach to see the African penguin colony.\n",
            "*   **11:30 AM:**  Continue to Cape Point and the Cape of Good Hope.  Enjoy the dramatic coastal scenery.\n",
            "*   **1:00 PM:** Lunch at a restaurant near Cape Point.\n",
            "*   **2:30 PM:** Visit the Cape Point Nature Reserve, hike to the lighthouse, and explore the flora and fauna.\n",
            "*   **4:30 PM:**  Optional: Visit the Kirstenbosch National Botanical Garden (beautiful even in winter).\n",
            "*   **7:00 PM:** Dinner at a restaurant in Kalk Bay – a charming fishing village with great seafood options.\n",
            "\n",
            "**Day 4: July 20th (Winelands - Stellenbosch & Franschhoek)**\n",
            "\n",
            "*   **8:00 AM:** Breakfast at your accommodation.\n",
            "*   **9:00 AM:**  Drive to Stellenbosch, the heart of the Cape Winelands.\n",
            "*   **10:00 AM:** Wine tasting at a few wineries in Stellenbosch.  Consider: Spier Wine Farm, Delaire Graff Estate, or Rust en Vrede.\n",
            "*   **1:00 PM:** Lunch at a restaurant in Stellenbosch.\n",
            "*   **2:30 PM:** Drive to Franschhoek, another charming winelands town.\n",
            "*   **3:30 PM:** Wine tasting at a winery in Franschhoek. Consider: La Motte or Boschendal.\n",
            "*   **5:00 PM:** Explore Franschhoek's shops and art galleries.\n",
            "*   **7:00 PM:** Dinner at **La Colombe**.  Savor their exquisite **Tuna La Colombe**. *Address: Silvermist Estate, 90 Silvermist Ave, Constantia, 7895, South Africa* (Book *well* in advance!).\n",
            "\n",
            "**Day 5: July 21st (Art & Coastal Beauty)**\n",
            "\n",
            "*   **8:00 AM:** Breakfast at your accommodation.\n",
            "*   **9:00 AM:** Explore the colourful Bo-Kaap neighborhood – take photos of the brightly painted houses.\n",
            "*   **10:00 AM:** Visit the Zeitz MOCAA (Museum of Contemporary Art Africa) – a unique and impressive museum housed in a converted grain silo.\n",
            "*   **1:00 PM:** Lunch at a cafe in the V&A Waterfront.\n",
            "*   **2:30 PM:**  Drive to Chapman's Peak Drive (weather permitting – it can be closed due to weather). Enjoy the stunning coastal views.\n",
            "*   **4:00 PM:**  Visit Hout Bay and take a boat trip to Seal Island to see the seals.\n",
            "*   **7:00 PM:** Dinner at a restaurant in Hout Bay or back in the city.\n",
            "\n",
            "**Day 6: July 22nd (The Test Kitchen)**\n",
            "\n",
            "*   **8:00 AM:** Breakfast at your accommodation.\n",
            "*   **9:00 AM:** Relaxing morning – perhaps a stroll along the beach or a visit to a local market.\n",
            "*   **1:00 PM:** Lunch at a casual restaurant.\n",
            "*   **6:00 PM:** Dinner at **The Test Kitchen**. Indulge in their renowned **Pickled Fish Tacos**. *Address: 9 Long St, Cape Town CBD, 8000, South Africa* (Book *well* in advance!).\n",
            "\n",
            "**Day 7: July 23rd (Day Trip to Hermanus - Whale Watching)**\n",
            "\n",
            "*   **7:00 AM:** Early start - drive to Hermanus (approx. 1.5 - 2 hours).  This is prime whale-watching season (July-November).\n",
            "*   **9:00 AM:** Whale watching boat trip. Several operators offer trips from Hermanus.\n",
            "*   **12:00 PM:** Lunch in Hermanus – enjoy fresh seafood.\n",
            "*   **2:00 PM:** Explore Hermanus town – walk along the cliff path, browse the shops, and visit the Fernkloof Nature Reserve (hiking).\n",
            "*   **5:00 PM:** Drive back to Cape Town.\n",
            "*   **7:30 PM:** Dinner at a restaurant of your choice in Cape Town.\n",
            "\n",
            "**Day 8: July 24th (Departure)**\n",
            "\n",
            "*   **8:00 AM:** Breakfast at your accommodation.\n",
            "*   **9:00 AM:** Last-minute souvenir shopping or revisit a favorite spot.\n",
            "*   **12:00 PM:** Lunch at a restaurant near the airport.\n",
            "*   **2:00 PM:** Transfer to Cape Town International Airport (CPT) for your departure.\n",
            "\n",
            "\n",
            "\n",
            "---\n",
            "\n",
            "**Restaurant Summary:**\n",
            "\n",
            "*   **The Test Kitchen:** Pickled Fish Tacos (Book *far* in advance!)\n",
            "*   **La Colombe:** Tuna La Colombe (Book *far* in advance!)\n",
            "*   **Gold Restaurant:** Bobotie\n",
            "*   **Harbour House:** Grilled Kingklip\n",
            "*   **The Pot Luck Club:** Beef Tataki\n",
            "\n",
            "\n",
            "\n",
            "I hope this itinerary helps you plan an amazing trip to Cape Town! Let me know if you have any other questions or would like me to adjust anything.  Enjoy!\n",
            "\n",
            "\n",
            "\n",
            "\n"
          ]
        }
      ]
    },
    {
      "cell_type": "code",
      "source": [
        "print(detailed_itinerary[\"Istanbul\"])"
      ],
      "metadata": {
        "colab": {
          "base_uri": "https://localhost:8080/"
        },
        "id": "opBwRzTG01ik",
        "outputId": "58dd85ac-d776-43f5-f8e2-ee9771384638"
      },
      "execution_count": 27,
      "outputs": [
        {
          "output_type": "stream",
          "name": "stdout",
          "text": [
            "Okay, here's a detailed itinerary for your Istanbul trip from July 25th to August 1st, incorporating your restaurant requests and aiming for a balanced mix of sightseeing, cultural experiences, and delicious food. I've included times for meals and activities, keeping in mind the Istanbul heat – early mornings and late afternoons will be your friend!\n",
            "\n",
            "**Important Notes:**\n",
            "\n",
            "*   **Transportation:** Istanbul has a good public transportation system (trams, buses, metro, ferries). Consider purchasing an IstanbulKart for easy travel. Taxis are also available, but traffic can be heavy.  Walking is great for exploring neighborhoods!\n",
            "*   **Reservations:**  For popular restaurants, especially Mikla, making reservations *well* in advance is highly recommended.\n",
            "*   **Dress Code:**  When visiting mosques, dress modestly (shoulders and knees covered). Women will need to cover their heads – scarves are often available at the entrance.\n",
            "*   **Hydration:**  Drink plenty of water, especially during the hotter parts of the day.\n",
            "*   **Flexibility:**  This is a suggested itinerary. Feel free to adjust it based on your interests and energy levels.\n",
            "\n",
            "\n",
            "**Restaurant Dictionary (as provided):**\n",
            "\n",
            "*   **Çiya Sofrası:** Specialty - Kuzu Tandir (Roast Lamb)\n",
            "*   **Karaköy Lokantası:** Specialty - Midye Dolma (Stuffed Mussels)\n",
            "*   **Asitane:** Specialty - Mutancana (Meat and Vegetable Stew)\n",
            "*   **Istiklal Street:** Specialty - Simit (Sesame-covered bread ring)\n",
            "*   **Mikla:** Specialty - Lamb Rump\n",
            "\n",
            "\n",
            "\n",
            "---\n",
            "\n",
            "## **Istanbul Itinerary: July 25th - August 1st**\n",
            "\n",
            "**Day 1: July 25th (Arrival & Old City Charm)**\n",
            "\n",
            "*   **9:00 AM:** Arrive at Istanbul Airport (IST) or Sabiha Gökçen Airport (SAW). Transfer to your hotel in the Sultanahmet area (Old City). Check in and leave your luggage.\n",
            "*   **10:30 AM:**  **Hagia Sophia:** Explore this magnificent architectural marvel. Allow at least 2-3 hours.\n",
            "*   **1:30 PM:** **Lunch:** *Deraliye Terrace House Restaurant* (Near Hagia Sophia).  Try a traditional Ottoman lunch. (Budget: 500-800 TRY)\n",
            "*   **3:00 PM:** **Blue Mosque:** Visit the iconic Blue Mosque (Sultan Ahmed Mosque). Remember to dress respectfully.\n",
            "*   **4:30 PM:** **Basilica Cistern:** Descend into this atmospheric underground cistern.\n",
            "*   **6:00 PM:**  Relax with Turkish tea at a cafe in Sultanahmet Square.\n",
            "*   **8:00 PM:** **Dinner:** *Hafiz Mustafa 1864* (Sultanahmet). Enjoy Turkish delights and traditional dinner. (Budget: 500-800 TRY)\n",
            "\n",
            "**Day 2: July 26th (Palaces & Grand Bazaar)**\n",
            "\n",
            "*   **9:00 AM:** **Topkapi Palace:** Explore the opulent palace that was home to Ottoman Sultans for centuries.  Allocate 3-4 hours.\n",
            "*   **1:00 PM:** **Lunch:** *Pandeli Restaurant* (Near Topkapi Palace).  Renowned for its seafood and historical significance. Try their seafood meze. (Budget: 800-1200 TRY)\n",
            "*   **2:30 PM:** **Grand Bazaar:** Get lost in the labyrinthine alleys of the Grand Bazaar, a shopper's paradise.  Bargain for carpets, jewelry, ceramics, and more.\n",
            "*   **5:00 PM:** **Spice Bazaar (Egyptian Bazaar):**  Wander through the vibrant Spice Bazaar, filled with aromatic spices, Turkish delight, and dried fruits.\n",
            "*   **7:00 PM:**  Enjoy a sunset cruise on the Bosphorus. Several companies offer cruises with dinner and entertainment.\n",
            "*   **9:00 PM:** **Dinner:** Enjoy dinner onboard your Bosphorus cruise or at a restaurant near the Eminönü pier. (Budget: 1000-2000 TRY)\n",
            "\n",
            "**Day 3: July 27th (Bosphorus & Beyoğlu)**\n",
            "\n",
            "*   **9:00 AM:** **Dolmabahçe Palace:** Visit the lavish Dolmabahçe Palace, a symbol of the late Ottoman era.\n",
            "*   **11:00 AM:** **Bosphorus Cruise (Short Trip):** Take a short ferry ride along the Bosphorus to see the waterfront mansions and scenery.\n",
            "*   **1:00 PM:** **Lunch:** *Balikci Sabahattin* (Near Galata Bridge). Known for its fresh fish and seafood, enjoy a delightful meal with a view. (Budget: 800-1200 TRY)\n",
            "*   **2:30 PM:** **Galata Tower:** Climb the Galata Tower for panoramic views of Istanbul.\n",
            "*   **4:00 PM:** **Istiklal Street:** Stroll down Istiklal Street, a bustling pedestrian street with shops, cafes, and restaurants.\n",
            "*   **6:00 PM:** **Çiçek Pasajı (Flower Passage):** Explore this charming historical passage filled with restaurants and cafes.\n",
            "*   **8:00 PM:** **Dinner:** *Çiya Sofrası* (Kadiköy). Experience authentic Turkish home cooking. **Specialty: Kuzu Tandir (Roast Lamb)**.  This restaurant is a must for a true taste of regional Turkish cuisine. (Budget: 600-1000 TRY)\n",
            "\n",
            "**Day 4: July 28th (Asian Side & Local Life)**\n",
            "\n",
            "*   **9:00 AM:** **Ferry to Kadıköy:** Take a ferry from Eminönü to Kadıköy on the Asian side of Istanbul.\n",
            "*   **10:00 AM:** **Kadıköy Market:** Explore the vibrant Kadıköy Market, a local food market with fresh produce, cheeses, and spices.\n",
            "*   **12:00 PM:** **Lunch:** *Karaköy Lokantası* (Kadıköy).  Enjoy a delicious lunch. **Specialty: Midye Dolma (Stuffed Mussels)**.  A classic Turkish appetizer. (Budget: 500-800 TRY)\n",
            "*   **2:00 PM:** **Moda Neighborhood:** Wander through the charming Moda neighborhood, with its cafes, boutiques, and seaside views.\n",
            "*   **4:00 PM:** **Relax at a Cafe:** Enjoy a Turkish coffee or tea at a cafe in Moda.\n",
            "*   **7:00 PM:** **Dinner:** *Asitane* (Historical Peninsula).  Dine in a beautifully restored historical building. **Specialty: Mutancana (Meat and Vegetable Stew)**.  A hearty and flavorful stew. (Budget: 800-1500 TRY)\n",
            "\n",
            "**Day 5: July 29th (Art & Culture)**\n",
            "\n",
            "*   **9:30 AM:** **Istanbul Modern:** Visit the Istanbul Modern art museum, showcasing contemporary Turkish art.\n",
            "*   **12:30 PM:** **Lunch:** *Café Van* (Near Istanbul Modern). Enjoy a casual lunch with a view of the Bosphorus. (Budget: 400-700 TRY)\n",
            "*   **2:00 PM:** **Chora Church (Kariye Museum):** Admire the stunning Byzantine mosaics and frescoes at the Chora Church.\n",
            "*   **4:00 PM:** **Süleymaniye Mosque:** Visit the Süleymaniye Mosque, an architectural masterpiece designed by Mimar Sinan.\n",
            "*   **6:00 PM:** Free time for shopping or exploring a neighborhood of your choice.\n",
            "*   **8:00 PM:** **Dinner:** *Mikla* (Taksim).  Enjoy a fine dining experience with breathtaking views of Istanbul. **Specialty: Lamb Rump**.  This restaurant offers a modern take on Turkish cuisine. (Budget: 2500-4000 TRY)\n",
            "\n",
            "**Day 6: July 30th (Hidden Gems & Relaxation)**\n",
            "\n",
            "*   **9:00 AM:** **Little Asia (Balat & Fener):** Explore the colorful neighborhoods of Balat and Fener, known for their historic houses, synagogues, and churches.\n",
            "*   **11:00 AM:** **Chora Church (Kariye Museum):** Admire the stunning Byzantine mosaics and frescoes at the Chora Church.\n",
            "*   **1:00 PM:** **Lunch:** *Van Kahvaltı Evi* (Balat). Experience a traditional Turkish breakfast. (Budget: 300-500 TRY)\n",
            "*   **3:00 PM:** **Turkish Bath (Hamam):** Indulge in a traditional Turkish bath experience.  *Çemberlitaş Hamamı* or *Süleymaniye Hamamı* are good options. (Budget: 800-1500 TRY)\n",
            "*   **6:00 PM:** Relax at your hotel or enjoy a leisurely stroll.\n",
            "*   **8:00 PM:** **Dinner:** *Nusr-Et Steakhouse* (Various Locations). Known for its extravagant steak dinners. (Budget: 1500-3000 TRY)\n",
            "\n",
            "**Day 7: July \n"
          ]
        }
      ]
    },
    {
      "cell_type": "markdown",
      "metadata": {
        "id": "hPIjOUS7KzFH"
      },
      "source": [
        "## شادباش! این هفته هم تموم شد 🎉🎉🎉\n",
        "\n",
        "مرور کن. تمرین کن. فکرهات رو امتحان کن. خراب کن. گیر کن. ادامه بده. پیشرفت می‌کنی"
      ]
    },
    {
      "cell_type": "code",
      "source": [
        "print(detailed_itinerary[\"New York\"])"
      ],
      "metadata": {
        "colab": {
          "base_uri": "https://localhost:8080/"
        },
        "id": "KEiqLCg308BS",
        "outputId": "8b82f7e9-8940-436a-b0be-53f7dfe2bdef"
      },
      "execution_count": 28,
      "outputs": [
        {
          "output_type": "stream",
          "name": "stdout",
          "text": [
            "Okay, here's a detailed itinerary for your trip to New York City from July 1st to July 8th, incorporating your restaurant requests and aiming for a balanced mix of sightseeing and culinary experiences.  I've included specific times, activities, and restaurant suggestions.\n",
            "\n",
            "**Important Notes:**\n",
            "\n",
            "*   **Reservations:** *Crucially*, make reservations *well in advance* (weeks or even months!) for Eleven Madison Park and Peter Luger.  Chelsea Market and Katz's are generally more casual and don't require reservations, but it's always wise to check. Gramercy Tavern also benefits from reservations.\n",
            "*   **Transportation:**  The NYC subway is the most efficient way to get around. Consider purchasing a 7-day unlimited MetroCard. Walking is also a great way to experience the city.\n",
            "*   **Flexibility:** This is a packed itinerary! Feel free to adjust it based on your interests and energy levels.  Some days are more intense than others.\n",
            "*   **Weather:** July in NYC is hot and humid. Pack light, breathable clothing, sunscreen, and a hat. Stay hydrated!\n",
            "*   **Restaurant Costs:**  Be aware that restaurants like Eleven Madison Park and Peter Luger are on the pricier side.  Katz's and Chelsea Market are more budget-friendly.\n",
            "*    **Opening hours**: I have checked the opening hours for the restaurants, but it is always a good idea to check again on the official website before going.\n",
            "\n",
            "---\n",
            "\n",
            "## **New York City Itinerary: July 1st - July 8th**\n",
            "\n",
            "**Day 1: July 1st (Arrival & Lower Manhattan Exploration)**\n",
            "\n",
            "*   **8:00 AM:** Arrive at airport (JFK, LGA, or EWR). Take transportation to your accommodation. (Allow ample time for travel – 1-2 hours depending on the airport and traffic).\n",
            "*   **10:00 AM:** Check into your hotel/accommodation. Leave your luggage.\n",
            "*   **11:00 AM:** **Walk through the Financial District:** See Wall Street, the Charging Bull statue, and the New York Stock Exchange.\n",
            "*   **1:00 PM:** Lunch at **Katz's Delicatessen** (205 E Houston St). **Specialty:** Pastrami on rye. *Expect a line, it's worth it!*\n",
            "*   **2:30 PM:** **Visit the 9/11 Memorial & Museum:** A powerful and moving experience. (Allow 2-3 hours).\n",
            "*   **5:30 PM:** **Walk across the Brooklyn Bridge:** Enjoy stunning views of the Manhattan skyline.\n",
            "*   **7:30 PM:** Dinner at a restaurant in the Stone Street Historic District (various options - explore and choose something that appeals).\n",
            "*   **9:00 PM:** Relax or take a stroll around the neighborhood.\n",
            "\n",
            "**Day 2: July 2nd (Midtown Marvels & Broadway)**\n",
            "\n",
            "*   **8:00 AM:** Breakfast at your hotel or a local cafe.\n",
            "*   **9:00 AM:** **Visit the Empire State Building:** Ascend to the top for panoramic city views. (Book tickets in advance to skip the line).\n",
            "*   **11:00 AM:** **Explore Grand Central Terminal:** Admire the architecture and the celestial ceiling.\n",
            "*   **12:00 PM:** Lunch at a cafe near Grand Central (many options available).\n",
            "*   **1:30 PM:** **Visit St. Patrick's Cathedral:** A beautiful example of Gothic Revival architecture.\n",
            "*   **2:30 PM:** **Walk through Bryant Park:** Relax, people-watch, or browse the shops.\n",
            "*   **4:00 PM:** **Times Square:** Experience the dazzling lights and energy. (It's touristy, but a must-see).\n",
            "*   **6:00 PM:** Dinner near Times Square (consider Carmine's for family-style Italian).\n",
            "*   **8:00 PM:** **Broadway Show:** Book tickets in advance for a Broadway performance. (Check TodayTix for potential deals).\n",
            "\n",
            "**Day 3: July 3rd (Museum Day & Central Park)**\n",
            "\n",
            "*   **8:00 AM:** Breakfast at your hotel or a local cafe.\n",
            "*   **9:00 AM:** **Metropolitan Museum of Art:** One of the world's largest and finest art museums. (Allow at least 3-4 hours).\n",
            "*   **1:00 PM:** Lunch at a cafe inside the Met or a nearby restaurant on the Upper East Side.\n",
            "*   **2:30 PM:** **Central Park:** Explore the park! Rent a bike, take a horse-drawn carriage ride, visit Strawberry Fields, or relax by the Bethesda Terrace and Fountain.\n",
            "*   **5:00 PM:** **Walk along Central Park South:** Enjoy views of the park and the city.\n",
            "*   **7:00 PM:** Dinner on the Upper West Side (consider Shake Shack for a quick and tasty bite).\n",
            "\n",
            "**Day 4: July 4th (Independence Day - Celebrations!)**\n",
            "\n",
            "*   **8:00 AM:** Breakfast at your hotel or a local cafe.\n",
            "*   **9:00 AM:** **Attend the Macy's 4th of July Parade:** Follow the parade route (check the schedule for times and locations).\n",
            "*   **11:00 AM:** **Explore the areas around the parade route:**  Enjoy the festive atmosphere.\n",
            "*   **1:00 PM:** Picnic Lunch in a park (Central Park or another park of your choice).\n",
            "*   **4:00 PM:** **Find a viewing spot for the Macy's 4th of July Fireworks Show:** (Check the official Macy's website for viewing locations and times).  *This will require planning and possibly arriving very early to secure a good spot.*\n",
            "*   **9:00 PM:** Fireworks Show!\n",
            "*   **10:00 PM:** Dinner (casual - grab something near where you watched the fireworks, or back near your accommodation).\n",
            "\n",
            "**Day 5: July 5th (Greenwich Village & Chelsea)**\n",
            "\n",
            "*   **9:00 AM:** Breakfast at a cafe in Greenwich Village.\n",
            "*   **10:00 AM:** **Explore Greenwich Village:** Wander through the charming streets, browse the shops, and see Washington Square Park.\n",
            "*   **11:30 AM:** **Visit the Friends Apartment Building:** (Corner of Bedford and Grove Streets). A popular photo spot.\n",
            "*   **12:30 PM:** Lunch in Greenwich Village (many options – consider Joe's Pizza for a classic NYC slice).\n",
            "*   **2:00 PM:** **Walk to Chelsea:** Explore the Chelsea Market.\n",
            "*    **3:00 PM:** **Chelsea Market (Lobster Place):** **Specialty:** Lobster rolls.\n",
            "*   **4:00 PM:** **Chelsea Art Galleries:** Browse the art galleries in the Chelsea neighborhood.\n",
            "*   **7:00 PM:** Dinner in Chelsea (many options available – explore the area).\n",
            "\n",
            "**Day 6: July 6th (Upper East Side & Museum Row)**\n",
            "\n",
            "*   **8:00 AM:** Breakfast at your hotel or a local cafe.\n",
            "*   **9:00 AM:** **Frick Collection:** Visit the Frick Collection, housed in a Gilded Age mansion.\n",
            "*   **11:00 AM:** **Guggenheim Museum:** Admire the architecture and the modern art collection.\n",
            "*   **1:00 PM:** Lunch at a cafe on the Upper East Side (consider Daniel for a more upscale experience).\n",
            "*   **2:30 PM:** **The Cloisters:**  A branch of the Metropolitan Museum of Art dedicated to medieval art and architecture. Located in Fort Tryon Park, offering beautiful views of the Hudson River.\n",
            "*   **5:00 PM:** **Walk through Fort Tryon Park:** Enjoy the gardens and views.\n",
            "*   **7:00 PM:** Dinner in the Upper East Side (consider JG Melon for burgers).\n",
            "\n",
            "**Day 7: July 7th (Little Italy & Chinatown & Culinary Experience)**\n",
            "\n",
            "*   **9:00 AM:** Breakfast at your hotel or a local cafe.\n",
            "*   **10:00 AM:** **Explore Little Italy:** Wander through the narrow streets, browse the shops, and soak up the atmosphere.\n",
            "*   **11:30 AM:** **Walk to Chinatown:** Explore the bustling streets and markets.\n",
            "*   **1:00 PM:** Lunch in Chinatown (many options – consider Nom Wah Tea Parlor for dim sum).\n",
            "*   **2:30 PM:** **Shopping on 5th Avenue:** Browse the luxury shops.\n",
            "*   **5:00 PM:** **Eleven Madison Park:** **Specialty:** Sunflower seed risotto. *This is a splurge, so book well in advance!*\n",
            "*   **8:00 PM:** Enjoy a final evening stroll or relax.\n",
            "\n",
            "**Day 8: July 8th (Departure)**\n",
            "\n",
            "*   **8:00 AM:** Breakfast at your hotel or a local cafe.\n",
            "*   **9:00 AM:** Last-minute souvenir shopping or revisit a favorite spot.\n",
            "*   **10:00 AM:** Check out of your hotel.\n",
            "*   **11:00 AM:** Depart from airport (JFK, LGA, or EWR). Allow ample time for travel and airport procedures.\n",
            "\n",
            "---\n",
            "\n",
            "**Restaurant Summary:**\n",
            "\n",
            "\n"
          ]
        }
      ]
    },
    {
      "cell_type": "code",
      "source": [
        "print(detailed_itinerary[\"Paris\"])"
      ],
      "metadata": {
        "colab": {
          "base_uri": "https://localhost:8080/"
        },
        "id": "z_AOTXk_1C86",
        "outputId": "2c9e6506-e726-474d-a9aa-ae6e5f6771ff"
      },
      "execution_count": 29,
      "outputs": [
        {
          "output_type": "stream",
          "name": "stdout",
          "text": [
            "Okay, here is a detailed itinerary for your trip to Paris from August 2nd to August 9th, incorporating your restaurant preferences and aiming for a balance of sightseeing, cultural experiences, and delicious food.  I've included specific times for meals and activities.  I've also made sure to avoid repeating restaurants!\n",
            "\n",
            "**Important Notes:**\n",
            "\n",
            "*   **Reservations:**  Paris restaurants, especially the ones on your list, require reservations *well* in advance. I *highly* recommend booking these ASAP.  You can usually book online through the restaurant's website or using platforms like TheFork.\n",
            "*   **Transportation:** Paris has an excellent public transportation system (Metro & Bus). Consider purchasing a Navigo Découverte pass for the week if you plan to use it frequently. Walking is also a great way to see the city!\n",
            "*   **Flexibility:** This is a suggested itinerary. Feel free to adjust it based on your interests and energy levels.\n",
            "*   **Opening Hours:** Double-check the opening hours of all attractions before you go, as they can vary.\n",
            "*   **Weather:** August in Paris can be warm. Pack accordingly!\n",
            "\n",
            "---\n",
            "\n",
            "## **Paris Itinerary: August 2nd - August 9th**\n",
            "\n",
            "**Day 1: August 2nd (Arrival & Latin Quarter Charm)**\n",
            "\n",
            "*   **9:00 AM:** Arrive at Charles de Gaulle (CDG) or Orly (ORY) airport. Take the RER B train or Roissybus (from CDG) or Orlybus (from ORY) to your accommodation in Paris. Check in and leave your luggage.\n",
            "*   **11:00 AM:**  Lunch at **L’As du Fallafel** (Falafel sandwiches). *Specialty: Falafel sandwiches*. This is a classic, bustling spot in the Marais.  Enjoy a quick and delicious lunch.\n",
            "*   **12:30 PM:** Explore the Latin Quarter. Wander through the historic streets, browse the bookstores along the Seine, and visit the Sorbonne University.\n",
            "*   **2:00 PM:** Visit the Panthéon.  Admire the architecture and learn about the famous figures buried there (Voltaire, Rousseau, Marie Curie).\n",
            "*   **4:00 PM:** Stroll through the Luxembourg Gardens. Relax by the Medici Fountain, watch the sailboats, and soak in the Parisian atmosphere.\n",
            "*   **7:30 PM:** Dinner at **Le Comptoir du Relais** (Coq au Vin). *Specialty: Coq au Vin*. A classic bistro experience.  (Reservations essential!)\n",
            "*   **9:30 PM:** Evening walk along the Seine River.\n",
            "\n",
            "**Day 2: August 3rd (Iconic Landmarks & Artistic Flair)**\n",
            "\n",
            "*   **9:00 AM:** Breakfast at a local *boulangerie* (bakery) – Enjoy a croissant and coffee.\n",
            "*   **10:00 AM:** Visit the Eiffel Tower. Pre-book your tickets online to avoid long queues.  Go to the top for panoramic views of Paris.\n",
            "*   **12:00 PM:** Lunch near the Eiffel Tower.  There are many cafes and brasseries in the area.\n",
            "*   **1:30 PM:**  Cruise on the Seine River. A relaxing way to see many of Paris's landmarks.\n",
            "*   **3:00 PM:**  Visit the Louvre Museum. Focus on key highlights like the Mona Lisa, Venus de Milo, and Winged Victory of Samothrace. (Book tickets online in advance!).\n",
            "*   **6:00 PM:**  Tuileries Garden - Relax and enjoy the beautiful gardens connecting the Louvre to Place de la Concorde.\n",
            "*   **8:00 PM:** Dinner at **L'Ambroisie** (Turbot with Artichokes and Truffle). *Specialty: Turbot with Artichokes and Truffle*. A very high-end, Michelin-starred experience. (Extremely expensive – be prepared!).\n",
            "*   **10:00 PM:** Evening stroll through the Champs-Élysées.\n",
            "\n",
            "**Day 3: August 4th (Montmartre & Sacré-Cœur)**\n",
            "\n",
            "*   **9:00 AM:** Breakfast at your hotel or a local cafe.\n",
            "*   **10:00 AM:** Explore Montmartre.  Wander through the charming streets, visit Place du Tertre (where artists create and sell their work), and admire the Sacré-Cœur Basilica.\n",
            "*   **11:30 AM:** Visit Sacré-Cœur Basilica. Enjoy the breathtaking views of Paris from the top of the dome.\n",
            "*   **1:00 PM:** Lunch in Montmartre.  Choose from many cafes and restaurants with views of the city.\n",
            "*    **2:30 PM:** Musée de Montmartre - Explore the history of the neighborhood and the artists who lived there.\n",
            "*   **4:00 PM:**  Explore the vineyards of Montmartre.\n",
            "*   **7:30 PM:** Dinner at **Le Jules Verne** (Filet de Boeuf). *Specialty: Filet de Boeuf*. Located on the second floor of the Eiffel Tower, this restaurant offers stunning views and a memorable dining experience. (Very expensive - Book well in advance!).\n",
            "*   **9:30 PM:** Enjoy the nightlife in Montmartre.\n",
            "\n",
            "**Day 4: August 5th (Versailles Palace & Gardens)**\n",
            "\n",
            "*   **9:00 AM:** Breakfast at your hotel or a cafe near your accommodation.\n",
            "*   **10:00 AM:** Travel to Versailles. Take the RER C train from Paris.  (Allow about 45-60 minutes travel time).\n",
            "*   **11:00 AM:** Explore the Palace of Versailles.  Visit the Hall of Mirrors, the Royal Apartments, and learn about the history of the French monarchy. (Book tickets online in advance!).\n",
            "*   **1:00 PM:** Lunch at a cafe or restaurant in the Versailles gardens.\n",
            "*   **2:30 PM:** Explore the Gardens of Versailles. Rent a rowboat on the Grand Canal, wander through the manicured lawns, and admire the fountains and sculptures.\n",
            "*   **5:00 PM:** Return to Paris.\n",
            "*   **7:30 PM:** Dinner in the Marais district. Choose a restaurant based on your preference.\n",
            "*   **9:00 PM:** Enjoy a drink at a bar in the Marais.\n",
            "\n",
            "**Day 5: August 6th (Shopping & Museums)**\n",
            "\n",
            "*   **9:00 AM:** Breakfast at your hotel or a local cafe.\n",
            "*   **10:00 AM:** Shopping on the Champs-Élysées or in the department stores (Galeries Lafayette, Printemps).\n",
            "*   **1:00 PM:** Lunch near the department stores.\n",
            "*   **2:30 PM:** Musée d'Orsay.  Housed in a former railway station, this museum features a stunning collection of Impressionist and Post-Impressionist art (Monet, Renoir, Van Gogh).\n",
            "*   **5:00 PM:**  Walk along the Seine and browse the bouquinistes (booksellers).\n",
            "*   **7:30 PM:** Dinner at a restaurant of your choice. Consider trying a traditional French *bistrot*.\n",
            "*   **9:00 PM:**  Attend a show at the Moulin Rouge (book well in advance!).\n",
            "\n",
            "**Day 6: August 7th (Canal Saint-Martin & Parisian Life)**\n",
            "\n",
            "*   **9:00 AM:** Breakfast at a cafe near Canal Saint-Martin\n",
            "*   **10:00 AM:** Explore the Canal Saint-Martin area.  This trendy neighborhood is known for its charming bridges, boutiques, and cafes.\n",
            "*   **11:30 AM:** Picnic lunch by the Canal Saint-Martin.  Pick up supplies from a local *épicerie* (grocery store).\n",
            "*   **1:30 PM:**  Relax and people-watch along the canal.\n",
            "*   **3:00 PM:**  Visit a local market (e.g., Marché des Enfants Rouges - the oldest covered market in Paris).\n",
            "*   **5:00 PM:**  Explore the Marais district further – browse the independent boutiques and art galleries.\n",
            "*   **7:30 PM:** Dinner at a restaurant in the Marais.\n",
            "*    **9:00 PM:** Enjoy a drink at a bar in the Marais.\n",
            "\n",
            "**Day 7: August 8th (Day Trip to Giverny) **\n",
            "\n",
            "*   **9:00 AM:** Breakfast at your hotel or a local cafe.\n",
            "*   **10:00 AM:** Take a train to Giverny (approximately 45 minutes).\n",
            "*   **11:00 AM:** Visit Claude Monet's house and gardens.  Explore the water lilies, the Japanese bridge, and the beautiful landscapes that inspired Monet's paintings. (Book tickets online in advance!).\n",
            "*   **1:00 PM:** Lunch in Giverny.\n",
            "*   **2:30 PM:** Explore the village of Giverny.  Wander through the charming streets and browse the local shops.\n",
            "*   **4:30 PM:** Return to Paris.\n",
            "*   **7:30 PM:** Farewell Dinner at your choice of restaurant.\n",
            "*   **9:30 PM:** Enjoy a final walk through Paris.\n",
            "\n",
            "**Day 8\n"
          ]
        }
      ]
    },
    {
      "cell_type": "code",
      "source": [
        "print(detailed_itinerary[\"Rio de Janeiro\"])"
      ],
      "metadata": {
        "colab": {
          "base_uri": "https://localhost:8080/"
        },
        "id": "WfVwdfbf1LDb",
        "outputId": "d53533c8-f178-4dba-cf66-8f1729a97ccf"
      },
      "execution_count": 30,
      "outputs": [
        {
          "output_type": "stream",
          "name": "stdout",
          "text": [
            "Okay, here's a detailed itinerary for your trip to Rio de Janeiro from July 9th to July 16th, incorporating your restaurant requests and aiming for a balanced mix of sightseeing, culture, and relaxation.  I've included times for meals and activities, and noted the specialty dish at each restaurant.  I've also tried to create a logical flow to minimize travel time.\n",
            "\n",
            "**Important Notes:**\n",
            "\n",
            "*   **Transportation:** Rio has a decent metro system, but traffic can be heavy. Consider using a combination of metro, Uber/taxi, and potentially buses depending on your location and comfort level.  I've factored in some travel time.\n",
            "*   **Safety:**  Be aware of your surroundings, especially in crowded areas.  Avoid displaying expensive jewelry or electronics. Stick to well-lit areas at night.\n",
            "*   **Reservations:**  Highly recommended for dinner, especially at the more popular restaurants (Fogo de Chão, Olympe, Aprazível).  Book in advance!\n",
            "*   **Flexibility:** This is a suggested itinerary. Feel free to adjust it to your preferences!\n",
            "*   **Weather:** July is winter in Rio, so expect pleasant temperatures (around 70-80°F / 21-27°C), but bring layers as evenings can be cooler.\n",
            "*   **Currency:** Brazilian Real (BRL).\n",
            "*   **Language:** Portuguese. While many people in tourist areas speak some English, knowing a few basic Portuguese phrases will be helpful.\n",
            "\n",
            "\n",
            "\n",
            "---\n",
            "\n",
            "## **Rio de Janeiro Itinerary: July 9th - July 16th**\n",
            "\n",
            "**Day 1: July 9th (Arrival & Copacabana Beach)**\n",
            "\n",
            "*   **9:00 AM:** Arrive at Rio de Janeiro/Galeão International Airport (GIG).\n",
            "*   **10:00 AM - 11:30 AM:** Transfer to your hotel in Copacabana. (Uber/Taxi recommended - approx. 1-1.5 hours depending on traffic). Check in and leave your luggage.\n",
            "*   **12:00 PM:** Lunch at a casual restaurant near Copacabana Beach.  (Plenty of options – try a *pastel* from a street vendor for a quick and affordable bite).\n",
            "*   **1:30 PM - 5:00 PM:**  Relax and enjoy Copacabana Beach!  Swim, sunbathe, people-watch.\n",
            "*   **5:00 PM - 6:00 PM:** Stroll along the Copacabana promenade.\n",
            "*   **7:30 PM:** Dinner at **Garota de Ipanema** (Classic spot where \"The Girl from Ipanema\" was written).  *Try: Feijoada (Brazilian black bean stew). *\n",
            "*   **9:00 PM:**  Enjoy a leisurely evening walk along the beach.\n",
            "\n",
            "\n",
            "\n",
            "**Day 2: July 10th (Christ the Redeemer & Santa Teresa)**\n",
            "\n",
            "*   **8:00 AM:** Breakfast at your hotel.\n",
            "*   **9:00 AM - 12:00 PM:**  Visit Christ the Redeemer.  (Purchase tickets online in advance to avoid long queues! Take the train from Cosme Velho for stunning views).\n",
            "*   **12:30 PM:** Lunch in Cosme Velho. (Many restaurants near the train station).\n",
            "*   **2:00 PM - 5:00 PM:** Explore Santa Teresa.  This bohemian neighborhood is known for its cobblestone streets, art galleries, and historic mansions. Take a taxi or Uber. Visit Parque das Ruínas for panoramic views.\n",
            "*   **6:00 PM:** Enjoy a sunset drink at a bar in Santa Teresa.\n",
            "*   **8:00 PM:** Dinner at **Aprazível** in Santa Teresa. *Try: Galinhada (Brazilian chicken and rice).* (Reservations essential!)\n",
            "\n",
            "\n",
            "\n",
            "**Day 3: July 11th (Sugarloaf Mountain & Urca)**\n",
            "\n",
            "*   **8:00 AM:** Breakfast at your hotel.\n",
            "*   **9:00 AM - 12:00 PM:**  Ascend Sugarloaf Mountain. (Take the cable car – purchase tickets in advance). Enjoy breathtaking views of Guanabara Bay, Copacabana, and Christ the Redeemer.\n",
            "*   **12:30 PM:** Lunch in Urca. (Many restaurants along the waterfront).\n",
            "*   **2:00 PM - 5:00 PM:** Explore Urca. Walk along Mureta da Urca (the seawall) for stunning views. Relax and enjoy the atmosphere.\n",
            "*    **6:00 PM:** Sunset at Mureta da Urca. Grab a caipirinha at one of the many bars.\n",
            "*   **8:00 PM:** Dinner at **Bar Urca** (Traditional Brazilian bar and restaurant). *Try:  Fresh seafood.*\n",
            "\n",
            "\n",
            "\n",
            "**Day 4: July 12th (Ipanema & Leblon)**\n",
            "\n",
            "*   **8:00 AM:** Breakfast at your hotel.\n",
            "*   **9:00 AM - 12:00 PM:**  Explore Ipanema Beach.  Walk along the beach, shop at the boutiques, or simply relax.\n",
            "*   **12:30 PM:** Lunch at a beachside restaurant in Ipanema.\n",
            "*   **2:00 PM - 5:00 PM:**  Walk to Leblon Beach.  Leblon is a more upscale and quieter beach than Ipanema.\n",
            "*   **5:00 PM - 6:00 PM:**  Visit the Parque do Leblon.\n",
            "*   **7:30 PM:** Dinner at **Olympe**. *Try: Moqueca de caju (cashew nut stew).* (Reservations *absolutely* essential!)\n",
            "\n",
            "\n",
            "\n",
            "**Day 5: July 13th (Historical Center & Lapa)**\n",
            "\n",
            "*   **8:00 AM:** Breakfast at your hotel.\n",
            "*   **9:00 AM - 12:00 PM:** Explore the Historical Center of Rio (Centro Histórico).  Visit the Metropolitan Cathedral, the National Museum of Fine Arts, and the Municipal Theatre.\n",
            "*   **12:30 PM:** Lunch in the Centro Histórico.  (Try a *boteco* for a casual lunch).\n",
            "*   **2:00 PM - 5:00 PM:**  Explore Lapa.  Visit the Selarón Steps, a vibrant mosaic staircase.\n",
            "*   **6:00 PM:** Enjoy a sunset drink at a bar in Lapa.\n",
            "*   **8:00 PM:** Dinner at **Fogo de Chão**. *Try: Picanha (top sirloin).* (Reservations recommended!)\n",
            "*   **9:30 PM:** Experience the nightlife in Lapa. (Live music, samba clubs).\n",
            "\n",
            "\n",
            "\n",
            "**Day 6: July 14th (Favela Tour & Cultural Immersion)**\n",
            "\n",
            "*   **8:00 AM:** Breakfast at your hotel.\n",
            "*   **9:00 AM - 12:00 PM:**  Take a responsible and respectful Favela Tour. (Choose a tour operator that focuses on community tourism and supports local residents – Rocinha is a popular option).\n",
            "*   **12:30 PM:** Lunch in the Favela (often included in the tour).\n",
            "*    **2:00 PM - 5:00 PM:**  Visit the Museu do Amanhã (Museum of Tomorrow) – a stunning science museum with a focus on sustainability.\n",
            "*   **6:00 PM:**  Explore the waterfront area near the Museu do Amanhã.\n",
            "*   **8:00 PM:** Dinner at a restaurant of your choice.  (Consider trying a restaurant in Botafogo).\n",
            "\n",
            "\n",
            "\n",
            "**Day 7: July 15th (Botanical Garden & Parque Lage)**\n",
            "\n",
            "*   **8:00 AM:** Breakfast at your hotel.\n",
            "*   **9:00 AM - 12:00 PM:**  Visit the Jardim Botânico (Botanical Garden).  Explore the diverse collection of plants from around the world.\n",
            "*   **12:30 PM:** Lunch at a cafe in the Botanical Garden or nearby.\n",
            "*   **2:00 PM - 5:00 PM:**  Explore Parque Lage.  This beautiful park offers stunning views of Christ the Redeemer.  You can also visit the Escola de Artes Visuais (Visual Arts School) housed in a historic mansion.\n",
            "*   **6:00 PM:** Enjoy a final sunset view.\n",
            "*   **8:00 PM:** Farewell Dinner.  Consider a restaurant with a view, like **Terra Brasilis** (Brazilian cuisine with a modern twist).\n",
            "\n",
            "\n",
            "\n",
            "**Day 8: July 16th (Departure)**\n",
            "\n",
            "*   **8:00 AM:** Breakfast at your hotel.\n",
            "*   **9:00 AM - 12:00 PM:**  Last-minute souvenir shopping or revisit a favorite spot.\n",
            "*   **12:30 PM:** Check out of your hotel.\n",
            "*   **1:00 PM:** Transfer to Rio de Janeiro/Galeão International Airport (GIG) for your departure. (Allow ample time for traffic).\n",
            "\n",
            "\n",
            "\n",
            "---\n",
            "\n",
            "**Restaurant Summary:**\n",
            "\n",
            "*   **Confeitaria Colombo:** Pastel de nata (custard tart)\n",
            "*   **Fogo de Chão:** Picanha (top sir\n"
          ]
        }
      ]
    },
    {
      "cell_type": "code",
      "source": [
        "print(detailed_itinerary[\"Sydney\"])"
      ],
      "metadata": {
        "colab": {
          "base_uri": "https://localhost:8080/"
        },
        "id": "-v2Es8pw1SZ3",
        "outputId": "aa2a5fd2-fbc0-46a1-acce-04b085db4c4a"
      },
      "execution_count": 31,
      "outputs": [
        {
          "output_type": "stream",
          "name": "stdout",
          "text": [
            "Okay, here's a detailed daily itinerary for your trip to Sydney from August 18th to August 25th, incorporating your restaurant preferences and aiming for a balance of sightseeing and culinary experiences. I've included times for meals and activities, and ensured no restaurant is repeated.  This itinerary is packed, so feel free to adjust it to your preferences!\n",
            "\n",
            "**Important Notes:**\n",
            "\n",
            "*   **August in Sydney:** Expect pleasant weather – generally warm days (around 18-22°C/64-72°F) and cool evenings (around 10-15°C/50-59°F). Pack layers!\n",
            "*   **Transportation:** Sydney has a good public transport system (trains, buses, ferries). Consider getting an Opal card for easy travel. Walking is also a great way to explore.\n",
            "*   **Reservations:** Highly recommended for dinner, especially at popular restaurants.  Book well in advance!\n",
            "*   **Opening Hours:** Double-check opening hours for all attractions and restaurants, as they can vary.\n",
            "*   **Flexibility:** This is a suggestion – feel free to swap activities around based on your interests and energy levels.\n",
            "\n",
            "---\n",
            "\n",
            "## Sydney Itinerary: August 18 - August 25\n",
            "\n",
            "**Day 1: Arrival & Harbour Exploration (August 18)**\n",
            "\n",
            "*   **9:00 AM:** Arrive at Sydney Airport (SYD). Take the Airport Link train to your accommodation in the city center. (Allow 1 hour for travel and check-in).\n",
            "*   **10:30 AM:** Check into your hotel and leave your luggage.\n",
            "*   **11:30 AM:** **Lunch:** **Bennelong** (Opera House).  *Specialty: Sydney Rock Oysters* - Enjoy fresh oysters with stunning harbour views.  (Budget: $$$)\n",
            "*   **1:30 PM:** Sydney Opera House Tour.  A must-do! Explore the iconic building's interior and learn about its history. (Allow 1.5-2 hours).\n",
            "*   **3:30 PM:** Walk along Circular Quay. Admire the views of the Harbour Bridge and Opera House.\n",
            "*   **4:30 PM:**  Harbour Bridge Climb or Pylon Lookout. Choose one for panoramic views of the city. (Book in advance!).\n",
            "*   **7:00 PM:** **Dinner:** **Bennelong** (Opera House). *Specialty: Sydney Rock Oysters* -  If you didn't have them for lunch, enjoy them again with a different view. (Budget: $$$$).\n",
            "*   **9:00 PM:** Evening stroll along the harbour.\n",
            "\n",
            "**Day 2: Bondi Beach & Coastal Walk (August 19)**\n",
            "\n",
            "*   **9:00 AM:** **Breakfast:**  Grab a coffee and pastry at a cafe near your accommodation.\n",
            "*   **10:00 AM:** Travel to Bondi Beach (train or bus).\n",
            "*   **10:30 AM:** Bondi Beach - Enjoy the iconic beach!  Take a dip in the ocean (if weather permits) or simply relax on the sand.\n",
            "*   **11:30 AM:** Bondi to Coogee Coastal Walk. This scenic walk takes about 1.5-2 hours.  Enjoy breathtaking coastal views.\n",
            "*   **1:30 PM:** **Lunch:** Casual lunch at a cafe in Coogee.\n",
            "*   **3:00 PM:** Explore Coogee Beach and the Coogee Pavilion.\n",
            "*   **5:00 PM:** Return to the city.\n",
            "*   **7:00 PM:** **Dinner:** **Saint Peter**. *Specialty: Murray Cod* -  Experience delicious, sustainably sourced seafood. (Budget: $$$$)\n",
            "*   **9:00 PM:**  Enjoy a drink at a bar in the city.\n",
            "\n",
            "**Day 3:  Blue Mountains Day Trip (August 20)**\n",
            "\n",
            "*   **8:00 AM:** **Breakfast:**  At your hotel or a cafe near your accommodation.\n",
            "*   **8:30 AM:** Train to Katoomba (Blue Mountains). (Allow 2 hours).\n",
            "*   **10:30 AM:** Scenic World. Take the Scenic Railway, Scenic Cableway, and Scenic Skyway for stunning views of the Three Sisters and the Jamison Valley.\n",
            "*   **1:00 PM:** **Lunch:**  Cafe in Katoomba.\n",
            "*   **2:00 PM:** Explore Echo Point for the best views of the Three Sisters.\n",
            "*   **3:00 PM:**  Bushwalk in the Blue Mountains. Choose a trail appropriate for your fitness level.\n",
            "*   **5:00 PM:**  Return to Sydney by train.\n",
            "*   **7:00 PM:** **Dinner:** **Vic's Meat Market**. *Specialty: BBQ Beef Brisket* - Indulge in some incredible BBQ. (Budget: $$$)\n",
            "*   **9:00 PM:** Relax or explore a local pub.\n",
            "\n",
            "**Day 4: Culture & Markets (August 21)**\n",
            "\n",
            "*   **9:00 AM:** **Breakfast:**  At your hotel or a cafe.\n",
            "*   **10:00 AM:** Art Gallery of NSW. Explore a vast collection of Australian and international art. (Allow 2-3 hours).\n",
            "*   **1:00 PM:** **Lunch:**  Grab a quick and tasty lunch near the Art Gallery.\n",
            "*   **2:30 PM:** Hyde Park. Relax, stroll, or visit the Archibald Fountain.\n",
            "*   **3:30 PM:** Carriageworks Farmers Market (Saturday only, but check for other market days). *Specialty: Kangaroo Pie* - Grab a delicious snack.\n",
            "*   **5:00 PM:** Explore the trendy neighborhood of Paddington. Browse boutiques and art galleries.\n",
            "*   **7:00 PM:** **Dinner:** **Billy Kwong**. *Specialty: Crispy Skin Duck with Davidson’s Plum Sauce* -  Experience authentic Australian cuisine with Asian influences. (Budget: $$$$)\n",
            "*   **9:00 PM:** Enjoy live music at a pub in Paddington.\n",
            "\n",
            "**Day 5:  Royal Botanic Garden & Darling Harbour (August 22)**\n",
            "\n",
            "*   **9:00 AM:** **Breakfast:** At your hotel or a cafe.\n",
            "*   **10:00 AM:** Royal Botanic Garden Sydney. Explore the beautiful gardens and enjoy harbour views. (Allow 2-3 hours).\n",
            "*   **1:00 PM:** **Lunch:** Cafe in the Royal Botanic Garden or nearby.\n",
            "*   **2:30 PM:** Darling Harbour. Explore the waterfront area, visit the Sea Life Sydney Aquarium or WILD LIFE Sydney Zoo.\n",
            "*   **4:30 PM:**  Australian National Maritime Museum. Learn about Australia's maritime history.\n",
            "*   **7:00 PM:** **Dinner:**  Choose a restaurant in Darling Harbour with harbour views.\n",
            "*   **9:00 PM:** Enjoy the vibrant atmosphere of Darling Harbour.\n",
            "\n",
            "**Day 6: Manly Beach & Northern Beaches (August 23)**\n",
            "\n",
            "*   **9:00 AM:** **Breakfast:**  At your hotel or a cafe.\n",
            "*   **10:00 AM:** Ferry to Manly Beach. Enjoy the scenic ferry ride across Sydney Harbour.\n",
            "*   **10:30 AM:** Manly Beach - Relax on the beach, swim, or surf.\n",
            "*   **12:00 PM:** Explore Manly Corso – browse shops and enjoy the atmosphere.\n",
            "*   **1:00 PM:** **Lunch:**  Seafood lunch at a restaurant on Manly Corso.\n",
            "*   **2:30 PM:**  Manly Museum. Learn about the history of Manly.\n",
            "*   **4:00 PM:**  Walk along the Northern Beaches coastline.\n",
            "*   **6:00 PM:** Return to Sydney by ferry.\n",
            "*   **7:30 PM:** **Dinner:**  Explore restaurants in the city center.\n",
            "\n",
            "**Day 7:  Shopping & Relaxation (August 24)**\n",
            "\n",
            "*   **9:00 AM:** **Breakfast:** At your hotel or a cafe.\n",
            "*   **10:00 AM:** Shopping in the CBD. Explore Pitt Street Mall, Queen Victoria Building (QVB), or the luxury boutiques of the city centre.\n",
            "*   **1:00 PM:** **Lunch:**  Casual lunch at a cafe in the shopping district.\n",
            "*   **2:30 PM:**  Relaxation time.  Choose one: Spa treatment, visit a park, or revisit a favorite spot.\n",
            "*   **6:00 PM:**  Pre-dinner drinks at a rooftop bar.\n",
            "*   **7:30 PM:** **Dinner:** **The Lord Nelson Brewery Hotel**. *Specialty: Roast Lamb* - Enjoy a hearty meal and a pint of their own brewed beer. (Budget: $$)\n",
            "*   **9:30 PM:**  Optional: Catch a show in the Theatre District.\n",
            "\n",
            "**Day 8: Departure (August 25)**\n",
            "\n",
            "*   **9:00 AM:** **Breakfast:** At your hotel or a cafe.\n",
            "*   **10:00 AM:** Last-minute souvenir shopping.\n",
            "*   **12:00 PM:** Check out of your hotel.\n",
            "*   **1:00 PM:**  Lunch near your hotel or airport.\n",
            "*   **2:00 PM:** Travel to Sydney Airport (SYD).\n",
            "*   \n"
          ]
        }
      ]
    }
  ],
  "metadata": {
    "language_info": {
      "name": "python"
    },
    "colab": {
      "provenance": [],
      "gpuType": "T4",
      "collapsed_sections": [
        "0J_Q9HQcN2tj"
      ]
    },
    "kernelspec": {
      "name": "python3",
      "display_name": "Python 3"
    },
    "accelerator": "GPU"
  },
  "nbformat": 4,
  "nbformat_minor": 0
}