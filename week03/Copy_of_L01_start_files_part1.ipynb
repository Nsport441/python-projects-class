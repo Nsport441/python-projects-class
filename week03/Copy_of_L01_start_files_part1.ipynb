{
  "cells": [
    {
      "cell_type": "markdown",
      "metadata": {
        "id": "WMGxBP-yQoCl"
      },
      "source": [
        "# هفته سوم - درس ۱: کار با فایل در پایتون\n",
        "\n",
        "فیلم این درس رو ببین تا بتونی همگام با این دفترچه پیش بری.\n",
        "\n",
        "تا اینجای دوره:\n",
        "* با داده‌هایی کار کردی که داخل خود دفترچه ژوپیتر ساخته شده و به متغیرهایی تخصیص داده می شدن.\n",
        "* استرینگ‌های چند خطی ساختی.\n",
        "* لیست و دیکشنری ساختی.\n",
        "* اجرای کارها رو با حلقه و شرط گذاشتن، خودکار کردی.\n",
        "\n",
        "حالا تو این درس با فایل‌ها کار می‌کنی و داده‌هایی که برای همیشه تو فایل‌ها ذخیره میشن.\n"
      ]
    },
    {
      "cell_type": "markdown",
      "source": [
        "## پیشنیازها\n",
        "\n",
        "اول بیا پیش‌نیازها رو آماده کنیم."
      ],
      "metadata": {
        "id": "Te3TpT3EearI"
      }
    },
    {
      "cell_type": "code",
      "source": [
        "#کلون مخزن گیت هاب و رفتن به پوشه کاری این هفته واین درس\n",
        "import os\n",
        "\n",
        "if not os.path.exists('Python-with-AI'):\n",
        "    !git clone https://github.com/asefycom/Python-with-AI.git\n",
        "\n",
        "os.chdir('Python-with-AI/3rd-week/L01')\n",
        "print(\"Current Working Directory:\", os.getcwd())"
      ],
      "metadata": {
        "id": "jsQHoggLpi4p",
        "outputId": "761dc94f-9ab0-4a2e-f91d-5886040523c9",
        "colab": {
          "base_uri": "https://localhost:8080/"
        }
      },
      "execution_count": null,
      "outputs": [
        {
          "output_type": "stream",
          "name": "stdout",
          "text": [
            "Cloning into 'Python-with-AI'...\n",
            "remote: Enumerating objects: 322, done.\u001b[K\n",
            "remote: Counting objects: 100% (168/168), done.\u001b[K\n",
            "remote: Compressing objects: 100% (164/164), done.\u001b[K\n",
            "remote: Total 322 (delta 102), reused 4 (delta 4), pack-reused 154 (from 1)\u001b[K\n",
            "Receiving objects: 100% (322/322), 171.00 KiB | 936.00 KiB/s, done.\n",
            "Resolving deltas: 100% (166/166), done.\n",
            "Current Working Directory: /content/Python-with-AI/3rd-week/L01/Python-with-AI/3rd-week/L01/Python-with-AI/3rd-week/L01/Python-with-AI/3rd-week/L01/Python-with-AI/3rd-week/L01\n"
          ]
        }
      ]
    },
    {
      "cell_type": "code",
      "execution_count": null,
      "metadata": {
        "height": 48,
        "id": "-NyruzVSaNf-"
      },
      "outputs": [],
      "source": [
        "# یک تابع و یک کلاس که برنامه‌نویس‌های حرفه‌ای برامون قبلا درست کردن\n",
        "from IPython.display import display, Markdown"
      ]
    },
    {
      "cell_type": "code",
      "source": [
        "# و اینم پکیج توگدر که برنامه‌نویس‌های مجموعه توگدر برای کار با هوش مصنوعی‌ها رست کردن\n",
        "!pip install together"
      ],
      "metadata": {
        "colab": {
          "base_uri": "https://localhost:8080/"
        },
        "id": "C63UqOdneuNq",
        "outputId": "b5c2feda-7ae4-45d5-dbee-53932bc8b36a"
      },
      "execution_count": null,
      "outputs": [
        {
          "output_type": "stream",
          "name": "stdout",
          "text": [
            "Requirement already satisfied: together in /usr/local/lib/python3.11/dist-packages (1.5.21)\n",
            "Requirement already satisfied: aiohttp<4.0.0,>=3.9.3 in /usr/local/lib/python3.11/dist-packages (from together) (3.12.14)\n",
            "Requirement already satisfied: click<9.0.0,>=8.1.7 in /usr/local/lib/python3.11/dist-packages (from together) (8.1.8)\n",
            "Requirement already satisfied: eval-type-backport<0.3.0,>=0.1.3 in /usr/local/lib/python3.11/dist-packages (from together) (0.2.2)\n",
            "Requirement already satisfied: filelock<4.0.0,>=3.13.1 in /usr/local/lib/python3.11/dist-packages (from together) (3.18.0)\n",
            "Requirement already satisfied: numpy>=1.23.5 in /usr/local/lib/python3.11/dist-packages (from together) (2.0.2)\n",
            "Requirement already satisfied: pillow<12.0.0,>=11.1.0 in /usr/local/lib/python3.11/dist-packages (from together) (11.3.0)\n",
            "Requirement already satisfied: pydantic<3.0.0,>=2.6.3 in /usr/local/lib/python3.11/dist-packages (from together) (2.11.7)\n",
            "Requirement already satisfied: requests<3.0.0,>=2.31.0 in /usr/local/lib/python3.11/dist-packages (from together) (2.32.3)\n",
            "Requirement already satisfied: rich<15.0.0,>=13.8.1 in /usr/local/lib/python3.11/dist-packages (from together) (13.9.4)\n",
            "Requirement already satisfied: tabulate<0.10.0,>=0.9.0 in /usr/local/lib/python3.11/dist-packages (from together) (0.9.0)\n",
            "Requirement already satisfied: tqdm<5.0.0,>=4.66.2 in /usr/local/lib/python3.11/dist-packages (from together) (4.67.1)\n",
            "Requirement already satisfied: typer<0.16,>=0.9 in /usr/local/lib/python3.11/dist-packages (from together) (0.15.4)\n",
            "Requirement already satisfied: aiohappyeyeballs>=2.5.0 in /usr/local/lib/python3.11/dist-packages (from aiohttp<4.0.0,>=3.9.3->together) (2.6.1)\n",
            "Requirement already satisfied: aiosignal>=1.4.0 in /usr/local/lib/python3.11/dist-packages (from aiohttp<4.0.0,>=3.9.3->together) (1.4.0)\n",
            "Requirement already satisfied: attrs>=17.3.0 in /usr/local/lib/python3.11/dist-packages (from aiohttp<4.0.0,>=3.9.3->together) (25.3.0)\n",
            "Requirement already satisfied: frozenlist>=1.1.1 in /usr/local/lib/python3.11/dist-packages (from aiohttp<4.0.0,>=3.9.3->together) (1.7.0)\n",
            "Requirement already satisfied: multidict<7.0,>=4.5 in /usr/local/lib/python3.11/dist-packages (from aiohttp<4.0.0,>=3.9.3->together) (6.6.3)\n",
            "Requirement already satisfied: propcache>=0.2.0 in /usr/local/lib/python3.11/dist-packages (from aiohttp<4.0.0,>=3.9.3->together) (0.3.2)\n",
            "Requirement already satisfied: yarl<2.0,>=1.17.0 in /usr/local/lib/python3.11/dist-packages (from aiohttp<4.0.0,>=3.9.3->together) (1.20.1)\n",
            "Requirement already satisfied: annotated-types>=0.6.0 in /usr/local/lib/python3.11/dist-packages (from pydantic<3.0.0,>=2.6.3->together) (0.7.0)\n",
            "Requirement already satisfied: pydantic-core==2.33.2 in /usr/local/lib/python3.11/dist-packages (from pydantic<3.0.0,>=2.6.3->together) (2.33.2)\n",
            "Requirement already satisfied: typing-extensions>=4.12.2 in /usr/local/lib/python3.11/dist-packages (from pydantic<3.0.0,>=2.6.3->together) (4.14.1)\n",
            "Requirement already satisfied: typing-inspection>=0.4.0 in /usr/local/lib/python3.11/dist-packages (from pydantic<3.0.0,>=2.6.3->together) (0.4.1)\n",
            "Requirement already satisfied: charset-normalizer<4,>=2 in /usr/local/lib/python3.11/dist-packages (from requests<3.0.0,>=2.31.0->together) (3.4.2)\n",
            "Requirement already satisfied: idna<4,>=2.5 in /usr/local/lib/python3.11/dist-packages (from requests<3.0.0,>=2.31.0->together) (3.10)\n",
            "Requirement already satisfied: urllib3<3,>=1.21.1 in /usr/local/lib/python3.11/dist-packages (from requests<3.0.0,>=2.31.0->together) (2.5.0)\n",
            "Requirement already satisfied: certifi>=2017.4.17 in /usr/local/lib/python3.11/dist-packages (from requests<3.0.0,>=2.31.0->together) (2025.7.14)\n",
            "Requirement already satisfied: markdown-it-py>=2.2.0 in /usr/local/lib/python3.11/dist-packages (from rich<15.0.0,>=13.8.1->together) (3.0.0)\n",
            "Requirement already satisfied: pygments<3.0.0,>=2.13.0 in /usr/local/lib/python3.11/dist-packages (from rich<15.0.0,>=13.8.1->together) (2.19.2)\n",
            "Requirement already satisfied: shellingham>=1.3.0 in /usr/local/lib/python3.11/dist-packages (from typer<0.16,>=0.9->together) (1.5.4)\n",
            "Requirement already satisfied: mdurl~=0.1 in /usr/local/lib/python3.11/dist-packages (from markdown-it-py>=2.2.0->rich<15.0.0,>=13.8.1->together) (0.1.2)\n"
          ]
        }
      ]
    },
    {
      "cell_type": "code",
      "source": [
        "# و با استفاده از تابع‌های بسته توگدر و تابع‌های بسته کولب\n",
        "# تابع خودمون برای ارسال پرامپت و دریافت پاسخ هوش مصنوعی رو نوشتیم\n",
        "# یادمون هست که در مورد ثبت نام در توگدر، دریافت کلید و\n",
        "# ذخیره کردن کلید ای‌پی‌آی تو محیط کولب تو درس ۹ هفته اول توضیح داده شده\n",
        "from google.colab import userdata\n",
        "from together import Together\n",
        "\n",
        "client = Together(api_key=userdata.get('TOGETHER_API_KEY'))\n",
        "\n",
        "def print_llm_response(prompt):\n",
        "    response = client.chat.completions.create(\n",
        "        model=\"google/gemma-3n-E4B-it\",\n",
        "        # model=\"meta-llama/Llama-3.3-70B-Instruct-Turbo-Free\",\n",
        "        messages=[\n",
        "        {\n",
        "            \"role\": \"user\",\n",
        "            \"content\": prompt\n",
        "        }\n",
        "        ]\n",
        "    )\n",
        "    return response.choices[0].message.content"
      ],
      "metadata": {
        "id": "5vJIA06OfCbu"
      },
      "execution_count": null,
      "outputs": []
    },
    {
      "cell_type": "markdown",
      "metadata": {
        "id": "nowtqjjraNf_"
      },
      "source": [
        "## آزمایش کار با هوش مصنوعی\n",
        "\n",
        "* پرامپتی برای دریافت دستور غذا از هوش مصنوعی بنویس"
      ]
    },
    {
      "cell_type": "code",
      "execution_count": null,
      "metadata": {
        "height": 270,
        "colab": {
          "base_uri": "https://localhost:8080/"
        },
        "id": "MgTFdZdfaNgB",
        "outputId": "50c625fb-e826-4ae1-e854-a0f27ae39681"
      },
      "outputs": [
        {
          "output_type": "stream",
          "name": "stdout",
          "text": [
            "## مرغ و هویج با برنج ساده\n",
            "\n",
            "**مواد لازم:**\n",
            "\n",
            "*   2 عدد سینه مرغ (یا قطعات مرغ دلخواه)\n",
            "*   2 عدد هویج، خرد شده\n",
            "*   1 پیمانه برنج\n",
            "*   2 پیمانه آب\n",
            "*   روغن زیتون (به مقدار لازم)\n",
            "*   نمک و فلفل (به مقدار لازم)\n",
            "\n",
            "**طرز تهیه:**\n",
            "\n",
            "1.  برنج را بشویید و با آب در یک قابلمه بریزید. روی حرارت قرار دهید تا بجوشد، سپس حرارت را کم کنید و بپزید تا آب جذب شود.\n",
            "2.  مرغ را به قطعات کوچک‌تر برش دهید و با نمک و فلفل مزه‌دار کنید.\n",
            "3.  در یک تابه، کمی روغن زیتون بریزید و مرغ را تفت دهید تا رنگ آن تغییر کند.\n",
            "4.  هویج‌های خرد شده را به مرغ اضافه کنید و به مدت 5-7 دقیقه تفت دهید تا نرم شوند.\n",
            "5.  برنج پخته شده را به تابه اضافه کنید و با مرغ و هویج مخلوط کنید.\n",
            "6.  مدت 2-3 دقیقه دیگر تفت دهید تا همه مواد گرم شوند و طعم‌ها با هم ترکیب شوند.\n",
            "7.  مرغ و هویج با برنج آماده است! می‌توانید آن را گرم سرو کنید.\n",
            "\n",
            "**نکته:** می‌توانید از ادویه‌های دلخواه (مانند زردچوبه، دارچین، یا زیره) برای طعم دادن به غذا استفاده کنید.\n",
            "\n"
          ]
        }
      ],
      "source": [
        "# لیست موادی که دوست داری تو غذا باشن یا تو خونه داری\n",
        "ingredients = ['مرغ', 'هویج', 'برنج']\n",
        "\n",
        "# نوشتن پرامپت\n",
        "prompt = f\"\"\"\n",
        "    یک دستور غذای کوتاه با استفاده از این مواد بساز:\n",
        "    {ingredients}\n",
        "\"\"\"\n",
        "\n",
        "# دریافت پاسخ مدل زبانی بزرگ یا ال ال ام\n",
        "response = print_llm_response(prompt)\n",
        "\n",
        "# چاپ پاسخ\n",
        "print(response)"
      ]
    },
    {
      "cell_type": "markdown",
      "metadata": {
        "id": "JRnU4V7DaNgC"
      },
      "source": [
        "## باز کردن فایل متنی و ذخیره در یک استرینگ"
      ]
    },
    {
      "cell_type": "markdown",
      "metadata": {
        "id": "HXLejevTaNgC"
      },
      "source": [
        "قصد داریم داده‌هایی رو باز کنیم که داخل فایل‌هایی از قبل ذخیره شدن.\n",
        "\n",
        "* بیا با ایمیلی شروع کنیم که دوستی فرستاده و متنش داخل یک فایل تکست ذخیره شده. فایل رو باز کن و محتواش رو بخون"
      ]
    },
    {
      "cell_type": "code",
      "execution_count": null,
      "metadata": {
        "height": 65,
        "id": "o2ezCuk2aNgD"
      },
      "outputs": [],
      "source": [
        "f = open(\"email.txt\", \"r\")\n",
        "email = f.read()\n",
        "f.close()"
      ]
    },
    {
      "cell_type": "markdown",
      "metadata": {
        "id": "DFPJBmrjaNgE"
      },
      "source": [
        "* محتوای ایمیل رو چاپ کن"
      ]
    },
    {
      "cell_type": "code",
      "execution_count": null,
      "metadata": {
        "height": 31,
        "id": "iAxSb-SEaNgF",
        "outputId": "947cf653-c356-4096-c6b5-578da52f83d9",
        "colab": {
          "base_uri": "https://localhost:8080/"
        }
      },
      "outputs": [
        {
          "output_type": "stream",
          "name": "stdout",
          "text": [
            "Subject: My Incredible Journey Around the World!\n",
            "\n",
            "Hi Andrew,\n",
            "\n",
            "I hope you are doing greatl! I just returned from an incredible trip around the world. I started in New York, enjoying a Broadway show and the skyline. In Rio de Janeiro, I soaked up the sun on Copacabana Beach and hiked to Christ the Redeemer. Cape Town amazed me with its natural beauty and safari adventures. Paris was magical with its charming streets and delicious food. Istanbul's Hagia Sophia and Bosphorus cruise were unforgettable. Tokyo dazzled with its neon lights and delicious sushi. Finally, Sydney's Opera House and Bondi Beach were the perfect end to my journey. Can't wait to share more stories and photos when we catch up!\n",
            "\n",
            "Best,\n",
            "\n",
            "Daniel\n"
          ]
        }
      ],
      "source": [
        "print(email)"
      ]
    },
    {
      "cell_type": "markdown",
      "metadata": {
        "id": "z12HI9MdaNgG"
      },
      "source": [
        "<p style=\"background-color:#F5C780; padding:15px\"> 🤖 <b>از چت‌بات استفاده کن</b>:\n",
        "    <br><br>\n",
        "    این کد رو خط به خط توضیح بده.\n",
        "    <br><br>f = open(\"email.txt\", \"r\")\n",
        "    <br>email = f.read()\n",
        "    <br>f.close()\n",
        "</p>"
      ]
    },
    {
      "cell_type": "markdown",
      "source": [
        "This code opens a file called \"email.txt\", reads its entire content into the variable email, and then closes the file. It’s a simple way to read the contents of a text file into a string for further processing."
      ],
      "metadata": {
        "id": "g-SwqTOYzp2R"
      }
    },
    {
      "cell_type": "markdown",
      "source": [
        "It’s generally better to use a with statement when working with files in Python, as it automatically closes the file even if an error occurs. For example:"
      ],
      "metadata": {
        "id": "fisK-4bhzucb"
      }
    },
    {
      "cell_type": "markdown",
      "metadata": {
        "id": "HGc6hCPgaNgG"
      },
      "source": [
        "<p style=\"background-color:#F5C780; padding:15px\"> 🤖 <b>با چت‌بات تو همون چت بالا ادامه بده:</b>:\n",
        "    <br><br>\n",
        "    چی میشه اگه من فایل رو نبندم.\n",
        "</p>"
      ]
    },
    {
      "cell_type": "code",
      "source": [
        "with open(\"email.txt\", \"r\") as f:\n",
        "  email = f.read()"
      ],
      "metadata": {
        "id": "xL2JbFP5EVI9"
      },
      "execution_count": null,
      "outputs": []
    },
    {
      "cell_type": "markdown",
      "source": [
        "This achieves the same result but ensures the file is properly closed after reading, even if an error occurs."
      ],
      "metadata": {
        "id": "VxOte3aAzwZs"
      }
    },
    {
      "cell_type": "markdown",
      "metadata": {
        "id": "uXDy9UYOaNgG"
      },
      "source": [
        "## استفاده از هوش مصنوعی برای استخراج بخش خاصی از ایمیل"
      ]
    },
    {
      "cell_type": "markdown",
      "metadata": {
        "id": "7Gd5_3JnaNgK"
      },
      "source": [
        "* پرامپتی بساز که بخش‌های بولت‌دار ایمیل بالا رو استخراج کنه."
      ]
    },
    {
      "cell_type": "code",
      "execution_count": null,
      "metadata": {
        "height": 151,
        "id": "2OL6h6fYaNgK",
        "outputId": "7d8add62-0618-4d2e-f21c-82be7c6aaa25",
        "colab": {
          "base_uri": "https://localhost:8080/"
        }
      },
      "outputs": [
        {
          "output_type": "stream",
          "name": "stdout",
          "text": [
            "نکته‌های کلیدی ایمیل زیر رو استخراج کن.\n",
            "اطلاعات فرستنده ایمیل هم درج کن.\n",
            "نکته‌های کلیدی رو بنویس. جلوی هر کدوم ترجمه فارسی اون هم بنویس.\n",
            "\n",
            "ایمیل:\n",
            "Subject: My Incredible Journey Around the World!\n",
            "\n",
            "Hi Andrew,\n",
            "\n",
            "I hope you are doing greatl! I just returned from an incredible trip around the world. I started in New York, enjoying a Broadway show and the skyline. In Rio de Janeiro, I soaked up the sun on Copacabana Beach and hiked to Christ the Redeemer. Cape Town amazed me with its natural beauty and safari adventures. Paris was magical with its charming streets and delicious food. Istanbul's Hagia Sophia and Bosphorus cruise were unforgettable. Tokyo dazzled with its neon lights and delicious sushi. Finally, Sydney's Opera House and Bondi Beach were the perfect end to my journey. Can't wait to share more stories and photos when we catch up!\n",
            "\n",
            "Best,\n",
            "\n",
            "Daniel\n"
          ]
        }
      ],
      "source": [
        "prompt = f\"\"\"نکته‌های کلیدی ایمیل زیر رو استخراج کن.\n",
        "اطلاعات فرستنده ایمیل هم درج کن.\n",
        "نکته‌های کلیدی رو بنویس. جلوی هر کدوم ترجمه فارسی اون هم بنویس.\n",
        "\n",
        "ایمیل:\n",
        "{email}\"\"\"\n",
        "\n",
        "print(prompt)"
      ]
    },
    {
      "cell_type": "markdown",
      "metadata": {
        "id": "mXkGkJdnaNgK"
      },
      "source": [
        "* حالا این پرامپت رو به مدل‌زبانی‌بزرگ بفرست ببینیم چی می‌کنه!"
      ]
    },
    {
      "cell_type": "code",
      "execution_count": null,
      "metadata": {
        "height": 48,
        "id": "nE1lBSwmaNgK",
        "outputId": "758064c6-8cfc-44b4-ddee-c6a18e55bcd7",
        "colab": {
          "base_uri": "https://localhost:8080/"
        }
      },
      "outputs": [
        {
          "output_type": "stream",
          "name": "stdout",
          "text": [
            "## نکات کلیدی ایمیل و اطلاعات فرستنده:\n",
            "\n",
            "**اطلاعات فرستنده:**\n",
            "\n",
            "*   **نام:** Daniel\n",
            "*   **به گیرنده:** Andrew\n",
            "\n",
            "**نکات کلیدی:**\n",
            "\n",
            "*   **موضوع:** سفر شگفت‌انگیز به دور دنیا! (My Incredible Journey Around the World!)\n",
            "*   **هدف:** اطلاع‌رسانی و اشتراک‌گذاری تجربیات از یک سفر دور دنیا. (To inform and share experiences from a trip around the world.)\n",
            "*   **مکان‌های بازدید شده:**\n",
            "    *   نیویورک (New York): تماشای نمایش برادوی و منظره شهر. (Enjoying a Broadway show and the skyline.)\n",
            "    *   ریو د جانیرو (Rio de Janeiro): آفتاب گرفتن در ساحل کوپاکابانا و پیاده‌روی به معبد مسیح ردی‌کننده (Christ the Redeemer). (Soaked up the sun on Copacabana Beach and hiked to Christ the Redeemer.)\n",
            "    *   کیپ تاون (Cape Town): شگفتی از زیبایی‌های طبیعی و ماجراجویی‌های سافاری. (Amazed me with its natural beauty and safari adventures.)\n",
            "    *   پاریس (Paris): معجون بودن کوچه‌های جذاب و غذاهای خوشمزه. (Magical with its charming streets and delicious food.)\n",
            "    *   استانبول (Istanbul): بازدید از مسجد ایاصوفیه و گشت و گذار در بوسفور. (Hagia Sophia and Bosphorus cruise were unforgettable.)\n",
            "    *   توکیو (Tokyo): درخشش نورهای نئون و سوشی خوشمزه. (Dazzled with its neon lights and delicious sushi.)\n",
            "    *   سیدنی (Sydney): اپرا هاوس و ساحل باندی به عنوان پایان بی‌نظیر سفر. (Sydney's Opera House and Bondi Beach were the perfect end to my journey.)\n",
            "*   **انتظار:** اشتراک‌گذاری داستان‌ها و عکس‌های بیشتر در ملاقات بعدی. (Can't wait to share more stories and photos when we catch up!)\n",
            "*   **لحن:** دوستانه و مشتاق. (Friendly and enthusiastic.)\n",
            "\n"
          ]
        }
      ],
      "source": [
        "bullet_points = print_llm_response(prompt)\n",
        "print(bullet_points)"
      ]
    },
    {
      "cell_type": "markdown",
      "metadata": {
        "id": "82vngq2WaNgK"
      },
      "source": [
        "* حالا از کلاس مارک‌داون که تو بخش پیشنیازها فراخوانی کردیم،\n",
        "\n",
        " استفاده کن تا علایم زبان مارک‌داون که تو خروجی مدل هست رو تجزیه و خروجی تجزیه شده رو چاپ کنی."
      ]
    },
    {
      "cell_type": "code",
      "execution_count": null,
      "metadata": {
        "height": 48,
        "id": "uETGmb59aNgL",
        "outputId": "55591e11-3f39-427b-f690-424a7a31d1e9",
        "colab": {
          "base_uri": "https://localhost:8080/",
          "height": 398
        }
      },
      "outputs": [
        {
          "output_type": "display_data",
          "data": {
            "text/plain": [
              "<IPython.core.display.Markdown object>"
            ],
            "text/markdown": "## نکات کلیدی ایمیل و اطلاعات فرستنده:\n\n**اطلاعات فرستنده:**\n\n*   **نام:** Daniel\n*   **به گیرنده:** Andrew\n\n**نکات کلیدی:**\n\n*   **موضوع:** سفر شگفت‌انگیز به دور دنیا! (My Incredible Journey Around the World!)\n*   **هدف:** اطلاع‌رسانی و اشتراک‌گذاری تجربیات از یک سفر دور دنیا. (To inform and share experiences from a trip around the world.)\n*   **مکان‌های بازدید شده:**\n    *   نیویورک (New York): تماشای نمایش برادوی و منظره شهر. (Enjoying a Broadway show and the skyline.)\n    *   ریو د جانیرو (Rio de Janeiro): آفتاب گرفتن در ساحل کوپاکابانا و پیاده‌روی به معبد مسیح ردی‌کننده (Christ the Redeemer). (Soaked up the sun on Copacabana Beach and hiked to Christ the Redeemer.)\n    *   کیپ تاون (Cape Town): شگفتی از زیبایی‌های طبیعی و ماجراجویی‌های سافاری. (Amazed me with its natural beauty and safari adventures.)\n    *   پاریس (Paris): معجون بودن کوچه‌های جذاب و غذاهای خوشمزه. (Magical with its charming streets and delicious food.)\n    *   استانبول (Istanbul): بازدید از مسجد ایاصوفیه و گشت و گذار در بوسفور. (Hagia Sophia and Bosphorus cruise were unforgettable.)\n    *   توکیو (Tokyo): درخشش نورهای نئون و سوشی خوشمزه. (Dazzled with its neon lights and delicious sushi.)\n    *   سیدنی (Sydney): اپرا هاوس و ساحل باندی به عنوان پایان بی‌نظیر سفر. (Sydney's Opera House and Bondi Beach were the perfect end to my journey.)\n*   **انتظار:** اشتراک‌گذاری داستان‌ها و عکس‌های بیشتر در ملاقات بعدی. (Can't wait to share more stories and photos when we catch up!)\n*   **لحن:** دوستانه و مشتاق. (Friendly and enthusiastic.)\n"
          },
          "metadata": {}
        }
      ],
      "source": [
        "# چاپ خروجی به فرمت مارک داون\n",
        "display(Markdown(bullet_points))"
      ]
    },
    {
      "cell_type": "markdown",
      "metadata": {
        "id": "J3j66i7raNgL"
      },
      "source": [
        "## تمرین فراتر\n",
        "\n",
        "تمرین‌های جذاب پایین رو بخون. از مدل زبانی کمک بگیر تا کارهایی رو بر اساس متن ایمیل انجام بده.\n",
        "\n",
        "### تمرین ۱\n",
        "\n",
        "کد پایین رو طوری کامل کن که کشورهای ذکر شده داخل متن ایمیل رو استخراج کنی"
      ]
    },
    {
      "cell_type": "code",
      "source": [
        "# پرامپت رو طوری بنویس که کشورهای داخل ایمیل استخراج بشن\n",
        "prompt = f\"\"\"ایمیل زیر را تحلیل کن و تمام کشورهایی که در آن ذکر شده است استخراج کن.\n",
        "فقط نام کشورها را برگردان و آنها را در یک لیست برگردان.\n",
        "اگر کشوری پیدا نشد، لیست خالی برگردان.\n",
        "\n",
        "Email:\n",
        "{email}\n",
        "\"\"\"\n",
        "\n",
        "countries = print_llm_response(prompt)\n",
        "print(countries)"
      ],
      "metadata": {
        "colab": {
          "base_uri": "https://localhost:8080/"
        },
        "id": "xI7yKV0BK2hV",
        "outputId": "968a0f84-2612-49c0-8ded-c5ff1a5da1c3"
      },
      "execution_count": null,
      "outputs": [
        {
          "output_type": "stream",
          "name": "stdout",
          "text": [
            "* United States\n",
            "* Brazil\n",
            "* South Africa\n",
            "* France\n",
            "* Turkey\n",
            "* Japan\n",
            "* Australia\n",
            "\n"
          ]
        }
      ]
    },
    {
      "cell_type": "markdown",
      "metadata": {
        "id": "eQ5kztD9aNgL"
      },
      "source": [
        "### تمرین ۲\n",
        "\n",
        "کدی بنویس که بر اساس متن ایمیل همه کارهایی که در سفر توسط فرستنده انجام شده فهرست بشن:\n",
        "\n",
        "از تابع زیر باید استفاده کنی:\n",
        "\n",
        "`print_llm_response`."
      ]
    },
    {
      "cell_type": "code",
      "execution_count": null,
      "metadata": {
        "height": 100,
        "id": "EGmydya_aNgL"
      },
      "outputs": [],
      "source": [
        "# لیستی از کارهای انجام شده در سفر تهیه کن.\n",
        "# باید پرامپت مناسب بنویسی و خروجی رو ذخیره کنی\n",
        "# START YOUR CODE HERE"
      ]
    },
    {
      "cell_type": "code",
      "source": [
        "# خواندن متن ایمیل از فایل\n",
        "with open(\"email.txt\", \"r\") as f:\n",
        "    email = f.read()\n",
        "\n",
        "# پرامپت برای استخراج کارهای انجام شده در سفر\n",
        "prompt = f\"\"\"ایمیل زیر را تحلیل کن و تمام کارهایی که توسط فرستنده در حین سفر انجام شده است استخراج کن.\n",
        "کارهای انجام شده عبارتند از هرگونه فعالیت، بازدید، کار، یا تجربه‌ای که فرستنده در سفرش انجام داده است.\n",
        "هر کار را در یک خط جداگانه لیست کن.\n",
        "\n",
        "Email:\n",
        "{email}\n",
        "\"\"\"\n",
        "\n",
        "# استفاده از تابع print_llm_response برای نمایش پاسخ\n",
        "Do_things = print_llm_response(prompt)\n",
        "print(Do_things)"
      ],
      "metadata": {
        "colab": {
          "base_uri": "https://localhost:8080/"
        },
        "id": "lvD7rkC9NFy2",
        "outputId": "6dea333e-9761-460d-e924-22f61225835e"
      },
      "execution_count": null,
      "outputs": [
        {
          "output_type": "stream",
          "name": "stdout",
          "text": [
            "* تماشای یک نمایش برادوی در نیویورک\n",
            "* تماشای منظره شهر نیویورک\n",
            "* آفتاب گرفتن در ساحل کوپاکابانا در ریودوژانیرو\n",
            "* پیاده‌روی به معبد مسیح در ریودوژانیرو\n",
            "* شرکت در یک سافاری در کیپ टाون\n",
            "* بازدید از خیابان‌های جذاب و لذت بردن از غذا در پاریس\n",
            "* بازدید از مسجد جامع آیا صوفیه و گشت و گذار در بسفر در استانبول\n",
            "* لذت بردن از نورهای نئون و خوردن سوشی در توکیو\n",
            "* بازدید از اپرا هاوس و ساحل بوندی در سیدنی\n",
            "\n"
          ]
        }
      ]
    },
    {
      "cell_type": "markdown",
      "source": [
        "### تمرین چالشی و سخت\n",
        "این تمرین با سطحی که درش هستی دست کم ۳ ساعت زمان می‌بره.\n",
        "\n",
        "و تازه شاید موفق هم نشی. ولی تلاش براش هم خیلی ارزش داره.\n"
      ],
      "metadata": {
        "id": "snQY9m6I8hlM"
      }
    },
    {
      "cell_type": "markdown",
      "source": [
        "\n",
        "\n",
        "\n",
        "\n",
        "جستجو کن که آیا امکان دریافت ایمیل‌های گوگلت رو باید ای‌پی‌آی داری؟\n",
        "\n",
        "من این پرامپت رو به چت‌جی‌پی‌تی دادم:\n",
        "\n",
        "> گام به گام توضیح بده که چطور به کمک ای‌پی‌آی به جیمیل وصل بشم و فهرست ایمیل هام رو بخونم و متن یک ایمیل به خصوص هم چاپ کنم.\n",
        "\n"
      ],
      "metadata": {
        "id": "135R7APq7Zcv"
      }
    },
    {
      "cell_type": "code",
      "source": [
        "# مراحل رو تا هر جا تونستی پیش ببر و کدها رو اینجا بنویس و اجرا کن\n"
      ],
      "metadata": {
        "id": "c72w46LB7TlN"
      },
      "execution_count": null,
      "outputs": []
    },
    {
      "cell_type": "markdown",
      "source": [
        "جواب تمرین  \n",
        "\n",
        "Copy of L01_start_files_part2"
      ],
      "metadata": {
        "id": "sCh-m0Pna1EC"
      }
    }
  ],
  "metadata": {
    "colab": {
      "gpuType": "T4",
      "provenance": []
    },
    "kernelspec": {
      "display_name": "Python 3 (ipykernel)",
      "language": "python",
      "name": "python3"
    },
    "language_info": {
      "codemirror_mode": {
        "name": "ipython",
        "version": 3
      },
      "file_extension": ".py",
      "mimetype": "text/x-python",
      "name": "python",
      "nbconvert_exporter": "python",
      "pygments_lexer": "ipython3",
      "version": "3.9.19"
    }
  },
  "nbformat": 4,
  "nbformat_minor": 0
}