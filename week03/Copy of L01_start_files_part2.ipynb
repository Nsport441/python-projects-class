{
 "cells": [
  {
   "cell_type": "code",
   "execution_count": 1,
   "id": "d9e81568-3ca7-4107-a50c-ca74d767f27d",
   "metadata": {
    "scrolled": true
   },
   "outputs": [
    {
     "name": "stdout",
     "output_type": "stream",
     "text": [
      "Requirement already satisfied: google-auth in c:\\users\\acer\\appdata\\local\\programs\\python\\python312\\lib\\site-packages (2.40.3)\n",
      "Requirement already satisfied: google-auth-oauthlib in c:\\users\\acer\\appdata\\local\\programs\\python\\python312\\lib\\site-packages (1.2.2)\n",
      "Requirement already satisfied: google-api-python-client in c:\\users\\acer\\appdata\\local\\programs\\python\\python312\\lib\\site-packages (2.177.0)\n",
      "Requirement already satisfied: cachetools<6.0,>=2.0.0 in c:\\users\\acer\\appdata\\local\\programs\\python\\python312\\lib\\site-packages (from google-auth) (5.5.2)\n",
      "Requirement already satisfied: pyasn1-modules>=0.2.1 in c:\\users\\acer\\appdata\\local\\programs\\python\\python312\\lib\\site-packages (from google-auth) (0.4.2)\n",
      "Requirement already satisfied: rsa<5,>=3.1.4 in c:\\users\\acer\\appdata\\local\\programs\\python\\python312\\lib\\site-packages (from google-auth) (4.9.1)\n",
      "Requirement already satisfied: requests-oauthlib>=0.7.0 in c:\\users\\acer\\appdata\\local\\programs\\python\\python312\\lib\\site-packages (from google-auth-oauthlib) (2.0.0)\n",
      "Requirement already satisfied: httplib2<1.0.0,>=0.19.0 in c:\\users\\acer\\appdata\\local\\programs\\python\\python312\\lib\\site-packages (from google-api-python-client) (0.22.0)\n",
      "Requirement already satisfied: google-auth-httplib2<1.0.0,>=0.2.0 in c:\\users\\acer\\appdata\\local\\programs\\python\\python312\\lib\\site-packages (from google-api-python-client) (0.2.0)\n",
      "Requirement already satisfied: google-api-core!=2.0.*,!=2.1.*,!=2.2.*,!=2.3.0,<3.0.0,>=1.31.5 in c:\\users\\acer\\appdata\\local\\programs\\python\\python312\\lib\\site-packages (from google-api-python-client) (2.25.1)\n",
      "Requirement already satisfied: uritemplate<5,>=3.0.1 in c:\\users\\acer\\appdata\\local\\programs\\python\\python312\\lib\\site-packages (from google-api-python-client) (4.2.0)\n",
      "Requirement already satisfied: googleapis-common-protos<2.0.0,>=1.56.2 in c:\\users\\acer\\appdata\\local\\programs\\python\\python312\\lib\\site-packages (from google-api-core!=2.0.*,!=2.1.*,!=2.2.*,!=2.3.0,<3.0.0,>=1.31.5->google-api-python-client) (1.70.0)\n",
      "Requirement already satisfied: protobuf!=3.20.0,!=3.20.1,!=4.21.0,!=4.21.1,!=4.21.2,!=4.21.3,!=4.21.4,!=4.21.5,<7.0.0,>=3.19.5 in c:\\users\\acer\\appdata\\local\\programs\\python\\python312\\lib\\site-packages (from google-api-core!=2.0.*,!=2.1.*,!=2.2.*,!=2.3.0,<3.0.0,>=1.31.5->google-api-python-client) (6.31.1)\n",
      "Requirement already satisfied: proto-plus<2.0.0,>=1.22.3 in c:\\users\\acer\\appdata\\local\\programs\\python\\python312\\lib\\site-packages (from google-api-core!=2.0.*,!=2.1.*,!=2.2.*,!=2.3.0,<3.0.0,>=1.31.5->google-api-python-client) (1.26.1)\n",
      "Requirement already satisfied: requests<3.0.0,>=2.18.0 in c:\\users\\acer\\appdata\\local\\programs\\python\\python312\\lib\\site-packages (from google-api-core!=2.0.*,!=2.1.*,!=2.2.*,!=2.3.0,<3.0.0,>=1.31.5->google-api-python-client) (2.32.3)\n",
      "Requirement already satisfied: pyparsing!=3.0.0,!=3.0.1,!=3.0.2,!=3.0.3,<4,>=2.4.2 in c:\\users\\acer\\appdata\\local\\programs\\python\\python312\\lib\\site-packages (from httplib2<1.0.0,>=0.19.0->google-api-python-client) (3.2.1)\n",
      "Requirement already satisfied: pyasn1<0.7.0,>=0.6.1 in c:\\users\\acer\\appdata\\local\\programs\\python\\python312\\lib\\site-packages (from pyasn1-modules>=0.2.1->google-auth) (0.6.1)\n",
      "Requirement already satisfied: oauthlib>=3.0.0 in c:\\users\\acer\\appdata\\local\\programs\\python\\python312\\lib\\site-packages (from requests-oauthlib>=0.7.0->google-auth-oauthlib) (3.3.1)\n",
      "Requirement already satisfied: charset-normalizer<4,>=2 in c:\\users\\acer\\appdata\\local\\programs\\python\\python312\\lib\\site-packages (from requests<3.0.0,>=2.18.0->google-api-core!=2.0.*,!=2.1.*,!=2.2.*,!=2.3.0,<3.0.0,>=1.31.5->google-api-python-client) (3.3.2)\n",
      "Requirement already satisfied: idna<4,>=2.5 in c:\\users\\acer\\appdata\\local\\programs\\python\\python312\\lib\\site-packages (from requests<3.0.0,>=2.18.0->google-api-core!=2.0.*,!=2.1.*,!=2.2.*,!=2.3.0,<3.0.0,>=1.31.5->google-api-python-client) (3.10)\n",
      "Requirement already satisfied: urllib3<3,>=1.21.1 in c:\\users\\acer\\appdata\\local\\programs\\python\\python312\\lib\\site-packages (from requests<3.0.0,>=2.18.0->google-api-core!=2.0.*,!=2.1.*,!=2.2.*,!=2.3.0,<3.0.0,>=1.31.5->google-api-python-client) (2.2.3)\n",
      "Requirement already satisfied: certifi>=2017.4.17 in c:\\users\\acer\\appdata\\local\\programs\\python\\python312\\lib\\site-packages (from requests<3.0.0,>=2.18.0->google-api-core!=2.0.*,!=2.1.*,!=2.2.*,!=2.3.0,<3.0.0,>=1.31.5->google-api-python-client) (2024.8.30)\n"
     ]
    },
    {
     "name": "stderr",
     "output_type": "stream",
     "text": [
      "\n",
      "[notice] A new release of pip is available: 25.0.1 -> 25.1.1\n",
      "[notice] To update, run: C:\\Users\\Acer\\AppData\\Local\\Programs\\Python\\Python312\\python.exe -m pip install --upgrade pip\n"
     ]
    }
   ],
   "source": [
    "import sys\n",
    "!{sys.executable} -m pip install --upgrade google-auth google-auth-oauthlib google-api-python-client"
   ]
  },
  {
   "cell_type": "code",
   "execution_count": 2,
   "id": "98d498ad-1626-4dbf-9465-23b60be7fdc2",
   "metadata": {},
   "outputs": [],
   "source": [
    "from google_auth_oauthlib.flow import InstalledAppFlow\n",
    "from googleapiclient.discovery import build"
   ]
  },
  {
   "cell_type": "code",
   "execution_count": 3,
   "id": "b4b1b169-219a-4d49-9096-0cae61b3a0fa",
   "metadata": {},
   "outputs": [
    {
     "name": "stdout",
     "output_type": "stream",
     "text": [
      "Please visit this URL to authorize this application: https://accounts.google.com/o/oauth2/auth?response_type=code&client_id=285882909921-fu419m7iqrl7133b98dhl1rsd5se42pi.apps.googleusercontent.com&redirect_uri=http%3A%2F%2Flocalhost%3A51115%2F&scope=https%3A%2F%2Fwww.googleapis.com%2Fauth%2Fgmail.readonly&state=r6Q9hIf0ia1v6gpAdJFKvjMenvcOxy&access_type=offline\n",
      "ایمیل‌ها (ID):\n",
      "198523a91b466842\n",
      "198522ffad7562a3\n",
      "198521f052a8b6ec\n",
      "198520af2bedf481\n",
      "1985207457008c5e\n",
      "Subject: درخواست بازیابی حساب Google\n",
      "متن ایمیل: [image: Google]\n",
      "درخواست بازیابی حساب Google\n",
      "\n",
      "\n",
      "nsport441@gmail.com‏\n",
      "\n",
      "سپاس‌گزاریم که فرم بازیابی حساب ما را پر کردید. می‌دانیم که از دست دادن\n",
      "دسترسی به حساب می‌تواند بسیار ناراحت‌کننده باشد. هدف ما کمک به شماست!\n",
      "\n",
      "در Google به حریم خصوصی و امنیت شما اهمیت زیادی می‌دهیم. متعهد هستیم تنها\n",
      "در صورتی حساب‌ها را برگردانیم که مطمئن باشیم آن‌ها را به مالکشان\n",
      "برمی‌گردانیم. متأسفانه براساس اطلاعاتی که ارائه داده‌اید، نمی‌توانیم تأیید\n",
      "کنیم شما مالک nsport441@gmail.com هستید. برای اطمینان از اینکه امنیت این\n",
      "حساب را به خطر نمی‌اندازیم، هنوز نمی‌توانیم آن را به شما برگردانیم.\n",
      "\n",
      "می‌توانید برای تأیید مالکیت این حساب *اطلاعات بیشتری* ارائه کنید؟\n",
      "\n",
      "    - دراین‌صورت، لطفاً از فرم بازیابی حساب\n",
      "    <https://accounts.google.com/signin/recovery> ما دیدن کنید، درخواست\n",
      "    دیگری ارسال کنید و تا جایی که ممکن است اطلاعات دقیقی در اختیار ما قرار\n",
      "    دهید. (اگر از تاریخ دقیق مطمئن نیستید، مشکلی نیست، بهترین حدستان را وارد\n",
      "    کنید.)\n",
      "    - در غیر این صورت، اگر می‌خواهید حساب جدیدی ایجاد کنید، لطفاً از صفحه\n",
      "    حساب‌های جدید <https://accounts.google.com/SignUp> ما دیدن کنید.\n",
      "\n",
      "چون Google هنگام ثبت‌‌نام برای حساب، اطلاعات شخصی زیادی درخواست نمی‌کند،\n",
      "راه‌های زیادی برای تأیید مالکیت حساب شما نداریم. برای تأیید اینکه شما مالک\n",
      "واقعی حساب هستید، درطول روند بازیابی به جزئیات دقیقی نیاز داریم. نمی‌توانیم\n",
      "اسناد شناسایی را به‌عنوان اثبات مالکیت بپذیریم، چون به نظر ما روش امنی\n",
      "نیست. اگر درباره این خط‌مشی‌ها اطلاعات بیشتری می‌خواهید، لطفاً به مقاله  \n",
      "«بازیابی\n",
      "حساب <https://support.google.com/accounts/topic/3382255>» در «مرکز\n",
      "راهنمایی» ما مراجعه کنید.\n",
      "\n",
      "بابت هرگونه مشکل پیش‌آمده پوزش می‌خواهیم. از همکاری و درک شما سپاس‌گزاریم!\n",
      "\n",
      "با احترام،\n",
      "تیم حساب‌های Google\n",
      "این ایمیل را دریافت کرده‌اید زیرا می‌خواهیم درباره تغییرات مهم در سرویس‌ها\n",
      "و «حساب Google» به شما اطلاع بدهیم.\n",
      "© 2025 Google LLC, 1600 Amphitheatre Parkway, Mountain View, CA 94043, USA\n",
      "\n"
     ]
    }
   ],
   "source": [
    "import os\n",
    "import base64\n",
    "from google_auth_oauthlib.flow import InstalledAppFlow\n",
    "from googleapiclient.discovery import build\n",
    "from google.auth.transport.requests import Request\n",
    "from google.oauth2.credentials import Credentials\n",
    "\n",
    "SCOPES = ['https://www.googleapis.com/auth/gmail.readonly']\n",
    "\n",
    "def main():\n",
    "    creds = None\n",
    "    # اگر توکن قبلی هست، بارگذاری شود\n",
    "    if os.path.exists('token.json'):\n",
    "        creds = Credentials.from_authorized_user_file('token.json', SCOPES)\n",
    "    # اگر توکن نیست یا منقضی شده، احراز هویت کن\n",
    "    if not creds or not creds.valid:\n",
    "        if creds and creds.expired and creds.refresh_token:\n",
    "            creds.refresh(Request())\n",
    "        else:\n",
    "            flow = InstalledAppFlow.from_client_secrets_file('credentials.json', SCOPES)\n",
    "            creds = flow.run_local_server(port=0)\n",
    "        # ذخیره توکن برای دفعات بعد\n",
    "        with open('token.json', 'w') as token:\n",
    "            token.write(creds.to_json())\n",
    "    # ساخت سرویس Gmail\n",
    "    service = build('gmail', 'v1', credentials=creds)\n",
    "\n",
    "    # گرفتن لیست ایمیل‌ها (۵ ایمیل آخر)\n",
    "    results = service.users().messages().list(userId='me', maxResults=5).execute()\n",
    "    messages = results.get('messages', [])\n",
    "\n",
    "    if not messages:\n",
    "        print('هیچ ایمیلی پیدا نشد.')\n",
    "    else:\n",
    "        print('ایمیل‌ها (ID):')\n",
    "        for msg in messages:\n",
    "            print(msg['id'])\n",
    "\n",
    "    # خواندن متن اولین ایمیل\n",
    "    if messages:\n",
    "        msg_id = messages[0]['id']\n",
    "        msg = service.users().messages().get(userId='me', id=msg_id, format='full').execute()\n",
    "        payload = msg['payload']\n",
    "        headers = payload.get(\"headers\")\n",
    "        for header in headers:\n",
    "            if header['name'] == 'Subject':\n",
    "                print(\"Subject:\", header['value'])\n",
    "        # استخراج متن ایمیل (plain text)\n",
    "        if 'parts' in payload:\n",
    "            for part in payload['parts']:\n",
    "                if part['mimeType'] == 'text/plain':\n",
    "                    text = base64.urlsafe_b64decode(part['body']['data']).decode('utf-8')\n",
    "                    print(\"متن ایمیل:\", text)\n",
    "        else:\n",
    "            text = base64.urlsafe_b64decode(payload['body']['data']).decode('utf-8')\n",
    "            print(\"متن ایمیل:\", text)\n",
    "\n",
    "if __name__ == '__main__':\n",
    "    main()\n"
   ]
  },
  {
   "cell_type": "code",
   "execution_count": null,
   "id": "5c1d1be0-280a-4379-a8f7-13e116d141b7",
   "metadata": {},
   "outputs": [],
   "source": []
  }
 ],
 "metadata": {
  "kernelspec": {
   "display_name": "Python 3 (ipykernel)",
   "language": "python",
   "name": "python3"
  },
  "language_info": {
   "codemirror_mode": {
    "name": "ipython",
    "version": 3
   },
   "file_extension": ".py",
   "mimetype": "text/x-python",
   "name": "python",
   "nbconvert_exporter": "python",
   "pygments_lexer": "ipython3",
   "version": "3.12.5"
  }
 },
 "nbformat": 4,
 "nbformat_minor": 5
}
