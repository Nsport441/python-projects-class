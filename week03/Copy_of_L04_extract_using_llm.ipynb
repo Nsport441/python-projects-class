{
  "cells": [
    {
      "cell_type": "markdown",
      "metadata": {
        "id": "QOndZQHvKda1"
      },
      "source": [
        "# هفته سوم - درس ۴: استخراج اطلاعات با هوش مصنوعی\n",
        "\n",
        "حالا وقتش رسیده که به کمک هوش مصنوعی اطلاعات رو از دل متن‌های بی‌ساختار استخراج کنی.\n",
        "\n",
        "برای نمونه با هم نام رستوران‌ها و غذای ویژه اون‌ها رو استخراج می‌کنیم.\n",
        "\n",
        "البته اول پیشنیازها رو فراهم کنیم."
      ]
    },
    {
      "cell_type": "markdown",
      "source": [
        "## پیشنیازها"
      ],
      "metadata": {
        "id": "bN8J0mYJVdW_"
      }
    },
    {
      "cell_type": "code",
      "source": [
        "import os\n",
        "\n",
        "if not os.path.exists('Python-with-AI'):\n",
        "    !git clone https://github.com/asefycom/Python-with-AI.git\n",
        "\n",
        "os.chdir('Python-with-AI/3rd-week/L04')\n",
        "print(\"Current Working Directory:\", os.getcwd())"
      ],
      "metadata": {
        "id": "ZScW6Hi9-Rp-",
        "outputId": "87f43c14-1aad-4210-f43a-8ebd11f60c0c",
        "colab": {
          "base_uri": "https://localhost:8080/"
        }
      },
      "execution_count": 1,
      "outputs": [
        {
          "output_type": "stream",
          "name": "stdout",
          "text": [
            "Cloning into 'Python-with-AI'...\n",
            "remote: Enumerating objects: 322, done.\u001b[K\n",
            "remote: Counting objects: 100% (168/168), done.\u001b[K\n",
            "remote: Compressing objects: 100% (164/164), done.\u001b[K\n",
            "remote: Total 322 (delta 102), reused 4 (delta 4), pack-reused 154 (from 1)\u001b[K\n",
            "Receiving objects: 100% (322/322), 171.00 KiB | 972.00 KiB/s, done.\n",
            "Resolving deltas: 100% (166/166), done.\n",
            "Current Working Directory: /content/Python-with-AI/3rd-week/L04\n"
          ]
        }
      ]
    },
    {
      "cell_type": "code",
      "source": [
        "# نصب بسته توگدر ای‌آی\n",
        "!pip install together"
      ],
      "metadata": {
        "id": "65Xy-2RfVlUZ",
        "outputId": "57dc10aa-b0d1-4acb-9e53-c772c610261a",
        "colab": {
          "base_uri": "https://localhost:8080/"
        },
        "collapsed": true
      },
      "execution_count": 2,
      "outputs": [
        {
          "output_type": "stream",
          "name": "stdout",
          "text": [
            "Collecting together\n",
            "  Downloading together-1.5.21-py3-none-any.whl.metadata (15 kB)\n",
            "Requirement already satisfied: aiohttp<4.0.0,>=3.9.3 in /usr/local/lib/python3.11/dist-packages (from together) (3.12.14)\n",
            "Requirement already satisfied: click<9.0.0,>=8.1.7 in /usr/local/lib/python3.11/dist-packages (from together) (8.2.1)\n",
            "Collecting eval-type-backport<0.3.0,>=0.1.3 (from together)\n",
            "  Downloading eval_type_backport-0.2.2-py3-none-any.whl.metadata (2.2 kB)\n",
            "Requirement already satisfied: filelock<4.0.0,>=3.13.1 in /usr/local/lib/python3.11/dist-packages (from together) (3.18.0)\n",
            "Requirement already satisfied: numpy>=1.23.5 in /usr/local/lib/python3.11/dist-packages (from together) (2.0.2)\n",
            "Requirement already satisfied: pillow<12.0.0,>=11.1.0 in /usr/local/lib/python3.11/dist-packages (from together) (11.3.0)\n",
            "Requirement already satisfied: pydantic<3.0.0,>=2.6.3 in /usr/local/lib/python3.11/dist-packages (from together) (2.11.7)\n",
            "Requirement already satisfied: requests<3.0.0,>=2.31.0 in /usr/local/lib/python3.11/dist-packages (from together) (2.32.3)\n",
            "Requirement already satisfied: rich<15.0.0,>=13.8.1 in /usr/local/lib/python3.11/dist-packages (from together) (13.9.4)\n",
            "Requirement already satisfied: tabulate<0.10.0,>=0.9.0 in /usr/local/lib/python3.11/dist-packages (from together) (0.9.0)\n",
            "Requirement already satisfied: tqdm<5.0.0,>=4.66.2 in /usr/local/lib/python3.11/dist-packages (from together) (4.67.1)\n",
            "Collecting typer<0.16,>=0.9 (from together)\n",
            "  Downloading typer-0.15.4-py3-none-any.whl.metadata (15 kB)\n",
            "Requirement already satisfied: aiohappyeyeballs>=2.5.0 in /usr/local/lib/python3.11/dist-packages (from aiohttp<4.0.0,>=3.9.3->together) (2.6.1)\n",
            "Requirement already satisfied: aiosignal>=1.4.0 in /usr/local/lib/python3.11/dist-packages (from aiohttp<4.0.0,>=3.9.3->together) (1.4.0)\n",
            "Requirement already satisfied: attrs>=17.3.0 in /usr/local/lib/python3.11/dist-packages (from aiohttp<4.0.0,>=3.9.3->together) (25.3.0)\n",
            "Requirement already satisfied: frozenlist>=1.1.1 in /usr/local/lib/python3.11/dist-packages (from aiohttp<4.0.0,>=3.9.3->together) (1.7.0)\n",
            "Requirement already satisfied: multidict<7.0,>=4.5 in /usr/local/lib/python3.11/dist-packages (from aiohttp<4.0.0,>=3.9.3->together) (6.6.3)\n",
            "Requirement already satisfied: propcache>=0.2.0 in /usr/local/lib/python3.11/dist-packages (from aiohttp<4.0.0,>=3.9.3->together) (0.3.2)\n",
            "Requirement already satisfied: yarl<2.0,>=1.17.0 in /usr/local/lib/python3.11/dist-packages (from aiohttp<4.0.0,>=3.9.3->together) (1.20.1)\n",
            "Requirement already satisfied: annotated-types>=0.6.0 in /usr/local/lib/python3.11/dist-packages (from pydantic<3.0.0,>=2.6.3->together) (0.7.0)\n",
            "Requirement already satisfied: pydantic-core==2.33.2 in /usr/local/lib/python3.11/dist-packages (from pydantic<3.0.0,>=2.6.3->together) (2.33.2)\n",
            "Requirement already satisfied: typing-extensions>=4.12.2 in /usr/local/lib/python3.11/dist-packages (from pydantic<3.0.0,>=2.6.3->together) (4.14.1)\n",
            "Requirement already satisfied: typing-inspection>=0.4.0 in /usr/local/lib/python3.11/dist-packages (from pydantic<3.0.0,>=2.6.3->together) (0.4.1)\n",
            "Requirement already satisfied: charset-normalizer<4,>=2 in /usr/local/lib/python3.11/dist-packages (from requests<3.0.0,>=2.31.0->together) (3.4.2)\n",
            "Requirement already satisfied: idna<4,>=2.5 in /usr/local/lib/python3.11/dist-packages (from requests<3.0.0,>=2.31.0->together) (3.10)\n",
            "Requirement already satisfied: urllib3<3,>=1.21.1 in /usr/local/lib/python3.11/dist-packages (from requests<3.0.0,>=2.31.0->together) (2.5.0)\n",
            "Requirement already satisfied: certifi>=2017.4.17 in /usr/local/lib/python3.11/dist-packages (from requests<3.0.0,>=2.31.0->together) (2025.7.14)\n",
            "Requirement already satisfied: markdown-it-py>=2.2.0 in /usr/local/lib/python3.11/dist-packages (from rich<15.0.0,>=13.8.1->together) (3.0.0)\n",
            "Requirement already satisfied: pygments<3.0.0,>=2.13.0 in /usr/local/lib/python3.11/dist-packages (from rich<15.0.0,>=13.8.1->together) (2.19.2)\n",
            "Collecting click<9.0.0,>=8.1.7 (from together)\n",
            "  Downloading click-8.1.8-py3-none-any.whl.metadata (2.3 kB)\n",
            "Requirement already satisfied: shellingham>=1.3.0 in /usr/local/lib/python3.11/dist-packages (from typer<0.16,>=0.9->together) (1.5.4)\n",
            "Requirement already satisfied: mdurl~=0.1 in /usr/local/lib/python3.11/dist-packages (from markdown-it-py>=2.2.0->rich<15.0.0,>=13.8.1->together) (0.1.2)\n",
            "Downloading together-1.5.21-py3-none-any.whl (96 kB)\n",
            "\u001b[2K   \u001b[90m━━━━━━━━━━━━━━━━━━━━━━━━━━━━━━━━━━━━━━━━\u001b[0m \u001b[32m96.1/96.1 kB\u001b[0m \u001b[31m5.1 MB/s\u001b[0m eta \u001b[36m0:00:00\u001b[0m\n",
            "\u001b[?25hDownloading eval_type_backport-0.2.2-py3-none-any.whl (5.8 kB)\n",
            "Downloading typer-0.15.4-py3-none-any.whl (45 kB)\n",
            "\u001b[2K   \u001b[90m━━━━━━━━━━━━━━━━━━━━━━━━━━━━━━━━━━━━━━━━\u001b[0m \u001b[32m45.3/45.3 kB\u001b[0m \u001b[31m4.2 MB/s\u001b[0m eta \u001b[36m0:00:00\u001b[0m\n",
            "\u001b[?25hDownloading click-8.1.8-py3-none-any.whl (98 kB)\n",
            "\u001b[2K   \u001b[90m━━━━━━━━━━━━━━━━━━━━━━━━━━━━━━━━━━━━━━━━\u001b[0m \u001b[32m98.2/98.2 kB\u001b[0m \u001b[31m9.0 MB/s\u001b[0m eta \u001b[36m0:00:00\u001b[0m\n",
            "\u001b[?25hInstalling collected packages: eval-type-backport, click, typer, together\n",
            "  Attempting uninstall: click\n",
            "    Found existing installation: click 8.2.1\n",
            "    Uninstalling click-8.2.1:\n",
            "      Successfully uninstalled click-8.2.1\n",
            "  Attempting uninstall: typer\n",
            "    Found existing installation: typer 0.16.0\n",
            "    Uninstalling typer-0.16.0:\n",
            "      Successfully uninstalled typer-0.16.0\n",
            "Successfully installed click-8.1.8 eval-type-backport-0.2.2 together-1.5.21 typer-0.15.4\n"
          ]
        }
      ]
    },
    {
      "cell_type": "code",
      "source": [
        "# فراخوانی توگدر با کلیدی که ازش گرفتیم\n",
        "# که به صورت امن تو محیط اجرای این دفترچه کولب کار گذاشتیم\n",
        "# و بعد نوشتن تابعی برای ارسال پرامپت و چاپ جواب مدل\n",
        "from google.colab import userdata\n",
        "from together import Together\n",
        "\n",
        "client = Together(api_key=userdata.get('TOGETHER_API_KEY'))\n",
        "\n",
        "def print_llm_response(prompt):\n",
        "    response = client.chat.completions.create(\n",
        "        model=\"google/gemma-3n-E4B-it\",\n",
        "        # model=\"meta-llama/Llama-3.3-70B-Instruct-Turbo-Free\",\n",
        "        messages=[\n",
        "        {\n",
        "            \"role\": \"user\",\n",
        "            \"content\": prompt\n",
        "        }\n",
        "        ]\n",
        "    )\n",
        "    return response.choices[0].message.content"
      ],
      "metadata": {
        "id": "tgqxGUMyV9ym"
      },
      "execution_count": 3,
      "outputs": []
    },
    {
      "cell_type": "code",
      "execution_count": 4,
      "metadata": {
        "id": "1XHPSRFbKda-"
      },
      "outputs": [],
      "source": [
        "# فراخوانی یک تابع و یک کلاس (هنوز نمی‌دونیم چیه)\n",
        "# از ماژول دیسپلی که قراره چاپ خروجی مدل رو برامون زیباتر کنن\n",
        "# برنامه‌نویس‌های حرفه‌ای این‌ها رو برای ما کدنویسی کردن تا استفاه کنیم\n",
        "from IPython.display import display, HTML"
      ]
    },
    {
      "cell_type": "code",
      "source": [
        "# اینم یه تابع که دیگه هر بار کدهای خوندن فایل رو تکرار نکنی\n",
        "def read_journal(journal_file):\n",
        "    f = open(journal_file, \"r\")\n",
        "    journal = f.read()\n",
        "    f.close()\n",
        "    return journal"
      ],
      "metadata": {
        "id": "tf7pp0o6a476"
      },
      "execution_count": 5,
      "outputs": []
    },
    {
      "cell_type": "markdown",
      "metadata": {
        "id": "ap4iNC7aKdbB"
      },
      "source": [
        "## استفاه از مدل زبانی بزرگ برای پررنگ کردن اطلاعات مهم"
      ]
    },
    {
      "cell_type": "markdown",
      "metadata": {
        "id": "WVCQ12auKdbC"
      },
      "source": [
        "متن یادداشت شهر ریودوژانیرو داخل این فایل ذخیره شده:\n",
        "\n",
        "`rio_de_janeiro.txt`\n",
        "\n",
        "* این فایل رو به کمک این تابع بخون:\n",
        "\n",
        " `read_journal`\n"
      ]
    },
    {
      "cell_type": "code",
      "execution_count": 6,
      "metadata": {
        "id": "P2jwiTR5KdbD"
      },
      "outputs": [],
      "source": [
        "journal_rio_de_janeiro = read_journal(\"rio_de_janeiro.txt\")"
      ]
    },
    {
      "cell_type": "markdown",
      "metadata": {
        "id": "JuhmILW2KdbD"
      },
      "source": [
        "حالا بیا پرامپتی بنویسیم که هوش مصنوعی نام رستوران‌ها و غذای ویژه هر کدوم  (بهترین غذای پیشنهادی خودشون) رو برامون استخراج کنه."
      ]
    },
    {
      "cell_type": "code",
      "execution_count": null,
      "metadata": {
        "id": "wAcmvo3DKdbE",
        "outputId": "675ef44b-3b5f-4cc4-a80a-0eb16766d5fa",
        "colab": {
          "base_uri": "https://localhost:8080/"
        }
      },
      "outputs": [
        {
          "output_type": "stream",
          "name": "stdout",
          "text": [
            "\n",
            "با بررسی این یادداشت که توسط یک منتقد غذا نوشته شده،\n",
            "نام رستوران‌ها و بهترین غذاشون رو تعیین کن.\n",
            "نام هر رستوران رو هم بولد و هم پررنگ (نارنجی) بنویس.\n",
            "بهترین غذای هر رستوران رو هم بولد و پررنگ (آبی) بنویس.\n",
            "زبان خروجی همون انگلیسی باشه.\n",
            "خروجی رو به فرمت اچ تی ام ال و مناسب نمایش در دفترچه ژوپیتر بده.\n",
            "\n",
            "یادداشت منتقد:\n",
            "First up was Confeitaria Colombo, a legendary and picturesque café in central Rio. Known for its pastel de nata (custard tart), Colombo serves a delightful treat that is hard to beat. The crispy, flaky pastry filled with creamy, sweet custard was an excellent start to the day. The café's historic Belle Époque ambiance added an extra layer of charm.\n",
            "\n",
            "Next, I visited Fogo de Chão, a quintessential Brazilian steakhouse in Botafogo. Famous for its picanha (top sirloin), this churrascaria impressed with its perfectly grilled meat. The picanha was juicy, tender, and bursting with flavor, showcasing the high quality of Brazilian beef. The endless array of grilled meats served tableside made for a hearty and satisfying meal.\n",
            "\n",
            "For a more modern dining experience, I headed to Olympe in Lagoa. This Michelin-starred restaurant specializes in contemporary Brazilian cuisine. The highlight was their moqueca de caju (cashew nut stew). This rich and creamy stew, made from cashew nuts and complemented by fresh seafood and vegetables, was an exquisite dish in an elegant and refined setting.\n",
            "\n",
            "Finally, I concluded my culinary tour at Aprazível, renowned for its breathtaking views and farm-to-table approach. Their signature dish, galinhada (Brazilian chicken and rice), was outstanding. The tender and flavorful chicken, cooked with a mix of rice, vegetables, and spices, and served with farofa (toasted cassava flour), perfectly highlighted the fresh, locally sourced ingredients. The lush, garden-like setting of the restaurant provided a serene end to the culinary adventure.\n",
            "\n",
            "\n"
          ]
        }
      ],
      "source": [
        "prompt = f\"\"\"\n",
        "با بررسی این یادداشت که توسط یک منتقد غذا نوشته شده،\n",
        "نام رستوران‌ها و بهترین غذاشون رو تعیین کن.\n",
        "نام هر رستوران رو هم بولد و هم پررنگ (نارنجی) بنویس.\n",
        "بهترین غذای هر رستوران رو هم بولد و پررنگ (آبی) بنویس.\n",
        "زبان خروجی همون انگلیسی باشه.\n",
        "خروجی رو به فرمت اچ تی ام ال و مناسب نمایش در دفترچه ژوپیتر بده.\n",
        "\n",
        "یادداشت منتقد:\n",
        "{journal_rio_de_janeiro}\n",
        "\"\"\"\n",
        "\n",
        "print(prompt)"
      ]
    },
    {
      "cell_type": "markdown",
      "metadata": {
        "id": "OE70gJv0KdbF"
      },
      "source": [
        "خب! بیا حالا این پرامپت رو بفرستیم برای هوش مصنوعی و پاسخش رو به کمک تابع پرینت پایتون چاپ کنیم."
      ]
    },
    {
      "cell_type": "code",
      "execution_count": null,
      "metadata": {
        "id": "H71Ivj8eKdbG",
        "outputId": "3800a122-1fba-44e1-b1f2-fe9a1e9ddda9",
        "colab": {
          "base_uri": "https://localhost:8080/"
        }
      },
      "outputs": [
        {
          "output_type": "stream",
          "name": "stdout",
          "text": [
            "```html\n",
            "<!DOCTYPE html>\n",
            "<html>\n",
            "<head>\n",
            "<title>Restaurant Recommendations</title>\n",
            "</head>\n",
            "<body>\n",
            "\n",
            "<h1>Restaurant Recommendations</h1>\n",
            "\n",
            "<p>Here's a summary of the restaurants mentioned in the review and their standout dishes:</p>\n",
            "\n",
            "<ul>\n",
            "  <li><b><font color=\"darkorange\">Confeitaria Colombo</font></b> - Known for its <b><font color=\"blue\">Pastel de Nata (Custard Tart)</font></b>.  A delightful treat with crispy pastry and creamy custard.</li>\n",
            "  <li><b><font color=\"darkorange\">Fogo de Chão</font></b> - Famous for its <b><font color=\"blue\">Picanha (Top Sirloin)</font></b>. Perfectly grilled, juicy, and flavorful Brazilian beef.</li>\n",
            "  <li><b><font color=\"darkorange\">Olympe</font></b> - Specializes in contemporary Brazilian cuisine, with the <b><font color=\"blue\">Moqueca de Caju (Cashew Nut Stew)</font></b> as a highlight. A rich and creamy stew with seafood and vegetables.</li>\n",
            "  <li><b><font color=\"darkorange\">Aprazível</font></b> - Renowned for its farm-to-table approach, featuring <b><font color=\"blue\">Galinhada (Brazilian Chicken and Rice)</font></b>. Tender chicken cooked with rice, vegetables, and spices, served with farofa.</li>\n",
            "</ul>\n",
            "\n",
            "</body>\n",
            "</html>\n",
            "```\n"
          ]
        }
      ],
      "source": [
        "html_response = print_llm_response(prompt)\n",
        "print(html_response)"
      ]
    },
    {
      "cell_type": "markdown",
      "metadata": {
        "id": "b9mfqjbSKdbH"
      },
      "source": [
        "تابع پرینت متن خام دریافتی از هوش مصنوعی رو چاپ می‌کنه. این متن حاوی تگ‌های اچ‌تی‌ام‌ال هم هست که فقط تو مرورگرها تجزیه و نمایش داده می‌شن.\n",
        "اما خب ما از ماژول دیسپلی تو پیشنیازها کمک گرفتیم تا همین جا هم بتونیم داخل این دفترچه ژوپیتر این تگ‌ها رو تجزیه و قابل نمایش کنیم."
      ]
    },
    {
      "cell_type": "code",
      "execution_count": null,
      "metadata": {
        "id": "x3U3zgNwKdbH",
        "outputId": "5a1ef591-f27d-49b1-ceed-6e5575843f23",
        "colab": {
          "base_uri": "https://localhost:8080/",
          "height": 245
        }
      },
      "outputs": [
        {
          "output_type": "display_data",
          "data": {
            "text/plain": [
              "<IPython.core.display.HTML object>"
            ],
            "text/html": [
              "```html\n",
              "<!DOCTYPE html>\n",
              "<html>\n",
              "<head>\n",
              "<title>Restaurant Recommendations</title>\n",
              "</head>\n",
              "<body>\n",
              "\n",
              "<h1>Restaurant Recommendations</h1>\n",
              "\n",
              "<p>Here's a summary of the restaurants mentioned in the review and their standout dishes:</p>\n",
              "\n",
              "<ul>\n",
              "  <li><b><font color=\"darkorange\">Confeitaria Colombo</font></b> - Known for its <b><font color=\"blue\">Pastel de Nata (Custard Tart)</font></b>.  A delightful treat with crispy pastry and creamy custard.</li>\n",
              "  <li><b><font color=\"darkorange\">Fogo de Chão</font></b> - Famous for its <b><font color=\"blue\">Picanha (Top Sirloin)</font></b>. Perfectly grilled, juicy, and flavorful Brazilian beef.</li>\n",
              "  <li><b><font color=\"darkorange\">Olympe</font></b> - Specializes in contemporary Brazilian cuisine, with the <b><font color=\"blue\">Moqueca de Caju (Cashew Nut Stew)</font></b> as a highlight. A rich and creamy stew with seafood and vegetables.</li>\n",
              "  <li><b><font color=\"darkorange\">Aprazível</font></b> - Renowned for its farm-to-table approach, featuring <b><font color=\"blue\">Galinhada (Brazilian Chicken and Rice)</font></b>. Tender chicken cooked with rice, vegetables, and spices, served with farofa.</li>\n",
              "</ul>\n",
              "\n",
              "</body>\n",
              "</html>\n",
              "```"
            ]
          },
          "metadata": {}
        }
      ],
      "source": [
        "display(HTML(html_response))"
      ]
    },
    {
      "cell_type": "markdown",
      "metadata": {
        "id": "OwKlGwl2KdbI"
      },
      "source": [
        "حالا همین مراحل رو با یادداشت توکیو تکرار کن."
      ]
    },
    {
      "cell_type": "code",
      "execution_count": null,
      "metadata": {
        "id": "2AEAIkzFKdbI",
        "outputId": "d2f779bf-821d-4038-f2fb-e29ba6ce944d",
        "colab": {
          "base_uri": "https://localhost:8080/",
          "height": 600
        }
      },
      "outputs": [
        {
          "output_type": "display_data",
          "data": {
            "text/plain": [
              "<IPython.core.display.HTML object>"
            ],
            "text/html": [
              "```html\n",
              "<!DOCTYPE html>\n",
              "<html>\n",
              "<head>\n",
              "<title>Restaurant Recommendations</title>\n",
              "</head>\n",
              "<body>\n",
              "\n",
              "<h1>Tokyo Restaurant Recommendations</h1>\n",
              "\n",
              "<ul>\n",
              "  <li>\n",
              "    <strong><span style=\"color:orange;\">Sukiyabashi Jiro</span></strong>\n",
              "    <ul>\n",
              "      <li>Location: Ginza</li>\n",
              "      <li>Dish: <span style=\"color:blue;\">Omakase sushi</span></li>\n",
              "      <li>Highlight: Impeccably crafted sushi made by the legendary Jiro Ono. Each piece is a masterclass in balance and flavor.</li>\n",
              "    </ul>\n",
              "  </li>\n",
              "  <li>\n",
              "    <strong><span style=\"color:orange;\">Ichiran Ramen</span></strong>\n",
              "    <ul>\n",
              "      <li>Location: Shibuya</li>\n",
              "      <li>Dish: <span style=\"color:blue;\">Tonkotsu ramen</span></li>\n",
              "      <li>Highlight: A personal ramen booth for focused, uninterrupted enjoyment. Rich, creamy broth with perfectly cooked noodles.</li>\n",
              "    </ul>\n",
              "  </li>\n",
              "  <li>\n",
              "    <strong><span style=\"color:orange;\">Tsukiji Outer Market</span></strong>\n",
              "    <ul>\n",
              "      <li>Location: Tsukiji</li>\n",
              "      <li>Dish: <span style=\"color:blue;\">Fresh sashimi and street food</span></li>\n",
              "      <li>Highlight: Vibrant market atmosphere. Indulge in ultra-fresh sashimi, grilled seafood, and other Japanese street food delights.</li>\n",
              "    </ul>\n",
              "  </li>\n",
              "  <li>\n",
              "    <strong><span style=\"color:orange;\">Narisawa</span></strong>\n",
              "    <ul>\n",
              "      <li>Location: Minato</li>\n",
              "      <li>Dish: <span style=\"color:blue;\">Innovative tasting menu</span></li>\n",
              "      <li>Highlight: A fusion of French and Japanese techniques. Creative dishes with an emphasis on sustainability and local ingredients.</li>\n",
              "    </ul>\n",
              "  </li>\n",
              "  <li>\n",
              "    <strong><span style=\"color:orange;\">Ginza Kojyu</span></strong>\n",
              "    <ul>\n",
              "      <li>Location: Ginza</li>\n",
              "      <li>Dish: <span style=\"color:blue;\">Kaiseki (traditional multi-course meal)</span></li>\n",
              "      <li>Highlight: Exquisite presentation and meticulous preparation. A journey through seasonal Japanese flavors.</li>\n",
              "    </ul>\n",
              "  </li>\n",
              "  <li>\n",
              "    <strong><span style=\"color:orange;\">Akasaka Kikunoi</span></strong>\n",
              "    <ul>\n",
              "      <li>Location: Akasaka</li>\n",
              "      <li>Dish: <span style=\"color:blue;\">Kaiseki</span></li>\n",
              "      <li>Highlight: Elegant and serene setting. Seasonal ingredients transformed into artful, delicious courses.</li>\n",
              "    </ul>\n",
              "  </li>\n",
              "</ul>\n",
              "\n",
              "</body>\n",
              "</html>\n",
              "```"
            ]
          },
          "metadata": {}
        }
      ],
      "source": [
        "journal_tokyo = read_journal(\"tokyo.txt\")\n",
        "\n",
        "prompt = f\"\"\"\n",
        "با بررسی این یادداشت که توسط یک منتقد غذا نوشته شده،\n",
        "نام رستوران‌ها و بهترین غذاشون رو تعیین کن.\n",
        "نام هر رستوران رو هم بولد و هم پررنگ (نارنجی) بنویس.\n",
        "بهترین غذای هر رستوران رو هم بولد و پررنگ (آبی) بنویس.\n",
        "زبان خروجی همون انگلیسی باشه.\n",
        "\n",
        "خروجی رو به فرمت اچ تی ام ال و مناسب نمایش در دفترچه ژوپیتر بده.\n",
        "\n",
        "یادداشت منتقد:\n",
        "{journal_tokyo}\n",
        "\"\"\"\n",
        "\n",
        "html_response = print_llm_response(prompt)\n",
        "display(HTML(html_response))"
      ]
    },
    {
      "cell_type": "markdown",
      "metadata": {
        "id": "8qDWxHQ0KdbI"
      },
      "source": [
        "خودت این دو یادداشت رو باز کن! ساختارشون با هم متفاوت هست نه؟\n",
        "\n",
        "این دو یادداشت ساختار متفاوتی دارن ولی تو  با کد و پرامپت یکسانی موفق به واکاوی هر دو شدی.\n"
      ]
    },
    {
      "cell_type": "markdown",
      "metadata": {
        "id": "2TJUse4BKdbI"
      },
      "source": [
        "## دست‌ورزی\n",
        "\n",
        "با تغییر پرامپت‌های بالا و مثلا ایجاد سلول‌های تازه این پایین، تلاش کن اطلاعات متفاوتی رو استخراج و اضافه کنی:\n",
        "\n",
        "- اگه دسری هست با رنگ سبز اضافه بشه\n",
        "- کنار نام مواد غذایی اموجی مرتبط اضافه کنه"
      ]
    },
    {
      "cell_type": "code",
      "source": [
        "journal_tokyo = read_journal(\"tokyo.txt\")\n",
        "\n",
        "prompt = f\"\"\"\n",
        "با بررسی این یادداشت که توسط یک منتقد غذا نوشته شده،\n",
        "اطلاعات زیر را استخراج و سازماندهی کن:\n",
        "\n",
        "1. نام رستوران‌ها و بهترین غذاهای اصلی شان\n",
        "2. دسرهای خاصی که ذکر شده‌اند\n",
        "3. مواد غذایی و نوشیدنی‌های خاص با اموجی‌های مرتبط\n",
        "\n",
        "دستورالعمل‌های فرمت‌بندی:\n",
        "- نام هر رستوران: <span style=\"font-weight: bold; color: orange; font-size: 18px;\">نام رستوران</span>\n",
        "- بهترین غذاها: <span style=\"font-weight: bold; color: blue;\">غذا 🍽️</span>\n",
        "- دسرها: <span style=\"font-weight: bold; color: green;\">دسر 🍰</span>\n",
        "- مواد غذایی با اموجی: برنج 🍚، گوشت 🥩، ماهی 🐟، سبزیجات 🥬، نودلز 🍜، سوشی 🍣، کباب 🍢، چای 🍵، قهوه ☕\n",
        "\n",
        "خروجی را به فرمت HTML و مناسب نمایش در دفترچه ژوپیتر بده.\n",
        "اگر اطلاعاتی وجود نداشت، \"اطلاعات موجود نیست\" بنویس.\n",
        "\n",
        "یادداشت منتقد:\n",
        "{journal_tokyo}\n",
        "\"\"\"\n",
        "\n",
        "html_response = print_llm_response(prompt)\n",
        "display(HTML(html_response))"
      ],
      "metadata": {
        "id": "bQGjtcoW_qpD",
        "colab": {
          "base_uri": "https://localhost:8080/",
          "height": 523
        },
        "outputId": "26e5c0fe-d457-4a9f-da38-3297d11bb8af"
      },
      "execution_count": null,
      "outputs": [
        {
          "output_type": "display_data",
          "data": {
            "text/plain": [
              "<IPython.core.display.HTML object>"
            ],
            "text/html": [
              "```html\n",
              "<!DOCTYPE html>\n",
              "<html>\n",
              "<head>\n",
              "<title>رستوران‌های توکیو</title>\n",
              "</head>\n",
              "<body>\n",
              "\n",
              "<h2>رستوران‌های توکیو و غذاهای ویژه</h2>\n",
              "\n",
              "<span style=\"font-weight: bold; color: orange; font-size: 18px;\">Sukiyabashi Jiro</span>\n",
              "<span style=\"font-weight: bold; color: blue;\">Omakase sushi 🍽️</span>\n",
              "<p>Highlight: Impeccably crafted sushi made by the legendary Jiro Ono. Each piece is a masterclass in balance and flavor.</p>\n",
              "\n",
              "<span style=\"font-weight: bold; color: blue;\">Ichiran Ramen 🍜</span>\n",
              "<span style=\"font-weight: bold; color: blue;\">Tonkotsu ramen 🍜</span>\n",
              "<p>Highlight: A personal ramen booth for focused, uninterrupted enjoyment. Rich, creamy broth with perfectly cooked noodles.</p>\n",
              "\n",
              "<span style=\"font-weight: bold; color: blue;\">Tsukiji Outer Market</span>\n",
              "<span style=\"font-weight: bold; color: blue;\">Fresh sashimi and street food 🍣🍢</span>\n",
              "<p>Highlight: Vibrant market atmosphere. Indulge in ultra-fresh sashimi, grilled seafood, and other Japanese street food delights.</p>\n",
              "\n",
              "<span style=\"font-weight: bold; color: blue;\">Narisawa</span>\n",
              "<span style=\"font-weight: bold; color: blue;\">Innovative tasting menu 🍽️</span>\n",
              "<p>Highlight: A fusion of French and Japanese techniques. Creative dishes with an emphasis on sustainability and local ingredients.</p>\n",
              "\n",
              "<span style=\"font-weight: bold; color: blue;\">Ginza Kojyu</span>\n",
              "<span style=\"font-weight: bold; color: blue;\">Kaiseki 🍽️</span>\n",
              "<p>Highlight: Exquisite presentation and meticulous preparation. A journey through seasonal Japanese flavors.</p>\n",
              "\n",
              "<span style=\"font-weight: bold; color: blue;\">Akasaka Kikunoi</span>\n",
              "<span style=\"font-weight: bold; color: blue;\">Kaiseki 🍽️</span>\n",
              "<p>Highlight: Elegant and serene setting. Seasonal ingredients transformed into artful, delicious courses.</p>\n",
              "\n",
              "<br>\n",
              "\n",
              "<span style=\"font-weight: bold; color: green; font-size: 18px;\">دسر 🍰</span>\n",
              "<p>اطلاعات موجود نیست</p>\n",
              "\n",
              "<br>\n",
              "\n",
              "<span style=\"font-weight: bold; color: orange; font-size: 18px;\">مواد غذایی</span>\n",
              "<p>🍚 برنج، 🥩 گوشت، 🐟 ماهی، 🥬 سبزیجات، 🍜 نودلز، 🍣 سوشی، 🍢 کباب، 🍵 چای، ☕ قهوه</p>\n",
              "\n",
              "</body>\n",
              "</html>\n",
              "```"
            ]
          },
          "metadata": {}
        }
      ]
    },
    {
      "cell_type": "markdown",
      "metadata": {
        "id": "QcuJM9d2KdbJ"
      },
      "source": [
        "## ساخت لیست رستوران‌ها و بهترین غذاشون"
      ]
    },
    {
      "cell_type": "markdown",
      "metadata": {
        "id": "wR4yFLhRKdbJ"
      },
      "source": [
        "حالا پرامپتی بسازیم که اطلاعات استخراج شده رو به جای نمایش و رنگ‌آمیزی، به صورت لیست داخل یک فایل ذخیره کنه.\n",
        "\n",
        "هست مخفف CSV فایلی که می‌سازیم یک فایل\n",
        "\n",
        "**Comma Separated Value**"
      ]
    },
    {
      "cell_type": "code",
      "execution_count": 12,
      "metadata": {
        "id": "BuLPwR4UKdbJ",
        "outputId": "ce4ab683-2234-48b7-a51a-068bc5961591",
        "colab": {
          "base_uri": "https://localhost:8080/"
        }
      },
      "outputs": [
        {
          "output_type": "stream",
          "name": "stdout",
          "text": [
            "Restaurant,Dish\n",
            "Confeitaria Colombo,pastel de nata\n",
            "Fogo de Chão,picanha\n",
            "Olympe,moqueca de caju\n",
            "Aprazível,galinhada\n",
            "\n"
          ]
        }
      ],
      "source": [
        "# پرامپت رو انگلیسی بنویسم چون فرمت خروجی در مورد این پرامپت\n",
        "# با پرامپت انگلیسی ساده تر منتقل میشه\n",
        "prompt = f\"\"\"Please extract a comprehensive list of the restaurants\n",
        "and their respective best dishes mentioned in the following journal entry.\n",
        "Ensure that each restaurant name is accurately identified and listed.\n",
        "\n",
        "Provide your answer in CSV format, ready to save.\n",
        "Exclude the \"```csv\" declaration, don't add spaces after the comma, include column headers.\n",
        "\n",
        "Format:\n",
        "Restaurant, Dish\n",
        "Res_1, Dsh_1\n",
        "...\n",
        "\n",
        "Journal entry:\n",
        "{journal_rio_de_janeiro}\n",
        "\"\"\"\n",
        "\n",
        "restaurants_csv_ready_string = print_llm_response(prompt)\n",
        "\n",
        "print(restaurants_csv_ready_string)"
      ]
    },
    {
      "cell_type": "markdown",
      "metadata": {
        "id": "ACrOi2muKdbJ"
      },
      "source": [
        "حالا خروجی ساختارمندی داریم. خط اول سرستون‌هاست. خط های بعدی هر خط شامل نام یک رستوران و بهترین غذاش.\n",
        "\n",
        "دقت کن که داده ها چطور با کاما جدا شدن."
      ]
    },
    {
      "cell_type": "markdown",
      "metadata": {
        "id": "v-Zzd5omKdbK"
      },
      "source": [
        "## حلقه تکرار برای چند یادداشت"
      ]
    },
    {
      "cell_type": "markdown",
      "metadata": {
        "id": "TL57LiISKdbK"
      },
      "source": [
        "حالا که منطق کار دستمون اومد از حلقه فور برای استخراج اطلاعات همه فایل‌ها استفاده کنیم."
      ]
    },
    {
      "cell_type": "code",
      "execution_count": 11,
      "metadata": {
        "id": "ohojtgGCKdbK",
        "outputId": "ef66c2f2-b820-4d0c-a0a2-cf3014ee434a",
        "colab": {
          "base_uri": "https://localhost:8080/"
        }
      },
      "outputs": [
        {
          "output_type": "stream",
          "name": "stdout",
          "text": [
            "cape_town.txt\n",
            "Restaurant,Dish\n",
            "The Test Kitchen,Pickled Fish Tacos\n",
            "La Colombe,Tuna La Colombe\n",
            "Harbour House,Grilled Kingklip\n",
            "The Pot Luck Club,Beef Tataki\n",
            "\n",
            "istanbul.txt\n",
            "Restaurant,Dish\n",
            "Çiya Sofrası,Kuzu Tandir\n",
            "Karaköy Lokantası,Midye Dolma\n",
            "Asitane,Mutancana\n",
            "Mikla,Lamb Rump\n",
            "\n",
            "\n",
            "new_york.txt\n",
            "Restaurant,Dish\n",
            "Katz's Delicatessen,pastrami on rye\n",
            "Peter Luger Steak House,porterhouse steak\n",
            "Chelsea Market,Lobster Roll\n",
            "Gramercy Tavern,roasted chicken with seasonal vegetables\n",
            "\n",
            "\n",
            "paris.txt\n",
            "Restaurant,Dish\n",
            "Le Comptoir du Relais,Coq au Vin\n",
            "Le Jules Verne,Filet de Boeuf\n",
            "Pierre Hermé,Ispahan\n",
            "L'Ambroisie,Turbot with Artichokes and Truffle\n",
            "\n",
            "rio_de_janeiro.txt\n",
            "Restaurant,Dish\n",
            "Confeitaria Colombo,pastel de nata\n",
            "Fogo de Chão,picanha\n",
            "Olympe,moqueca de caju\n",
            "Aprazível,galinhada\n",
            "\n",
            "\n",
            "sydney.txt\n",
            "Restaurant,Dish\n",
            "Saint Peter,Murray Cod\n",
            "Billy Kwong,Crispy Skin Duck with Davidson’s Plum Sauce\n",
            "The Lord Nelson Brewery Hotel,Roast Lamb\n",
            "Vic's Meat Market,BBQ Beef Brisket\n",
            "Bennelong,Sydney Rock Oysters\n",
            "\n",
            "\n",
            "tokyo.txt\n",
            "Restaurant,Dish\n",
            "Sukiyabashi Jiro,Omakase sushi\n",
            "Ichiran Ramen,Tonkotsu ramen\n",
            "Tsukiji Outer Market,Fresh sashimi and street food\n",
            "Narisawa,Innovative tasting menu\n",
            "Ginza Kojyu,Kaiseki (traditional multi-course meal)\n",
            "Akasaka Kikunoi,Kaiseki\n",
            "\n",
            "\n"
          ]
        }
      ],
      "source": [
        "files = [\"cape_town.txt\", \"istanbul.txt\", \"new_york.txt\", \"paris.txt\",\n",
        "          \"rio_de_janeiro.txt\", \"sydney.txt\", \"tokyo.txt\"]\n",
        "\n",
        "for file in files:\n",
        "    #باز کردن فایل یادداشت و خوندن محتواش\n",
        "    journal_entry = read_journal(file)\n",
        "\n",
        "    # (csv) استخراج اطلاعات و نمایش به فرمت جدا با کاما\n",
        "    prompt =  f\"\"\"Please extract a comprehensive list of the restaurants\n",
        "    and their respective best dishes mentioned in the following journal entry.\n",
        "\n",
        "    Ensure that each restaurant name is accurately identified and listed.\n",
        "    Provide your answer in CSV format, ready to save.\n",
        "\n",
        "    Exclude the \"```csv\" declaration, don't add spaces after the\n",
        "    comma, include column headers.\n",
        "\n",
        "    Format:\n",
        "    Restaurant, Dish\n",
        "    Res_1, Dsh_1\n",
        "    ...\n",
        "\n",
        "    Journal entry:\n",
        "    {journal_entry}\n",
        "    \"\"\"\n",
        "\n",
        "    print(file)\n",
        "    print(print_llm_response(prompt))\n",
        "    print(\"\") # چاپ یک خط خالی برای خوانایی"
      ]
    },
    {
      "cell_type": "markdown",
      "metadata": {
        "id": "FeleENP7KdbK"
      },
      "source": [
        "## دست‌ورزی\n",
        "حلقه بالا رو طوری بازنویسی کن این پایین که اطلاعات بیشتری استخراج کنی.\n",
        "\n",
        " مثلا نام محله ای که رستوران واقع شده یا نام تک تک غذاهای هر رستوران و مواد تشکیل دهنده اون‌ها و اگه جایی اطلاعاتی درج نشده کلمه\n",
        "\n",
        " NaN\n",
        "\n",
        "درج بشه."
      ]
    },
    {
      "cell_type": "code",
      "source": [
        "#دست ها رو گلی کن\n",
        "files = [\"cape_town.txt\", \"istanbul.txt\", \"new_york.txt\", \"paris.txt\",\n",
        "          \"rio_de_janeiro.txt\", \"sydney.txt\", \"tokyo.txt\"]\n",
        "\n",
        "for file in files:\n",
        "    #باز کردن فایل یادداشت و خوندن محتواش\n",
        "    journal_entry = read_journal(file)\n",
        "\n",
        "    # استخراج اطلاعات جامع و نمایش به فرمت CSV\n",
        "    prompt =  f\"\"\"Please extract comprehensive information about restaurants\n",
        "    mentioned in the following journal entry.\n",
        "\n",
        "    For each restaurant, identify:\n",
        "    1. Restaurant name\n",
        "    2. Neighborhood/location where the restaurant is situated\n",
        "    3. Individual dish names served at each restaurant\n",
        "    4. Main ingredients/components of each dish\n",
        "\n",
        "    Provide your answer in CSV format with the following columns:\n",
        "    Restaurant,Neighborhood,Dish,Ingredients\n",
        "\n",
        "    Important instructions:\n",
        "    - Exclude the \"```csv\" declaration\n",
        "    - Don't add spaces after commas\n",
        "    - Include column headers\n",
        "    - If any information is not available, use \"NaN\" instead of leaving it blank\n",
        "    - If a restaurant has multiple dishes, create separate rows for each dish\n",
        "    - If a dish has multiple ingredients, separate them with semicolons (;)\n",
        "\n",
        "    Example format:\n",
        "    Restaurant,Neighborhood,Dish,Ingredients\n",
        "    Sushi Master,Downtown,Sushi Roll,rice;fish;seaweed\n",
        "    Sushi Master,Downtown,Sashimi,fish;soy sauce\n",
        "    Pizza Palace,NaN,Margarita Pizza,NaN\n",
        "\n",
        "    Journal entry:\n",
        "    {journal_entry}\n",
        "    \"\"\"\n",
        "\n",
        "    print(file)\n",
        "    print(print_llm_response(prompt))\n",
        "    print(\"\") # چاپ یک خط خالی برای خوانایی"
      ],
      "metadata": {
        "id": "GYhiToMvAPUv",
        "colab": {
          "base_uri": "https://localhost:8080/"
        },
        "outputId": "389955d4-f29a-478e-9fe0-a6bf3ba3e4ac"
      },
      "execution_count": null,
      "outputs": [
        {
          "output_type": "stream",
          "name": "stdout",
          "text": [
            "cape_town.txt\n",
            "Restaurant,Neighborhood,Dish,Ingredients\n",
            "The Test Kitchen,Woodstock,Pickled Fish Tacos,fish;taco;salsa\n",
            "La Colombe,Constantia,Tuna La Colombe,tuna;ponzu dressing;citrus\n",
            "Harbour House,V&A Waterfront,Grilled Kingklip,kingklip;roasted vegetables\n",
            "The Pot Luck Club,Woodstock,Beef Tataki,beef;soy dressing;wasabi\n",
            "\n",
            "\n",
            "istanbul.txt\n",
            "Restaurant,Neighborhood,Dish,Ingredients\n",
            "Çiya Sofrası,Kadıköy,Kuzu Tandir,lamb;spices\n",
            "Karaköy Lokantası,Karaköy,Midye Dolma,mussels;rice;pine nuts;currants\n",
            "Asitane,Edirnekapı,Mutancana,lamb;prunes;apricots;almonds\n",
            "Mikla,NaN,Lamb Rump,lamb;local vegetables\n",
            "\n",
            "\n",
            "new_york.txt\n",
            "Restaurant,Neighborhood,Dish,Ingredients\n",
            "Katz's Delicatessen,Lower East Side,Pastrami on Rye,pastrami;rye bread;mustard\n",
            "Peter Luger Steak House,Williamsburg,Brooklyn,Porterhouse Steak,steak;butter;salt;pepper\n",
            "Chelsea Market,Meatpacking District,Lobster Roll,lobster;mayo;bun\n",
            "Gramercy Tavern,NaN,Roasted Chicken with Seasonal Vegetables,chicken;vegetables;salt;pepper\n",
            "\n",
            "\n",
            "paris.txt\n",
            "Restaurant,Neighborhood,Dish,Ingredients\n",
            "Le Comptoir du Relais,Saint-Germain-des-Prés,Coq au Vin,chicken;red wine;mushrooms;onions\n",
            "Le Jules Verne,Eiffel Tower,Filet de Boeuf,beef fillet;truffle sauce\n",
            "Pierre Hermé,NaN,Ispahan,rose;lychee;raspberry\n",
            "L'Ambroisie,Place des Vosges,Turbot with Artichokes and Truffle,turbot;artichokes;truffle\n",
            "\n",
            "rio_de_janeiro.txt\n",
            "Restaurant,Neighborhood,Dish,Ingredients\n",
            "Confeitaria Colombo,central Rio,Pastel de Nata,pastry;custard\n",
            "Fogo de Chão,Botafogo,Picanha,beef\n",
            "Olympe,Lagoa,Moqueca de Caju,cashew nuts;seafood;vegetables\n",
            "Aprazível,NaN,Galinhada,chicken;rice;vegetables;spices;farofa\n",
            "\n",
            "\n",
            "sydney.txt\n",
            "Restaurant,Neighborhood,Dish,Ingredients\n",
            "Saint Peter,Paddington,Murray Cod,Murray Cod;seasonal vegetables\n",
            "Billy Kwong,Potts Point,Crispy Skin Duck with Davidson’s Plum Sauce,duck;Davidson’s plum sauce\n",
            "The Lord Nelson Brewery Hotel,The Rocks,Roast Lamb,lamb;root vegetables;gravy\n",
            "Vic's Meat Market,Sydney Fish Market,BBQ Beef Brisket,beef brisket;barbecue sauce\n",
            "Bennelong,NaN,Sydney Rock Oysters,Sydney Rock Oysters;vinaigrette\n",
            "\n",
            "tokyo.txt\n",
            "Restaurant,Neighborhood,Dish,Ingredients\n",
            "Sukiyabashi Jiro,Ginza,Omakase sushi,fish;rice;seaweed\n",
            "Ichiran Ramen,Shibuya,Tonkotsu ramen,broth;noodles;pork;tare\n",
            "Tsukiji Outer Market,Tsukiji,Fresh sashimi,fish;seaweed;soy sauce\n",
            "Tsukiji Outer Market,Tsukiji,Grilled seafood,seafood;salt;soy sauce\n",
            "Narisawa,Minato,Innovative tasting menu,NaN\n",
            "Ginza Kojyu,Ginza,Kaiseki,seasonal vegetables;fish;rice;dashi\n",
            "Akasaka Kikunoi,Akasaka,Kaiseki,seasonal vegetables;fish;rice;dashi\n",
            "\n",
            "\n"
          ]
        }
      ]
    },
    {
      "cell_type": "markdown",
      "metadata": {
        "id": "mbepVuscKdbK"
      },
      "source": [
        "## ایجاد فایل"
      ]
    },
    {
      "cell_type": "markdown",
      "metadata": {
        "id": "L7ctri5xKdbK"
      },
      "source": [
        "حالا بیا اطلاعات دریافتی از مدل زبانی رو به صورت فایل ذخیره کنیم.\n",
        "\n",
        "\n",
        "برای یادآوری پاسخ اچ تی ام الی رو یادته که بالا گرفتیم."
      ]
    },
    {
      "cell_type": "code",
      "source": [
        "display(HTML(html_response))"
      ],
      "metadata": {
        "id": "RwBrn0R60WeC",
        "outputId": "02bf6fe5-5e7d-4e92-ac3b-3d59a1fb3ab6",
        "colab": {
          "base_uri": "https://localhost:8080/",
          "height": 523
        }
      },
      "execution_count": null,
      "outputs": [
        {
          "output_type": "display_data",
          "data": {
            "text/plain": [
              "<IPython.core.display.HTML object>"
            ],
            "text/html": [
              "```html\n",
              "<!DOCTYPE html>\n",
              "<html>\n",
              "<head>\n",
              "<title>رستوران‌های توکیو</title>\n",
              "</head>\n",
              "<body>\n",
              "\n",
              "<h2>رستوران‌های توکیو و غذاهای ویژه</h2>\n",
              "\n",
              "<span style=\"font-weight: bold; color: orange; font-size: 18px;\">Sukiyabashi Jiro</span>\n",
              "<span style=\"font-weight: bold; color: blue;\">Omakase sushi 🍽️</span>\n",
              "<p>Highlight: Impeccably crafted sushi made by the legendary Jiro Ono. Each piece is a masterclass in balance and flavor.</p>\n",
              "\n",
              "<span style=\"font-weight: bold; color: blue;\">Ichiran Ramen 🍜</span>\n",
              "<span style=\"font-weight: bold; color: blue;\">Tonkotsu ramen 🍜</span>\n",
              "<p>Highlight: A personal ramen booth for focused, uninterrupted enjoyment. Rich, creamy broth with perfectly cooked noodles.</p>\n",
              "\n",
              "<span style=\"font-weight: bold; color: blue;\">Tsukiji Outer Market</span>\n",
              "<span style=\"font-weight: bold; color: blue;\">Fresh sashimi and street food 🍣🍢</span>\n",
              "<p>Highlight: Vibrant market atmosphere. Indulge in ultra-fresh sashimi, grilled seafood, and other Japanese street food delights.</p>\n",
              "\n",
              "<span style=\"font-weight: bold; color: blue;\">Narisawa</span>\n",
              "<span style=\"font-weight: bold; color: blue;\">Innovative tasting menu 🍽️</span>\n",
              "<p>Highlight: A fusion of French and Japanese techniques. Creative dishes with an emphasis on sustainability and local ingredients.</p>\n",
              "\n",
              "<span style=\"font-weight: bold; color: blue;\">Ginza Kojyu</span>\n",
              "<span style=\"font-weight: bold; color: blue;\">Kaiseki 🍽️</span>\n",
              "<p>Highlight: Exquisite presentation and meticulous preparation. A journey through seasonal Japanese flavors.</p>\n",
              "\n",
              "<span style=\"font-weight: bold; color: blue;\">Akasaka Kikunoi</span>\n",
              "<span style=\"font-weight: bold; color: blue;\">Kaiseki 🍽️</span>\n",
              "<p>Highlight: Elegant and serene setting. Seasonal ingredients transformed into artful, delicious courses.</p>\n",
              "\n",
              "<br>\n",
              "\n",
              "<span style=\"font-weight: bold; color: green; font-size: 18px;\">دسر 🍰</span>\n",
              "<p>اطلاعات موجود نیست</p>\n",
              "\n",
              "<br>\n",
              "\n",
              "<span style=\"font-weight: bold; color: orange; font-size: 18px;\">مواد غذایی</span>\n",
              "<p>🍚 برنج، 🥩 گوشت، 🐟 ماهی، 🥬 سبزیجات، 🍜 نودلز، 🍣 سوشی، 🍢 کباب، 🍵 چای، ☕ قهوه</p>\n",
              "\n",
              "</body>\n",
              "</html>\n",
              "```"
            ]
          },
          "metadata": {}
        }
      ]
    },
    {
      "cell_type": "markdown",
      "metadata": {
        "id": "QZaknkKbKdbL"
      },
      "source": [
        "بیا اون رو داخل یک فایل اچ تی ام ال ذخیره کنیم."
      ]
    },
    {
      "cell_type": "code",
      "execution_count": null,
      "metadata": {
        "id": "ttsc1ntEKdbL"
      },
      "outputs": [],
      "source": [
        "f = open(\"highlighted_text2.html\", 'w')\n",
        "f.write(html_response)\n",
        "f.close()"
      ]
    },
    {
      "cell_type": "markdown",
      "metadata": {
        "id": "1A1ZdyqbKdbL"
      },
      "source": [
        "ببین این همون تابع اوپن هست ولی با این آرگومان\n",
        "\n",
        " `'w'`\n",
        "\n",
        " به جای آرگومان\n",
        "\n",
        "  `'r'`\n",
        "  \n",
        "  و بعد تابع\n",
        "\n",
        "   `f.write`\n",
        "   \n",
        "   به جای\n",
        "\n",
        " `f.read`\n",
        "\n",
        "که باعث شده به جای خوانش فایل در عمل ما نگارش فایل انجام بدیم."
      ]
    },
    {
      "cell_type": "markdown",
      "metadata": {
        "id": "A8EJLlthKdbM"
      },
      "source": [
        "<p style=\"background-color:#F5C780; padding:15px\"> 🤖 <b>از چت‌بات استفاده کن</b>:\n",
        "    <br><br>\n",
        "    این تکه کد رو خط به به خط برای من توضیح بده:\n",
        "    <br><br>f = open(\"highlighted_text.html\", 'w')\n",
        "    <br>f.write(html_response)\n",
        "    <br>f.close()\n",
        "</p>"
      ]
    },
    {
      "cell_type": "markdown",
      "metadata": {
        "id": "Qn7WXhUUKdbM"
      },
      "source": [
        "فایلی که ساختیم کجا رفت؟\n",
        "\n",
        "تو دفترچه می‌تونی پیداش کنی؟\n",
        "\n",
        "با قطع اتصال دفترچه فایلمون چی ‌میشه؟\n",
        "\n",
        "چطور برای همیشه داخل درایو گوگل ذخیره کنیم؟\n",
        " برا این سوال آخر یه تکه کد بگیریم از چت بات؟\n",
        " هستی؟"
      ]
    },
    {
      "cell_type": "markdown",
      "metadata": {
        "id": "VXnBpBSPKdbN"
      },
      "source": [
        "## تمرین بیشتر\n",
        "\n",
        "### تمرین ۱\n",
        "\n",
        "پرامپت پایین رو طوری اصلاح کن که یک فایل اچ تی ام ال بسازه که نام رستوران‌ها رو با رنگ سبز و نام محله اون ها رو با صورتی نمایش بده."
      ]
    },
    {
      "cell_type": "code",
      "execution_count": null,
      "metadata": {
        "id": "ChQPZ3FHKdbN"
      },
      "outputs": [],
      "source": [
        "journal_sydney = read_journal(\"sydney.txt\")\n",
        "\n",
        "# Modify the prompt below\n",
        "prompt = f\"\"\"\n",
        "Given the following journal entry from a food critic, identify the\n",
        "restaurants and their best dishes. Highlight and bold each restaurant\n",
        "(in orange) and best dish (in blue) within the original text.\n",
        "\n",
        "Provide the output as HTML suitable for display in a Jupyter notebook.\n",
        "\n",
        "Journal entry:\n",
        "{journal_tokyo}\n",
        "\"\"\"\n",
        "\n",
        "html_sydney = print_llm_response(prompt)\n",
        "display(HTML(html_sydney))"
      ]
    },
    {
      "cell_type": "code",
      "source": [
        "journal_sydney = read_journal(\"sydney.txt\")\n",
        "\n",
        "# Modified prompt\n",
        "prompt = f\"\"\"\n",
        "Given the following journal entry from a food critic, identify all the restaurant names and the neighborhood names mentioned in the text.\n",
        "\n",
        "Highlight and bold:\n",
        "- each restaurant name in <span style=\"color:#27ae60; font-weight:bold;\">\n",
        "- each neighborhood name in <span style=\"color:#e75480; font-weight:bold;\">\n",
        "\n",
        "Return the output as an HTML file suitable for display in a Jupyter notebook, with the original text preserved and the highlights applied as specified.\n",
        "\n",
        "Journal entry:\n",
        "{journal_sydney}\n",
        "\"\"\"\n",
        "\n",
        "\n",
        "html_sydney = print_llm_response(prompt)\n",
        "display(HTML(html_sydney))\n"
      ],
      "metadata": {
        "colab": {
          "base_uri": "https://localhost:8080/",
          "height": 348
        },
        "id": "f-ZPvSayqxpR",
        "outputId": "5020cf0d-429a-4548-d47d-6535b6da2117"
      },
      "execution_count": 8,
      "outputs": [
        {
          "output_type": "display_data",
          "data": {
            "text/plain": [
              "<IPython.core.display.HTML object>"
            ],
            "text/html": [
              "```html\n",
              "<html>\n",
              "<head>\n",
              "<title>Restaurant and Neighborhood Identification</title>\n",
              "</head>\n",
              "<body>\n",
              "\n",
              "<p>My culinary adventure began at <span style=\"color:#27ae60; font-weight:bold;\">Saint Peter</span>, a renowned seafood restaurant in <span style=\"color:#e75480; font-weight:bold;\">Paddington</span>. This place is a temple to Australian seafood, and the \"Murray Cod\" was a revelation. The fish, sourced from the Murray River, was perfectly cooked, with a crispy skin and tender, flaky flesh. It was served with a simple yet flavorful accompaniment of seasonal vegetables, allowing the quality of the fish to shine. The restaurant's dedication to sustainability and nose-to-tail seafood cooking added an educational aspect to the delicious meal.</p>\n",
              "\n",
              "<p>Next, I visited <span style=\"color:#27ae60; font-weight:bold;\">Billy Kwong</span> in <span style=\"color:#e75480; font-weight:bold;\">Potts Point</span>, where celebrated chef Kylie Kwong puts a unique spin on modern Australian cuisine using native ingredients. The standout dish here was the \"Crispy Skin Duck with Davidson’s Plum Sauce.\" The duck was cooked to perfection, with a rich, flavorful meat and delightfully crispy skin, complemented by the tart and slightly sweet Davidson’s plum sauce. This dish was a perfect example of how traditional recipes can be elevated with local, indigenous ingredients, creating something both familiar and new.</p>\n",
              "\n",
              "<p>In search of a true Australian pub experience, I headed to <span style=\"color:#27ae60; font-weight:bold;\">The Lord Nelson Brewery Hotel</span> in <span style=\"color:#e75480; font-weight:bold;\">The Rocks</span>. This historic pub serves up hearty, classic Australian fare, and the \"Roast Lamb\" was exactly what I was craving. The lamb, roasted to tender perfection, was served with a medley of root vegetables and a rich gravy, making for a comforting and satisfying meal. Paired with one of their house-brewed ales, it was a quintessential Aussie pub experience that I would highly recommend.</p>\n",
              "\n",
              "<p>I couldn't miss out on trying some of the famous Australian barbecue, so I headed to <span style=\"color:#27ae60; font-weight:bold;\">Vic's Meat Market</span> at the <span style=\"color:#e75480; font-weight:bold;\">Sydney Fish Market</span>. The \"BBQ Beef Brisket\" was a highlight, slow-cooked to achieve a melt-in-the-mouth texture, and served with a tangy barbecue sauce. The smoky, rich flavor of the brisket was enhanced by the vibrant, outdoor setting of the market, where the aroma of grilling meat filled the air.</p>\n",
              "\n",
              "<p>To round off my exploration of local cuisine, I visited <span style=\"color:#27ae60; font-weight:bold;\">Bennelong</span>, located within the iconic <span style=\"color:#e75480; font-weight:bold;\">Sydney Opera House</span>. This fine dining restaurant celebrates Australian produce in every dish. The \"Sydney Rock Oysters\" were an exquisite start to the meal, served with a delicate vinaigrette that highlighted their briny freshness. The oysters, sourced from local waters, were plump and succulent, offering a pure taste of the sea.</p>\n",
              "\n",
              "</body>\n",
              "</html>\n",
              "```"
            ]
          },
          "metadata": {}
        }
      ]
    },
    {
      "cell_type": "markdown",
      "metadata": {
        "id": "FPgdoLVrKdbN"
      },
      "source": [
        "### تمرین ۲\n",
        "\n",
        "با الهام از مطالب این دفترچه کدهای پایین رو طوری کامل کن که خروجی مدل زبانی در مورد سیدنی رو داخل فایل اچ‌تی‌ام‌ال با این نام ذخیره کنه\n",
        "\n",
        "`highlighted_sydney.html`."
      ]
    },
    {
      "cell_type": "code",
      "execution_count": null,
      "metadata": {
        "id": "OrtM7K-PKdbN"
      },
      "outputs": [],
      "source": [
        "\n",
        "f = open()\n",
        "f.write()\n",
        "f.close()"
      ]
    },
    {
      "cell_type": "code",
      "source": [
        "f = open(\"highlighted_sydney.html\", \"w\", encoding=\"utf-8\")\n",
        "f.write(html_sydney)\n",
        "f.close()\n"
      ],
      "metadata": {
        "id": "r3T3law_rsxH"
      },
      "execution_count": 9,
      "outputs": []
    },
    {
      "cell_type": "markdown",
      "source": [
        "### تمرین ۳\n",
        "\n",
        "بالاتر یک مجموعه داده به فرمت سی اس وی ساختیم و داخل این متغیر ذخیره کردیم یادت هست؟\n"
      ],
      "metadata": {
        "id": "5FNsIlBhAz0a"
      }
    },
    {
      "cell_type": "code",
      "source": [
        "print(restaurants_csv_ready_string)"
      ],
      "metadata": {
        "id": "Fiv5sMbUBZhs"
      },
      "execution_count": null,
      "outputs": []
    },
    {
      "cell_type": "code",
      "source": [
        "# کد پایین رو اصلاح کن تا این داده رو برای همیشه\n",
        "# داخل یک فایل سی اس وی ذخیره کنیم\n",
        "# به جای علامت سوال باید چه فرمتی رو درج کنیم؟\n",
        "\n",
        "f = open(\"madrid_resturants.?\", 'w')\n",
        "f.write(restaurants_csv_ready_string)\n",
        "f.close()"
      ],
      "metadata": {
        "id": "UPTwa9ECBc_9"
      },
      "execution_count": null,
      "outputs": []
    },
    {
      "cell_type": "code",
      "source": [
        "# مرحله ۱: باز کردن فایل جدید برای نوشتن\n",
        "f = open(\"madrid_restaurants.csv\", \"w\")\n",
        "\n",
        "# مرحله ۲: نوشتن داده‌های CSV در فایل\n",
        "f.write(restaurants_csv_ready_string)\n",
        "\n",
        "# مرحله ۳: بستن فایل\n",
        "f.close()\n"
      ],
      "metadata": {
        "id": "haBByJ9asK1T"
      },
      "execution_count": 13,
      "outputs": []
    },
    {
      "cell_type": "markdown",
      "source": [
        "وقتی این فایل رو ساختی از کولب دانلودش کن و روی سیستم با نوتپد یا اکسل بازش کن."
      ],
      "metadata": {
        "id": "dFF92NvHCJ5b"
      }
    }
  ],
  "metadata": {
    "language_info": {
      "name": "python"
    },
    "colab": {
      "provenance": [],
      "gpuType": "T4"
    },
    "kernelspec": {
      "name": "python3",
      "display_name": "Python 3"
    },
    "accelerator": "GPU"
  },
  "nbformat": 4,
  "nbformat_minor": 0
}