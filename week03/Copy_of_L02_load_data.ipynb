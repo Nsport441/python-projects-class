{
  "cells": [
    {
      "cell_type": "markdown",
      "metadata": {
        "id": "FbWoGOis4KoG"
      },
      "source": [
        "# هفته سوم - درس ۲: داده‌های خودت رو فراخوانی و استفاده کن"
      ]
    },
    {
      "cell_type": "markdown",
      "metadata": {
        "id": "Mg1miZee-E79"
      },
      "source": [
        "رسیدیم به این درس! به به! نوبت این رسید که یکی از فایل‌های متنی خودت رو فراخوانی کنی.\n",
        "\n",
        "فایل متنی نداری؟ می‌تونی یکی بسازی! با نرم افزارهایی مثل ورد یا گوگل داکس یا حتی نوتپد ساده ویندوز یک فایل متنی ایجاد و با فرمت\n",
        "\n",
        "`.txt`\n",
        "\n",
        "ذخیره کن."
      ]
    },
    {
      "cell_type": "markdown",
      "source": [
        "## پیشنیاز"
      ],
      "metadata": {
        "id": "A1Ms3yMstkMF"
      }
    },
    {
      "cell_type": "code",
      "source": [
        "# کلون مخزن گیت هاب و رفتن به پوشه این درس\n",
        "\n",
        "import os\n",
        "\n",
        "if not os.path.exists('Python-with-AI'):\n",
        "    !git clone https://github.com/asefycom/Python-with-AI.git\n",
        "\n",
        "os.chdir('Python-with-AI/3rd-week/L02')\n",
        "print(\"Current Working Directory:\", os.getcwd())"
      ],
      "metadata": {
        "id": "Zx48jgEitwS2",
        "outputId": "0dce711b-e752-442d-ff06-934311aefce3",
        "colab": {
          "base_uri": "https://localhost:8080/"
        }
      },
      "execution_count": 1,
      "outputs": [
        {
          "output_type": "stream",
          "name": "stdout",
          "text": [
            "Cloning into 'Python-with-AI'...\n",
            "remote: Enumerating objects: 322, done.\u001b[K\n",
            "remote: Counting objects: 100% (168/168), done.\u001b[K\n",
            "remote: Compressing objects: 100% (164/164), done.\u001b[K\n",
            "remote: Total 322 (delta 102), reused 4 (delta 4), pack-reused 154 (from 1)\u001b[K\n",
            "Receiving objects: 100% (322/322), 171.00 KiB | 10.06 MiB/s, done.\n",
            "Resolving deltas: 100% (166/166), done.\n",
            "Current Working Directory: /content/Python-with-AI/3rd-week/L02\n"
          ]
        }
      ]
    },
    {
      "cell_type": "code",
      "source": [
        "# و اینم پکیج توگدر که برنامه‌نویس‌های مجموعه توگدر برای کار با هوش مصنوعی‌ها رست کردن\n",
        "!pip install together"
      ],
      "metadata": {
        "id": "JilBQYIdytox",
        "outputId": "bfff312e-8e0e-40e7-ad0b-306ccb45879b",
        "colab": {
          "base_uri": "https://localhost:8080/"
        },
        "collapsed": true
      },
      "execution_count": 2,
      "outputs": [
        {
          "output_type": "stream",
          "name": "stdout",
          "text": [
            "Collecting together\n",
            "  Downloading together-1.5.21-py3-none-any.whl.metadata (15 kB)\n",
            "Requirement already satisfied: aiohttp<4.0.0,>=3.9.3 in /usr/local/lib/python3.11/dist-packages (from together) (3.12.14)\n",
            "Requirement already satisfied: click<9.0.0,>=8.1.7 in /usr/local/lib/python3.11/dist-packages (from together) (8.2.1)\n",
            "Collecting eval-type-backport<0.3.0,>=0.1.3 (from together)\n",
            "  Downloading eval_type_backport-0.2.2-py3-none-any.whl.metadata (2.2 kB)\n",
            "Requirement already satisfied: filelock<4.0.0,>=3.13.1 in /usr/local/lib/python3.11/dist-packages (from together) (3.18.0)\n",
            "Requirement already satisfied: numpy>=1.23.5 in /usr/local/lib/python3.11/dist-packages (from together) (2.0.2)\n",
            "Requirement already satisfied: pillow<12.0.0,>=11.1.0 in /usr/local/lib/python3.11/dist-packages (from together) (11.3.0)\n",
            "Requirement already satisfied: pydantic<3.0.0,>=2.6.3 in /usr/local/lib/python3.11/dist-packages (from together) (2.11.7)\n",
            "Requirement already satisfied: requests<3.0.0,>=2.31.0 in /usr/local/lib/python3.11/dist-packages (from together) (2.32.3)\n",
            "Requirement already satisfied: rich<15.0.0,>=13.8.1 in /usr/local/lib/python3.11/dist-packages (from together) (13.9.4)\n",
            "Requirement already satisfied: tabulate<0.10.0,>=0.9.0 in /usr/local/lib/python3.11/dist-packages (from together) (0.9.0)\n",
            "Requirement already satisfied: tqdm<5.0.0,>=4.66.2 in /usr/local/lib/python3.11/dist-packages (from together) (4.67.1)\n",
            "Collecting typer<0.16,>=0.9 (from together)\n",
            "  Downloading typer-0.15.4-py3-none-any.whl.metadata (15 kB)\n",
            "Requirement already satisfied: aiohappyeyeballs>=2.5.0 in /usr/local/lib/python3.11/dist-packages (from aiohttp<4.0.0,>=3.9.3->together) (2.6.1)\n",
            "Requirement already satisfied: aiosignal>=1.4.0 in /usr/local/lib/python3.11/dist-packages (from aiohttp<4.0.0,>=3.9.3->together) (1.4.0)\n",
            "Requirement already satisfied: attrs>=17.3.0 in /usr/local/lib/python3.11/dist-packages (from aiohttp<4.0.0,>=3.9.3->together) (25.3.0)\n",
            "Requirement already satisfied: frozenlist>=1.1.1 in /usr/local/lib/python3.11/dist-packages (from aiohttp<4.0.0,>=3.9.3->together) (1.7.0)\n",
            "Requirement already satisfied: multidict<7.0,>=4.5 in /usr/local/lib/python3.11/dist-packages (from aiohttp<4.0.0,>=3.9.3->together) (6.6.3)\n",
            "Requirement already satisfied: propcache>=0.2.0 in /usr/local/lib/python3.11/dist-packages (from aiohttp<4.0.0,>=3.9.3->together) (0.3.2)\n",
            "Requirement already satisfied: yarl<2.0,>=1.17.0 in /usr/local/lib/python3.11/dist-packages (from aiohttp<4.0.0,>=3.9.3->together) (1.20.1)\n",
            "Requirement already satisfied: annotated-types>=0.6.0 in /usr/local/lib/python3.11/dist-packages (from pydantic<3.0.0,>=2.6.3->together) (0.7.0)\n",
            "Requirement already satisfied: pydantic-core==2.33.2 in /usr/local/lib/python3.11/dist-packages (from pydantic<3.0.0,>=2.6.3->together) (2.33.2)\n",
            "Requirement already satisfied: typing-extensions>=4.12.2 in /usr/local/lib/python3.11/dist-packages (from pydantic<3.0.0,>=2.6.3->together) (4.14.1)\n",
            "Requirement already satisfied: typing-inspection>=0.4.0 in /usr/local/lib/python3.11/dist-packages (from pydantic<3.0.0,>=2.6.3->together) (0.4.1)\n",
            "Requirement already satisfied: charset-normalizer<4,>=2 in /usr/local/lib/python3.11/dist-packages (from requests<3.0.0,>=2.31.0->together) (3.4.2)\n",
            "Requirement already satisfied: idna<4,>=2.5 in /usr/local/lib/python3.11/dist-packages (from requests<3.0.0,>=2.31.0->together) (3.10)\n",
            "Requirement already satisfied: urllib3<3,>=1.21.1 in /usr/local/lib/python3.11/dist-packages (from requests<3.0.0,>=2.31.0->together) (2.5.0)\n",
            "Requirement already satisfied: certifi>=2017.4.17 in /usr/local/lib/python3.11/dist-packages (from requests<3.0.0,>=2.31.0->together) (2025.7.14)\n",
            "Requirement already satisfied: markdown-it-py>=2.2.0 in /usr/local/lib/python3.11/dist-packages (from rich<15.0.0,>=13.8.1->together) (3.0.0)\n",
            "Requirement already satisfied: pygments<3.0.0,>=2.13.0 in /usr/local/lib/python3.11/dist-packages (from rich<15.0.0,>=13.8.1->together) (2.19.2)\n",
            "Collecting click<9.0.0,>=8.1.7 (from together)\n",
            "  Downloading click-8.1.8-py3-none-any.whl.metadata (2.3 kB)\n",
            "Requirement already satisfied: shellingham>=1.3.0 in /usr/local/lib/python3.11/dist-packages (from typer<0.16,>=0.9->together) (1.5.4)\n",
            "Requirement already satisfied: mdurl~=0.1 in /usr/local/lib/python3.11/dist-packages (from markdown-it-py>=2.2.0->rich<15.0.0,>=13.8.1->together) (0.1.2)\n",
            "Downloading together-1.5.21-py3-none-any.whl (96 kB)\n",
            "\u001b[2K   \u001b[90m━━━━━━━━━━━━━━━━━━━━━━━━━━━━━━━━━━━━━━━━\u001b[0m \u001b[32m96.1/96.1 kB\u001b[0m \u001b[31m9.2 MB/s\u001b[0m eta \u001b[36m0:00:00\u001b[0m\n",
            "\u001b[?25hDownloading eval_type_backport-0.2.2-py3-none-any.whl (5.8 kB)\n",
            "Downloading typer-0.15.4-py3-none-any.whl (45 kB)\n",
            "\u001b[2K   \u001b[90m━━━━━━━━━━━━━━━━━━━━━━━━━━━━━━━━━━━━━━━━\u001b[0m \u001b[32m45.3/45.3 kB\u001b[0m \u001b[31m4.5 MB/s\u001b[0m eta \u001b[36m0:00:00\u001b[0m\n",
            "\u001b[?25hDownloading click-8.1.8-py3-none-any.whl (98 kB)\n",
            "\u001b[2K   \u001b[90m━━━━━━━━━━━━━━━━━━━━━━━━━━━━━━━━━━━━━━━━\u001b[0m \u001b[32m98.2/98.2 kB\u001b[0m \u001b[31m10.2 MB/s\u001b[0m eta \u001b[36m0:00:00\u001b[0m\n",
            "\u001b[?25hInstalling collected packages: eval-type-backport, click, typer, together\n",
            "  Attempting uninstall: click\n",
            "    Found existing installation: click 8.2.1\n",
            "    Uninstalling click-8.2.1:\n",
            "      Successfully uninstalled click-8.2.1\n",
            "  Attempting uninstall: typer\n",
            "    Found existing installation: typer 0.16.0\n",
            "    Uninstalling typer-0.16.0:\n",
            "      Successfully uninstalled typer-0.16.0\n",
            "Successfully installed click-8.1.8 eval-type-backport-0.2.2 together-1.5.21 typer-0.15.4\n"
          ]
        }
      ]
    },
    {
      "cell_type": "code",
      "source": [
        "# و با استفاده از تابع‌های بسته توگدر و تابع‌های بسته کولب\n",
        "# تابع خودمون برای ارسال پرامپت و دریافت پاسخ هوش مصنوعی رو نوشتیم\n",
        "# یادمون هست که در مورد ثبت نام در توگدر، دریافت کلید و\n",
        "# ذخیره کردن کلید ای‌پی‌آی تو محیط کولب تو درس ۹ هفته اول توضیح داده شده\n",
        "from google.colab import userdata\n",
        "from together import Together\n",
        "\n",
        "client = Together(api_key=userdata.get('TOGETHER_API_KEY'))\n",
        "\n",
        "def print_llm_response(prompt):\n",
        "    response = client.chat.completions.create(\n",
        "        model=\"google/gemma-3n-E4B-it\",\n",
        "        # model=\"meta-llama/Llama-3.3-70B-Instruct-Turbo-Free\",\n",
        "        messages=[\n",
        "        {\n",
        "            \"role\": \"user\",\n",
        "            \"content\": prompt\n",
        "        }\n",
        "        ]\n",
        "    )\n",
        "    return response.choices[0].message.content"
      ],
      "metadata": {
        "id": "WgWgmSSkyzN0"
      },
      "execution_count": 3,
      "outputs": []
    },
    {
      "cell_type": "markdown",
      "metadata": {
        "id": "6EaYn9tG-E7-"
      },
      "source": [
        "## خوندن فایل‌ها از یک پوشه\n",
        "\n",
        "برای دسترسی به فایل‌هات باید مسیر پوشه‌اون‌ها رو به پایتون بگی.\n",
        "\n",
        "پایتون به صورت پیش‌فرض همون پوشه‌ای رو جستجو می‌کنه که دفترچه کد داخلش هست.\n",
        "\n",
        "این پوشه رو با نقطه نشون میدن."
      ]
    },
    {
      "cell_type": "code",
      "source": [
        "# این تابع رو برنامه‌نویس حرفه‌ای نوشته\n",
        "# برای چاپ نام فایل‌هایی تو همین پوشه که دفترچه هست\n",
        "# بهش نگاه کن. چند درصد می‌فهمیش؟\n",
        "# حالا این سلول رو اجرا کن تا خروجی رو ببینی\n",
        "\n",
        "def list_files_in_directory(directory='.'):\n",
        "    \"\"\"\n",
        "    Lists all non-hidden files in the specified directory.\n",
        "\n",
        "    Args:\n",
        "        directory (str): The directory to list files from. Defaults to the current working directory.\n",
        "    \"\"\"\n",
        "    try:\n",
        "        files = [f for f in os.listdir(directory) if (not f.startswith('.') and not f.startswith('_'))]\n",
        "        for file in files:\n",
        "            print(file)\n",
        "    except Exception as e:\n",
        "        print(f\"An error occurred: {e}\")\n",
        "\n",
        "list_files_in_directory()"
      ],
      "metadata": {
        "id": "LIDQvpIWDu5Z",
        "outputId": "ba9fb44a-7c2f-4c2e-daf7-c3dffbbdcc00",
        "colab": {
          "base_uri": "https://localhost:8080/"
        }
      },
      "execution_count": 14,
      "outputs": [
        {
          "output_type": "stream",
          "name": "stdout",
          "text": [
            "email.txt\n",
            "L02_load_data.ipynb\n",
            "recipe.txt\n"
          ]
        }
      ]
    },
    {
      "cell_type": "markdown",
      "metadata": {
        "id": "oG2pdZAt-E7_"
      },
      "source": [
        "<p style=\"background-color:#F5C780; padding:15px\"> 🤖 <b>از چت‌بات استفاده کن - پرامپت رو انگلیسی بده</b>:\n",
        "    <br><br>\n",
        "    What is the folder called where Python looks first for files, and which folder is that by default?\n",
        "</p>"
      ]
    },
    {
      "cell_type": "code",
      "source": [
        "import os\n",
        "print(os.getcwd())  # Shows current working directory"
      ],
      "metadata": {
        "colab": {
          "base_uri": "https://localhost:8080/"
        },
        "id": "zH3qmTM6Q4VL",
        "outputId": "9a76d1f7-424f-4125-80a8-c4a2b8822c52"
      },
      "execution_count": 15,
      "outputs": [
        {
          "output_type": "stream",
          "name": "stdout",
          "text": [
            "/content/Python-with-AI/3rd-week/L02\n"
          ]
        }
      ]
    },
    {
      "cell_type": "code",
      "execution_count": 16,
      "metadata": {
        "id": "jq9Iru7U-E8D",
        "outputId": "4a2a9881-11fa-4226-b5af-61fe27f0fa28",
        "colab": {
          "base_uri": "https://localhost:8080/"
        }
      },
      "outputs": [
        {
          "output_type": "stream",
          "name": "stdout",
          "text": [
            "Subject: My Incredible Journey Around the World!\n",
            "\n",
            "Hi Andrew,\n",
            "\n",
            "I hope you are doing greatl! I just returned from an incredible trip around the world. I started in New York, enjoying a Broadway show and the skyline. In Rio de Janeiro, I soaked up the sun on Copacabana Beach and hiked to Christ the Redeemer. Cape Town amazed me with its natural beauty and safari adventures. Paris was magical with its charming streets and delicious food. Istanbul's Hagia Sophia and Bosphorus cruise were unforgettable. Tokyo dazzled with its neon lights and delicious sushi. Finally, Sydney's Opera House and Bondi Beach were the perfect end to my journey. Can't wait to share more stories and photos when we catch up!\n",
            "\n",
            "Best,\n",
            "\n",
            "Daniel\n",
            "\n"
          ]
        }
      ],
      "source": [
        "# حالا بیا از بین فایل‌های این دایرکتوری\n",
        "# محتوای فایل ایمیل رو بخونیم و چاپ کنیم\n",
        "\n",
        "f = open(\"email.txt\", \"r\")\n",
        "email = f.read()\n",
        "f.close()\n",
        "\n",
        "print(email)"
      ]
    },
    {
      "cell_type": "code",
      "execution_count": 17,
      "metadata": {
        "id": "CRW40ph9-E8D",
        "outputId": "e9fdf138-c4b6-455a-cd2e-6554a6360d71",
        "colab": {
          "base_uri": "https://localhost:8080/"
        }
      },
      "outputs": [
        {
          "output_type": "stream",
          "name": "stdout",
          "text": [
            "Kimchi Recipe\n",
            "\n",
            "To make kimchi, start by chopping one Napa cabbage into bite-sized pieces and salting it with 1/4 cup of sea salt. Let it sit for 1-2 hours. Rinse the cabbage under cold water three times and drain well. In a bowl, mix 1 tablespoon of sugar, 1 tablespoon of grated ginger, 4 minced garlic cloves, 1/4 cup of gochugaru (Korean red pepper flakes), and 3 tablespoons of fish sauce (or soy sauce). Add 3 chopped green onions, 1 julienned carrot, and 1 julienned daikon radish to the cabbage, then combine with the spice paste. Pack the mixture tightly into a jar, pressing down to remove air bubbles, and leave some space at the top. Let it sit at room temperature for 1-5 days, pressing down daily to keep the vegetables submerged. Once fermented to your liking, store the kimchi in the refrigerator. Enjoy!\n",
            "\n"
          ]
        }
      ],
      "source": [
        "# حالا فایل دستور غذا رو باز و چاپ کن\n",
        "f = open(\"recipe.txt\", \"r\")\n",
        "recipe = f.read()\n",
        "f.close()\n",
        "\n",
        "print(recipe)"
      ]
    },
    {
      "cell_type": "markdown",
      "metadata": {
        "id": "9KRkPQlu-E8E"
      },
      "source": [
        "## فایل متنی خودت رو بارگذاری کن"
      ]
    },
    {
      "cell_type": "markdown",
      "metadata": {
        "id": "9xCaugou-E8E"
      },
      "source": [
        "فایل متنی که بالاتر ساختی رو از نوار سمت چپ تو پوشه همین درس تو کولب آپلود کن.\n",
        "\n",
        "فقط یادت باشه که تا وقتی به این کامپیوتر کولب متصل هستی فایلت باقی هست و بعد از قطع اتصال فایلت از دست می‌ره.\n",
        "\n",
        "یعنی بار بعد که دوباره این دفترچه رو داخل کولب باز کنی دوباره باید فایل خودت رو آپلود کنی.\n",
        "\n"
      ]
    },
    {
      "cell_type": "markdown",
      "metadata": {
        "id": "EfeNIIeA-E8E"
      },
      "source": [
        "* فایل خودت رو بارگذاری کردی؟  حالا تابع لیست-فایلز-این-دایرکتوری رو فراخوانی کن ببینیم چه فایل‌هایی داریم."
      ]
    },
    {
      "cell_type": "code",
      "execution_count": 19,
      "metadata": {
        "id": "Xk_MxiA4-E8F",
        "colab": {
          "base_uri": "https://localhost:8080/"
        },
        "outputId": "07ac0406-5d41-479a-e8e7-e4bf4425ff64"
      },
      "outputs": [
        {
          "output_type": "stream",
          "name": "stdout",
          "text": [
            "email.txt\n",
            "L02_load_data.ipynb\n",
            "recipe.txt\n"
          ]
        }
      ],
      "source": [
        "# فهرست فایل‌های داخل همین دایرکتوری کاری رو چاپ کن\n",
        "list_files_in_directory()"
      ]
    },
    {
      "cell_type": "markdown",
      "metadata": {
        "id": "mPHVnrfS-E8F"
      },
      "source": [
        "* و بعد فایل خودت رو باز و محتواش رو چاپ کن"
      ]
    },
    {
      "cell_type": "code",
      "execution_count": 21,
      "metadata": {
        "id": "ES1mJbfV-E8F"
      },
      "outputs": [],
      "source": [
        "# به نام فایل در این کد دقت کن.\n",
        "# نام فایل خودت رو جایگزین کن. دابل کوتیشکن ها رو حذف نکنی\n",
        "f = open(\"/content/Less_Affected_Jobs.txt\", \"r\")\n",
        "your_file_content = f.read()\n",
        "f.close()"
      ]
    },
    {
      "cell_type": "code",
      "execution_count": 22,
      "metadata": {
        "id": "Qjou4aGu-E8F",
        "outputId": "673c13c4-5f84-4d13-fdb5-8dc9889cef01",
        "colab": {
          "base_uri": "https://localhost:8080/"
        }
      },
      "outputs": [
        {
          "output_type": "stream",
          "name": "stdout",
          "text": [
            "Some jobs are less likely to be affected by artificial intelligence. These include creative professions such as art, high-level writing, and idea generation; human-centered and caregiving roles like doctors, psychologists, and social workers; interactive teaching and education; strategic management and decision-making positions; and jobs that require deep social interaction and emotional understanding.\n"
          ]
        }
      ],
      "source": [
        "# این فایل آزمایشی من هست. از دیپ سیک پرسیدم\n",
        "# چه شغل‌هایی خیلی تحت تاثیر هوش مصنوعی قرار خواهند گرفت\n",
        "# و جوابش رو داخل یک فایل متنی کپی و اینجا بارگذاری کردم\n",
        "print(your_file_content)"
      ]
    },
    {
      "cell_type": "markdown",
      "metadata": {
        "id": "6Y0y1zm_-E8F"
      },
      "source": [
        "## محتوای فایلت رو با هوش مصنوعی چکیده کن"
      ]
    },
    {
      "cell_type": "code",
      "execution_count": 23,
      "metadata": {
        "id": "6NLLDsdt-E8G"
      },
      "outputs": [],
      "source": [
        "prompt = f\"\"\"نکته‌های کلیدی متن پایین رو در ۵۰ کلمه چکیده کن\n",
        "بعد این چکیده رو درج و ترجمه فارسی اون هم زیرش بنویس.\n",
        "در ترجمه فارسی از کلمه های انگلیسی استفاده نکن تا متن به هم نریزه.\n",
        "\n",
        "متن:\n",
        "{your_file_content}\"\"\""
      ]
    },
    {
      "cell_type": "markdown",
      "metadata": {
        "id": "ifj3ixFT-E8G"
      },
      "source": [
        "* پرامپت رو چاپ کن تا مطمئن بشی که محتوای فایلت به درستی خونده شده:"
      ]
    },
    {
      "cell_type": "code",
      "execution_count": 24,
      "metadata": {
        "id": "ieZOIkx3-E8G",
        "outputId": "f37c5960-98e2-48fa-b77d-7c19ff34c610",
        "colab": {
          "base_uri": "https://localhost:8080/"
        }
      },
      "outputs": [
        {
          "output_type": "stream",
          "name": "stdout",
          "text": [
            "نکته‌های کلیدی متن پایین رو در ۵۰ کلمه چکیده کن\n",
            "بعد این چکیده رو درج و ترجمه فارسی اون هم زیرش بنویس.\n",
            "در ترجمه فارسی از کلمه های انگلیسی استفاده نکن تا متن به هم نریزه.\n",
            "\n",
            "متن:\n",
            "Some jobs are less likely to be affected by artificial intelligence. These include creative professions such as art, high-level writing, and idea generation; human-centered and caregiving roles like doctors, psychologists, and social workers; interactive teaching and education; strategic management and decision-making positions; and jobs that require deep social interaction and emotional understanding.\n"
          ]
        }
      ],
      "source": [
        "print(prompt)"
      ]
    },
    {
      "cell_type": "markdown",
      "metadata": {
        "id": "swcQkfmU-E8G"
      },
      "source": [
        "* حالا پرامپت رو به مدل زبانی بزرگ بفرست"
      ]
    },
    {
      "cell_type": "code",
      "execution_count": 25,
      "metadata": {
        "id": "XDX9x1n3-E8G",
        "outputId": "52a33618-c0cd-4c76-ef18-fbebd5d90148",
        "colab": {
          "base_uri": "https://localhost:8080/"
        }
      },
      "outputs": [
        {
          "output_type": "stream",
          "name": "stdout",
          "text": [
            "**خلاصه (انگلیسی):**\n",
            "\n",
            "AI may not replace all jobs. Roles requiring creativity, complex problem-solving, empathy, and strong human interaction are relatively safe. This includes artists, writers, doctors, teachers, managers, and those in social work.\n",
            "\n",
            "**خلاصه (فارسی):**\n",
            "\n",
            "هوش مصنوعی تمام مشاغل را جایگزین نمی‌کند. مشاغلی که خلاقیت، حل مسائل پیچیده، همدلی و تعاملات انسانی قوی می‌طلبد، نسبتاً در امان هستند. این شامل هنرمندان، نویسندگان، پزشکان، معلمان، مدیران و کارشناسان مددکاری اجتماعی می‌شود.\n",
            "\n"
          ]
        }
      ],
      "source": [
        "res = print_llm_response(prompt)\n",
        "print(res)"
      ]
    },
    {
      "cell_type": "markdown",
      "metadata": {
        "id": "j6HrX1w7-E8H"
      },
      "source": [
        "## تمرین بیشتر\n",
        "\n",
        "با یافته‌های این درس حالا کمی تمرین کنیم.\n",
        "\n",
        "### تمرین ۱\n",
        "\n",
        "پرامپت پایین رو طوری ویرایش کن که پرسش‌هایی از فایل متنی خودت برای مدل زبانی بفرستی"
      ]
    },
    {
      "cell_type": "code",
      "execution_count": 27,
      "metadata": {
        "id": "mhKO4PxB-E8H",
        "colab": {
          "base_uri": "https://localhost:8080/"
        },
        "outputId": "ec1f73f4-2566-4d58-8336-6636d4db587b"
      },
      "outputs": [
        {
          "output_type": "stream",
          "name": "stdout",
          "text": [
            "خلاصه متن به این شرح است:\n",
            "\n",
            "برخی مشاغل کمتر احتمال دارد که توسط هوش مصنوعی تحت تاثیر قرار گیرند. این مشاغل شامل مشاغل خلاقانه مانند هنر، نویسندگی سطح بالا و تولید ایده، مشاغلی که بر انسان متمرکز هستند و مراقبت می‌کنند مانند پزشکان، روانشناسان و کارگران اجتماعی، آموزش تعاملی، موقعیت‌های مدیریت استراتژیک و تصمیم‌گیری و مشاغلی که به تعاملات اجتماعی عمیق و درک احساسی نیاز دارند، می‌شوند.\n",
            "\n"
          ]
        }
      ],
      "source": [
        "prompt = f\"\"\"\n",
        "\n",
        "«یک خلاصه از این متن ارائه بده»\n",
        "Text:\n",
        "{your_file_content}\"\"\"\n",
        "\n",
        "res2 = print_llm_response(prompt)\n",
        "print(res2)"
      ]
    },
    {
      "cell_type": "code",
      "source": [
        "prompt = f\"\"\"لطفاً سوالاتی درباره محتوای فایل زیر مطرح کن و پاسخ‌های آنها را نیز بنویس. سوالاتت را متنوع و مفید انتخاب کن.\n",
        "\n",
        "Text:\n",
        "{your_file_content}\"\"\"\n",
        "\n",
        "res2 = print_llm_response(prompt)\n",
        "print(res2)"
      ],
      "metadata": {
        "id": "DstmCjh5TvBm",
        "colab": {
          "base_uri": "https://localhost:8080/"
        },
        "outputId": "07242ff2-b69d-4309-f96b-2e051eb85892"
      },
      "execution_count": 28,
      "outputs": [
        {
          "output_type": "stream",
          "name": "stdout",
          "text": [
            "## سوالات و پاسخ‌ها درباره محتوای فایل:\n",
            "\n",
            "**1. سوال:** به نظر متن، چه نوع مشاغلی کمتر احتمال دارد که توسط هوش مصنوعی تحت تاثیر قرار گیرند؟\n",
            "**پاسخ:** متن بیان می‌کند که مشاغل خلاقانه (مانند هنر، نگارش سطح بالا و تولید ایده)، مشاغل مبتنی بر انسان و مراقبت (مانند پزشکان، روانشناسان و مددکاران اجتماعی)، آموزش تعاملی، موقعیت‌های مدیریت استراتژیک و تصمیم‌گیری، و مشاغلی که نیاز به تعاملات اجتماعی عمیق و درک احساسی دارند، کمتر احتمال دارد که توسط هوش مصنوعی تحت تاثیر قرار گیرند.\n",
            "\n",
            "**2. سوال:** متن به طور خاص به چه نوع مشاغل خلاقانه اشاره می‌کند؟\n",
            "**پاسخ:** متن به طور خاص به مشاغل خلاقانه مانند هنر، نگارش سطح بالا و تولید ایده اشاره می‌کند.\n",
            "\n",
            "**3. سوال:** چه ویژگی‌هایی مشاغل مراقبت و انسان‌محور را از تاثیر هوش مصنوعی مصون می‌داند؟\n",
            "**پاسخ:** این مشاغل به دلیل نیاز به همدلی، درک عمیق از احساسات و تعاملات انسانی، کمتر احتمال دارد که به طور کامل توسط هوش مصنوعی جایگزین شوند.  متن به پزشکان، روانشناسان و مددکاران اجتماعی به عنوان مثال‌هایی اشاره می‌کند.\n",
            "\n",
            "**4. سوال:** در چه زمینه‌هایی \"آموزش تعاملی\" به عنوان یک شغل کمتر آسیب‌پذیر ذکر شده است؟\n",
            "**پاسخ:** متن به طور خاص به \"آموزش تعاملی\" به عنوان یک حوزه اشاره می‌کند که به احتمال زیاد تحت تاثیر هوش مصنوعی قرار نخواهد گرفت. این به این معنی است که آموزش‌هایی که بر تعامل مستقیم و پویا با دانش‌آموزان تأکید دارند، کمتر در معرض جایگزینی توسط هوش مصنوعی قرار می‌گیرند.\n",
            "\n",
            "**5. سوال:** متن چه نوع مهارت‌هایی را در \"موقعیت‌های مدیریت استراتژیک و تصمیم‌گیری\" برجسته می‌کند که ممکن است هوش مصنوعی به راحتی جایگزین آنها نشود؟\n",
            "**پاسخ:**  متن به طور خاص به نیاز به \"تصمیم‌گیری\" در این موقعیت‌ها اشاره می‌کند. هوش مصنوعی می‌تواند به جمع‌آوری و تحلیل داده‌ها کمک کند، اما تصمیم‌گیری‌های استراتژیک اغلب نیازمند قضاوت اخلاقی، درک پیچیدگی‌های انسانی و توانایی سازگاری با شرایط غیرقابل پیش‌بینی است که در حال حاضر فراتر از قابلیت‌های هوش مصنوعی است.\n",
            "\n",
            "**6. سوال:**  چه چیزی \"تعاملات اجتماعی عمیق و درک احساسی\" را در مشاغل خاص مهم می‌کند و از جایگزینی آنها توسط هوش مصنوعی جلوگیری می‌کند؟\n",
            "**پاسخ:** این تعاملات و درک احساسی، برای ایجاد اعتماد، همدلی و حل مشکلات پیچیده ضروری هستند. هوش مصنوعی در حال حاضر در درک و پاسخگویی به ظرافت‌های احساسی انسان با مشکل مواجه است، بنابراین مشاغلی که به طور اساسی به این مهارت‌ها نیاز دارند، کمتر در معرض جایگزینی قرار می‌گیرند.\n",
            "\n",
            "**7. سوال:**  این متن چه پیامی در مورد آینده بازار کار ارائه می‌دهد؟\n",
            "**پاسخ:**  این متن نشان می‌دهد که در حالی که هوش مصنوعی ممکن است برخی از مشاغل را خودکار کند، مشاغلی که به خلاقیت، همدلی، تعاملات انسانی و قضاوت استراتژیک نیاز دارند، نسبت به جایگزینی کمتر در معرض خطر هستند. این نشان‌دهنده تغییر در نوع مهارت‌هایی است که در آینده بازار کار مورد نیاز خواهد بود.\n",
            "\n",
            "**8. سوال:**  آیا متن به طور کامل به این موضوع می‌پردازد که هوش مصنوعی چگونه ممکن است برخی از این مشاغل را تحت تاثیر قرار دهد؟\n",
            "**پاسخ:** خیر، متن به طور خاص به این موضوع نمی‌پردازد که هوش مصنوعی چگونه ممکن است برخی از این مشاغل را تحت تاثیر قرار دهد.  به جای آن، بر این تمرکز دارد که کدام مشاغل احتمال کمتری دارد که به طور کامل توسط هوش مصنوعی جایگزین شوند.  به عبارتی، متن به جای تمرکز بر جایگزینی، بر روی استحکام مشاغل در برابر اتوماسیون تمرکز دارد.\n",
            "\n"
          ]
        }
      ]
    },
    {
      "cell_type": "markdown",
      "metadata": {
        "id": "0Zo3aUIE-E8H"
      },
      "source": [
        "### تمرین ۲\n",
        "\n",
        "پرامپت پایین رو طوری ویرایش کن که از محتوای فایل دستور غذا (رسپی)  که به این درس پیوست شده استفاده کنی.\n",
        "\n",
        "**نکته:** برگرد بالا و نام متغیری که محتوای این فایل رو در اون‌ها ذخیره کردی پیدا و داخل کد پایین جایگزین کن."
      ]
    },
    {
      "cell_type": "code",
      "execution_count": null,
      "metadata": {
        "id": "w8UEg41c-E8H"
      },
      "outputs": [],
      "source": [
        "prompt = f\"\"\"همه تکنیک‌های آشپزی که در فایل پایین بیان شده\n",
        "پیدا و به فارسی روان ترجمه کن:\n",
        "\n",
        "Recipe:\n",
        "{your_file_content}\"\"\"\n",
        "\n",
        "print_llm_response(prompt)"
      ]
    },
    {
      "cell_type": "code",
      "source": [
        "with open(\"recipe.txt\", \"r\", encoding=\"utf-8\") as file:\n",
        "    your_file_content = file.read()"
      ],
      "metadata": {
        "id": "Vro7ddsAcCvx"
      },
      "execution_count": 29,
      "outputs": []
    },
    {
      "cell_type": "code",
      "source": [
        "prompt = f\"\"\"همه تکنیک‌های آشپزی که در فایل پایین بیان شده:\n",
        "بنویس و به فارسی روان ترجمه کن:\n",
        "\n",
        "Recipe:\n",
        "{your_file_content}\n",
        "\"\"\"\n",
        "\n",
        "x = print_llm_response(prompt)\n",
        "print(x)"
      ],
      "metadata": {
        "colab": {
          "base_uri": "https://localhost:8080/"
        },
        "id": "vLeB0KpwcIFT",
        "outputId": "7f03f007-beeb-4606-aa75-9ec2c5e832ea"
      },
      "execution_count": 31,
      "outputs": [
        {
          "output_type": "stream",
          "name": "stdout",
          "text": [
            "## دستور تهیه کیمچی\n",
            "\n",
            "برای تهیه کیمچی، ابتدا یک سرکه نابا (نوعی کلم) را به قطعاتی کوچک و قابل جویدن خرد کنید و با 1/4 فنجان نمک دریایی مخلوط کنید. اجازه دهید 1 تا 2 ساعت بماند. سپس کلم را سه بار زیر آب سرد بشویید و به خوبی آبکش کنید.\n",
            "\n",
            "در یک کاسه، 1 قاشق غذاخوری شکر، 1 قاشق غذاخوری زنجبیل رنده شده، 4 حبه سیر خرد شده، 1/4 فنجان گوجوچوگاری (فلفل قرمز کره‌ای)، و 3 قاشق غذاخوری سس ماهی (یا سس سویا) را با هم مخلوط کنید. 3 عدد پیازچه خرد شده، 1 عدد هویج خرد شده به صورت نواری، و 1 عدد ریشه‌ی دایkon (کلم سفید ژاپنی) خرد شده به صورت نواری را به کلم اضافه کنید و سپس با پوره ادویه‌ای مخلوط کنید.\n",
            "\n",
            "مخلوط را به طور محکم در یک شیشه یا ظرف دربسته فشرده کنید و در بالای آن کمی فاصله بگذارید. اجازه دهید در دمای اتاق به مدت 1 تا 5 روز بماند، و هر روز آن را فشار دهید تا سبزیجات در مایع فرو روند.\n",
            "\n",
            "هنگامی که تخمیر آن به دلخواه شما رسید، کیمچی را در یخچال نگهداری کنید. نوش جان!\n",
            "\n"
          ]
        }
      ]
    },
    {
      "cell_type": "markdown",
      "source": [
        "### تمرین ۳\n",
        "\n",
        "بالاتر برای دسترسی به فایل خودت گفتم همین جا تو کولب آپلود کن. ولی خب اینجا هر بار که دفترچه رو دوباره باز کنی باید دوباره دستی آپلودش کنی.\n",
        "\n",
        "راه دیگه این هست که فایل رو بگذاری تو درایو گوگل و اینجا تو کولب فراخوانی کنی.\n",
        "\n",
        "از چت بات راهکارش و تکه کدش رو بواه:\n",
        "\n",
        "کدی به من بده که بتونم فایلی از گوگل درایو رو داخل دفترچه کولب فراخوانی کنم.\n",
        "\n",
        "\n",
        "بعد که کد رو گرفتی فایلت رو داخل گوگل درایو بگذار و کدت رو هم تو جای مناسب تو دفترچه بگذار و امتحانش کن."
      ],
      "metadata": {
        "id": "YueBPKq2JPmB"
      }
    },
    {
      "cell_type": "code",
      "source": [
        "# محل آزمایش تکه کد پایتون برای خوانش فایل از درایو"
      ],
      "metadata": {
        "id": "Do3cVFeC_w-m"
      },
      "execution_count": null,
      "outputs": []
    },
    {
      "cell_type": "code",
      "source": [
        "from google.colab import drive\n",
        "drive.mount('/content/drive')"
      ],
      "metadata": {
        "colab": {
          "base_uri": "https://localhost:8080/"
        },
        "id": "_ojz4uL6c9py",
        "outputId": "65c3d9f7-3968-4a43-bae9-cd67ccf290da"
      },
      "execution_count": 32,
      "outputs": [
        {
          "output_type": "stream",
          "name": "stdout",
          "text": [
            "Mounted at /content/drive\n"
          ]
        }
      ]
    },
    {
      "cell_type": "code",
      "source": [
        "file_path = '/content/drive/MyDrive/Less_Affected_Jobs.txt'\n",
        "with open(file_path, 'r', encoding='utf-8') as f:\n",
        "    text = f.read()\n",
        "print(text)\n"
      ],
      "metadata": {
        "colab": {
          "base_uri": "https://localhost:8080/"
        },
        "id": "yIJzW6a2dNZW",
        "outputId": "24474861-038e-413c-b340-8da07fc88543"
      },
      "execution_count": 35,
      "outputs": [
        {
          "output_type": "stream",
          "name": "stdout",
          "text": [
            "Some jobs are less likely to be affected by artificial intelligence. These include creative professions such as art, high-level writing, and idea generation; human-centered and caregiving roles like doctors, psychologists, and social workers; interactive teaching and education; strategic management and decision-making positions; and jobs that require deep social interaction and emotional understanding.\n"
          ]
        }
      ]
    }
  ],
  "metadata": {
    "colab": {
      "provenance": [],
      "gpuType": "T4"
    },
    "kernelspec": {
      "display_name": "Python 3",
      "name": "python3"
    },
    "language_info": {
      "codemirror_mode": {
        "name": "ipython",
        "version": 3
      },
      "file_extension": ".py",
      "mimetype": "text/x-python",
      "name": "python",
      "nbconvert_exporter": "python",
      "pygments_lexer": "ipython3",
      "version": "3.9.6"
    },
    "accelerator": "GPU"
  },
  "nbformat": 4,
  "nbformat_minor": 0
}