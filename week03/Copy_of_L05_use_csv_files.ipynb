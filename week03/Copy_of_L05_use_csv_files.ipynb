{
  "cells": [
    {
      "cell_type": "markdown",
      "metadata": {
        "id": "YBQUcNj4kx5o"
      },
      "source": [
        "# هفته سوم - درس ۵: کار با سی‌.اس.وی\n",
        "\n",
        "بیا یاد بگیریم که با داده‌های جدول‌مانند فایل‌های سی‌اس‌وی کار کنیم.\n",
        "\n",
        "تو برنامه‌نویسی به این سبک فایل‌ها فایل‌های ساختاردار گفته میشه.\n",
        "\n",
        " **structured data**."
      ]
    },
    {
      "cell_type": "markdown",
      "source": [
        "## پیشنیازها"
      ],
      "metadata": {
        "id": "XRIKWX62N926"
      }
    },
    {
      "cell_type": "code",
      "source": [
        "# کلون مخزن گیت هاب  و تغییر مسیر کاری به پوشه این درس\n",
        "import os\n",
        "\n",
        "if not os.path.exists('Python-with-AI'):\n",
        "    !git clone https://github.com/asefycom/Python-with-AI.git\n",
        "\n",
        "os.chdir('Python-with-AI/3rd-week/L05')\n",
        "print(\"Current Working Directory:\", os.getcwd())"
      ],
      "metadata": {
        "id": "3zw5bvvtDH80",
        "outputId": "bf1e32e3-5103-4d27-dae3-cf6670cfa7ed",
        "colab": {
          "base_uri": "https://localhost:8080/"
        }
      },
      "execution_count": 1,
      "outputs": [
        {
          "output_type": "stream",
          "name": "stdout",
          "text": [
            "Cloning into 'Python-with-AI'...\n",
            "remote: Enumerating objects: 322, done.\u001b[K\n",
            "remote: Counting objects: 100% (168/168), done.\u001b[K\n",
            "remote: Compressing objects: 100% (164/164), done.\u001b[K\n",
            "remote: Total 322 (delta 102), reused 4 (delta 4), pack-reused 154 (from 1)\u001b[K\n",
            "Receiving objects: 100% (322/322), 171.00 KiB | 7.77 MiB/s, done.\n",
            "Resolving deltas: 100% (166/166), done.\n",
            "Current Working Directory: /content/Python-with-AI/3rd-week/L05\n"
          ]
        }
      ]
    },
    {
      "cell_type": "code",
      "execution_count": 2,
      "metadata": {
        "id": "kwQGaZthkx5s"
      },
      "outputs": [],
      "source": [
        "#  ایمپورت‌ها: فراخوانی بسته‌های آماده یا بخشی از اون‌ها\n",
        "# هفته چهارم بیشتر با مفهوم بسته‌ها آشنا میشی\n",
        "from IPython.display import display, HTML, Markdown\n",
        "import csv\n",
        "import pandas as pd"
      ]
    },
    {
      "cell_type": "code",
      "source": [
        "# تابعی برای تبدیل داده‌ها به دیتافریم\n",
        "# و بعد نمایش دیتافریم به صورت جدول اچ.تی‌ام‌.ال\n",
        "\n",
        "def display_table(data):\n",
        "    df = pd.DataFrame(data)\n",
        "\n",
        "    # Display the DataFrame as an HTML table\n",
        "    display(HTML(df.to_html(index=False)))"
      ],
      "metadata": {
        "id": "MIUmIuGKMtul"
      },
      "execution_count": 3,
      "outputs": []
    },
    {
      "cell_type": "code",
      "source": [
        "# نصب بسته توگدر ای‌آی\n",
        "!pip install together"
      ],
      "metadata": {
        "id": "VlFr3lxwOCIO",
        "outputId": "55501d34-4d45-4964-bc93-5b8e2e7b6d4d",
        "colab": {
          "base_uri": "https://localhost:8080/"
        },
        "collapsed": true
      },
      "execution_count": 4,
      "outputs": [
        {
          "output_type": "stream",
          "name": "stdout",
          "text": [
            "Collecting together\n",
            "  Downloading together-1.5.21-py3-none-any.whl.metadata (15 kB)\n",
            "Requirement already satisfied: aiohttp<4.0.0,>=3.9.3 in /usr/local/lib/python3.11/dist-packages (from together) (3.12.14)\n",
            "Requirement already satisfied: click<9.0.0,>=8.1.7 in /usr/local/lib/python3.11/dist-packages (from together) (8.2.1)\n",
            "Collecting eval-type-backport<0.3.0,>=0.1.3 (from together)\n",
            "  Downloading eval_type_backport-0.2.2-py3-none-any.whl.metadata (2.2 kB)\n",
            "Requirement already satisfied: filelock<4.0.0,>=3.13.1 in /usr/local/lib/python3.11/dist-packages (from together) (3.18.0)\n",
            "Requirement already satisfied: numpy>=1.23.5 in /usr/local/lib/python3.11/dist-packages (from together) (2.0.2)\n",
            "Requirement already satisfied: pillow<12.0.0,>=11.1.0 in /usr/local/lib/python3.11/dist-packages (from together) (11.3.0)\n",
            "Requirement already satisfied: pydantic<3.0.0,>=2.6.3 in /usr/local/lib/python3.11/dist-packages (from together) (2.11.7)\n",
            "Requirement already satisfied: requests<3.0.0,>=2.31.0 in /usr/local/lib/python3.11/dist-packages (from together) (2.32.3)\n",
            "Requirement already satisfied: rich<15.0.0,>=13.8.1 in /usr/local/lib/python3.11/dist-packages (from together) (13.9.4)\n",
            "Requirement already satisfied: tabulate<0.10.0,>=0.9.0 in /usr/local/lib/python3.11/dist-packages (from together) (0.9.0)\n",
            "Requirement already satisfied: tqdm<5.0.0,>=4.66.2 in /usr/local/lib/python3.11/dist-packages (from together) (4.67.1)\n",
            "Collecting typer<0.16,>=0.9 (from together)\n",
            "  Downloading typer-0.15.4-py3-none-any.whl.metadata (15 kB)\n",
            "Requirement already satisfied: aiohappyeyeballs>=2.5.0 in /usr/local/lib/python3.11/dist-packages (from aiohttp<4.0.0,>=3.9.3->together) (2.6.1)\n",
            "Requirement already satisfied: aiosignal>=1.4.0 in /usr/local/lib/python3.11/dist-packages (from aiohttp<4.0.0,>=3.9.3->together) (1.4.0)\n",
            "Requirement already satisfied: attrs>=17.3.0 in /usr/local/lib/python3.11/dist-packages (from aiohttp<4.0.0,>=3.9.3->together) (25.3.0)\n",
            "Requirement already satisfied: frozenlist>=1.1.1 in /usr/local/lib/python3.11/dist-packages (from aiohttp<4.0.0,>=3.9.3->together) (1.7.0)\n",
            "Requirement already satisfied: multidict<7.0,>=4.5 in /usr/local/lib/python3.11/dist-packages (from aiohttp<4.0.0,>=3.9.3->together) (6.6.3)\n",
            "Requirement already satisfied: propcache>=0.2.0 in /usr/local/lib/python3.11/dist-packages (from aiohttp<4.0.0,>=3.9.3->together) (0.3.2)\n",
            "Requirement already satisfied: yarl<2.0,>=1.17.0 in /usr/local/lib/python3.11/dist-packages (from aiohttp<4.0.0,>=3.9.3->together) (1.20.1)\n",
            "Requirement already satisfied: annotated-types>=0.6.0 in /usr/local/lib/python3.11/dist-packages (from pydantic<3.0.0,>=2.6.3->together) (0.7.0)\n",
            "Requirement already satisfied: pydantic-core==2.33.2 in /usr/local/lib/python3.11/dist-packages (from pydantic<3.0.0,>=2.6.3->together) (2.33.2)\n",
            "Requirement already satisfied: typing-extensions>=4.12.2 in /usr/local/lib/python3.11/dist-packages (from pydantic<3.0.0,>=2.6.3->together) (4.14.1)\n",
            "Requirement already satisfied: typing-inspection>=0.4.0 in /usr/local/lib/python3.11/dist-packages (from pydantic<3.0.0,>=2.6.3->together) (0.4.1)\n",
            "Requirement already satisfied: charset-normalizer<4,>=2 in /usr/local/lib/python3.11/dist-packages (from requests<3.0.0,>=2.31.0->together) (3.4.2)\n",
            "Requirement already satisfied: idna<4,>=2.5 in /usr/local/lib/python3.11/dist-packages (from requests<3.0.0,>=2.31.0->together) (3.10)\n",
            "Requirement already satisfied: urllib3<3,>=1.21.1 in /usr/local/lib/python3.11/dist-packages (from requests<3.0.0,>=2.31.0->together) (2.5.0)\n",
            "Requirement already satisfied: certifi>=2017.4.17 in /usr/local/lib/python3.11/dist-packages (from requests<3.0.0,>=2.31.0->together) (2025.7.14)\n",
            "Requirement already satisfied: markdown-it-py>=2.2.0 in /usr/local/lib/python3.11/dist-packages (from rich<15.0.0,>=13.8.1->together) (3.0.0)\n",
            "Requirement already satisfied: pygments<3.0.0,>=2.13.0 in /usr/local/lib/python3.11/dist-packages (from rich<15.0.0,>=13.8.1->together) (2.19.2)\n",
            "Collecting click<9.0.0,>=8.1.7 (from together)\n",
            "  Downloading click-8.1.8-py3-none-any.whl.metadata (2.3 kB)\n",
            "Requirement already satisfied: shellingham>=1.3.0 in /usr/local/lib/python3.11/dist-packages (from typer<0.16,>=0.9->together) (1.5.4)\n",
            "Requirement already satisfied: mdurl~=0.1 in /usr/local/lib/python3.11/dist-packages (from markdown-it-py>=2.2.0->rich<15.0.0,>=13.8.1->together) (0.1.2)\n",
            "Downloading together-1.5.21-py3-none-any.whl (96 kB)\n",
            "\u001b[2K   \u001b[90m━━━━━━━━━━━━━━━━━━━━━━━━━━━━━━━━━━━━━━━━\u001b[0m \u001b[32m96.1/96.1 kB\u001b[0m \u001b[31m5.4 MB/s\u001b[0m eta \u001b[36m0:00:00\u001b[0m\n",
            "\u001b[?25hDownloading eval_type_backport-0.2.2-py3-none-any.whl (5.8 kB)\n",
            "Downloading typer-0.15.4-py3-none-any.whl (45 kB)\n",
            "\u001b[2K   \u001b[90m━━━━━━━━━━━━━━━━━━━━━━━━━━━━━━━━━━━━━━━━\u001b[0m \u001b[32m45.3/45.3 kB\u001b[0m \u001b[31m3.9 MB/s\u001b[0m eta \u001b[36m0:00:00\u001b[0m\n",
            "\u001b[?25hDownloading click-8.1.8-py3-none-any.whl (98 kB)\n",
            "\u001b[2K   \u001b[90m━━━━━━━━━━━━━━━━━━━━━━━━━━━━━━━━━━━━━━━━\u001b[0m \u001b[32m98.2/98.2 kB\u001b[0m \u001b[31m10.0 MB/s\u001b[0m eta \u001b[36m0:00:00\u001b[0m\n",
            "\u001b[?25hInstalling collected packages: eval-type-backport, click, typer, together\n",
            "  Attempting uninstall: click\n",
            "    Found existing installation: click 8.2.1\n",
            "    Uninstalling click-8.2.1:\n",
            "      Successfully uninstalled click-8.2.1\n",
            "  Attempting uninstall: typer\n",
            "    Found existing installation: typer 0.16.0\n",
            "    Uninstalling typer-0.16.0:\n",
            "      Successfully uninstalled typer-0.16.0\n",
            "Successfully installed click-8.1.8 eval-type-backport-0.2.2 together-1.5.21 typer-0.15.4\n"
          ]
        }
      ]
    },
    {
      "cell_type": "code",
      "source": [
        "# فراخوانی توگدر با کلیدی که ازش گرفتیم\n",
        "# که به صورت امن تو محیط اجرای این دفترچه کولب کار گذاشتیم\n",
        "from google.colab import userdata\n",
        "from together import Together\n",
        "\n",
        "client = Together(api_key=userdata.get('TOGETHER_API_KEY'))\n",
        "\n",
        "# تابعی برای ارسال پرامپت به مدل زبانی به واسطه توگدر و بعد چاپ جواب\n",
        "def print_llm_response(prompt):\n",
        "    response = client.chat.completions.create(\n",
        "        model=\"google/gemma-3n-E4B-it\",\n",
        "        # model=\"meta-llama/Llama-3.3-70B-Instruct-Turbo-Free\",\n",
        "        messages=[\n",
        "        {\n",
        "            \"role\": \"user\",\n",
        "            \"content\": prompt\n",
        "        }\n",
        "        ]\n",
        "    )\n",
        "    return response.choices[0].message.content"
      ],
      "metadata": {
        "id": "ma-WmdcLOT0A"
      },
      "execution_count": 5,
      "outputs": []
    },
    {
      "cell_type": "markdown",
      "metadata": {
        "id": "sOloT5Tskx5v"
      },
      "source": [
        "## فراخوانی داده‌ها از فایل سی.اس.وی"
      ]
    },
    {
      "cell_type": "markdown",
      "metadata": {
        "id": "4LZ3-iL_kx5v"
      },
      "source": [
        "از این فایل استفاده می‌کنیم که به این درس پیوست شده\n",
        "\n",
        " ```itinerary.csv```\n",
        "\n",
        " این فایل حاوی داده های مختصری از زمان ورودی و خروج به یک شهر در یک کشور مشخص هست.\n",
        "\n",
        "برای باز کردن این فایل از تابع اوپن استفاده می‌کنیم که شما پیش‌تر هم تجربه کردین."
      ]
    },
    {
      "cell_type": "code",
      "execution_count": 7,
      "metadata": {
        "id": "4i0TNY7Rkx5w"
      },
      "outputs": [],
      "source": [
        "f = open(\"itinerary.csv\", 'r')"
      ]
    },
    {
      "cell_type": "markdown",
      "metadata": {
        "id": "TtxJKRfnkx5w"
      },
      "source": [
        "اما شیوه خوندن محتوای این فایل فرق داره.\n",
        "ساختار منظم فایل رو می‌تونیم اینجا با حلقه تکرار بشکافیم."
      ]
    },
    {
      "cell_type": "code",
      "execution_count": 8,
      "metadata": {
        "id": "pAM_xLthkx5x",
        "outputId": "1d306a86-1b04-4f8d-9e92-341fab9ac6eb",
        "colab": {
          "base_uri": "https://localhost:8080/"
        }
      },
      "outputs": [
        {
          "output_type": "stream",
          "name": "stdout",
          "text": [
            "{'Arrival': 'July-01', 'Departure': 'July-08', 'City': 'New York', 'Country': 'USA'}\n",
            "{'Arrival': 'July-09', 'Departure': 'July-16', 'City': 'Rio de Janeiro', 'Country': 'Brazil'}\n",
            "{'Arrival': 'July-17', 'Departure': 'July-24', 'City': 'Cape Town', 'Country': 'South Africa'}\n",
            "{'Arrival': 'July-25', 'Departure': 'August-01', 'City': 'Istanbul', 'Country': 'Turkey'}\n",
            "{'Arrival': 'August-02', 'Departure': 'August-09', 'City': 'Paris', 'Country': 'France'}\n",
            "{'Arrival': 'August-10', 'Departure': 'August-17', 'City': 'Tokyo', 'Country': 'Japan'}\n",
            "{'Arrival': 'August-18', 'Departure': 'August-25', 'City': 'Sydney', 'Country': 'Australia'}\n"
          ]
        }
      ],
      "source": [
        "csv_reader = csv.DictReader(f)\n",
        "itinerary = []\n",
        "for row in csv_reader:\n",
        "    print(row)\n",
        "    itinerary.append(row)"
      ]
    },
    {
      "cell_type": "markdown",
      "metadata": {
        "id": "DEfb2v0Lkx5x"
      },
      "source": [
        "و در پایان هم فایل رو می‌بندیم."
      ]
    },
    {
      "cell_type": "code",
      "execution_count": 9,
      "metadata": {
        "id": "7QKG7ncJkx5y"
      },
      "outputs": [],
      "source": [
        "f.close()"
      ]
    },
    {
      "cell_type": "markdown",
      "metadata": {
        "id": "zmyeEFUskx5y"
      },
      "source": [
        "می‌تونیم برنامه سفر نوشته شده داخل این فایل رو چاپ هم بکنیم.\n",
        "\n",
        "نوع داده هاش رو هم می‌تونیم بررسی کنیم. چجوری؟"
      ]
    },
    {
      "cell_type": "code",
      "execution_count": 10,
      "metadata": {
        "id": "iqZXzfDukx5y",
        "outputId": "d6e6f249-bb53-438d-f255-5b81163d217f",
        "colab": {
          "base_uri": "https://localhost:8080/"
        }
      },
      "outputs": [
        {
          "output_type": "stream",
          "name": "stdout",
          "text": [
            "[{'Arrival': 'July-01', 'Departure': 'July-08', 'City': 'New York', 'Country': 'USA'}, {'Arrival': 'July-09', 'Departure': 'July-16', 'City': 'Rio de Janeiro', 'Country': 'Brazil'}, {'Arrival': 'July-17', 'Departure': 'July-24', 'City': 'Cape Town', 'Country': 'South Africa'}, {'Arrival': 'July-25', 'Departure': 'August-01', 'City': 'Istanbul', 'Country': 'Turkey'}, {'Arrival': 'August-02', 'Departure': 'August-09', 'City': 'Paris', 'Country': 'France'}, {'Arrival': 'August-10', 'Departure': 'August-17', 'City': 'Tokyo', 'Country': 'Japan'}, {'Arrival': 'August-18', 'Departure': 'August-25', 'City': 'Sydney', 'Country': 'Australia'}]\n"
          ]
        }
      ],
      "source": [
        "print(itinerary)"
      ]
    },
    {
      "cell_type": "code",
      "execution_count": 11,
      "metadata": {
        "id": "5d371D14kx5z",
        "outputId": "1a99d663-b821-4627-fbcc-d0e979639da6",
        "colab": {
          "base_uri": "https://localhost:8080/"
        }
      },
      "outputs": [
        {
          "output_type": "execute_result",
          "data": {
            "text/plain": [
              "list"
            ]
          },
          "metadata": {},
          "execution_count": 11
        }
      ],
      "source": [
        "type(itinerary)"
      ]
    },
    {
      "cell_type": "markdown",
      "metadata": {
        "id": "kjtG8M-Nkx5z"
      },
      "source": [
        "حالا نگاهی به اولین عضو (اولین سطر) بندازیم.\n",
        "یادمون هست که اولین عضو، ایندکس صفر داره."
      ]
    },
    {
      "cell_type": "code",
      "execution_count": 12,
      "metadata": {
        "id": "qlyFxp6hkx5z",
        "outputId": "b0e4bb0f-3592-4765-e846-ebf7f86bfff2",
        "colab": {
          "base_uri": "https://localhost:8080/"
        }
      },
      "outputs": [
        {
          "output_type": "stream",
          "name": "stdout",
          "text": [
            "{'Arrival': 'July-01', 'Departure': 'July-08', 'City': 'New York', 'Country': 'USA'}\n"
          ]
        }
      ],
      "source": [
        "# Print item 0\n",
        "print(itinerary[0])"
      ]
    },
    {
      "cell_type": "markdown",
      "metadata": {
        "id": "cRIX7QLLkx50"
      },
      "source": [
        "هر عضو یک دیکشنری شده.\n",
        "به حلقه برگرد. کجا به نظرت این اتفاق افتاده؟\n",
        "\n",
        "بگذریم. پس به اطلاعات هر عضو می‌تونیم با دادن کلیدها دسترسی پیدا کنیم.\n",
        "\n",
        "مثلا برای دیدن نام کشور در عضو اول این کلید رو داریم:\n",
        "\n",
        "`Country`:"
      ]
    },
    {
      "cell_type": "code",
      "execution_count": 13,
      "metadata": {
        "id": "LsgIiHWikx50",
        "outputId": "15260fa1-3219-4bdf-f170-5e01ceb24142",
        "colab": {
          "base_uri": "https://localhost:8080/"
        }
      },
      "outputs": [
        {
          "output_type": "stream",
          "name": "stdout",
          "text": [
            "USA\n"
          ]
        }
      ],
      "source": [
        "print(itinerary[0][\"Country\"])"
      ]
    },
    {
      "cell_type": "markdown",
      "metadata": {
        "id": "Tpk6bX3_kx50"
      },
      "source": [
        "## کاوش کن\n",
        "سطرها یا بگیم عضوهای دیگه این برنامه سفر رو بررسی کن. همین طور جزییات هر سطر رو ببین.\n",
        "\n",
        "از جایگذاری ایندکس در این کد استفاده کن:"
      ]
    },
    {
      "cell_type": "code",
      "execution_count": 14,
      "metadata": {
        "id": "erccoq3rkx50",
        "colab": {
          "base_uri": "https://localhost:8080/"
        },
        "outputId": "cb55503a-89b8-4cb6-b25b-cc68e8a517d6"
      },
      "outputs": [
        {
          "output_type": "stream",
          "name": "stdout",
          "text": [
            "{'Arrival': 'July-01', 'Departure': 'July-08', 'City': 'New York', 'Country': 'USA'}\n",
            "USA\n"
          ]
        }
      ],
      "source": [
        "print(itinerary[0])\n",
        "print(itinerary[0][\"Country\"])"
      ]
    },
    {
      "cell_type": "markdown",
      "metadata": {
        "id": "SE-qtlsMkx50"
      },
      "source": [
        "<p style=\"background-color:#F5C780; padding:15px\"> 🤖 <b>از چت‌بات استفاده کن</b>:\n",
        "    <br><br>\n",
        "    این کد رو خط به خط به زبان ساده شرح بده:\n",
        "    <br><br>f = open(\"itinerary.csv\", 'r')\n",
        "    <br>csv_reader = csv.DictReader(f)\n",
        "    <br>itinerary = []\n",
        "    <br>for row in csv_reader:\n",
        "    <br>itinerary.append(row)\n",
        "    <br><br>f.close()\n",
        "</p>"
      ]
    },
    {
      "cell_type": "markdown",
      "metadata": {
        "id": "etXVpjfVkx51"
      },
      "source": [
        "## داده‌های ساختارمند"
      ]
    },
    {
      "cell_type": "markdown",
      "metadata": {
        "id": "ku4VWg9Fkx51"
      },
      "source": [
        "بیا داده‌های این فایل رو صورت جدول نمایش بدیم تا خوناتر بشن.\n",
        "\n",
        "* از تابعی استفاده می‌کنیم که تو بخش پیشنیازها ساختیم."
      ]
    },
    {
      "cell_type": "code",
      "execution_count": 15,
      "metadata": {
        "id": "CFRg1-Q7kx51",
        "outputId": "ffdcd8d5-9067-46eb-9c66-9c8335fcf5f3",
        "colab": {
          "base_uri": "https://localhost:8080/",
          "height": 269
        }
      },
      "outputs": [
        {
          "output_type": "display_data",
          "data": {
            "text/plain": [
              "<IPython.core.display.HTML object>"
            ],
            "text/html": [
              "<table border=\"1\" class=\"dataframe\">\n",
              "  <thead>\n",
              "    <tr style=\"text-align: right;\">\n",
              "      <th>Arrival</th>\n",
              "      <th>Departure</th>\n",
              "      <th>City</th>\n",
              "      <th>Country</th>\n",
              "    </tr>\n",
              "  </thead>\n",
              "  <tbody>\n",
              "    <tr>\n",
              "      <td>July-01</td>\n",
              "      <td>July-08</td>\n",
              "      <td>New York</td>\n",
              "      <td>USA</td>\n",
              "    </tr>\n",
              "    <tr>\n",
              "      <td>July-09</td>\n",
              "      <td>July-16</td>\n",
              "      <td>Rio de Janeiro</td>\n",
              "      <td>Brazil</td>\n",
              "    </tr>\n",
              "    <tr>\n",
              "      <td>July-17</td>\n",
              "      <td>July-24</td>\n",
              "      <td>Cape Town</td>\n",
              "      <td>South Africa</td>\n",
              "    </tr>\n",
              "    <tr>\n",
              "      <td>July-25</td>\n",
              "      <td>August-01</td>\n",
              "      <td>Istanbul</td>\n",
              "      <td>Turkey</td>\n",
              "    </tr>\n",
              "    <tr>\n",
              "      <td>August-02</td>\n",
              "      <td>August-09</td>\n",
              "      <td>Paris</td>\n",
              "      <td>France</td>\n",
              "    </tr>\n",
              "    <tr>\n",
              "      <td>August-10</td>\n",
              "      <td>August-17</td>\n",
              "      <td>Tokyo</td>\n",
              "      <td>Japan</td>\n",
              "    </tr>\n",
              "    <tr>\n",
              "      <td>August-18</td>\n",
              "      <td>August-25</td>\n",
              "      <td>Sydney</td>\n",
              "      <td>Australia</td>\n",
              "    </tr>\n",
              "  </tbody>\n",
              "</table>"
            ]
          },
          "metadata": {}
        }
      ],
      "source": [
        "display_table(itinerary)"
      ]
    },
    {
      "cell_type": "markdown",
      "metadata": {
        "id": "awVCElYUkx51"
      },
      "source": [
        "حالا بیا کدی بنویسیم که روی جدول فیلترهایی (مثل فیلترهای اکسل) وارد کنه.\n",
        "\n",
        "مثلا عضوهایی رو فیلتر کن که در اون‌ها نام کشور برابر ژاپن هست.\n",
        "\n",
        "اطلاعات فیلتر شده رو به این لیست اضافه می کنیم:\n",
        "\n",
        " `filtered_data`:"
      ]
    },
    {
      "cell_type": "code",
      "execution_count": 16,
      "metadata": {
        "id": "klToDyqQkx52"
      },
      "outputs": [],
      "source": [
        "# ایجاد یک لیست خالی برای ذخیره داده‌های فیلترشده\n",
        "filtered_data = []\n",
        "\n",
        "# فیلتر بر اساس نام کشور\n",
        "for trip_stop in itinerary:\n",
        "    # برای مثال: سطرهای با مقصد «ژاپن» رو بده\n",
        "    if trip_stop[\"Country\"] == \"Japan\":\n",
        "        filtered_data.append(trip_stop)"
      ]
    },
    {
      "cell_type": "code",
      "execution_count": 17,
      "metadata": {
        "id": "U1Z7Wsf3kx52",
        "outputId": "b52461ee-7374-4362-db4e-82556dd293bc",
        "colab": {
          "base_uri": "https://localhost:8080/",
          "height": 81
        }
      },
      "outputs": [
        {
          "output_type": "display_data",
          "data": {
            "text/plain": [
              "<IPython.core.display.HTML object>"
            ],
            "text/html": [
              "<table border=\"1\" class=\"dataframe\">\n",
              "  <thead>\n",
              "    <tr style=\"text-align: right;\">\n",
              "      <th>Arrival</th>\n",
              "      <th>Departure</th>\n",
              "      <th>City</th>\n",
              "      <th>Country</th>\n",
              "    </tr>\n",
              "  </thead>\n",
              "  <tbody>\n",
              "    <tr>\n",
              "      <td>August-10</td>\n",
              "      <td>August-17</td>\n",
              "      <td>Tokyo</td>\n",
              "      <td>Japan</td>\n",
              "    </tr>\n",
              "  </tbody>\n",
              "</table>"
            ]
          },
          "metadata": {}
        }
      ],
      "source": [
        "display_table(filtered_data)"
      ]
    },
    {
      "cell_type": "markdown",
      "metadata": {
        "id": "cVC19-Fukx52"
      },
      "source": [
        "توجه کنید که در اینجا در عمل این لیست فقط یک عضو داره."
      ]
    },
    {
      "cell_type": "markdown",
      "metadata": {
        "id": "5sGfCRKakx52"
      },
      "source": [
        "## AI پیشنهاد فعالیت‌های طول سفر توسط"
      ]
    },
    {
      "cell_type": "markdown",
      "metadata": {
        "id": "iAkhEq_hkx52"
      },
      "source": [
        "یک مقصد سفر مثلا اولین مقصد رو از فایل استخراج کن.\n",
        "\n",
        "بعد، از مدل‌زبانی‌بزرگ بخواه که کارهایی برای انجام در طول مدت بازدیداز این مقصد پیشنهاد بده:"
      ]
    },
    {
      "cell_type": "code",
      "execution_count": 18,
      "metadata": {
        "id": "6O0aHrMBkx52",
        "outputId": "306bdd39-5c38-4f3d-b3e5-00140b4ac578",
        "colab": {
          "base_uri": "https://localhost:8080/"
        }
      },
      "outputs": [
        {
          "output_type": "stream",
          "name": "stdout",
          "text": [
            "{'Arrival': 'July-01', 'Departure': 'July-08', 'City': 'New York', 'Country': 'USA'}\n"
          ]
        }
      ],
      "source": [
        "# نخستین مقصد رو انتخاب کن\n",
        "trip_stop = itinerary[0]\n",
        "print(trip_stop)"
      ]
    },
    {
      "cell_type": "markdown",
      "metadata": {
        "id": "k_m34Wunkx53"
      },
      "source": [
        "متغیرهایی برای مشخصات مقصد اول بساز:"
      ]
    },
    {
      "cell_type": "code",
      "execution_count": 19,
      "metadata": {
        "id": "gYFsTlp2kx53"
      },
      "outputs": [],
      "source": [
        "city = trip_stop[\"City\"]\n",
        "country = trip_stop[\"Country\"]\n",
        "arrival = trip_stop[\"Arrival\"]\n",
        "departure = trip_stop[\"Departure\"]"
      ]
    },
    {
      "cell_type": "markdown",
      "metadata": {
        "id": "otsW2VONkx53"
      },
      "source": [
        "پرامپتی بنویس برای دریافت پیشنهاد از مدل:"
      ]
    },
    {
      "cell_type": "code",
      "execution_count": 20,
      "metadata": {
        "id": "5vwMQC9gkx53",
        "outputId": "8146843e-ec80-49a1-9e62-cc5bb5ec65aa",
        "colab": {
          "base_uri": "https://localhost:8080/"
        }
      },
      "outputs": [
        {
          "output_type": "stream",
          "name": "stdout",
          "text": [
            "I will visit New York, USA, from July-01 to July-08.\n",
            "Please create a detailed daily itinerary in fluent Persian:\n"
          ]
        }
      ],
      "source": [
        "prompt = f\"\"\"I will visit {city}, {country}, from {arrival} to {departure}.\n",
        "Please create a detailed daily itinerary in fluent Persian:\"\"\"\n",
        "\n",
        "print(prompt)"
      ]
    },
    {
      "cell_type": "markdown",
      "metadata": {
        "id": "dBsPBZaokx53"
      },
      "source": [
        "از کلاس مارکت دان برای نمایش مرتب پاسخ مدل استفاده کن:"
      ]
    },
    {
      "cell_type": "code",
      "execution_count": 21,
      "metadata": {
        "id": "OocVUb3Pkx54",
        "outputId": "8e0ff441-e67c-41f4-e53c-4c56370004bc",
        "colab": {
          "base_uri": "https://localhost:8080/",
          "height": 1000
        }
      },
      "outputs": [
        {
          "output_type": "display_data",
          "data": {
            "text/plain": [
              "<IPython.core.display.Markdown object>"
            ],
            "text/markdown": "## برنامه سفر به نیویورک (۱ تا ۸ تیرماه)\n\nسلام! خوشحالم که در سفر به نیویورک به شما کمک می‌کنم. این یک برنامه پیشنهادی است که می‌توانید با توجه به علایق و اولویت‌های خود آن را تنظیم کنید. به یاد داشته باشید که در ماه جولای (تیر)، هوا گرم و مرطوب است، پس لباس‌های سبک و راحت بپوشید و حتما آب کافی بنوشید.\n\n**نکات مهم قبل از شروع:**\n\n*   **حمل و نقل:** استفاده از مترو (Subway) در نیویورک بسیار راحت و مقرون به صرفه است. می‌توانید یک MetroCard تهیه کنید.\n*   **رزرو:** برای برخی از جاذبه‌ها و رستوران‌ها، به خصوص در فصل شلوغی، بهتر است از قبل رزرو کنید.\n*   **کفش راحت:** در طول سفر، پیاده‌روی زیادی خواهید داشت، پس کفش‌های راحت بپوشید.\n*   **پول نقد:** برخی از مکان‌ها ممکن است فقط پول نقد بپذیرند.\n*   **امنیت:** مراقب وسایل خود باشید و در مناطق شلوغ احتیاط کنید.\n\n---\n\n### **روز اول: یکشنبه، ۱ تیرماه – ورود و محله منهتن (Manhattan)**\n\n*   **صبح:** ورود به فرودگاه (JFK, LGA, or EWR).  (بسته به محل فرود، از تاکسی، شاتل یا مترو برای رسیدن به هتل خود استفاده کنید.)\n*   **بعد از ظهر:** مستقر شدن در هتل و استراحت کوتاه.\n*   **بعد از ظهر:** قدم زدن در محله **میدان تایمز (Times Square)**.  این مکان با نورهای چشم‌نواز و تماشایی‌اش، یک تجربه منحصر به فرد است.\n*   **عصر:** صرف شام در یک رستوران در **میدان تایمز** یا **میدان چینی‌ها (Chinatown)**.\n*   **شب:** تماشای یک نمایش برادوی (Broadway Show).  از قبل بلیط تهیه کنید. (به پیشنهادهای من در ادامه به بخش \"پیشنهادات بیشتر\" مراجعه کنید.)\n\n### **روز دوم: دوشنبه، ۲ تیرماه – نمادهای نیویورک و موزه‌ها**\n\n*   **صبح:** بازدید از **مجسمه آزادی (Statue of Liberty)** و **جزیره الیس (Ellis Island)**. (حتما از قبل بلیط کشتی تهیه کنید. برای صرفه‌جویی در وقت، می‌توانید با کشتی‌های سریع‌السیر (Fast Ferry) بروید.)\n*   **بعد از ظهر:** بازدید از **مرکز تجارت جهانی (World Trade Center)** و **موزه یادبود تروریسم (9/11 Memorial & Museum)**. (این مکان‌ها تجربیات عمیقی را ارائه می‌دهند.)\n*   **عصر:** قدم زدن در **پارک فیلیپس (Battery Park)** و تماشای منظره شهر.\n*   **شب:** صرف شام در محله **ترانسی‌ات (Greenwich Village)** که با رستوران‌ها و کافه‌های دنجش مشهور است.\n\n### **روز سوم: سه‌شنبه، ۳ تیرماه – هنر و فرهنگ**\n\n*   **صبح:** بازدید از **موزه متروپولیتن هنر (Metropolitan Museum of Art)**. (این موزه یکی از بزرگترین و مهم‌ترین موزه‌های جهان است.  برنامه‌ریزی کنید که کدام بخش‌ها را می‌خواهید ببینید.)\n*   **بعد از ظهر:** قدم زدن در **پارک مرکزی (Central Park)**.  می‌توانید در این پارک قدم بزنید، دوچرخه‌سواری کنید، یا قایق‌سواری کنید.\n*   **عصر:** بازدید از **موزه تاریخ طبیعی آمریکا (American Museum of Natural History)**.\n*   **شب:** صرف شام در محله **کوی‌نت (Upper West Side)** و تماشای یک فیلم در یک سینمای محلی.\n\n### **روز چهارم: چهارشنبه، ۴ تیرماه – محله‌های متنوع و خرید**\n\n*   **صبح:** بازدید از محله **سونترال هافمن (SoHo)**.  این محله با مغازه‌های مد، گالری‌های هنری و معماری خاصش مشهور است.\n*   **بعد از ظهر:** خرید در **فروشگاه میامی (Macy's)** یا **فروشگاه هاروارد (Harvard Bookstore)**.\n*   **عصر:** قدم زدن در محله **لِتِن (Little Italy)** و صرف شام در یک رستوران ایتالیایی اصیل.\n*   **شب:** تماشای یک اجرای موسیقی زنده در یک بار در محله **متروپلیس (Metropolitan)**.\n\n### **روز پنجم: پنج‌شنبه، ۵ تیرماه – محله‌های رنگارنگ و غذاهای بین‌المللی**\n\n*   **صبح:** بازدید از محله **چینی‌ها (Chinatown)**.  در این محله می‌توانید غذاهای چینی اصیل بخورید و از مغازه‌های مختلف دیدن کنید.\n*   **بعد از ظهر:** بازدید از محله **مکزیکی‌ها (El Barrio)**.  این محله با فرهنگ و هنر لاتین‌امریکایی‌اش مشهور است.\n*   **عصر:** صرف شام در یک رستوران با غذاهای بین‌المللی در محله **واشنگتن اسکوئر (Washington Square)**.\n*   **شب:** تماشای یک نمایش خیابانی در **واشنگتن اسکوئر پارک (Washington Square Park)**.\n\n### **روز ششم: جمعه، ۶ تیرماه – یک سفر یک روزه به شهر کوچک**\n\n*   **یک روز کامل:** یک سفر یک روزه به یک شهر کوچک در اطراف نیویورک.  پیشنهادها:\n    *   **شهر پالتم (Paltalk):** یک شهر تاریخی و زیبا با معماری قرن نوزدهم.\n    *   **شهر وودستوک (Woodstock):**  مرکز فرهنگ و موسیقی دهه ۱۹۶۰.\n    *   **شهر نیو روتون (New Paltz):**  مناسب برای پیاده‌روی و تماشای مناظر طبیعی.\n\n### **روز هفتم: شنبه، ۷ تیرماه – اکتشافات نهایی و خداحافظی**\n\n*   **صبح:** بازدید از یک جاذبه‌ای که در روزهای قبل فرصت بازدید از آن را نداشته‌اید. (به عنوان مثال: محله **کالونیا (Kalonia)**، **موزه موما (MoMA)**، **کلیسای جامع سنت پاتریک (St. Patrick's Cathedral)**)\n*   **بعد از ظهر:** خرید سوغاتی و آماده شدن برای عزیمت.\n*   **عصر:** صرف شام خداحافظی در یک رستوران مورد علاقه.\n*   **شب:** رفتن به فرودگاه برای پرواز به خانه.\n\n---\n\n**پیشنهادات بیشتر:**\n\n*   **نمایش‌های برادوی:**  (به وبسایت‌های Ticketmaster یا TodayTix مراجعه کنید.)  نمایش‌هایی مانند \"The Lion King\"، \"Wicked\"، \"Hamilton\" و \"Chicago\" بسیار محبوب هستند.\n*   **رستوران‌ها:**  نیویورک به خاطر تنوع غذایی‌اش مشهور است.  پیشنهادات:  رستوران‌های ایتالیایی در لِتِن، رستوران‌های چینی در چینی‌ها، رستوران‌های مکزیکی در مکزیکی‌ها، و رستوران‌های بین‌المللی در واشنگتن اسکوئر.\n*   **موزه‌ها:**  علاوه بر موزه های ذکر شده، موزه های دیگری مانند موزه هنرهای معاصر (MoMA)، موزه گوگنهایم (Guggenheim Museum) و موزه تاریخ و فرهنگ نیویورک (New-York Historical Society) نیز ارزش بازدید دارند.\n*   **محله‌ها:** محله‌های دیگری مانند بروکلین (Brooklyn) و کوینز (Queens) نیز ارزش گشت و گذار دارند.\n\n**امیدوارم از سفر خود به نیویورک لذت ببرید!**\n\nاگر سوال دیگری دارید، خوشحال می‌شوم پاسخ دهم.  لطفاً در مورد علایق خاص خود (مانند هنر، تاریخ، غذا، موسیقی) بیشتر بگویید تا بتوانم برنامه را برای شما شخصی‌سازی کنم.\n"
          },
          "metadata": {}
        }
      ],
      "source": [
        "# دریافت پاسخ مدل\n",
        "response = print_llm_response(prompt)\n",
        "\n",
        "# چاپ با فرمت مارک داون\n",
        "display(Markdown(response))"
      ]
    },
    {
      "cell_type": "markdown",
      "metadata": {
        "id": "NVzA6jGkkx54"
      },
      "source": [
        "## تمرین بیشتر\n",
        "\n",
        "بیا یه برنامه سفر برای مقصد بعدی بسازیم.\n",
        "\n",
        "### تمرین ۱\n",
        "\n",
        "با شرط گذاری درست، داده‌های مربوط به برزیل رو بگیر."
      ]
    },
    {
      "cell_type": "code",
      "execution_count": 23,
      "metadata": {
        "id": "DoBLt421kx54",
        "colab": {
          "base_uri": "https://localhost:8080/"
        },
        "outputId": "92524f5c-07ad-4563-ee6a-7509b8cd165a"
      },
      "outputs": [
        {
          "output_type": "stream",
          "name": "stdout",
          "text": [
            "[]\n"
          ]
        }
      ],
      "source": [
        "# پارادایم ساخت لیستی خالی که بعدتر قرار هست پر بشه\n",
        "filtered_data = []\n",
        "\n",
        "# فیلتر کردن داده‌ها با نام کشور هدف\n",
        "for trip_stop in itinerary:\n",
        "    # مثلا مقصدهایی که در برزیل هستند رو فیلتر کن\n",
        "    # کد پایین باید چطور کامل بشه؟\n",
        "    if trip_stop[\"Country\"] == \"\":\n",
        "        filtered_data.append(trip_stop)\n",
        "\n",
        "print(filtered_data)"
      ]
    },
    {
      "cell_type": "code",
      "source": [
        "# پارادایم ساخت لیستی خالی که بعدتر قرار هست پر بشه\n",
        "filtered_data = []\n",
        "\n",
        "# فیلتر کردن داده‌ها با نام کشور هدف\n",
        "for trip_stop in itinerary:\n",
        "    # مثلا مقصدهایی که در برزیل هستند رو فیلتر کن\n",
        "    if trip_stop[\"Country\"] == \"Brazil\":  # <-- این خط اصلاح شد\n",
        "        filtered_data.append(trip_stop)\n",
        "\n",
        "print(filtered_data)"
      ],
      "metadata": {
        "colab": {
          "base_uri": "https://localhost:8080/"
        },
        "id": "967WO5HBqhUf",
        "outputId": "a7c7e39f-4fec-4007-b2b7-03d8983afa3a"
      },
      "execution_count": 24,
      "outputs": [
        {
          "output_type": "stream",
          "name": "stdout",
          "text": [
            "[{'Arrival': 'July-09', 'Departure': 'July-16', 'City': 'Rio de Janeiro', 'Country': 'Brazil'}]\n"
          ]
        }
      ]
    },
    {
      "cell_type": "markdown",
      "metadata": {
        "id": "Mic0F9xnkx54"
      },
      "source": [
        "### تمرین ۲\n",
        "\n",
        "کد خط پایین رو اصلاح کن تا نخستین عضو از داده‌های فیلتر شده رو به جای کل داده ها بگیری:\n",
        "\n",
        "`filterd_data`\n",
        "\n",
        "دقت کن این متغیرها با این نام‌ها بالاتر ساخته شدن و الان با اجرای سلول پایین مقدارهای تازه درشون ریخته میشه."
      ]
    },
    {
      "cell_type": "code",
      "execution_count": 25,
      "metadata": {
        "id": "luHEbg8_kx59",
        "colab": {
          "base_uri": "https://localhost:8080/"
        },
        "outputId": "e36af475-4846-49a2-c875-71e6ec14e312"
      },
      "outputs": [
        {
          "output_type": "stream",
          "name": "stdout",
          "text": [
            " The city is: New York\n",
            " The country is: USA\n",
            " The arrival date is: {arrival}\n",
            " The departure date is: {departure}\n"
          ]
        }
      ],
      "source": [
        "trip_stop = itinerary[0]\n",
        "\n",
        "city = trip_stop[\"City\"]\n",
        "country = trip_stop[\"Country\"]\n",
        "arrival = trip_stop[\"Arrival\"]\n",
        "departure = trip_stop[\"Departure\"]\n",
        "\n",
        "print(f\" The city is: {city}\")\n",
        "print(f\" The country is: {country}\")\n",
        "print(\" The arrival date is: {arrival}\")\n",
        "print(\" The departure date is: {departure}\")"
      ]
    },
    {
      "cell_type": "code",
      "source": [
        "# گرفتن اولین عضو از داده‌های فیلتر شده\n",
        "trip_stop = filtered_data[0]  # <-- این خط اصلاح شد\n",
        "\n",
        "city = trip_stop[\"City\"]\n",
        "country = trip_stop[\"Country\"]\n",
        "arrival = trip_stop[\"Arrival\"]\n",
        "departure = trip_stop[\"Departure\"]\n",
        "\n",
        "print(f\" The city is: {city}\")\n",
        "print(f\" The country is: {country}\")\n",
        "print(f\" The arrival date is: {arrival}\")  # <-- f-string اضافه شد\n",
        "print(f\" The departure date is: {departure}\")  # <-- f-string اضافه شد"
      ],
      "metadata": {
        "colab": {
          "base_uri": "https://localhost:8080/"
        },
        "id": "9LwzS2UUqzMO",
        "outputId": "1388ff3c-ee2e-4944-ace6-6ee259c61b0f"
      },
      "execution_count": 26,
      "outputs": [
        {
          "output_type": "stream",
          "name": "stdout",
          "text": [
            " The city is: Rio de Janeiro\n",
            " The country is: Brazil\n",
            " The arrival date is: July-09\n",
            " The departure date is: July-16\n"
          ]
        }
      ]
    },
    {
      "cell_type": "markdown",
      "metadata": {
        "id": "U53DG-zvkx59"
      },
      "source": [
        "و حالا پرامپت رو بفرست تا یک برنامه پیشنهادی برای این مقصد داشته باشی:"
      ]
    },
    {
      "cell_type": "code",
      "execution_count": 27,
      "metadata": {
        "id": "3VeUVP-hkx5-",
        "colab": {
          "base_uri": "https://localhost:8080/"
        },
        "outputId": "8c03559f-f691-4a5d-e5fa-454e042b7476"
      },
      "outputs": [
        {
          "output_type": "stream",
          "name": "stdout",
          "text": [
            "## برنامه سفر پیشنهادی به ریودوژانیرو، برزیل (۹ تا ۱۶ جولای)\n",
            "\n",
            "این برنامه سفر پیشنهادی است و می توانید آن را با توجه به علایق و بودجه خود تنظیم کنید.\n",
            "\n",
            "**روز اول: ۹ جولای - ورود و گشت و گذار در ساحل کاره (Copacabana)**\n",
            "\n",
            "*   **صبح:** ورود به فرودگاه بین‌المللی ریودوژانیرو گالهو (GIG). انتقال به هتل در منطقه کاره یا نزدیک به آن.\n",
            "*   **بعد از ظهر:** استراحت در هتل و سپس قدم زدن در امتداد ساحل کاره، معروف‌ترین ساحل ریودوژانیرو.\n",
            "*   **عصر:** لذت بردن از غروب خورشید در کاره، نوشیدن یک کوکتل در یکی از کافه های ساحلی و صرف شام در یک رستوران با منظره دریا.\n",
            "*   **شب:** گشت و گذار در خیابان‌های اطراف ساحل کاره و لذت بردن از حال و هوای شبانه.\n",
            "\n",
            "**روز دوم: ۱۰ جولای - بازدید از معبد کریستوس ردیترور (Christ the Redeemer) و تپه‌های کوهستان (Sugarloaf Mountain)**\n",
            "\n",
            "*   **صبح:** بازدید از معبد کریستوس ردیترور، یکی از نمادهای برزیل و جهان. می توانید با اتوبوس یا تراموا به بالای کوه کورکوفو (Corcovado) بروید. (توصیه می شود از قبل بلیط تهیه کنید)\n",
            "*   **بعد از ظهر:** رفتن به تپه شکر (Sugarloaf Mountain) با استفاده از دو کابین. از بالای تپه، منظره پانورامایی از شهر، ساحل کاره و سایر جاذبه های ریودوژانیرو را تماشا کنید.\n",
            "*   **عصر:** صرف شام در یک رستوران با منظره از تپه شکر یا بازگشت به کاره و صرف شام در یک رستوران محلی.\n",
            "\n",
            "**روز سوم: ۱۱ جولای - گشت و گذار در منطقه تاریخی ریو (Santa Teresa & Lapa)**\n",
            "\n",
            "*   **صبح:** بازدید از منطقه تاریخی و هنری سانتا ترهزا، با خیابان‌های سنگفرش، خانه‌های رنگارنگ و گالری‌های هنری.\n",
            "*   **بعد از ظهر:** بازدید از منطقه لابا، معروف به زندگی شبانه پرجنب و جوش، با آبشارهای تاریخی، کلیساهای زیبا و رستوران‌ها و بارهای متنوع.\n",
            "*   **عصر:** صرف شام در یکی از رستوران‌های لابا و لذت بردن از موسیقی زنده (مانند samba) در یکی از بارهای محلی.\n",
            "\n",
            "**روز چهارم: ۱۲ جولای - بازدید از پارک ملی تنجوکا (Tijuca National Park) و باغ گیاه شناسی**\n",
            "\n",
            "*   **صبح:** گشت و گذار در پارک ملی تنجوکا، یکی از بزرگترین پارک‌های شهری جهان. می توانید پیاده‌روی، دوچرخه‌سواری یا رانندگی در مسیرهای مختلف پارک را تجربه کنید.\n",
            "*   **بعد از ظهر:** بازدید از باغ گیاه شناسی ریودوژانیرو، با مجموعه‌ای متنوع از گیاهان و گل‌های استوایی.\n",
            "*   **عصر:** صرف شام در یک رستوران در منطقه نزدیک به پارک یا بازگشت به هتل برای استراحت.\n",
            "\n",
            "**روز پنجم: ۱۳ جولای - ساحل ایپانهما (Ipanema) و خرید**\n",
            "\n",
            "*   **صبح:** استراحت در ساحل ایپانهما، ساحل دیگری از ریودوژانیرو که به خاطر زیبایی و 분위기 شیکش معروف است.\n",
            "*   **بعد از ظهر:** خرید در خیابان‌های اطراف ساحل ایپانهما، با فروشگاه‌های مد، گالری‌های هنری و مغازه‌های صنایع دستی.\n",
            "*   **عصر:** صرف شام در یکی از رستوران‌های ایپانهما و لذت بردن از موسیقی زنده.\n",
            "\n",
            "**روز ششم: ۱۴ جولای - سفری به پونتا Negra و ساحل‌های شمالی**\n",
            "\n",
            "*   **صبح:** بازدید از پونتا Negra، ساحل استوایی ریودوژانیرو که به خاطر صخره‌های بلند و مناظر زیبا معروف است.\n",
            "*   **بعد از ظهر:** بازدید از ساحل‌های شمالی ریودوژانیرو مانند ساحل Graviera و ساحل Praia Vermelha که آرامش بیشتری دارند.\n",
            "*   **عصر:** صرف شام در یکی از رستوران‌های پونتا Negra و لذت بردن از غروب خورشید.\n",
            "\n",
            "**روز هفتم: ۱۵ جولای - بازدید از موزه و گشت و گذار آزاد**\n",
            "\n",
            "*   **صبح:** بازدید از یکی از موزه‌های ریودوژانیرو، مانند موزه تاریخ طبیعی (Museu Nacional de História Natural) یا موزه هنرهای زیبا (Museu de Arte Moderna).\n",
            "*   **بعد از ظهر:** گشت و گذار آزاد در شهر و بازدید از مکان‌هایی که در روزهای قبل فرصت بازدید از آنها را نداشته‌اید. می توانید به بازارهای محلی بروید یا در کافه‌های مختلف استراحت کنید.\n",
            "*   **عصر:** صرف شام خداحافظی در یک رستوران خوب و لذت بردن از آخرین شب در ریودوژانیرو.\n",
            "\n",
            "**روز هشتم: ۱۶ جولای - خروج**\n",
            "\n",
            "*   **صبح:** صبحانه در هتل و چک اوت از هتل.\n",
            "*   **بعد از ظهر:** انتقال به فرودگاه بین‌المللی ریودوژانیرو گالهو (GIG) و پرواز به خانه.\n",
            "\n",
            "**نکات مهم:**\n",
            "\n",
            "*   **حمل و نقل:** برای رفت و آمد در شهر می توانید از اتوبوس، تراموا، مترو و تاکسی استفاده کنید.\n",
            "*   **امنیت:** مانند هر شهر بزرگ دیگری، مراقب وسایل خود باشید و از رفتن به مناطق ناامن در شب خودداری کنید.\n",
            "*   **آب و هوا:** در ماه جولای، آب و هوای ریودوژانیرو گرم و مرطوب است.\n",
            "*   **زبان:** زبان رسمی برزیل پرتغالی است.\n",
            "*   **پول:** واحد پول برزیل رئال برزیل (BRL) است.\n",
            "\n",
            "امیدوارم از سفر خود به ریودوژانیرو لذت ببرید!\n",
            "\n"
          ]
        }
      ],
      "source": [
        "prompt = f\"\"\"\n",
        "من قرار است از تاریخ {arrival} تا {departure} به شهر {city} در کشور {country} سفر کنم.\n",
        "لطفاً یک برنامه سفر روزانه دقیق برای این سفر تهیه کن.\n",
        "برنامه را به زبان فارسی بنویس.\n",
        "\n",
        "I will visit {city}, {country}, from {arrival} to {departure}.\n",
        "Please create a detailed daily itinerary. Translate it to Persian.\n",
        "\"\"\"\n",
        "\n",
        "print(print_llm_response(prompt))"
      ]
    },
    {
      "cell_type": "markdown",
      "metadata": {
        "id": "iFjoGoIJkx5-"
      },
      "source": [
        "### تمرین چالشی\n",
        "\n",
        "کد پایین رو به گونه‌ای کامل کن که کشور هر مقصد در فایل سی‌اس‌وی این درس رو چاپ کنه."
      ]
    },
    {
      "cell_type": "code",
      "execution_count": null,
      "metadata": {
        "id": "9p8ot4JNkx5-"
      },
      "outputs": [],
      "source": [
        "f = open(\"itinerary.csv\", \"r\")\n",
        "csv_reader = csv.DictReader(f)\n",
        "itinerary = []\n",
        "for row in csv_reader:\n",
        "    print(row)\n",
        "    itinerary.append(row)\n",
        "f.close()\n",
        "\n",
        "# این دو خط باید کامل بشن:\n",
        "for trip_stop in :\n",
        "    print()"
      ]
    },
    {
      "cell_type": "code",
      "source": [
        "f = open(\"itinerary.csv\", \"r\")\n",
        "csv_reader = csv.DictReader(f)\n",
        "itinerary = []\n",
        "for row in csv_reader:\n",
        "    print(row)\n",
        "    itinerary.append(row)\n",
        "f.close()\n",
        "\n",
        "# این دو خط کامل شده:\n",
        "for trip_stop in itinerary:\n",
        "    print(trip_stop[\"Country\"])"
      ],
      "metadata": {
        "colab": {
          "base_uri": "https://localhost:8080/"
        },
        "id": "TUzS0ZIksHIu",
        "outputId": "75425421-96cc-46c8-8ab9-3ac052e5fe5c"
      },
      "execution_count": 28,
      "outputs": [
        {
          "output_type": "stream",
          "name": "stdout",
          "text": [
            "{'Arrival': 'July-01', 'Departure': 'July-08', 'City': 'New York', 'Country': 'USA'}\n",
            "{'Arrival': 'July-09', 'Departure': 'July-16', 'City': 'Rio de Janeiro', 'Country': 'Brazil'}\n",
            "{'Arrival': 'July-17', 'Departure': 'July-24', 'City': 'Cape Town', 'Country': 'South Africa'}\n",
            "{'Arrival': 'July-25', 'Departure': 'August-01', 'City': 'Istanbul', 'Country': 'Turkey'}\n",
            "{'Arrival': 'August-02', 'Departure': 'August-09', 'City': 'Paris', 'Country': 'France'}\n",
            "{'Arrival': 'August-10', 'Departure': 'August-17', 'City': 'Tokyo', 'Country': 'Japan'}\n",
            "{'Arrival': 'August-18', 'Departure': 'August-25', 'City': 'Sydney', 'Country': 'Australia'}\n",
            "USA\n",
            "Brazil\n",
            "South Africa\n",
            "Turkey\n",
            "France\n",
            "Japan\n",
            "Australia\n"
          ]
        }
      ]
    },
    {
      "cell_type": "code",
      "source": [
        "# اگر می‌خوای داده‌های فیلتر شده رو تو یه فایل CSV جدید ذخیره کنی:\n",
        "import csv\n",
        "\n",
        "with open(\"filtered_itinerary.csv\", \"w\", newline=\"\", encoding=\"utf-8\") as csvfile:\n",
        "    fieldnames = [\"City\", \"Country\", \"Arrival\", \"Departure\"]  # نام ستون‌ها\n",
        "    writer = csv.DictWriter(csvfile, fieldnames=fieldnames)\n",
        "\n",
        "    writer.writeheader()\n",
        "    for row in filtered_data:\n",
        "        writer.writerow(row)"
      ],
      "metadata": {
        "id": "n2LScT4ysfae"
      },
      "execution_count": 29,
      "outputs": []
    },
    {
      "cell_type": "code",
      "source": [
        "# اگر می‌خوای نتایج رو تو یه فایل متنی ذخیره کنی:\n",
        "with open(\"output.txt\", \"w\", encoding=\"utf-8\") as file:\n",
        "    for trip_stop in itinerary:\n",
        "        file.write(f\"{trip_stop['Country']}\\n\")"
      ],
      "metadata": {
        "id": "j5r9gvkHsstq"
      },
      "execution_count": 30,
      "outputs": []
    }
  ],
  "metadata": {
    "language_info": {
      "name": "python"
    },
    "colab": {
      "provenance": [],
      "gpuType": "T4"
    },
    "kernelspec": {
      "name": "python3",
      "display_name": "Python 3"
    },
    "accelerator": "GPU"
  },
  "nbformat": 4,
  "nbformat_minor": 0
}