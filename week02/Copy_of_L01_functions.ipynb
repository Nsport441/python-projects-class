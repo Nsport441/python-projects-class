{
  "cells": [
    {
      "cell_type": "markdown",
      "id": "de660b8e",
      "metadata": {
        "id": "de660b8e"
      },
      "source": [
        "# هفته دوم- درس ۱: تابع\n",
        "تابع در برنامه نویسی مثل یک ماشین با یک نام مشخص هست که تعدادی خط کد داخلش نوشته شده.\n",
        "\n",
        "هر بار قصد داریم اون خط کدها اجرا بشن فقط نام اون ماشین (تابع) رو صدا می‌زنیم.\n",
        "\n",
        "در پایتون [تعدادی تابع آماده](https://docs.python.org/3/library/functions.html) وجود داره که سازنده‌های پایتون برای استفاده شما درست کردن.\n",
        "\n",
        "گذشته از این تو خودت می‌تونید تابع هایی برای خودت بسازی."
      ]
    },
    {
      "cell_type": "markdown",
      "id": "a229ce91",
      "metadata": {
        "id": "a229ce91"
      },
      "source": [
        "هفته اول در جریان آموزش از تابع\n",
        "\n",
        "`print()`\n",
        "\n",
        "برای چاپ عبارت روی اسکرین واستفاده کردیم."
      ]
    },
    {
      "cell_type": "code",
      "execution_count": null,
      "id": "a753314f",
      "metadata": {
        "id": "a753314f",
        "colab": {
          "base_uri": "https://localhost:8080/"
        },
        "outputId": "c3ab1bfe-c5b0-483b-e436-c2a7cf7a4b64"
      },
      "outputs": [
        {
          "output_type": "stream",
          "name": "stdout",
          "text": [
            "¯\\_(ツ)_/¯\n"
          ]
        }
      ],
      "source": [
        "print(\"¯\\_(ツ)_/¯\")"
      ]
    },
    {
      "cell_type": "markdown",
      "id": "52ece8c0",
      "metadata": {
        "id": "52ece8c0"
      },
      "source": [
        "همچنین با هم با تابع\n",
        "\n",
        "`type()`\n",
        "\n",
        "آشنا شدیم که نوع یک داده یا متغیری حاوی داده رو اعلام می‌کرد.\n",
        "برای نمونه:"
      ]
    },
    {
      "cell_type": "code",
      "execution_count": null,
      "id": "c81ad492",
      "metadata": {
        "id": "c81ad492",
        "colab": {
          "base_uri": "https://localhost:8080/"
        },
        "outputId": "a440f7c8-10ff-417a-9c88-07c3da48950f"
      },
      "outputs": [
        {
          "output_type": "execute_result",
          "data": {
            "text/plain": [
              "int"
            ]
          },
          "metadata": {},
          "execution_count": 2
        }
      ],
      "source": [
        "type(17)"
      ]
    },
    {
      "cell_type": "markdown",
      "id": "df1e3c22",
      "metadata": {
        "id": "df1e3c22"
      },
      "source": [
        "حالا تو این درس بیا تا با مفهوم تابع و چند نمونه دیگه آشنات کنم."
      ]
    },
    {
      "cell_type": "markdown",
      "id": "17034de4",
      "metadata": {
        "id": "17034de4"
      },
      "source": [
        "## تابع‌هایی برای شمارش، گرد کردن و ..."
      ]
    },
    {
      "cell_type": "markdown",
      "id": "76aa246f",
      "metadata": {
        "id": "76aa246f"
      },
      "source": [
        "تابع‌های بسیاری به صورت آماده (از قبل کدنویسی شده) در پایتون وجود دارن که می ‌تونی به سادگی صداشون بزنی و استفاده کنی.\n",
        "\n",
        "برای نمونه تابع\n",
        "\n",
        "`len()`\n",
        "\n",
        "برای شمارش طول استرینگ (تعداد کاراکترهاش) هست.\n",
        "برای مثال:"
      ]
    },
    {
      "cell_type": "code",
      "execution_count": null,
      "id": "05f09a2e",
      "metadata": {
        "id": "05f09a2e",
        "colab": {
          "base_uri": "https://localhost:8080/"
        },
        "outputId": "fc563199-f511-4b23-e06d-0382d8f57b58"
      },
      "outputs": [
        {
          "output_type": "execute_result",
          "data": {
            "text/plain": [
              "13"
            ]
          },
          "metadata": {},
          "execution_count": 3
        }
      ],
      "source": [
        "len(\"Your Password\")"
      ]
    },
    {
      "cell_type": "markdown",
      "id": "b0987e9f",
      "metadata": {
        "id": "b0987e9f"
      },
      "source": [
        "یا مثلا تابع\n",
        "\n",
        " `round()`\n",
        "\n",
        " برای گرد کردن یک عدد اعشاری به نزدیک‌ترین عدد صحیح هست.\n",
        "\n",
        " مثال پایین رو ببین. دقت هم بکن که خروجی این تابع رو برای چاپ کردن به تابع پرینت دادم."
      ]
    },
    {
      "cell_type": "code",
      "execution_count": null,
      "id": "ce418e1a",
      "metadata": {
        "id": "ce418e1a",
        "colab": {
          "base_uri": "https://localhost:8080/"
        },
        "outputId": "4324d95d-763b-4900-e10a-7cd0394b79fd"
      },
      "outputs": [
        {
          "output_type": "stream",
          "name": "stdout",
          "text": [
            "42\n"
          ]
        }
      ],
      "source": [
        "print(round(42.17))"
      ]
    },
    {
      "cell_type": "markdown",
      "id": "94a9d309",
      "metadata": {
        "id": "94a9d309"
      },
      "source": [
        "ما می‌تونیم خروجی یک تابع رو داخل یک متغیر بریزیم.\n",
        "مثلا:"
      ]
    },
    {
      "cell_type": "code",
      "execution_count": null,
      "id": "c4690998",
      "metadata": {
        "id": "c4690998",
        "colab": {
          "base_uri": "https://localhost:8080/"
        },
        "outputId": "78afe760-2647-421c-c3d0-a650c90dc884"
      },
      "outputs": [
        {
          "output_type": "stream",
          "name": "stdout",
          "text": [
            "16\n"
          ]
        }
      ],
      "source": [
        "string_length = len(\"Hello HamRuyesh!\")\n",
        "print(string_length)"
      ]
    },
    {
      "cell_type": "markdown",
      "id": "783e327e",
      "metadata": {
        "id": "783e327e"
      },
      "source": [
        "تابع‌های بسیاری در پایتون وجود دارن. نیازی نیست همه رو بلد باشی.\n",
        "بسته به نیاز می‌تونی با چت‌بات مشورت کنی.\n",
        "\n",
        "<p style=\"background-color:#F5C780; padding:15px\"> 🤖 <b>نمونه استفاده از چت‌بات</b>: چطور طول یک استرینگ رو در پایتون پیدا کنم؟\n",
        "</p>"
      ]
    },
    {
      "cell_type": "code",
      "source": [
        "text = \"Hello, world!\"\n",
        "length = len(text)\n",
        "print(length)\n"
      ],
      "metadata": {
        "colab": {
          "base_uri": "https://localhost:8080/"
        },
        "id": "_Yr0IQie-LbD",
        "outputId": "ce3ee2f4-7b44-4789-982a-569163129c13"
      },
      "id": "_Yr0IQie-LbD",
      "execution_count": 1,
      "outputs": [
        {
          "output_type": "stream",
          "name": "stdout",
          "text": [
            "13\n"
          ]
        }
      ]
    },
    {
      "cell_type": "markdown",
      "id": "90b0fdc4-e01f-425b-af70-755ee52334f2",
      "metadata": {
        "id": "90b0fdc4-e01f-425b-af70-755ee52334f2"
      },
      "source": [
        "## استفاده از تابع در پرامپت"
      ]
    },
    {
      "cell_type": "markdown",
      "id": "1b0dee8d-14f8-4078-bbc1-ed3e8aafce86",
      "metadata": {
        "id": "1b0dee8d-14f8-4078-bbc1-ed3e8aafce86"
      },
      "source": [
        "تابع‌ها رو هم مثل متغیر می‌تونی تو پرامپت استفاده کنی.\n",
        "\n",
        "آخرین درس هفته اول یادت هست؟ پرامپتی ساختیم که داخلش از متغیر نام شهر استفاده کردیم.\n",
        "\n",
        "حالا بیا از تابع‌ها داخل پرامپت استفاده کنیم.\n"
      ]
    },
    {
      "cell_type": "markdown",
      "source": [
        "### نصب و راه‌اندازی توگدر"
      ],
      "metadata": {
        "id": "i-aRI-Hq233y"
      },
      "id": "i-aRI-Hq233y"
    },
    {
      "cell_type": "code",
      "source": [
        "!pip install together"
      ],
      "metadata": {
        "id": "fwdy9_fy29jo",
        "colab": {
          "base_uri": "https://localhost:8080/"
        },
        "outputId": "853e033b-31a2-4a72-f3a4-f41ab5223459",
        "collapsed": true
      },
      "id": "fwdy9_fy29jo",
      "execution_count": 2,
      "outputs": [
        {
          "output_type": "stream",
          "name": "stdout",
          "text": [
            "Collecting together\n",
            "  Downloading together-1.5.21-py3-none-any.whl.metadata (15 kB)\n",
            "Requirement already satisfied: aiohttp<4.0.0,>=3.9.3 in /usr/local/lib/python3.11/dist-packages (from together) (3.12.14)\n",
            "Requirement already satisfied: click<9.0.0,>=8.1.7 in /usr/local/lib/python3.11/dist-packages (from together) (8.2.1)\n",
            "Collecting eval-type-backport<0.3.0,>=0.1.3 (from together)\n",
            "  Downloading eval_type_backport-0.2.2-py3-none-any.whl.metadata (2.2 kB)\n",
            "Requirement already satisfied: filelock<4.0.0,>=3.13.1 in /usr/local/lib/python3.11/dist-packages (from together) (3.18.0)\n",
            "Requirement already satisfied: numpy>=1.23.5 in /usr/local/lib/python3.11/dist-packages (from together) (2.0.2)\n",
            "Requirement already satisfied: pillow<12.0.0,>=11.1.0 in /usr/local/lib/python3.11/dist-packages (from together) (11.3.0)\n",
            "Requirement already satisfied: pydantic<3.0.0,>=2.6.3 in /usr/local/lib/python3.11/dist-packages (from together) (2.11.7)\n",
            "Requirement already satisfied: requests<3.0.0,>=2.31.0 in /usr/local/lib/python3.11/dist-packages (from together) (2.32.3)\n",
            "Requirement already satisfied: rich<15.0.0,>=13.8.1 in /usr/local/lib/python3.11/dist-packages (from together) (13.9.4)\n",
            "Requirement already satisfied: tabulate<0.10.0,>=0.9.0 in /usr/local/lib/python3.11/dist-packages (from together) (0.9.0)\n",
            "Requirement already satisfied: tqdm<5.0.0,>=4.66.2 in /usr/local/lib/python3.11/dist-packages (from together) (4.67.1)\n",
            "Collecting typer<0.16,>=0.9 (from together)\n",
            "  Downloading typer-0.15.4-py3-none-any.whl.metadata (15 kB)\n",
            "Requirement already satisfied: aiohappyeyeballs>=2.5.0 in /usr/local/lib/python3.11/dist-packages (from aiohttp<4.0.0,>=3.9.3->together) (2.6.1)\n",
            "Requirement already satisfied: aiosignal>=1.4.0 in /usr/local/lib/python3.11/dist-packages (from aiohttp<4.0.0,>=3.9.3->together) (1.4.0)\n",
            "Requirement already satisfied: attrs>=17.3.0 in /usr/local/lib/python3.11/dist-packages (from aiohttp<4.0.0,>=3.9.3->together) (25.3.0)\n",
            "Requirement already satisfied: frozenlist>=1.1.1 in /usr/local/lib/python3.11/dist-packages (from aiohttp<4.0.0,>=3.9.3->together) (1.7.0)\n",
            "Requirement already satisfied: multidict<7.0,>=4.5 in /usr/local/lib/python3.11/dist-packages (from aiohttp<4.0.0,>=3.9.3->together) (6.6.3)\n",
            "Requirement already satisfied: propcache>=0.2.0 in /usr/local/lib/python3.11/dist-packages (from aiohttp<4.0.0,>=3.9.3->together) (0.3.2)\n",
            "Requirement already satisfied: yarl<2.0,>=1.17.0 in /usr/local/lib/python3.11/dist-packages (from aiohttp<4.0.0,>=3.9.3->together) (1.20.1)\n",
            "Requirement already satisfied: annotated-types>=0.6.0 in /usr/local/lib/python3.11/dist-packages (from pydantic<3.0.0,>=2.6.3->together) (0.7.0)\n",
            "Requirement already satisfied: pydantic-core==2.33.2 in /usr/local/lib/python3.11/dist-packages (from pydantic<3.0.0,>=2.6.3->together) (2.33.2)\n",
            "Requirement already satisfied: typing-extensions>=4.12.2 in /usr/local/lib/python3.11/dist-packages (from pydantic<3.0.0,>=2.6.3->together) (4.14.1)\n",
            "Requirement already satisfied: typing-inspection>=0.4.0 in /usr/local/lib/python3.11/dist-packages (from pydantic<3.0.0,>=2.6.3->together) (0.4.1)\n",
            "Requirement already satisfied: charset-normalizer<4,>=2 in /usr/local/lib/python3.11/dist-packages (from requests<3.0.0,>=2.31.0->together) (3.4.2)\n",
            "Requirement already satisfied: idna<4,>=2.5 in /usr/local/lib/python3.11/dist-packages (from requests<3.0.0,>=2.31.0->together) (3.10)\n",
            "Requirement already satisfied: urllib3<3,>=1.21.1 in /usr/local/lib/python3.11/dist-packages (from requests<3.0.0,>=2.31.0->together) (2.5.0)\n",
            "Requirement already satisfied: certifi>=2017.4.17 in /usr/local/lib/python3.11/dist-packages (from requests<3.0.0,>=2.31.0->together) (2025.7.14)\n",
            "Requirement already satisfied: markdown-it-py>=2.2.0 in /usr/local/lib/python3.11/dist-packages (from rich<15.0.0,>=13.8.1->together) (3.0.0)\n",
            "Requirement already satisfied: pygments<3.0.0,>=2.13.0 in /usr/local/lib/python3.11/dist-packages (from rich<15.0.0,>=13.8.1->together) (2.19.2)\n",
            "Collecting click<9.0.0,>=8.1.7 (from together)\n",
            "  Downloading click-8.1.8-py3-none-any.whl.metadata (2.3 kB)\n",
            "Requirement already satisfied: shellingham>=1.3.0 in /usr/local/lib/python3.11/dist-packages (from typer<0.16,>=0.9->together) (1.5.4)\n",
            "Requirement already satisfied: mdurl~=0.1 in /usr/local/lib/python3.11/dist-packages (from markdown-it-py>=2.2.0->rich<15.0.0,>=13.8.1->together) (0.1.2)\n",
            "Downloading together-1.5.21-py3-none-any.whl (96 kB)\n",
            "\u001b[2K   \u001b[90m━━━━━━━━━━━━━━━━━━━━━━━━━━━━━━━━━━━━━━━━\u001b[0m \u001b[32m96.1/96.1 kB\u001b[0m \u001b[31m6.4 MB/s\u001b[0m eta \u001b[36m0:00:00\u001b[0m\n",
            "\u001b[?25hDownloading eval_type_backport-0.2.2-py3-none-any.whl (5.8 kB)\n",
            "Downloading typer-0.15.4-py3-none-any.whl (45 kB)\n",
            "\u001b[2K   \u001b[90m━━━━━━━━━━━━━━━━━━━━━━━━━━━━━━━━━━━━━━━━\u001b[0m \u001b[32m45.3/45.3 kB\u001b[0m \u001b[31m4.2 MB/s\u001b[0m eta \u001b[36m0:00:00\u001b[0m\n",
            "\u001b[?25hDownloading click-8.1.8-py3-none-any.whl (98 kB)\n",
            "\u001b[2K   \u001b[90m━━━━━━━━━━━━━━━━━━━━━━━━━━━━━━━━━━━━━━━━\u001b[0m \u001b[32m98.2/98.2 kB\u001b[0m \u001b[31m9.4 MB/s\u001b[0m eta \u001b[36m0:00:00\u001b[0m\n",
            "\u001b[?25hInstalling collected packages: eval-type-backport, click, typer, together\n",
            "  Attempting uninstall: click\n",
            "    Found existing installation: click 8.2.1\n",
            "    Uninstalling click-8.2.1:\n",
            "      Successfully uninstalled click-8.2.1\n",
            "  Attempting uninstall: typer\n",
            "    Found existing installation: typer 0.16.0\n",
            "    Uninstalling typer-0.16.0:\n",
            "      Successfully uninstalled typer-0.16.0\n",
            "Successfully installed click-8.1.8 eval-type-backport-0.2.2 together-1.5.21 typer-0.15.4\n"
          ]
        }
      ]
    },
    {
      "cell_type": "code",
      "source": [
        "from google.colab import userdata\n",
        "from together import Together\n",
        "\n",
        "client = Together(api_key=userdata.get('TOGETHER_API_KEY'))\n",
        "\n",
        "def print_llm_response(prompt):\n",
        "    response = client.chat.completions.create(\n",
        "        model=\"google/gemma-3n-E4B-it\",\n",
        "        # model=\"meta-llama/Llama-3.3-70B-Instruct-Turbo-Free\",\n",
        "        messages=[\n",
        "        {\n",
        "            \"role\": \"user\",\n",
        "            \"content\": prompt\n",
        "        }\n",
        "        ]\n",
        "    )\n",
        "    return response.choices[0].message.content"
      ],
      "metadata": {
        "id": "jsGJQflW3EEl"
      },
      "id": "jsGJQflW3EEl",
      "execution_count": 3,
      "outputs": []
    },
    {
      "cell_type": "markdown",
      "source": [
        "### ارسال پرامپت و دریافت جواب"
      ],
      "metadata": {
        "id": "Ra6_zzQM3SXp"
      },
      "id": "Ra6_zzQM3SXp"
    },
    {
      "cell_type": "code",
      "execution_count": 5,
      "id": "03b730a6",
      "metadata": {
        "colab": {
          "base_uri": "https://localhost:8080/"
        },
        "id": "03b730a6",
        "outputId": "f54faef1-aa0b-47df-cb1f-bc9e6de756be"
      },
      "outputs": [
        {
          "output_type": "stream",
          "name": "stdout",
          "text": [
            "ای ماهان، چون ماه درخشان،\n",
            "در دل ما زدی نشان.\n",
            "ده سال ز مرده‌ای، چه زیبا،\n",
            "چو گل بهاری، چو 새 صبا.\n",
            "\n",
            "به خرد و دانش، تو پر توان،\n",
            "به بازی و خند، چو جهان.\n",
            "ز نام تو، به یاد آیم من،\n",
            "به شاهنشاهی، به کار و فن.\n",
            "\n",
            "دل‌تو چو الماس، پاک و روشن،\n",
            "نفس‌تو چو عود، خوش و مضمون.\n",
            "بفرما ای پسر، به هر چه خواهی،\n",
            "به سلامت و عافیت، همی خواهی.\n",
            "\n",
            "بخوان و شنوا، به هر زمان،\n",
            "به یاد پدر، به یاد جهان.\n",
            "بपेش آری، به هر چه هستی،\n",
            "به سعادت و خوشبختی، همی هستی.\n",
            "\n"
          ]
        }
      ],
      "source": [
        "name = \"ماهان\"\n",
        "age = 10\n",
        "prompt = f\"\"\"یک شعر در مورد پسرم\n",
        "             {name}\n",
        "             به سبک شاعر ایرانی فردوسی بگو که\n",
        "             {round(age)}\n",
        "             سن داره.\"\"\"\n",
        "response = print_llm_response(prompt)\n",
        "print(response)"
      ]
    },
    {
      "cell_type": "markdown",
      "id": "25fc5429",
      "metadata": {
        "id": "25fc5429"
      },
      "source": [
        "## تمرین بیش‌تر\n",
        "\n",
        "بر بنیان یافته‌ این درس تمرین کن.\n",
        "\n",
        "<b>نیاز شد از چت‌بات استفاده کن.</b>"
      ]
    },
    {
      "cell_type": "code",
      "execution_count": null,
      "id": "5c38d622",
      "metadata": {
        "id": "5c38d622",
        "colab": {
          "base_uri": "https://localhost:8080/"
        },
        "outputId": "dc8efcfc-de54-4cf5-dcec-753eb85860a0"
      },
      "outputs": [
        {
          "output_type": "stream",
          "name": "stdout",
          "text": [
            "Your lucky number is 70!\n"
          ]
        }
      ],
      "source": [
        "# عدد مورد علاقه خودت رو انتخاب و در ۱۰ ضرب و در متغیری ذخیره کن.\n",
        "# عدد حاصل رو چاپ کن. این رو برای دوستان یا نزدیکان خودت تکرار کن.\n",
        "\n",
        "lucky_number = 7 * 10\n",
        "print(f\"Your lucky number is {lucky_number}!\")"
      ]
    },
    {
      "cell_type": "markdown",
      "source": [
        "حالا اگر بخواهم این کار را برای دوستان یا نزدیکانم تکرار کنم، مثلاً برای اسم \"علی\" با عدد مورد علاقه‌اش (فرض کنیم 3):\n",
        "\n"
      ],
      "metadata": {
        "id": "uNxCIuuhGRKd"
      },
      "id": "uNxCIuuhGRKd"
    },
    {
      "cell_type": "code",
      "source": [
        "name = \"Ali\"\n",
        "friend_lucky_number = 3 * 10\n",
        "print(f\"{name}'s lucky number is {friend_lucky_number}!\")"
      ],
      "metadata": {
        "colab": {
          "base_uri": "https://localhost:8080/"
        },
        "id": "8CEDKFhrGI8l",
        "outputId": "921107e6-0e00-4d52-cf7d-e959f40eab30"
      },
      "id": "8CEDKFhrGI8l",
      "execution_count": null,
      "outputs": [
        {
          "output_type": "stream",
          "name": "stdout",
          "text": [
            "Ali's lucky number is 30!\n"
          ]
        }
      ]
    },
    {
      "cell_type": "code",
      "execution_count": null,
      "id": "c3f62ddb",
      "metadata": {
        "id": "c3f62ddb",
        "colab": {
          "base_uri": "https://localhost:8080/"
        },
        "outputId": "e5db9217-ee43-498a-f2f6-6f3d46d197d7"
      },
      "outputs": [
        {
          "output_type": "stream",
          "name": "stdout",
          "text": [
            "بدرنگارِ بهاری، صفای دشت‌ها\n",
            "گل‌ها شکوفه داده، رنگین‌می‌شند\n",
            "نسیم خنک می‌وزد، دل‌ها را شاد می‌کند\n",
            "طبیعت زیبا، آرامشی می‌بخشد\n",
            "\n",
            "در جنگل‌های سبز، پرندگان خوانند\n",
            "آبشارها جاری، رقصان و خندانند\n",
            "خورشید می‌تابد، بر این همه زیبایی\n",
            "طبیعت است پناه، از هر غم و تنهایی\n",
            "\n",
            "در کوهستان‌های بلند، صخره‌ها استوارند\n",
            "آسمان بی‌انتها، رازها پنهان دارند\n",
            "طبیعت است درس، از صبر و استقامت\n",
            "زیبا و دل‌انگیز، با قدرت و سلامت\n",
            "\n",
            "ای طبیعت پاک، ای منبع آرامش\n",
            "تو هستی جلوه‌ای از قدرت و دانش\n",
            "با تو زندگی، به سعادت می‌رسد\n",
            "در آغوش تو، قلب‌ها پر می‌زند.\n",
            "\n"
          ]
        }
      ],
      "source": [
        "# پرامپتی به مدل زبانی بده که تعداد بیت شعر رو به صورت متغیر بفرسته.\n",
        "# از متغیر «پرامپت» استفاده کن تا استرینگ نهایی رو\n",
        "# قبل از ارسال به هوش مصنوعی در خودش ذخیره کنه.\n",
        "\n",
        "number_of_lines = 4\n",
        "prompt = f\"یک شعر فارسی {number_of_lines} بیتی درباره طبیعت بسازید.\"\n",
        "response = print_llm_response(prompt)\n",
        "\n",
        "print(response)"
      ]
    },
    {
      "cell_type": "code",
      "source": [
        "# تابعی (با کمک هوش مصنوعی) تعریف کن که\n",
        "# این تابعی که بر اساس بسته توگدر ساختیم\n",
        "# طوری اصلاح کنه که پاسخ های خلاقانه تری به ما بده."
      ],
      "metadata": {
        "id": "-BAfmEx4772v"
      },
      "id": "-BAfmEx4772v",
      "execution_count": null,
      "outputs": []
    },
    {
      "cell_type": "code",
      "source": [
        "# : بعد از تلاش خودت این پایین رو هم بخون\n",
        "\n",
        "\n",
        "# این پرامپت رو من دادم:\n",
        "\n",
        "\"\"\"\n",
        "\n",
        "چت‌جی‌پی‌تی این تکه کد رو من برای کار با توگدر ساختم\n",
        "\n",
        "from google.colab import userdata\n",
        "from together import Together\n",
        "\n",
        "client = Together(api_key=userdata.get('TOGETHER_API_KEY'))\n",
        "\n",
        "def print_llm_response(prompt):\n",
        "    response = client.chat.completions.create(\n",
        "        model=\"google/gemma-3n-E4B-it\",\n",
        "        # model=\"meta-llama/Llama-3.3-70B-Instruct-Turbo-Free\",\n",
        "        messages=[\n",
        "        {\n",
        "            \"role\": \"user\",\n",
        "            \"content\": prompt\n",
        "        }\n",
        "        ]\n",
        "    )\n",
        "    return response.choices[0].message.content\n",
        "\n",
        "\n",
        "طوری اصلاحش کن که پاسخ ها درجه خلاقیت بیشتری داشته باشن و این قابل کنترل هم باشه.\n",
        "\n",
        "\"\"\"\n",
        "\n",
        "#این جواب رو من از چت جی پی تی گرفتم:\n",
        "\n",
        "from google.colab import userdata\n",
        "from together import Together\n",
        "\n",
        "client = Together(api_key=userdata.get('TOGETHER_API_KEY'))\n",
        "\n",
        "def print_llm_response(prompt, temperature=0.7):\n",
        "    response = client.chat.completions.create(\n",
        "        model=\"google/gemma-3n-E4B-it\",\n",
        "        messages=[\n",
        "            {\n",
        "                \"role\": \"user\",\n",
        "                \"content\": prompt\n",
        "            }\n",
        "        ],\n",
        "        temperature=temperature\n",
        "    )\n",
        "    return response.choices[0].message.content\n"
      ],
      "metadata": {
        "id": "fBJrBqfu863x"
      },
      "id": "fBJrBqfu863x",
      "execution_count": null,
      "outputs": []
    },
    {
      "cell_type": "code",
      "source": [
        "\"\"\"\n",
        "کد شما برای کار با مدل‌های زبانی هوشمند در بستر توگدر ساخته شده است.\n",
        "برای اینکه بتوانید میزان خلاقیت یا تنوع پاسخ‌ها را کنترل کنید، باید برخی ویژگی‌ها مانند «دما» و «نمونه‌گیری هسته‌ای» را به بخش درخواست خود اضافه نمایید.\n",
        "\n",
        "توضیح ویژگی‌ها:\n",
        "دما: هرچه مقدار این ویژگی بیشتر باشد (مثلاً هشت‌دهم یا یک)، پاسخ مدل خلاقانه‌تر و غیرقابل پیش‌بینی‌تر خواهد شد. اگر مقدار این ویژگی کمتر انتخاب شود (مثلاً دو‌دهم)، پاسخ مدل مطمئن‌تر و یکنواخت‌تر خواهد بود.\n",
        "\n",
        "نمونه‌گیری هسته‌ای: این ویژگی هم روشی دیگر برای کنترل میزان تنوع پاسخ مدل است. معمولاً مقدار آن بین هفت‌دهم تا یک انتخاب می‌شود.\n",
        "\"\"\"\n",
        "from google.colab import userdata\n",
        "from together import Together\n",
        "\n",
        "client = Together(api_key=userdata.get('TOGETHER_API_KEY'))\n",
        "\n",
        "def print_llm_response(prompt, temperature=0.8, top_p=0.95):\n",
        "    response = client.chat.completions.create(\n",
        "        model=\"google/gemma-3n-E4B-it\",\n",
        "        messages=[\n",
        "            {\n",
        "                \"role\": \"user\",\n",
        "                \"content\": prompt\n",
        "            }\n",
        "        ],\n",
        "        temperature=temperature,\n",
        "        top_p=top_p\n",
        "    )\n",
        "    return response.choices[0].message.content\n",
        "\n",
        "# مثال استفاده:\n",
        "response = print_llm_response(\"یک داستان کوتاه خنده‌دار بنویس!\", temperature=1, top_p=1)\n",
        "print(response)\n"
      ],
      "metadata": {
        "colab": {
          "base_uri": "https://localhost:8080/"
        },
        "id": "HVJux6Cw_x4A",
        "outputId": "63329b17-0aac-4d8e-f894-fcd3d6c6384a"
      },
      "id": "HVJux6Cw_x4A",
      "execution_count": 6,
      "outputs": [
        {
          "output_type": "stream",
          "name": "stdout",
          "text": [
            "باشه، این یه داستان کوتاه خنده‌داره:\n",
            "\n",
            "**آقای پشمالو و سوسک پیتزا**\n",
            "\n",
            "آقای پشمالو، یه گربه خانگی خیلی پشمالو و خوش‌حال بود که عاشق خوابیدن بود. یه روز، در حالی که داشت توی آفتاب قیلوله می‌کرد، یه صدای عجیب و غریب شنید. یه صدای «ززززز… ززززز…»!\n",
            "\n",
            "چشماش رو باز کرد و دید یه سوسک بزرگ و خوشحال داره روی پیتزای باقی‌مونده روی میز ناهارخوری قدم می‌زنه! اما این سوسک معمولی نبود. این سوسک یه کلاه نایاکی پوشیده بود و یه دستمال گردن قرمز هم دور گردنش بسته بود.\n",
            "\n",
            "آقای پشمالو که از این صحنه شوکه شده بود، با صدای بلندی گفت: «هی! تو... تو کی هستی؟ و چرا داری پیتزای من رو می‌خوری؟!»\n",
            "\n",
            "سوسک با لبخندی شیطنت‌آمیز گفت: «من آقای سوسک‌سلاوی هستم، قهرمان آشپزخانه! و این پیتزا رو دارم برای یه ماموریت مهم آماده می‌کنم!»\n",
            "\n",
            "آقای پشمالو با تعجب پرسید: «ماموریت مهم؟ چه ماموریتی؟»\n",
            "\n",
            "آقای سوسک‌سلاوی با جدیت گفت: «باید این پیتزا رو به مهمونی سوسک‌های زیر سینک برسونم! همه‌شون از وانتان پیتزا خسته شدن و یه تغییر طعم می‌خوان!»\n",
            "\n",
            "آقای پشمالو نتونست جلوی خنده‌اش رو بگیره. این سوسک چه طرز حرف زدن داشت!\n",
            "\n",
            "وقتی آقای پشمالو کمی آرام شد، گفت: «باشه، باشه... من بهت کمک می‌کنم. اما اگه مچت بگیرم، حتماً من هم یه تکه پیتزا می‌خورم!»\n",
            "\n",
            "و این‌گونه بود که آقای پشمالو و آقای سوسک‌سلاوی با هم سفری برای تحویل پیتزا به سوسک‌های زیر سینک آغاز کردند. در طول مسیر، با موش‌های این و آن برخورد کردند، از زیر لوله‌ها عبور کردند و حتی یک بار با شمعدان برخورد کردند!\n",
            "\n",
            "در نهایت، آقای سوسک‌سلاوی با موفقیت پیتزا رو به مهمونی رسوند. سوسک‌های زیر سینک از آقای پشمالو تشکر کردن و مهمونی رو به جشن و شادی کشوندن. آقای سوسک‌سلاوی هم به آقای پشمالو قول داد که همیشه برای او پیتزای خاصی بپزه.\n",
            "\n",
            "آقای پشمالو با خنده به خانه برگشت و قبل از اینکه بخوابه، یه تکه پیتزا رو به خودش داد. این یه شب بود که فهمید حتی عجیب‌ترین موجودات هم می‌تونن دوست باشن... و عاشق پیتزا!\n",
            "\n"
          ]
        }
      ]
    }
  ],
  "metadata": {
    "kernelspec": {
      "display_name": "Python 3 (ipykernel)",
      "language": "python",
      "name": "python3"
    },
    "language_info": {
      "codemirror_mode": {
        "name": "ipython",
        "version": 3
      },
      "file_extension": ".py",
      "mimetype": "text/x-python",
      "name": "python",
      "nbconvert_exporter": "python",
      "pygments_lexer": "ipython3",
      "version": "3.9.19"
    },
    "colab": {
      "provenance": []
    }
  },
  "nbformat": 4,
  "nbformat_minor": 5
}