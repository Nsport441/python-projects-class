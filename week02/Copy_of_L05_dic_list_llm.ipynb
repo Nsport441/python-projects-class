{
  "cells": [
    {
      "cell_type": "markdown",
      "id": "f6bf49f7-21f0-47bc-9a3e-7fd325a0b9bf",
      "metadata": {
        "id": "f6bf49f7-21f0-47bc-9a3e-7fd325a0b9bf"
      },
      "source": [
        "# هفته دوم - درس ۵: پروژه لیست و دیکشنری"
      ]
    },
    {
      "cell_type": "markdown",
      "id": "a9f73957",
      "metadata": {
        "id": "a9f73957"
      },
      "source": [
        "درس قبلی از دیکشنری‌ برای انجام کارها به اولویت استفاده کردیم. این درس از ترکیب دیکشنری و لیست برای ساخت پرامپت پویا استفاده می‌کنیم و دستور غذاهایی می‌سازیم که با علایق و محدودیت‌ها و تجربه آشپزی دوستان سازگار بشه.  "
      ]
    },
    {
      "cell_type": "markdown",
      "source": [
        "## راه‌اندازی توگدر برای کار با هوش مصنوعی"
      ],
      "metadata": {
        "id": "fuael9riQBiI"
      },
      "id": "fuael9riQBiI"
    },
    {
      "cell_type": "code",
      "execution_count": 1,
      "id": "0669df5d-5013-466b-90c8-679364ff80a1",
      "metadata": {
        "id": "0669df5d-5013-466b-90c8-679364ff80a1",
        "colab": {
          "base_uri": "https://localhost:8080/"
        },
        "outputId": "c01cf1be-bcbb-43ca-a387-16e96a288eb1",
        "collapsed": true
      },
      "outputs": [
        {
          "output_type": "stream",
          "name": "stdout",
          "text": [
            "Collecting together\n",
            "  Downloading together-1.5.21-py3-none-any.whl.metadata (15 kB)\n",
            "Requirement already satisfied: aiohttp<4.0.0,>=3.9.3 in /usr/local/lib/python3.11/dist-packages (from together) (3.12.14)\n",
            "Requirement already satisfied: click<9.0.0,>=8.1.7 in /usr/local/lib/python3.11/dist-packages (from together) (8.2.1)\n",
            "Collecting eval-type-backport<0.3.0,>=0.1.3 (from together)\n",
            "  Downloading eval_type_backport-0.2.2-py3-none-any.whl.metadata (2.2 kB)\n",
            "Requirement already satisfied: filelock<4.0.0,>=3.13.1 in /usr/local/lib/python3.11/dist-packages (from together) (3.18.0)\n",
            "Requirement already satisfied: numpy>=1.23.5 in /usr/local/lib/python3.11/dist-packages (from together) (2.0.2)\n",
            "Requirement already satisfied: pillow<12.0.0,>=11.1.0 in /usr/local/lib/python3.11/dist-packages (from together) (11.3.0)\n",
            "Requirement already satisfied: pydantic<3.0.0,>=2.6.3 in /usr/local/lib/python3.11/dist-packages (from together) (2.11.7)\n",
            "Requirement already satisfied: requests<3.0.0,>=2.31.0 in /usr/local/lib/python3.11/dist-packages (from together) (2.32.3)\n",
            "Requirement already satisfied: rich<15.0.0,>=13.8.1 in /usr/local/lib/python3.11/dist-packages (from together) (13.9.4)\n",
            "Requirement already satisfied: tabulate<0.10.0,>=0.9.0 in /usr/local/lib/python3.11/dist-packages (from together) (0.9.0)\n",
            "Requirement already satisfied: tqdm<5.0.0,>=4.66.2 in /usr/local/lib/python3.11/dist-packages (from together) (4.67.1)\n",
            "Collecting typer<0.16,>=0.9 (from together)\n",
            "  Downloading typer-0.15.4-py3-none-any.whl.metadata (15 kB)\n",
            "Requirement already satisfied: aiohappyeyeballs>=2.5.0 in /usr/local/lib/python3.11/dist-packages (from aiohttp<4.0.0,>=3.9.3->together) (2.6.1)\n",
            "Requirement already satisfied: aiosignal>=1.4.0 in /usr/local/lib/python3.11/dist-packages (from aiohttp<4.0.0,>=3.9.3->together) (1.4.0)\n",
            "Requirement already satisfied: attrs>=17.3.0 in /usr/local/lib/python3.11/dist-packages (from aiohttp<4.0.0,>=3.9.3->together) (25.3.0)\n",
            "Requirement already satisfied: frozenlist>=1.1.1 in /usr/local/lib/python3.11/dist-packages (from aiohttp<4.0.0,>=3.9.3->together) (1.7.0)\n",
            "Requirement already satisfied: multidict<7.0,>=4.5 in /usr/local/lib/python3.11/dist-packages (from aiohttp<4.0.0,>=3.9.3->together) (6.6.3)\n",
            "Requirement already satisfied: propcache>=0.2.0 in /usr/local/lib/python3.11/dist-packages (from aiohttp<4.0.0,>=3.9.3->together) (0.3.2)\n",
            "Requirement already satisfied: yarl<2.0,>=1.17.0 in /usr/local/lib/python3.11/dist-packages (from aiohttp<4.0.0,>=3.9.3->together) (1.20.1)\n",
            "Requirement already satisfied: annotated-types>=0.6.0 in /usr/local/lib/python3.11/dist-packages (from pydantic<3.0.0,>=2.6.3->together) (0.7.0)\n",
            "Requirement already satisfied: pydantic-core==2.33.2 in /usr/local/lib/python3.11/dist-packages (from pydantic<3.0.0,>=2.6.3->together) (2.33.2)\n",
            "Requirement already satisfied: typing-extensions>=4.12.2 in /usr/local/lib/python3.11/dist-packages (from pydantic<3.0.0,>=2.6.3->together) (4.14.1)\n",
            "Requirement already satisfied: typing-inspection>=0.4.0 in /usr/local/lib/python3.11/dist-packages (from pydantic<3.0.0,>=2.6.3->together) (0.4.1)\n",
            "Requirement already satisfied: charset-normalizer<4,>=2 in /usr/local/lib/python3.11/dist-packages (from requests<3.0.0,>=2.31.0->together) (3.4.2)\n",
            "Requirement already satisfied: idna<4,>=2.5 in /usr/local/lib/python3.11/dist-packages (from requests<3.0.0,>=2.31.0->together) (3.10)\n",
            "Requirement already satisfied: urllib3<3,>=1.21.1 in /usr/local/lib/python3.11/dist-packages (from requests<3.0.0,>=2.31.0->together) (2.5.0)\n",
            "Requirement already satisfied: certifi>=2017.4.17 in /usr/local/lib/python3.11/dist-packages (from requests<3.0.0,>=2.31.0->together) (2025.7.14)\n",
            "Requirement already satisfied: markdown-it-py>=2.2.0 in /usr/local/lib/python3.11/dist-packages (from rich<15.0.0,>=13.8.1->together) (3.0.0)\n",
            "Requirement already satisfied: pygments<3.0.0,>=2.13.0 in /usr/local/lib/python3.11/dist-packages (from rich<15.0.0,>=13.8.1->together) (2.19.2)\n",
            "Collecting click<9.0.0,>=8.1.7 (from together)\n",
            "  Downloading click-8.1.8-py3-none-any.whl.metadata (2.3 kB)\n",
            "Requirement already satisfied: shellingham>=1.3.0 in /usr/local/lib/python3.11/dist-packages (from typer<0.16,>=0.9->together) (1.5.4)\n",
            "Requirement already satisfied: mdurl~=0.1 in /usr/local/lib/python3.11/dist-packages (from markdown-it-py>=2.2.0->rich<15.0.0,>=13.8.1->together) (0.1.2)\n",
            "Downloading together-1.5.21-py3-none-any.whl (96 kB)\n",
            "\u001b[2K   \u001b[90m━━━━━━━━━━━━━━━━━━━━━━━━━━━━━━━━━━━━━━━━\u001b[0m \u001b[32m96.1/96.1 kB\u001b[0m \u001b[31m3.9 MB/s\u001b[0m eta \u001b[36m0:00:00\u001b[0m\n",
            "\u001b[?25hDownloading eval_type_backport-0.2.2-py3-none-any.whl (5.8 kB)\n",
            "Downloading typer-0.15.4-py3-none-any.whl (45 kB)\n",
            "\u001b[2K   \u001b[90m━━━━━━━━━━━━━━━━━━━━━━━━━━━━━━━━━━━━━━━━\u001b[0m \u001b[32m45.3/45.3 kB\u001b[0m \u001b[31m3.3 MB/s\u001b[0m eta \u001b[36m0:00:00\u001b[0m\n",
            "\u001b[?25hDownloading click-8.1.8-py3-none-any.whl (98 kB)\n",
            "\u001b[2K   \u001b[90m━━━━━━━━━━━━━━━━━━━━━━━━━━━━━━━━━━━━━━━━\u001b[0m \u001b[32m98.2/98.2 kB\u001b[0m \u001b[31m7.7 MB/s\u001b[0m eta \u001b[36m0:00:00\u001b[0m\n",
            "\u001b[?25hInstalling collected packages: eval-type-backport, click, typer, together\n",
            "  Attempting uninstall: click\n",
            "    Found existing installation: click 8.2.1\n",
            "    Uninstalling click-8.2.1:\n",
            "      Successfully uninstalled click-8.2.1\n",
            "  Attempting uninstall: typer\n",
            "    Found existing installation: typer 0.16.0\n",
            "    Uninstalling typer-0.16.0:\n",
            "      Successfully uninstalled typer-0.16.0\n",
            "Successfully installed click-8.1.8 eval-type-backport-0.2.2 together-1.5.21 typer-0.15.4\n"
          ]
        }
      ],
      "source": [
        "!pip install together"
      ]
    },
    {
      "cell_type": "code",
      "source": [
        "from google.colab import userdata\n",
        "from together import Together\n",
        "\n",
        "client = Together(api_key=userdata.get('TOGETHER_API_KEY'))\n",
        "\n",
        "def print_llm_response(prompt):\n",
        "    response = client.chat.completions.create(\n",
        "        model=\"google/gemma-3n-E4B-it\",\n",
        "        # model=\"meta-llama/Llama-3.3-70B-Instruct-Turbo-Free\",\n",
        "        messages=[\n",
        "        {\n",
        "            \"role\": \"user\",\n",
        "            \"content\": prompt\n",
        "        }\n",
        "        ]\n",
        "    )\n",
        "    return response.choices[0].message.content"
      ],
      "metadata": {
        "id": "k-hLKQD1QG1j"
      },
      "id": "k-hLKQD1QG1j",
      "execution_count": 2,
      "outputs": []
    },
    {
      "cell_type": "markdown",
      "id": "f2ddd461",
      "metadata": {
        "id": "f2ddd461"
      },
      "source": [
        "## دیکشنری علایق غذایی\n",
        "\n",
        "دیشکنری‌ها برای چیدن چند متغیر مرتبط با یک موجودیت مفید هستن.\n",
        "\n",
        "دیکشنری پایین رو ببین: علایق غذایی و تجربه آشپزی رضا رو در خودش جا داده."
      ]
    },
    {
      "cell_type": "code",
      "execution_count": 6,
      "id": "5ccb6d62",
      "metadata": {
        "id": "5ccb6d62"
      },
      "outputs": [],
      "source": [
        "food_preferences_reza = {\n",
        "        \"dietary_restrictions\": \"vegetarian\",\n",
        "        \"favorite_ingredients\": [\"tofu\", \"olives\"],\n",
        "        \"experience_level\": \"intermediate\",\n",
        "        \"maximum_spice_level\":6 ,\n",
        "}"
      ]
    },
    {
      "cell_type": "markdown",
      "id": "b27a261d",
      "metadata": {
        "id": "b27a261d"
      },
      "source": [
        "این دیکشنری چهار کلید داره."
      ]
    },
    {
      "cell_type": "code",
      "execution_count": null,
      "id": "8849cd3c",
      "metadata": {
        "id": "8849cd3c",
        "colab": {
          "base_uri": "https://localhost:8080/"
        },
        "outputId": "a59b8df0-819a-404d-cdef-781a0f9a299c"
      },
      "outputs": [
        {
          "output_type": "stream",
          "name": "stdout",
          "text": [
            "dict_keys(['dietary_restrictions', 'favorite_ingredients', 'experience_level', 'maximum_spice_level'])\n"
          ]
        }
      ],
      "source": [
        "print(food_preferences_reza.keys())"
      ]
    },
    {
      "cell_type": "markdown",
      "id": "d73a2a44",
      "metadata": {
        "id": "d73a2a44"
      },
      "source": [
        "و مقدارهایی با نوع‌داده‌های گوناگون: لیست، استرینگ و عدد صحیح"
      ]
    },
    {
      "cell_type": "code",
      "execution_count": null,
      "id": "31f98465",
      "metadata": {
        "id": "31f98465",
        "colab": {
          "base_uri": "https://localhost:8080/"
        },
        "outputId": "8a83740a-ff93-4806-ec94-9dac3cd11b67"
      },
      "outputs": [
        {
          "output_type": "stream",
          "name": "stdout",
          "text": [
            "dict_values(['vegetarian', ['tofu', 'olives'], 'intermediate', 6])\n"
          ]
        }
      ],
      "source": [
        "print(food_preferences_reza.values())"
      ]
    },
    {
      "cell_type": "markdown",
      "id": "4d786ed3",
      "metadata": {
        "id": "4d786ed3"
      },
      "source": [
        "حالا بیا از این داده‌ها پرامپت‌ پویایی بسازیم و به هوش مصنوعی بدیم تا برامون دستور غذاهایی متناسب با شرایط رضا بده."
      ]
    },
    {
      "cell_type": "markdown",
      "id": "5241f8b9",
      "metadata": {
        "id": "5241f8b9"
      },
      "source": [
        "## استفاده از کلیدها و مقدارها در پرامپت"
      ]
    },
    {
      "cell_type": "markdown",
      "id": "6a8f30dc",
      "metadata": {
        "id": "6a8f30dc"
      },
      "source": [
        "پرامپت پایین از همه اطلاعات موجود دیکشنری رضا برای ساخت دستور غذای سفارشی استفاده کرده."
      ]
    },
    {
      "cell_type": "code",
      "execution_count": null,
      "id": "463a6d2a",
      "metadata": {
        "id": "463a6d2a"
      },
      "outputs": [],
      "source": [
        "prompt = f\"\"\"لطفا یک دستور غذا پیشنهاد کن که\n",
        "شامل این مواد باشه:\n",
        "{food_preferences_reza[\"favorite_ingredients\"]}.\n",
        "این دستور غذا باید به محدودیت‌های رژیم غذایی زیر پایبند باشه:\n",
        "{food_preferences_reza[\"dietary_restrictions\"]}.\n",
        "دشواری این دستور غذا باید در این سطح باشه:\n",
        "{food_preferences_reza[\"experience_level\"]}\n",
        "حداکثر مقدار تندی در  مقیاس ۱۰ باید این عدد باشه:\n",
        "{food_preferences_reza[\"maximum_spice_level\"]}\n",
        "توضیح این دستور غذا باید در حد دو جمله باشه.\n",
        "\"\"\""
      ]
    },
    {
      "cell_type": "markdown",
      "id": "b24af997",
      "metadata": {
        "id": "b24af997"
      },
      "source": [
        "بیا پرامپت پویای بالا رو در مورد رضا چاپ کنیم."
      ]
    },
    {
      "cell_type": "code",
      "execution_count": null,
      "id": "6cceec03-639e-460c-a0d6-b34adb2cd28d",
      "metadata": {
        "id": "6cceec03-639e-460c-a0d6-b34adb2cd28d",
        "colab": {
          "base_uri": "https://localhost:8080/"
        },
        "outputId": "1e3965bf-eac5-4779-fa9d-35e6495f12ee"
      },
      "outputs": [
        {
          "output_type": "stream",
          "name": "stdout",
          "text": [
            "لطفا یک دستور غذا پیشنهاد کن که\n",
            "شامل این مواد باشه:\n",
            "['tofu', 'olives'].\n",
            "این دستور غذا باید به محدودیت‌های رژیم غذایی زیر پایبند باشه:\n",
            "vegetarian.\n",
            "دشواری این دستور غذا باید در این سطح باشه:\n",
            "intermediate\n",
            "حداکثر مقدار تندی در  مقیاس ۱۰ باید این عدد باشه:\n",
            "6\n",
            "توضیح این دستور غذا باید در حد دو جمله باشه.\n",
            "\n"
          ]
        }
      ],
      "source": [
        "print(prompt)"
      ]
    },
    {
      "cell_type": "markdown",
      "id": "10b37203",
      "metadata": {
        "id": "10b37203"
      },
      "source": [
        "حالا می‌تونی این پرامپت رو که در حال حاضر با اطلاعات رضا پر شده به هوش مصنوعی بدی تا دستور غذایی مناسب شرایط رضا تولید کنه:"
      ]
    },
    {
      "cell_type": "code",
      "execution_count": null,
      "id": "14850b74",
      "metadata": {
        "id": "14850b74",
        "colab": {
          "base_uri": "https://localhost:8080/"
        },
        "outputId": "faad0a7a-4c15-4814-99d7-caf97932e508"
      },
      "outputs": [
        {
          "output_type": "stream",
          "name": "stdout",
          "text": [
            "## خوراک توفو و زیتون با طعم مدیترانه ای (Vegetarian)\n",
            "\n",
            "این دستور یک غذای خوشمزه و مقوی با ترکیب طعم های مدیترانه ای است، که توفو و زیتون را به خوبی با یکدیگر هماهنگ می کند. این غذا با کمی تندی ملایم، یک گزینه عالی برای شام یا غذای اصلی است.\n",
            "\n",
            "**مواد لازم:**\n",
            "\n",
            "*   توفو سفت: 300 گرم، خرد شده به قطعات 2 سانتی متری\n",
            "*   زیتون سیاه یا سبز (ترجیحا ترکیبی): 1 پیمانه، خرد شده\n",
            "*   پیاز: 1 عدد، خرد شده\n",
            "*   سیر: 3 حبه، خرد شده\n",
            "*   فلفل دلمه‌ای قرمز: 1 عدد، خرد شده\n",
            "*   گوجه فرنگی خرد شده: 400 گرم (تخمه گرفته شده)\n",
            "*   آب لیموی تازه: 2 قاشق غذاخوری\n",
            "*   روغن زیتون: 3 قاشق غذاخوری\n",
            "*   پودر پاپریکا: 1 قاشق چایخوری\n",
            "*   زیره سبز: ½ قاشق چایخوری\n",
            "*   فلفل قرمز (اختیاری، برای تندی): ¼ تا ½ قاشق چایخوری (بسته به سلیقه)\n",
            "*   نمک و فلفل سیاه: به میزان لازم\n",
            "*   جعفری تازه خرد شده: برای تزیین\n",
            "\n",
            "**طرز تهیه:**\n",
            "\n",
            "1.  توفو خرد شده را به مدت 10 دقیقه در آب نمک قرار دهید تا اضافی آن گرفته شود. سپس آن را آبکش کرده و با دستمال کاغذی خشک کنید.\n",
            "2.  در یک تابه بزرگ، روغن زیتون را روی حرارت متوسط گرم کنید. پیاز و سیر را اضافه کرده و تفت دهید تا نرم شوند.\n",
            "3.  فلفل دلمه‌ای و گوجه فرنگی خرد شده را اضافه کرده و حدود 5-7 دقیقه تفت دهید تا نرم شوند.\n",
            "4.  پودر پاپریکا، زیره سبز و فلفل قرمز (در صورت استفاده) را اضافه کرده و 1 دقیقه دیگر تفت دهید تا عطر آنها بلند شود.\n",
            "5.  توفو خرد شده و زیتون را اضافه کرده و به آرامی هم بزنید.\n",
            "6.  آب لیموی تازه، نمک و فلفل سیاه را اضافه کرده و 5-7 دقیقه دیگر تفت دهید تا طعم ها با هم ترکیب شوند و توفو کمی قهوه ای شود.\n",
            "7.  در صورت تمایل، با جعفری تازه خرد شده تزیین کرده و با نان یا برنج سرو کنید.\n",
            "\n",
            "**سطح تندی:** 4/10 (قابل تنظیم با کم و زیاد کردن فلفل قرمز)\n",
            "\n"
          ]
        }
      ],
      "source": [
        "res = print_llm_response(prompt)\n",
        "print(res)"
      ]
    },
    {
      "cell_type": "markdown",
      "id": "e00bb0c1",
      "metadata": {
        "id": "e00bb0c1"
      },
      "source": [
        "به به!‌ مدل دستور غذایی مناسب رضا تولید کرد.\n",
        "رضا احتمالا خوشش میاد.\n"
      ]
    },
    {
      "cell_type": "markdown",
      "id": "86e7ba47",
      "metadata": {
        "id": "86e7ba47"
      },
      "source": [
        "## اصلاح پرامپت با موادی که موجود داریم"
      ]
    },
    {
      "cell_type": "markdown",
      "id": "e813a9b6",
      "metadata": {
        "id": "e813a9b6"
      },
      "source": [
        "بیا پرامپت رو بهتر کنیم. ببینیم چه ادویه‌هایی تو خونه دارم.\n",
        "\n",
        "این مثلا لیست ادویه‌های موجود ما باشه:"
      ]
    },
    {
      "cell_type": "code",
      "execution_count": 4,
      "id": "72256217-4474-4c48-a87d-36b444c25ea6",
      "metadata": {
        "id": "72256217-4474-4c48-a87d-36b444c25ea6"
      },
      "outputs": [],
      "source": [
        "available_spices = [\"cumin\", \"turmeric\", \"oregano\", \"paprika\"]"
      ]
    },
    {
      "cell_type": "markdown",
      "id": "b2f46ab1",
      "metadata": {
        "id": "b2f46ab1"
      },
      "source": [
        "حالا این لیست رو به پرامپت اضافه کنیم:"
      ]
    },
    {
      "cell_type": "code",
      "execution_count": 7,
      "id": "3b73cd00-bf5e-4865-9a05-07e7f68b1296",
      "metadata": {
        "id": "3b73cd00-bf5e-4865-9a05-07e7f68b1296",
        "colab": {
          "base_uri": "https://localhost:8080/"
        },
        "outputId": "40bb578f-eb12-4489-d9cc-fa718bec3f5c"
      },
      "outputs": [
        {
          "output_type": "stream",
          "name": "stdout",
          "text": [
            "لطفا یک دستور غذا پیشنهاد کن که\n",
            "شامل این مواد باشه:\n",
            "['tofu', 'olives'].\n",
            "این دستور غذا باید به محدودیت‌های رژیم غذایی زیر پایبند باشه:\n",
            "vegetarian.\n",
            "دشواری این دستور غذا باید در این سطح باشه:\n",
            "intermediate\n",
            "حداکثر مقدار تندی در  مقیاس ۱۰ باید این عدد باشه:\n",
            "6\n",
            "توضیح این دستور غذا باید در حد دو جمله باشه.\n",
            "\n",
            "این دستور غذا نباید شامل موادی باشه که تو این لیست نیست:\n",
            "Spices: ['cumin', 'turmeric', 'oregano', 'paprika']\n",
            "\n"
          ]
        }
      ],
      "source": [
        "prompt = f\"\"\"لطفا یک دستور غذا پیشنهاد کن که\n",
        "شامل این مواد باشه:\n",
        "{food_preferences_reza[\"favorite_ingredients\"]}.\n",
        "این دستور غذا باید به محدودیت‌های رژیم غذایی زیر پایبند باشه:\n",
        "{food_preferences_reza[\"dietary_restrictions\"]}.\n",
        "دشواری این دستور غذا باید در این سطح باشه:\n",
        "{food_preferences_reza[\"experience_level\"]}\n",
        "حداکثر مقدار تندی در  مقیاس ۱۰ باید این عدد باشه:\n",
        "{food_preferences_reza[\"maximum_spice_level\"]}\n",
        "توضیح این دستور غذا باید در حد دو جمله باشه.\n",
        "\n",
        "این دستور غذا نباید شامل موادی باشه که تو این لیست نیست:\n",
        "Spices: {available_spices}\n",
        "\"\"\"\n",
        "\n",
        "\n",
        "print(prompt)"
      ]
    },
    {
      "cell_type": "markdown",
      "id": "4a78b961",
      "metadata": {
        "id": "4a78b961"
      },
      "source": [
        "حالا دستور غذایی رو با پرامپت اصلاح‌شده بالا دوباره تولید و داخل یک متغیر ذخیره کنیم:"
      ]
    },
    {
      "cell_type": "code",
      "execution_count": null,
      "id": "bc9f9acf",
      "metadata": {
        "id": "bc9f9acf"
      },
      "outputs": [],
      "source": [
        "recipe = print_llm_response(prompt)"
      ]
    },
    {
      "cell_type": "markdown",
      "id": "c87c1079",
      "metadata": {
        "id": "c87c1079"
      },
      "source": [
        "و اینک! چاپ دستور غذای مخصوص رضا با توجه به مواد موجود تو خونه:"
      ]
    },
    {
      "cell_type": "code",
      "execution_count": null,
      "id": "d211dac7",
      "metadata": {
        "id": "d211dac7",
        "colab": {
          "base_uri": "https://localhost:8080/"
        },
        "outputId": "f9245764-da58-47ad-b8a7-d1ffda7ad360"
      },
      "outputs": [
        {
          "output_type": "stream",
          "name": "stdout",
          "text": [
            "## تفت دادن توفو و زیتون با سس لیمو و سیر (Vegetarian)\n",
            "\n",
            "این دستور غذا یک غذای خوشمزه و سریع است که توفو را با زیتون و سس لیمو و سیر ترکیب می‌کند. این غذا با کمی تندی و طعم مدیترانه‌ای، یک گزینه عالی برای شام یا غذای اصلی است.\n",
            "\n",
            "**مواد لازم:**\n",
            "\n",
            "*   توفو سفت: 300 گرم، خرد شده به قطعات 1-2 سانتی‌متری\n",
            "*   زیتون سیاه یا سبز (ترجیحاً بدون هسته): 1/2 پیمانه، خرد شده\n",
            "*   سیر: 3 حبه، خرد شده\n",
            "*   آب لیموی تازه: 2 قاشق غذاخوری\n",
            "*   روغن زیتون: 3 قاشق غذاخوری\n",
            "*   پیازچه خرد شده: 2 قاشق غذاخوری (برای تزئین)\n",
            "*   نمک و فلفل سیاه: به مقدار لازم\n",
            "*   پودر فلفل قرمز: 1/2 قاشق چایخوری (برای تندی)\n",
            "\n",
            "**طرز تهیه:**\n",
            "\n",
            "1.  توفو خرد شده را به مدت 10 دقیقه در یک توری قرار دهید تا آب اضافی آن خارج شود.\n",
            "2.  در یک تابه بزرگ، روغن زیتون را روی حرارت متوسط گرم کنید. سیر خرد شده را اضافه کنید و به مدت 1 دقیقه تفت دهید تا عطر آن بلند شود.\n",
            "3.  توفو را به تابه اضافه کنید و به مدت 5-7 دقیقه تفت دهید تا طلایی و کمی ترد شود.\n",
            "4.  زیتون خرد شده، آب لیموی تازه، نمک، فلفل سیاه و پودر فلفل قرمز را اضافه کنید. 2-3 دقیقه دیگر تفت دهید تا مواد با هم مخلوط شوند و سس غلیظ شود.\n",
            "5.  با پیازچه خرد شده تزئین کرده و سرو کنید.\n",
            "\n",
            "**سطح تندی:** 5/10\n"
          ]
        }
      ],
      "source": [
        "print(recipe)"
      ]
    },
    {
      "cell_type": "markdown",
      "id": "cc7e65ef-1983-43d0-93b5-ce29a2c9f387",
      "metadata": {
        "id": "cc7e65ef-1983-43d0-93b5-ce29a2c9f387"
      },
      "source": [
        "## تمرین بیشتر"
      ]
    },
    {
      "cell_type": "code",
      "execution_count": null,
      "id": "83969e6c-e89b-4061-8a9b-69764225dccd",
      "metadata": {
        "id": "83969e6c-e89b-4061-8a9b-69764225dccd"
      },
      "outputs": [],
      "source": [
        "# دیکشنری پایین رو با شرایط خودت کامل کن\n",
        "\n",
        "### EDIT THE FOLLOWING CODE ###\n",
        "my_food_preferences = {\n",
        "        \"dietary_restrictions\": [], #لیستی از محدودیت‌های رژیم غذایی\n",
        "        \"favorite_ingredients\": [], #لیست سه ماده محبوب خودت\n",
        "        \"experience_level\": \"\", #میزان تجربه آشپزی خودت\n",
        "        \"maximum_spice_level\": 0 #درجه تندی قابل قبولت از ۰ تا ۱۰\n",
        "}\n",
        "### --------------- ###\n",
        "\n",
        "print(my_food_preferences)"
      ]
    },
    {
      "cell_type": "code",
      "source": [
        "### EDIT THE FOLLOWING CODE ###\n",
        "my_food_preferences = {\n",
        "    \"dietary_restrictions\": [\"no pork\", \"vegetarian one day a week\"],  # محدودیت‌های غذایی\n",
        "    \"favorite_ingredients\": [\"tomato\", \"basil\", \"mozzarella\"],        # سه تا از مواد مورد علاقه\n",
        "    \"experience_level\": \"intermediate\",                               # تجربه آشپزی\n",
        "    \"maximum_spice_level\": 3                                          # درجه تندی قبول‌کننده\n",
        "}\n",
        "### --------------- ###\n",
        "\n",
        "print(my_food_preferences)"
      ],
      "metadata": {
        "colab": {
          "base_uri": "https://localhost:8080/"
        },
        "id": "Wcp1utPokmr3",
        "outputId": "8b317a02-354f-4f19-d0fc-3276aea23fc3"
      },
      "id": "Wcp1utPokmr3",
      "execution_count": null,
      "outputs": [
        {
          "output_type": "stream",
          "name": "stdout",
          "text": [
            "{'dietary_restrictions': ['no pork', 'vegetarian one day a week'], 'favorite_ingredients': ['tomato', 'basil', 'mozzarella'], 'experience_level': 'intermediate', 'maximum_spice_level': 3}\n"
          ]
        }
      ]
    },
    {
      "cell_type": "code",
      "execution_count": 10,
      "id": "e22eb004-6a9c-4274-9ae3-c9ee106689fb",
      "metadata": {
        "id": "e22eb004-6a9c-4274-9ae3-c9ee106689fb",
        "colab": {
          "base_uri": "https://localhost:8080/"
        },
        "collapsed": true,
        "outputId": "4629678b-22e9-4510-eb43-d6e60f1e5b90"
      },
      "outputs": [
        {
          "output_type": "stream",
          "name": "stdout",
          "text": [
            "## آبگوشت توفو و زیتون با طعم مدیترانه‌ای (Mediterranean Tofu and Olive Stew)\n",
            "\n",
            "این دستور غذا یک آبگوشت خوشمزه و مقوی با طعم مدیترانه‌ای است که با استفاده از توفو و زیتون تهیه می‌شود. این غذا با کمی تندی ملایم، یک گزینه عالی برای وعده شام یا ناهار است و برای گیاهخواران مناسب است.\n",
            "\n",
            "**مواد لازم:**\n",
            "\n",
            "*   توفو سفت، 300 گرم، خرد شده به قطعات 1.5 سانتی‌متری\n",
            "*   زیتون سیاه یا سبز، 1 پیمانه، خرد شده\n",
            "*   پیاز، 1 عدد بزرگ، خرد شده\n",
            "*   سیر، 3 حبه، خرد شده\n",
            "*   فلفل دلمه‌ای قرمز، 1 عدد، خرد شده\n",
            "*   گوجه فرنگی خرد شده، 400 گرم (تخمه گرفته)\n",
            "*   آب مرغ گیاهی یا آب سبزیجات، 2 پیمانه\n",
            "*   روغن زیتون، 2 قاشق غذاخوری\n",
            "*   پونه کوهی تازه، 2 قاشق غذاخوری، خرد شده (یا 1 قاشق چایخوری پونه کوهی خشک)\n",
            "*   زردچوبه، 1 قاشق چایخوری\n",
            "*   فلفل قرمز دانه ای، 1/2 قاشق چایخوری (یا به میزان دلخواه برای تندی)\n",
            "*   نمک و فلفل سیاه، به میزان لازم\n",
            "*   آب لیموی تازه، به میزان لازم (برای طعم‌دهی در انتها)\n",
            "*   جعفری تازه، برای تزئین (اختیاری)\n",
            "\n",
            "**طرز تهیه:**\n",
            "\n",
            "1.  در یک قابلمه بزرگ، روغن زیتون را روی حرارت متوسط گرم کنید. پیاز و سیر را اضافه کنید و تفت دهید تا نرم و شفاف شوند (حدود 5 دقیقه).\n",
            "2.  فلفل دلمه‌ای خرد شده را اضافه کنید و 3 دقیقه دیگر تفت دهید. سپس گوجه فرنگی خرد شده، زردچوبه و فلفل قرمز را اضافه کنید و 5 دقیقه بجوشانید تا گوجه فرنگی کمی نرم شود.\n",
            "3.  آب مرغ گیاهی یا آب سبزیجات را اضافه کنید و بگذارید به جوش بیاید. سپس توفو خرد شده و زیتون خرد شده را اضافه کنید.\n",
            "4.  حرارت را کم کنید، درب قابلمه را بگذارید و بگذارید به مدت 15-20 دقیقه بپزد تا توفو طعم آبگوشت را بگیرد و مواد با هم ترکیب شوند.\n",
            "5.  پونه کوهی تازه یا خشک، نمک و فلفل سیاه را اضافه کنید و هم بزنید.\n",
            "6.  در صورت تمایل، آب لیموی تازه را اضافه کنید تا طعم غذا متعادل شود.\n",
            "7.  آبگوشت را در ظرف مورد نظر سرو کنید و با جعفری تازه تزئین کنید.\n",
            "\n",
            "**نکات:**\n",
            "\n",
            "*   می‌توانید از انواع دیگری از زیتون (مانند زیتون کاری) یا سبزیجات (مانند کدو سبز یا بادمجان) نیز در این دستور غذا استفاده کنید.\n",
            "*   برای افزایش تندی، می‌توانید از فلفل قرمز بیشتر استفاده کنید.\n",
            "*   این غذا را می‌توانید با نان تازه یا برنج سرو کنید.\n",
            "\n",
            "**سطح دشواری:** متوسط\n",
            "\n",
            "**حداکثر تندی:** 6/10\n",
            "\n"
          ]
        }
      ],
      "source": [
        "# پرامپت پایین رو طوری اصلاح کن که\n",
        "# شرح کامل مراحل اجرای دستور غذا داده بشه\n",
        "# سعی کن بیش از دو جمله اضافه نکنی\n",
        "\n",
        "### EDIT THE FOLLOWING CODE ###\n",
        "#Hint: به آخرین جمله این پرامپت دقت کن\n",
        "prompt = f\"\"\"لطفا یک دستور غذا پیشنهاد کن که\n",
        "شامل این مواد باشه:\n",
        "{food_preferences_reza[\"favorite_ingredients\"]}.\n",
        "این دستور غذا باید به محدودیت‌های رژیم غذایی زیر پایبند باشه:\n",
        "{food_preferences_reza[\"dietary_restrictions\"]}.\n",
        "دشواری این دستور غذا باید در این سطح باشه:\n",
        "{food_preferences_reza[\"experience_level\"]}\n",
        "حداکثر مقدار تندی در  مقیاس ۱۰ باید این عدد باشه:\n",
        "{food_preferences_reza[\"maximum_spice_level\"]}\n",
        "توضیح این دستور غذا باید در حد دو جمله باشه.\n",
        "\"\"\"\n",
        "### --------------- ###\n",
        "\n",
        "x = print_llm_response(prompt)\n",
        "print(x)"
      ]
    },
    {
      "cell_type": "code",
      "source": [
        "prompt = f\"\"\"لطفا یک دستور غذا پیشنهاد کن که\n",
        "شامل این مواد باشه:\n",
        "{food_preferences_reza[\"favorite_ingredients\"]}.\n",
        "این دستور غذا باید به محدودیت‌های رژیم غذایی زیر پایبند باشه:\n",
        "{food_preferences_reza[\"dietary_restrictions\"]}.\n",
        "دشواری این دستور غذا باید در این سطح باشه:\n",
        "{food_preferences_reza[\"experience_level\"]}\n",
        "حداکثر مقدار تندی در  مقیاس ۱۰ باید این عدد باشه:\n",
        "{food_preferences_reza[\"maximum_spice_level\"]}\n",
        "توضیح این دستور غذا باید در حد چهار جمله باشه.\n",
        "\"\"\"\n",
        "\n",
        "x = print_llm_response(prompt)\n",
        "print(x)"
      ],
      "metadata": {
        "id": "UyFOinCHlBqi",
        "colab": {
          "base_uri": "https://localhost:8080/"
        },
        "outputId": "2c03b5d7-e1ff-46c5-f685-07b859f0cd6f"
      },
      "id": "UyFOinCHlBqi",
      "execution_count": 12,
      "outputs": [
        {
          "output_type": "stream",
          "name": "stdout",
          "text": [
            "## استیک توفو با روغن زیتون و زیتون (Tofu Steak with Olive Oil & Olives)\n",
            "\n",
            "این دستور غذا یک غذای گیاهی خوشمزه و مقوی است که با ترکیب طعم‌های مدیترانه‌ای، تجربه‌ای لذت‌بخش را ارائه می‌دهد. توفو را به صورت ضخیم برش داده و با ادویه‌ها و روغن زیتون طعم‌دار می‌کنیم، سپس آن را سرخ کرده و با زیتون‌های تازه و سبزیجات معطر سرو می‌کنیم. این غذا نسبتاً آسان است اما نیاز به کمی دقت در سرخ کردن توفو دارد.\n",
            "\n",
            "**مواد لازم:**\n",
            "\n",
            "*   توفو سفت: 400 گرم\n",
            "*   زیتون سیاه یا سبز خرد شده: 1/2 پیمانه\n",
            "*   سیر: 3 حبه (رنده شده)\n",
            "*   روغن زیتون: 4 قاشق غذاخوری\n",
            "*   آرد سوخاری: 1/4 پیمانه\n",
            "*   پودر پیاز: 1 قاشق چایخوری\n",
            "*   پودر سیر: 1 قاشق چایخوری\n",
            "*   فلفل سیاه: به مقدار لازم (حدود 1/2 قاشق چایخوری)\n",
            "*   نمک: به مقدار لازم\n",
            "*   جعفری تازه خرد شده: برای تزئین (اختیاری)\n",
            "*   لیمو ترش: برای سرو (اختیاری)\n",
            "\n",
            "**طرز تهیه:**\n",
            "\n",
            "1.  توفو را به صورت ضخیم (حدود 2-3 سانتی‌متر) برش دهید و با دستمال کاغذی فشار دهید تا آب اضافی آن خارج شود.\n",
            "2.  در یک کاسه، آرد سوخاری، پودر پیاز، پودر سیر، فلفل سیاه، نمک و سیر رنده شده را مخلوط کنید.\n",
            "3.  توفوهای برش خورده را در مخلوط آرد سوخاری بغلتانید تا کاملاً پوشیده شوند.\n",
            "4.  در یک تابه بزرگ، روغن زیتون را روی حرارت متوسط ​​گرم کنید. توفوها را در تابه قرار دهید و هر طرف را به مدت 3-4 دقیقه سرخ کنید تا طلایی و مقوی شوند.\n",
            "5.  زیتون‌های خرد شده را در 2 دقیقه آخر سرخ کردن به توفو اضافه کنید و هم بزنید.\n",
            "6.  استیک توفو را با جعفری تازه خرد شده تزئین کرده و همراه با لیمو ترش تازه سرو کنید.\n",
            "\n",
            "**نکته:** برای تندی بیشتر، می‌توانید کمی فلفل قرمز به مخلوط آرد سوخاری اضافه کنید.\n",
            "\n"
          ]
        }
      ]
    }
  ],
  "metadata": {
    "kernelspec": {
      "display_name": "Python 3 (ipykernel)",
      "language": "python",
      "name": "python3"
    },
    "language_info": {
      "codemirror_mode": {
        "name": "ipython",
        "version": 3
      },
      "file_extension": ".py",
      "mimetype": "text/x-python",
      "name": "python",
      "nbconvert_exporter": "python",
      "pygments_lexer": "ipython3",
      "version": "3.9.19"
    },
    "colab": {
      "provenance": []
    }
  },
  "nbformat": 4,
  "nbformat_minor": 5
}