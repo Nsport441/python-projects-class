{
  "cells": [
    {
      "cell_type": "markdown",
      "id": "c37dfb58-902b-44dd-a56b-11d6afee457a",
      "metadata": {
        "id": "c37dfb58-902b-44dd-a56b-11d6afee457a"
      },
      "source": [
        "# هفته دوم - درس ۷: شرط‌ و تصمیم"
      ]
    },
    {
      "cell_type": "markdown",
      "id": "acc85383-e456-40d7-8b09-79bd91da0eed",
      "metadata": {
        "id": "acc85383-e456-40d7-8b09-79bd91da0eed"
      },
      "source": [
        "از درس قبل به یاد میاری که بولین‌ها چطور و چرا ایجاد میشن؟\n",
        "\n",
        " تو این درس به کمک بولین‌ها برنامه‌هایی می‌نویسیم که بسته به شرایط کارهای متفاوتی انجام بدن."
      ]
    },
    {
      "cell_type": "markdown",
      "source": [
        "## راه‌اندازی توگدر برای کار با هوش مصنوعی\n"
      ],
      "metadata": {
        "id": "fYOOvozDLWWx"
      },
      "id": "fYOOvozDLWWx"
    },
    {
      "cell_type": "code",
      "execution_count": 1,
      "id": "09291854-2c07-4c09-8378-d825734df7c6",
      "metadata": {
        "id": "09291854-2c07-4c09-8378-d825734df7c6",
        "colab": {
          "base_uri": "https://localhost:8080/"
        },
        "outputId": "8c59620a-b310-4219-ac10-48936f364c90",
        "collapsed": true
      },
      "outputs": [
        {
          "output_type": "stream",
          "name": "stdout",
          "text": [
            "Collecting together\n",
            "  Downloading together-1.5.21-py3-none-any.whl.metadata (15 kB)\n",
            "Requirement already satisfied: aiohttp<4.0.0,>=3.9.3 in /usr/local/lib/python3.11/dist-packages (from together) (3.12.14)\n",
            "Requirement already satisfied: click<9.0.0,>=8.1.7 in /usr/local/lib/python3.11/dist-packages (from together) (8.2.1)\n",
            "Collecting eval-type-backport<0.3.0,>=0.1.3 (from together)\n",
            "  Downloading eval_type_backport-0.2.2-py3-none-any.whl.metadata (2.2 kB)\n",
            "Requirement already satisfied: filelock<4.0.0,>=3.13.1 in /usr/local/lib/python3.11/dist-packages (from together) (3.18.0)\n",
            "Requirement already satisfied: numpy>=1.23.5 in /usr/local/lib/python3.11/dist-packages (from together) (2.0.2)\n",
            "Requirement already satisfied: pillow<12.0.0,>=11.1.0 in /usr/local/lib/python3.11/dist-packages (from together) (11.3.0)\n",
            "Requirement already satisfied: pydantic<3.0.0,>=2.6.3 in /usr/local/lib/python3.11/dist-packages (from together) (2.11.7)\n",
            "Requirement already satisfied: requests<3.0.0,>=2.31.0 in /usr/local/lib/python3.11/dist-packages (from together) (2.32.3)\n",
            "Requirement already satisfied: rich<15.0.0,>=13.8.1 in /usr/local/lib/python3.11/dist-packages (from together) (13.9.4)\n",
            "Requirement already satisfied: tabulate<0.10.0,>=0.9.0 in /usr/local/lib/python3.11/dist-packages (from together) (0.9.0)\n",
            "Requirement already satisfied: tqdm<5.0.0,>=4.66.2 in /usr/local/lib/python3.11/dist-packages (from together) (4.67.1)\n",
            "Collecting typer<0.16,>=0.9 (from together)\n",
            "  Downloading typer-0.15.4-py3-none-any.whl.metadata (15 kB)\n",
            "Requirement already satisfied: aiohappyeyeballs>=2.5.0 in /usr/local/lib/python3.11/dist-packages (from aiohttp<4.0.0,>=3.9.3->together) (2.6.1)\n",
            "Requirement already satisfied: aiosignal>=1.4.0 in /usr/local/lib/python3.11/dist-packages (from aiohttp<4.0.0,>=3.9.3->together) (1.4.0)\n",
            "Requirement already satisfied: attrs>=17.3.0 in /usr/local/lib/python3.11/dist-packages (from aiohttp<4.0.0,>=3.9.3->together) (25.3.0)\n",
            "Requirement already satisfied: frozenlist>=1.1.1 in /usr/local/lib/python3.11/dist-packages (from aiohttp<4.0.0,>=3.9.3->together) (1.7.0)\n",
            "Requirement already satisfied: multidict<7.0,>=4.5 in /usr/local/lib/python3.11/dist-packages (from aiohttp<4.0.0,>=3.9.3->together) (6.6.3)\n",
            "Requirement already satisfied: propcache>=0.2.0 in /usr/local/lib/python3.11/dist-packages (from aiohttp<4.0.0,>=3.9.3->together) (0.3.2)\n",
            "Requirement already satisfied: yarl<2.0,>=1.17.0 in /usr/local/lib/python3.11/dist-packages (from aiohttp<4.0.0,>=3.9.3->together) (1.20.1)\n",
            "Requirement already satisfied: annotated-types>=0.6.0 in /usr/local/lib/python3.11/dist-packages (from pydantic<3.0.0,>=2.6.3->together) (0.7.0)\n",
            "Requirement already satisfied: pydantic-core==2.33.2 in /usr/local/lib/python3.11/dist-packages (from pydantic<3.0.0,>=2.6.3->together) (2.33.2)\n",
            "Requirement already satisfied: typing-extensions>=4.12.2 in /usr/local/lib/python3.11/dist-packages (from pydantic<3.0.0,>=2.6.3->together) (4.14.1)\n",
            "Requirement already satisfied: typing-inspection>=0.4.0 in /usr/local/lib/python3.11/dist-packages (from pydantic<3.0.0,>=2.6.3->together) (0.4.1)\n",
            "Requirement already satisfied: charset-normalizer<4,>=2 in /usr/local/lib/python3.11/dist-packages (from requests<3.0.0,>=2.31.0->together) (3.4.2)\n",
            "Requirement already satisfied: idna<4,>=2.5 in /usr/local/lib/python3.11/dist-packages (from requests<3.0.0,>=2.31.0->together) (3.10)\n",
            "Requirement already satisfied: urllib3<3,>=1.21.1 in /usr/local/lib/python3.11/dist-packages (from requests<3.0.0,>=2.31.0->together) (2.5.0)\n",
            "Requirement already satisfied: certifi>=2017.4.17 in /usr/local/lib/python3.11/dist-packages (from requests<3.0.0,>=2.31.0->together) (2025.7.14)\n",
            "Requirement already satisfied: markdown-it-py>=2.2.0 in /usr/local/lib/python3.11/dist-packages (from rich<15.0.0,>=13.8.1->together) (3.0.0)\n",
            "Requirement already satisfied: pygments<3.0.0,>=2.13.0 in /usr/local/lib/python3.11/dist-packages (from rich<15.0.0,>=13.8.1->together) (2.19.2)\n",
            "Collecting click<9.0.0,>=8.1.7 (from together)\n",
            "  Downloading click-8.1.8-py3-none-any.whl.metadata (2.3 kB)\n",
            "Requirement already satisfied: shellingham>=1.3.0 in /usr/local/lib/python3.11/dist-packages (from typer<0.16,>=0.9->together) (1.5.4)\n",
            "Requirement already satisfied: mdurl~=0.1 in /usr/local/lib/python3.11/dist-packages (from markdown-it-py>=2.2.0->rich<15.0.0,>=13.8.1->together) (0.1.2)\n",
            "Downloading together-1.5.21-py3-none-any.whl (96 kB)\n",
            "\u001b[2K   \u001b[90m━━━━━━━━━━━━━━━━━━━━━━━━━━━━━━━━━━━━━━━━\u001b[0m \u001b[32m96.1/96.1 kB\u001b[0m \u001b[31m5.9 MB/s\u001b[0m eta \u001b[36m0:00:00\u001b[0m\n",
            "\u001b[?25hDownloading eval_type_backport-0.2.2-py3-none-any.whl (5.8 kB)\n",
            "Downloading typer-0.15.4-py3-none-any.whl (45 kB)\n",
            "\u001b[2K   \u001b[90m━━━━━━━━━━━━━━━━━━━━━━━━━━━━━━━━━━━━━━━━\u001b[0m \u001b[32m45.3/45.3 kB\u001b[0m \u001b[31m4.5 MB/s\u001b[0m eta \u001b[36m0:00:00\u001b[0m\n",
            "\u001b[?25hDownloading click-8.1.8-py3-none-any.whl (98 kB)\n",
            "\u001b[2K   \u001b[90m━━━━━━━━━━━━━━━━━━━━━━━━━━━━━━━━━━━━━━━━\u001b[0m \u001b[32m98.2/98.2 kB\u001b[0m \u001b[31m7.4 MB/s\u001b[0m eta \u001b[36m0:00:00\u001b[0m\n",
            "\u001b[?25hInstalling collected packages: eval-type-backport, click, typer, together\n",
            "  Attempting uninstall: click\n",
            "    Found existing installation: click 8.2.1\n",
            "    Uninstalling click-8.2.1:\n",
            "      Successfully uninstalled click-8.2.1\n",
            "  Attempting uninstall: typer\n",
            "    Found existing installation: typer 0.16.0\n",
            "    Uninstalling typer-0.16.0:\n",
            "      Successfully uninstalled typer-0.16.0\n",
            "Successfully installed click-8.1.8 eval-type-backport-0.2.2 together-1.5.21 typer-0.15.4\n"
          ]
        }
      ],
      "source": [
        "!pip install together"
      ]
    },
    {
      "cell_type": "code",
      "source": [
        "from google.colab import userdata\n",
        "from together import Together\n",
        "\n",
        "client = Together(api_key=userdata.get('TOGETHER_API_KEY'))\n",
        "\n",
        "def print_llm_response(prompt):\n",
        "    response = client.chat.completions.create(\n",
        "        model=\"google/gemma-3n-E4B-it\",\n",
        "        # model=\"meta-llama/Llama-3.3-70B-Instruct-Turbo-Free\",\n",
        "        messages=[\n",
        "        {\n",
        "            \"role\": \"user\",\n",
        "            \"content\": prompt\n",
        "        }\n",
        "        ]\n",
        "    )\n",
        "    return response.choices[0].message.content"
      ],
      "metadata": {
        "id": "GEyLhH_uLaV1"
      },
      "id": "GEyLhH_uLaV1",
      "execution_count": 2,
      "outputs": []
    },
    {
      "cell_type": "markdown",
      "id": "3b5f7010-989e-4fc2-87be-ac437ce70df7",
      "metadata": {
        "id": "3b5f7010-989e-4fc2-87be-ac437ce70df7"
      },
      "source": [
        "## پروژه اجرای کارها با زمان‌بندی"
      ]
    },
    {
      "cell_type": "markdown",
      "id": "9d8faf4e-714e-492d-a3ef-c45a5fd02460",
      "metadata": {
        "id": "9d8faf4e-714e-492d-a3ef-c45a5fd02460"
      },
      "source": [
        "فرض کن امروز لیستی از کارها برای انجام داری و هوش مصنوعی هم دستیار توست.\n",
        "\n",
        "هر کار تو این لیست خودش یک دیکشنری هست.\n",
        "\n",
        "هر کار یک توصیف داره و یک مهلت زمانی از لحظه‌ای که به هوش مصنوعی می‌سپری."
      ]
    },
    {
      "cell_type": "code",
      "execution_count": 4,
      "id": "224d7983-2e71-40e9-af21-92b9433c34c5",
      "metadata": {
        "id": "224d7983-2e71-40e9-af21-92b9433c34c5"
      },
      "outputs": [],
      "source": [
        "task_list = [\n",
        "    {\n",
        "        \"description\": \"Compose a brief email to my boss explaining that I will be late for next week's meeting.\",\n",
        "        \"time_to_complete\": 3\n",
        "    },\n",
        "    {\n",
        "        \"description\": \"Create an outline for a presentation on the benefits of remote work.\",\n",
        "        \"time_to_complete\": 60\n",
        "    },\n",
        "    {\n",
        "        \"description\": \"Write a 300-word review of the movie 'The Arrival'.\",\n",
        "        \"time_to_complete\": 30\n",
        "    },\n",
        "    {\n",
        "        \"description\": \"Create a shopping list for tofu and olive stir fry.\",\n",
        "        \"time_to_complete\": 5\n",
        "    }\n",
        "]"
      ]
    },
    {
      "cell_type": "markdown",
      "id": "e4326c98-b881-43aa-8c9a-c3dce0aa8312",
      "metadata": {
        "id": "e4326c98-b881-43aa-8c9a-c3dce0aa8312"
      },
      "source": [
        "خب پس اگه ما اولین کار در لیست بالا رو صدا کنیم داریم:"
      ]
    },
    {
      "cell_type": "code",
      "execution_count": null,
      "id": "033a9da9-5d47-41e5-9366-eb396afdf87a",
      "metadata": {
        "id": "033a9da9-5d47-41e5-9366-eb396afdf87a",
        "colab": {
          "base_uri": "https://localhost:8080/"
        },
        "outputId": "fa13bb9c-988f-41c4-da5e-7bc5c3f39ee4"
      },
      "outputs": [
        {
          "output_type": "stream",
          "name": "stdout",
          "text": [
            "{'description': \"Compose a brief email to my boss explaining that I will be late for next week's meeting.\", 'time_to_complete': 3}\n"
          ]
        }
      ],
      "source": [
        "task = task_list[0]\n",
        "print(task)"
      ]
    },
    {
      "cell_type": "markdown",
      "id": "f222c387-f959-4f24-98ac-8dabad18792c",
      "metadata": {
        "id": "f222c387-f959-4f24-98ac-8dabad18792c"
      },
      "source": [
        "حالا بیا ببینیم آیا اولین کار تو لیست کارها بعد از واگذاری به هوش مصنوعی حداکثر ۵ دقیقه زمان برای کامل شدن داره؟"
      ]
    },
    {
      "cell_type": "code",
      "execution_count": null,
      "id": "3e4d5838-e14a-4f10-8492-4b0f45491600",
      "metadata": {
        "id": "3e4d5838-e14a-4f10-8492-4b0f45491600",
        "colab": {
          "base_uri": "https://localhost:8080/"
        },
        "outputId": "6d956eb3-dd22-40df-f3e4-928d0e0455c8"
      },
      "outputs": [
        {
          "output_type": "execute_result",
          "data": {
            "text/plain": [
              "True"
            ]
          },
          "metadata": {},
          "execution_count": 5
        }
      ],
      "source": [
        "task[\"time_to_complete\"] <= 5"
      ]
    },
    {
      "cell_type": "markdown",
      "id": "80a9bb09-1f08-48f0-94ae-ec81997fac3f",
      "metadata": {
        "id": "80a9bb09-1f08-48f0-94ae-ec81997fac3f"
      },
      "source": [
        "پاسخ سوال بالا یک بولین هست درسته؟\n",
        "\n",
        "از این بولین می‌تونی برای نوشتن شرط در پایتون استفاده کنی.\n",
        "\n",
        "مثلا تو تکه کد پایین ما می‌گیم اگه فلان کار برای انجام ۵ دقیقه یا کمتر مهلت داره، برای اجرا به مدل زبانی بفرستش:"
      ]
    },
    {
      "cell_type": "code",
      "execution_count": null,
      "id": "48f46f36-1ddc-4add-850a-db1146ea255a",
      "metadata": {
        "id": "48f46f36-1ddc-4add-850a-db1146ea255a"
      },
      "outputs": [],
      "source": [
        "if task[\"time_to_complete\"] <= 5:\n",
        "    task_to_do = task[\"description\"]\n",
        "    print_llm_response(task_to_do)"
      ]
    },
    {
      "cell_type": "markdown",
      "id": "94757062-3a0b-4988-bb33-147762c11d97",
      "metadata": {
        "id": "94757062-3a0b-4988-bb33-147762c11d97"
      },
      "source": [
        "حالا اگه همین کد رو برای دومین کار تو لیست بالا اجرا کنیم چی میشه؟"
      ]
    },
    {
      "cell_type": "code",
      "execution_count": null,
      "id": "f868908d-2a8b-498f-954d-11e058694913",
      "metadata": {
        "id": "f868908d-2a8b-498f-954d-11e058694913"
      },
      "outputs": [],
      "source": [
        "task = task_list[1]\n",
        "if task[\"time_to_complete\"] <= 5:\n",
        "    task_to_do = task[\"description\"]\n",
        "    print_llm_response(task_to_do)"
      ]
    },
    {
      "cell_type": "code",
      "execution_count": null,
      "id": "3e71c360-2aba-4fc8-9afe-6acedef33b57",
      "metadata": {
        "id": "3e71c360-2aba-4fc8-9afe-6acedef33b57",
        "colab": {
          "base_uri": "https://localhost:8080/"
        },
        "outputId": "5f1b50e0-5b20-4a42-8099-37159fae5659"
      },
      "outputs": [
        {
          "output_type": "execute_result",
          "data": {
            "text/plain": [
              "False"
            ]
          },
          "metadata": {},
          "execution_count": 8
        }
      ],
      "source": [
        "task[\"time_to_complete\"] <= 5"
      ]
    },
    {
      "cell_type": "markdown",
      "id": "ce67bfcc-bf70-4678-bc5f-fc70713aeb2f",
      "metadata": {
        "id": "ce67bfcc-bf70-4678-bc5f-fc70713aeb2f"
      },
      "source": [
        "و برای سومین و چهارمین کار:"
      ]
    },
    {
      "cell_type": "code",
      "execution_count": null,
      "id": "6d2d541f-be6c-43ac-8ce9-8088d6ac82fb",
      "metadata": {
        "id": "6d2d541f-be6c-43ac-8ce9-8088d6ac82fb"
      },
      "outputs": [],
      "source": [
        "task = task_list[2]\n",
        "if task[\"time_to_complete\"] <= 5:\n",
        "    task_to_do = task[\"description\"]\n",
        "    print_llm_response(task_to_do)"
      ]
    },
    {
      "cell_type": "code",
      "execution_count": null,
      "id": "ee1a2257-e87a-4c01-91c0-649765cf3144",
      "metadata": {
        "id": "ee1a2257-e87a-4c01-91c0-649765cf3144"
      },
      "outputs": [],
      "source": [
        "task = task_list[3]\n",
        "if task[\"time_to_complete\"] <= 5:\n",
        "    task_to_do = task[\"description\"]\n",
        "    print_llm_response(task_to_do)"
      ]
    },
    {
      "cell_type": "markdown",
      "id": "629e34bd-f02b-4163-b826-4626215f55f3",
      "metadata": {
        "id": "629e34bd-f02b-4163-b826-4626215f55f3"
      },
      "source": [
        "## اجرای حلقه روی لیست کارها"
      ]
    },
    {
      "cell_type": "markdown",
      "id": "9bbb1658-819b-4f72-a90c-6d99643e6e20",
      "metadata": {
        "id": "9bbb1658-819b-4f72-a90c-6d99643e6e20"
      },
      "source": [
        "به جای نوشتن دونه به دونه چرا از حلقه فور استفاده نکنیم؟\n",
        "\n",
        "چند درس قبل باهاش آشنا شدیم درسته؟\n",
        "\n",
        "با تکه کد پایین به راحتی تک تک کارها در لیست رو بررسی می‌کنیم و اگر ۵ دقیقه یا کمتر مهلت داشت برای اجرا به هوش مصنوعی می‌فرستیم."
      ]
    },
    {
      "cell_type": "code",
      "execution_count": null,
      "id": "af2044cb-6cc4-4ad7-aa70-a447641c5f63",
      "metadata": {
        "id": "af2044cb-6cc4-4ad7-aa70-a447641c5f63",
        "colab": {
          "base_uri": "https://localhost:8080/"
        },
        "outputId": "6bcd85b0-57a8-4421-9088-006a2f7c8504"
      },
      "outputs": [
        {
          "output_type": "stream",
          "name": "stdout",
          "text": [
            "Subject: Running Slightly Late to Next Week's Meeting\n",
            "\n",
            "Hi [Boss's Name],\n",
            "\n",
            "Just wanted to let you know that I anticipate being a little late to our meeting next week on [Date]. I have a prior commitment that will run a bit longer than expected.\n",
            "\n",
            "I'll be there as soon as possible and will catch up on anything I miss.\n",
            "\n",
            "Thanks for your understanding.\n",
            "\n",
            "Best,\n",
            "\n",
            "[Your Name]\n",
            "\n",
            "\n",
            "\n",
            "\n",
            "Okay, here's a shopping list for a delicious Tofu and Olive Stir Fry! I've included a few options and notes to help you customize it to your liking.\n",
            "\n",
            "**Protein & Produce:**\n",
            "\n",
            "*   **Tofu:** 1 block (14-16 oz) extra-firm or firm tofu (extra-firm is best for stir-frying)\n",
            "*   **Olive Oil:** For stir-frying (about 2-3 tablespoons)\n",
            "*   **Onion:** 1 medium (yellow, white, or red - your preference)\n",
            "*   **Garlic:** 2-3 cloves\n",
            "*   **Bell Peppers:** 1-2 (any color - red, yellow, orange, or green)\n",
            "*   **Olives:** 1/2 cup Kalamata, green, or your favorite type, pitted\n",
            "*   **Broccoli Florets:** 1 cup (fresh or frozen)\n",
            "*   **Cherry Tomatoes:** 1 cup (optional, adds a nice burst of sweetness)\n",
            "\n",
            "**Sauce Ingredients:**\n",
            "\n",
            "*   **Soy Sauce:** 2-3 tablespoons (or tamari for gluten-free)\n",
            "*   **Olive Oil:** 1 tablespoon (for sauce)\n",
            "*   **Rice Vinegar:** 1 tablespoon\n",
            "*   **Maple Syrup or Honey:** 1 teaspoon (optional, for a touch of sweetness)\n",
            "*   **Cornstarch:** 1 teaspoon (to thicken the sauce)\n",
            "*   **Ginger:** 1 teaspoon fresh grated ginger (or 1/2 tsp ground ginger)\n",
            "\n",
            "**Optional Add-ins:**\n",
            "\n",
            "*   **Sesame Seeds:** For garnish\n",
            "*   **Green Onions:** For garnish\n",
            "*   **Red Pepper Flakes:** For a little heat\n",
            "*   **Other Vegetables:** Mushrooms, snap peas, carrots, zucchini, etc.\n",
            "\n",
            "**Pantry Staples (Check if you have these!)**\n",
            "\n",
            "*   Salt\n",
            "*   Black Pepper\n",
            "*   Cooking Oil (if not using olive oil as your primary)\n",
            "\n",
            "**Notes:**\n",
            "\n",
            "*   **Tofu Prep:**  Press the tofu to remove excess water. This will help it get crispy when stir-fried. You can do this by wrapping it in paper towels and placing something heavy on top for 20-30 minutes.\n",
            "*   **Sauce Adjustment:** Adjust the sauce ingredients to your taste.  More soy sauce for saltiness, more maple syrup for sweetness, etc.\n",
            "*   **Vegetable Variations:** Feel free to swap out the vegetables for whatever you have on hand or prefer.\n",
            "\n",
            "\n",
            "\n",
            "Happy cooking! Let me know if you'd like any variations or substitutions.\n",
            "\n",
            "\n",
            "\n",
            "\n"
          ]
        }
      ],
      "source": [
        "for task in task_list:\n",
        "    if task[\"time_to_complete\"] <= 5:\n",
        "        task_to_do = task[\"description\"]\n",
        "        res = print_llm_response(task_to_do)\n",
        "        print(res)"
      ]
    },
    {
      "cell_type": "markdown",
      "id": "77194b60-9e68-461a-a920-eb84d268bd87",
      "metadata": {
        "id": "77194b60-9e68-461a-a920-eb84d268bd87"
      },
      "source": [
        "## `if`-`else` بلوک‌های"
      ]
    },
    {
      "cell_type": "markdown",
      "id": "8f276ad1-48d1-4211-b509-20ce20ae3a1d",
      "metadata": {
        "id": "8f276ad1-48d1-4211-b509-20ce20ae3a1d"
      },
      "source": [
        "گاهی نیاز داریم که وقتی شرط برقرار نیست (تکه کد داخل بلوک ایف اجرا نمیشه) تکه کد دیگه‌ای اجرا بشه.\n",
        "این جور وقت‌ها از «الس» استفاه می‌کنیم.\n",
        "\n",
        "برای مثال تکه کد پایین یعنی:\n",
        "\n",
        "به ازای تک تک کارها در لیست،\n",
        "\n",
        "اگر زمان لازم برای کامل شدن زیر ۵ دقیقه بود انجام بده\n",
        "\n",
        "در غیراین صورت مدت زمان لازم برای انجام کار در آینده را اعلام کن.  "
      ]
    },
    {
      "cell_type": "code",
      "execution_count": null,
      "id": "a403c715-e321-446c-9fd9-ee5db1c28b05",
      "metadata": {
        "id": "a403c715-e321-446c-9fd9-ee5db1c28b05",
        "colab": {
          "base_uri": "https://localhost:8080/"
        },
        "outputId": "7682dd58-7599-49d0-9209-95cd5f0711d2"
      },
      "outputs": [
        {
          "output_type": "stream",
          "name": "stdout",
          "text": [
            "To complete later: 60 minutes to complete.\n",
            "To complete later: 30 minutes to complete.\n"
          ]
        }
      ],
      "source": [
        "for task in task_list:\n",
        "    if task[\"time_to_complete\"] <= 5:\n",
        "        task_to_do = task[\"description\"]\n",
        "        print_llm_response(task_to_do)\n",
        "    else:\n",
        "        print(f\"To complete later: {task['time_to_complete']} minutes to complete.\")"
      ]
    },
    {
      "cell_type": "markdown",
      "id": "425e5bb2-c90e-42b0-a046-8b760ea007b7",
      "metadata": {
        "id": "425e5bb2-c90e-42b0-a046-8b760ea007b7"
      },
      "source": [
        "## ذخیره کارهای انجام نشده"
      ]
    },
    {
      "cell_type": "markdown",
      "id": "04030334-2cdf-4164-967d-4d2af593c3d9",
      "metadata": {
        "id": "04030334-2cdf-4164-967d-4d2af593c3d9"
      },
      "source": [
        "بعد از اجرای حلقه بالا برخی کارها هنوز انجام نشدن.\n",
        "\n",
        "بیا اطلاعات کارهای باقی رو در یک لیست جدید ذخیره کنیم.\n",
        "\n",
        "پارادایم این کد رو یادت هست؟\n",
        "ایجاد یک لیست خالی و افزودن عضو  بسته به شرایط"
      ]
    },
    {
      "cell_type": "code",
      "execution_count": null,
      "id": "20751a1a-e73e-4ded-98a5-48c341debae5",
      "metadata": {
        "id": "20751a1a-e73e-4ded-98a5-48c341debae5",
        "colab": {
          "base_uri": "https://localhost:8080/"
        },
        "outputId": "8b29c372-30f4-4295-8eb5-81a5ea6c1def"
      },
      "outputs": [
        {
          "output_type": "stream",
          "name": "stdout",
          "text": [
            "Subject: Running Late to Next Week's Meeting - [Your Name]\n",
            "\n",
            "Hi [Boss's Name],\n",
            "\n",
            "Just wanted to let you know that I will unfortunately be late to next week's meeting on [Date] due to [Brief, vague reason - e.g., a prior appointment, a scheduled commitment]. \n",
            "\n",
            "I'll be there as soon as possible and will catch up on anything I miss.\n",
            "\n",
            "Thanks for your understanding.\n",
            "\n",
            "Best,\n",
            "\n",
            "[Your Name]\n",
            "\n",
            "\n",
            "\n",
            "\n",
            "Okay, here's a shopping list for a delicious Tofu and Olive Stir Fry! I've broken it down into categories for easier shopping.  I've also included some optional items for added flavor and complexity.\n",
            "\n",
            "**Produce:**\n",
            "\n",
            "*   **Tofu:** 1 block firm or extra-firm tofu (about 14-16 oz)\n",
            "*   **Broccoli:** 1 head (or 1 bag florets)\n",
            "*   **Bell Peppers:** 1-2 (any color, or a mix!)\n",
            "*   **Onion:** 1 medium (yellow or white)\n",
            "*   **Garlic:** 3-4 cloves\n",
            "*   **Green Onions (Scallions):** 2-3 (for garnish)\n",
            "*   **Optional:** Mushrooms (8 oz, sliced)\n",
            "*   **Optional:** Cherry Tomatoes (1 cup, halved)\n",
            "\n",
            "**Pantry:**\n",
            "\n",
            "*   **Olive Oil:** For stir-frying (about 2-3 tablespoons)\n",
            "*   **Soy Sauce:**  (low sodium is good)\n",
            "*   **Rice Vinegar:** 1-2 tablespoons\n",
            "*   **Sesame Oil:** 1 teaspoon (for flavor - optional but recommended)\n",
            "*   **Cornstarch:** 1 tablespoon (for thickening the sauce)\n",
            "*   **Sugar:** 1 teaspoon (balances the savory flavors)\n",
            "*   **Ginger:** 1 teaspoon ground ginger, or 1 tablespoon fresh grated ginger\n",
            "*   **Red Pepper Flakes:**  Pinch (for a little heat - adjust to your preference)\n",
            "*   **Salt & Black Pepper:** To taste\n",
            "*   **Cooked Rice:** (to serve - estimate based on how many people you're serving)\n",
            "\n",
            "**Optional additions:**\n",
            "\n",
            "*   **Pine Nuts or Sesame Seeds:** For garnish (adds crunch)\n",
            "*   **Lemon or Lime:** For a squeeze of brightness at the end.\n",
            "*   **Vegetable Broth:** 1/4 cup (to add to the sauce for extra flavor and moisture)\n",
            "\n",
            "\n",
            "\n",
            "**Notes for Shopping:**\n",
            "\n",
            "*   **Tofu Type:**  Firm or extra-firm tofu is best for stir-frying as it holds its shape.\n",
            "*   **Fresh vs. Frozen:** Frozen vegetables (like broccoli florets) are fine if you don't have fresh.\n",
            "*   **Adjust Quantities:**  Feel free to adjust the quantities based on how many people you're cooking for and your personal preferences.\n",
            "\n",
            "\n",
            "\n",
            "\n",
            "Happy cooking! Let me know if you'd like a simple recipe!\n",
            "\n",
            "\n",
            "\n",
            "\n"
          ]
        }
      ],
      "source": [
        "tasks_for_later = []\n",
        "\n",
        "for task in task_list:\n",
        "    if task[\"time_to_complete\"] <= 5:\n",
        "        task_to_do = task[\"description\"]\n",
        "        res = print_llm_response(task_to_do)\n",
        "        print(res)\n",
        "    else:\n",
        "        tasks_for_later.append(task)"
      ]
    },
    {
      "cell_type": "code",
      "execution_count": null,
      "id": "f5969c9f-57ac-4146-839b-226ce092387a",
      "metadata": {
        "id": "f5969c9f-57ac-4146-839b-226ce092387a",
        "colab": {
          "base_uri": "https://localhost:8080/"
        },
        "outputId": "e44541f9-95b4-4778-f777-98b90595052d"
      },
      "outputs": [
        {
          "output_type": "stream",
          "name": "stdout",
          "text": [
            "[{'description': 'Create an outline for a presentation on the benefits of remote work.', 'time_to_complete': 60}, {'description': \"Write a 300-word review of the movie 'The Arrival'.\", 'time_to_complete': 30}]\n"
          ]
        }
      ],
      "source": [
        "print(tasks_for_later)"
      ]
    },
    {
      "cell_type": "markdown",
      "id": "9d616998-e210-4d8b-8928-a9776856f518",
      "metadata": {
        "id": "9d616998-e210-4d8b-8928-a9776856f518"
      },
      "source": [
        "شادا 🎉🎉🎉,\n",
        "\n",
        "این هفته خیلی چیزا یاد گرفتیم.\n",
        "\n",
        "نگرانی که فراموش کنی؟\n",
        "\n",
        "نگران نباش. فقط بدون که چنین امکاناتی هست.\n",
        "\n",
        "هر وقت نیاز باشه می‌تونی از چت‌بات برای واکاوی و یادآوری مفهوم‌ها و نحوه کدنویسی کمک بگیری."
      ]
    },
    {
      "cell_type": "markdown",
      "id": "3b4a0ab3-f01a-4fe4-9a50-5f985972b51f",
      "metadata": {
        "id": "3b4a0ab3-f01a-4fe4-9a50-5f985972b51f"
      },
      "source": [
        "## تمرین بیش‌تر"
      ]
    },
    {
      "cell_type": "markdown",
      "id": "ecbfea5c-678a-4a50-9843-a8a939098c18",
      "metadata": {
        "id": "ecbfea5c-678a-4a50-9843-a8a939098c18"
      },
      "source": [
        "بیا تمرین کنیم تا بینش عمیق‌تری پیدا کنیم."
      ]
    },
    {
      "cell_type": "code",
      "execution_count": null,
      "id": "f625ce01-fca2-4754-9503-2c33020524be",
      "metadata": {
        "id": "f625ce01-fca2-4754-9503-2c33020524be"
      },
      "outputs": [],
      "source": [
        "# کد پایین رو طوری اصلاح کن که\n",
        "# اگر کار بیش از ۱۵ دقیقه زمان لازم داشت انجام بشه\n",
        "\n",
        "task = task_list[2]\n",
        "\n",
        "### EDIT THE FOLLOWING CODE ###\n",
        "if task[\"time_to_complete\"]: #رو این خط کار کن\n",
        "    task_to_do = task[\"description\"]\n",
        "    print_llm_response(task_to_do)\n",
        "### --------------- ###"
      ]
    },
    {
      "cell_type": "code",
      "source": [
        "task = task_list[2]\n",
        "\n",
        "if task[\"time_to_complete\"] > 15:\n",
        "    task_to_do = task[\"description\"]\n",
        "    print_llm_response(task_to_do)\n"
      ],
      "metadata": {
        "id": "A3zQbYihPmv1"
      },
      "id": "A3zQbYihPmv1",
      "execution_count": 5,
      "outputs": []
    },
    {
      "cell_type": "code",
      "execution_count": null,
      "id": "42a8fb32-b7f9-4dbb-be2b-0eaa790a0e0f",
      "metadata": {
        "id": "42a8fb32-b7f9-4dbb-be2b-0eaa790a0e0f"
      },
      "outputs": [],
      "source": [
        "# کد پایین رو فقط با دندانه گذاری درست کن.\n",
        "# این کد باید چاپ کنه که آیا طعم بستنی شکلاتی\n",
        "# در لیست طعم‌های بستنی موجود هست یا نهlist.\n",
        "\n",
        "ice_cream_flavors = [\n",
        "    \"Vanilla\", \"Strawberry\", \"Mint Chocolate Chip\",\n",
        "    \"Cookies and Cream\", \"Rocky Road\", \"Butter Pecan\",\n",
        "    \"Pistachio\", \"Salted Caramel\", \"Chocolate\",\n",
        "    \"Mango\"\n",
        "]\n",
        "\n",
        "### EDIT THE FOLLOWING CODE ###\n",
        "#Hint: یادتون هست که کدهای شرط یا حلقه با دندانه داشته باشن\n",
        "# دندانه در پایتون به صورت پیش فرض ۴ اسپیس هست.\n",
        "for flavor in ice_cream_flavors:\n",
        "if flavor == \"Chocolate\":\n",
        "print(f\"The list of flavors contains {flavor}, Andrew's favorite.\")\n",
        "### --------------- ###"
      ]
    },
    {
      "cell_type": "code",
      "source": [
        "ice_cream_flavors = [\n",
        "    \"Vanilla\", \"Strawberry\", \"Mint Chocolate Chip\",\n",
        "    \"Cookies and Cream\", \"Rocky Road\", \"Butter Pecan\",\n",
        "    \"Pistachio\", \"Salted Caramel\", \"Chocolate\",\n",
        "    \"Mango\"\n",
        "]\n",
        "\n",
        "for flavor in ice_cream_flavors:\n",
        "    if flavor == \"Chocolate\":\n",
        "        print(f\"The list of flavors contains {flavor}, Andrew's favorite.\")\n"
      ],
      "metadata": {
        "colab": {
          "base_uri": "https://localhost:8080/"
        },
        "id": "CM7zcbzTP2Se",
        "outputId": "cb16d6da-c7a9-4557-d3ee-0128fe32417f"
      },
      "id": "CM7zcbzTP2Se",
      "execution_count": 6,
      "outputs": [
        {
          "output_type": "stream",
          "name": "stdout",
          "text": [
            "The list of flavors contains Chocolate, Andrew's favorite.\n"
          ]
        }
      ]
    },
    {
      "cell_type": "code",
      "execution_count": null,
      "id": "fe5406ef-5da6-41d3-993a-764ef3e6dff9",
      "metadata": {
        "id": "fe5406ef-5da6-41d3-993a-764ef3e6dff9"
      },
      "outputs": [],
      "source": [
        "# تو کد پایین تو بخش الس، اف استرینگ رو طوری بساز\n",
        "# که توصیف و زمان لازم برای کارهای مونده رو واضح چاپ کنه\n",
        "\n",
        "for task in task_list:\n",
        "    if task[\"time_to_complete\"] <= 5:\n",
        "        task_to_do = task[\"description\"]\n",
        "        print_llm_response(task_to_do)\n",
        "    else:\n",
        "        ### EDIT THE FOLLOWING CODE ###\n",
        "        # Hint: To add a variable in an f-string\n",
        "        # you need to use the following syntax: {variable_name}.\n",
        "        print(f\"To complete later:\")\n",
        "        ### ---------------  ###"
      ]
    },
    {
      "cell_type": "code",
      "source": [
        "for task in task_list:\n",
        "    if task[\"time_to_complete\"] <= 5:\n",
        "        task_to_do = task[\"description\"]\n",
        "        print_llm_response(task_to_do)\n",
        "    else:\n",
        "        print(f\"To complete later: {task['description']} (Time needed: {task['time_to_complete']} minutes)\")\n"
      ],
      "metadata": {
        "colab": {
          "base_uri": "https://localhost:8080/"
        },
        "id": "hpjrmHWTQANy",
        "outputId": "77d7a002-8328-4b84-fcc6-32113dbe29ef"
      },
      "id": "hpjrmHWTQANy",
      "execution_count": 7,
      "outputs": [
        {
          "output_type": "stream",
          "name": "stdout",
          "text": [
            "To complete later: Create an outline for a presentation on the benefits of remote work. (Time needed: 60 minutes)\n",
            "To complete later: Write a 300-word review of the movie 'The Arrival'. (Time needed: 30 minutes)\n"
          ]
        }
      ]
    }
  ],
  "metadata": {
    "kernelspec": {
      "display_name": "Python 3",
      "name": "python3"
    },
    "language_info": {
      "codemirror_mode": {
        "name": "ipython",
        "version": 3
      },
      "file_extension": ".py",
      "mimetype": "text/x-python",
      "name": "python",
      "nbconvert_exporter": "python",
      "pygments_lexer": "ipython3",
      "version": "3.9.19"
    },
    "colab": {
      "provenance": [],
      "gpuType": "T4"
    },
    "accelerator": "GPU"
  },
  "nbformat": 4,
  "nbformat_minor": 5
}