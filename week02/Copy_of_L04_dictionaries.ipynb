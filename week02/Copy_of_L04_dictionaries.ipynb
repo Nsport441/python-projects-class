{
  "cells": [
    {
      "cell_type": "markdown",
      "id": "f6bf49f7-21f0-47bc-9a3e-7fd325a0b9bf",
      "metadata": {
        "id": "f6bf49f7-21f0-47bc-9a3e-7fd325a0b9bf"
      },
      "source": [
        "# هفته دوم - درس ۴: دیکشنری\n",
        "اولویت بندی کارها با دیکشنری و هوش مصنوعی"
      ]
    },
    {
      "cell_type": "markdown",
      "id": "8ab78425-c090-450a-a810-1ff6d8f4aefb",
      "metadata": {
        "id": "8ab78425-c090-450a-a810-1ff6d8f4aefb"
      },
      "source": [
        "دیکشنری یکی از ساختارهای داده در پایتون هست.\n",
        "یک جور لیست رو تصور کن که هر عضوش یک کلید و یک مقدار داره.\n",
        "\n",
        "به این شکل می‌تونی بدون نیاز به ایندکس به یک عضوی که کلیدش رو می‌دونی اشاره و اون رو انتخاب کنی."
      ]
    },
    {
      "cell_type": "markdown",
      "source": [
        "## راه‌اندازی توگدر برای کار با هوش مصنوعی"
      ],
      "metadata": {
        "id": "P1XiHBE-kKU0"
      },
      "id": "P1XiHBE-kKU0"
    },
    {
      "cell_type": "code",
      "execution_count": 1,
      "id": "0669df5d-5013-466b-90c8-679364ff80a1",
      "metadata": {
        "id": "0669df5d-5013-466b-90c8-679364ff80a1",
        "colab": {
          "base_uri": "https://localhost:8080/"
        },
        "outputId": "05c61f94-789e-4116-fbbc-3a9d131b3894",
        "collapsed": true
      },
      "outputs": [
        {
          "output_type": "stream",
          "name": "stdout",
          "text": [
            "Collecting together\n",
            "  Downloading together-1.5.21-py3-none-any.whl.metadata (15 kB)\n",
            "Requirement already satisfied: aiohttp<4.0.0,>=3.9.3 in /usr/local/lib/python3.11/dist-packages (from together) (3.12.14)\n",
            "Requirement already satisfied: click<9.0.0,>=8.1.7 in /usr/local/lib/python3.11/dist-packages (from together) (8.2.1)\n",
            "Collecting eval-type-backport<0.3.0,>=0.1.3 (from together)\n",
            "  Downloading eval_type_backport-0.2.2-py3-none-any.whl.metadata (2.2 kB)\n",
            "Requirement already satisfied: filelock<4.0.0,>=3.13.1 in /usr/local/lib/python3.11/dist-packages (from together) (3.18.0)\n",
            "Requirement already satisfied: numpy>=1.23.5 in /usr/local/lib/python3.11/dist-packages (from together) (2.0.2)\n",
            "Requirement already satisfied: pillow<12.0.0,>=11.1.0 in /usr/local/lib/python3.11/dist-packages (from together) (11.3.0)\n",
            "Requirement already satisfied: pydantic<3.0.0,>=2.6.3 in /usr/local/lib/python3.11/dist-packages (from together) (2.11.7)\n",
            "Requirement already satisfied: requests<3.0.0,>=2.31.0 in /usr/local/lib/python3.11/dist-packages (from together) (2.32.3)\n",
            "Requirement already satisfied: rich<15.0.0,>=13.8.1 in /usr/local/lib/python3.11/dist-packages (from together) (13.9.4)\n",
            "Requirement already satisfied: tabulate<0.10.0,>=0.9.0 in /usr/local/lib/python3.11/dist-packages (from together) (0.9.0)\n",
            "Requirement already satisfied: tqdm<5.0.0,>=4.66.2 in /usr/local/lib/python3.11/dist-packages (from together) (4.67.1)\n",
            "Collecting typer<0.16,>=0.9 (from together)\n",
            "  Downloading typer-0.15.4-py3-none-any.whl.metadata (15 kB)\n",
            "Requirement already satisfied: aiohappyeyeballs>=2.5.0 in /usr/local/lib/python3.11/dist-packages (from aiohttp<4.0.0,>=3.9.3->together) (2.6.1)\n",
            "Requirement already satisfied: aiosignal>=1.4.0 in /usr/local/lib/python3.11/dist-packages (from aiohttp<4.0.0,>=3.9.3->together) (1.4.0)\n",
            "Requirement already satisfied: attrs>=17.3.0 in /usr/local/lib/python3.11/dist-packages (from aiohttp<4.0.0,>=3.9.3->together) (25.3.0)\n",
            "Requirement already satisfied: frozenlist>=1.1.1 in /usr/local/lib/python3.11/dist-packages (from aiohttp<4.0.0,>=3.9.3->together) (1.7.0)\n",
            "Requirement already satisfied: multidict<7.0,>=4.5 in /usr/local/lib/python3.11/dist-packages (from aiohttp<4.0.0,>=3.9.3->together) (6.6.3)\n",
            "Requirement already satisfied: propcache>=0.2.0 in /usr/local/lib/python3.11/dist-packages (from aiohttp<4.0.0,>=3.9.3->together) (0.3.2)\n",
            "Requirement already satisfied: yarl<2.0,>=1.17.0 in /usr/local/lib/python3.11/dist-packages (from aiohttp<4.0.0,>=3.9.3->together) (1.20.1)\n",
            "Requirement already satisfied: annotated-types>=0.6.0 in /usr/local/lib/python3.11/dist-packages (from pydantic<3.0.0,>=2.6.3->together) (0.7.0)\n",
            "Requirement already satisfied: pydantic-core==2.33.2 in /usr/local/lib/python3.11/dist-packages (from pydantic<3.0.0,>=2.6.3->together) (2.33.2)\n",
            "Requirement already satisfied: typing-extensions>=4.12.2 in /usr/local/lib/python3.11/dist-packages (from pydantic<3.0.0,>=2.6.3->together) (4.14.1)\n",
            "Requirement already satisfied: typing-inspection>=0.4.0 in /usr/local/lib/python3.11/dist-packages (from pydantic<3.0.0,>=2.6.3->together) (0.4.1)\n",
            "Requirement already satisfied: charset-normalizer<4,>=2 in /usr/local/lib/python3.11/dist-packages (from requests<3.0.0,>=2.31.0->together) (3.4.2)\n",
            "Requirement already satisfied: idna<4,>=2.5 in /usr/local/lib/python3.11/dist-packages (from requests<3.0.0,>=2.31.0->together) (3.10)\n",
            "Requirement already satisfied: urllib3<3,>=1.21.1 in /usr/local/lib/python3.11/dist-packages (from requests<3.0.0,>=2.31.0->together) (2.5.0)\n",
            "Requirement already satisfied: certifi>=2017.4.17 in /usr/local/lib/python3.11/dist-packages (from requests<3.0.0,>=2.31.0->together) (2025.7.14)\n",
            "Requirement already satisfied: markdown-it-py>=2.2.0 in /usr/local/lib/python3.11/dist-packages (from rich<15.0.0,>=13.8.1->together) (3.0.0)\n",
            "Requirement already satisfied: pygments<3.0.0,>=2.13.0 in /usr/local/lib/python3.11/dist-packages (from rich<15.0.0,>=13.8.1->together) (2.19.2)\n",
            "Collecting click<9.0.0,>=8.1.7 (from together)\n",
            "  Downloading click-8.1.8-py3-none-any.whl.metadata (2.3 kB)\n",
            "Requirement already satisfied: shellingham>=1.3.0 in /usr/local/lib/python3.11/dist-packages (from typer<0.16,>=0.9->together) (1.5.4)\n",
            "Requirement already satisfied: mdurl~=0.1 in /usr/local/lib/python3.11/dist-packages (from markdown-it-py>=2.2.0->rich<15.0.0,>=13.8.1->together) (0.1.2)\n",
            "Downloading together-1.5.21-py3-none-any.whl (96 kB)\n",
            "\u001b[2K   \u001b[90m━━━━━━━━━━━━━━━━━━━━━━━━━━━━━━━━━━━━━━━━\u001b[0m \u001b[32m96.1/96.1 kB\u001b[0m \u001b[31m8.2 MB/s\u001b[0m eta \u001b[36m0:00:00\u001b[0m\n",
            "\u001b[?25hDownloading eval_type_backport-0.2.2-py3-none-any.whl (5.8 kB)\n",
            "Downloading typer-0.15.4-py3-none-any.whl (45 kB)\n",
            "\u001b[2K   \u001b[90m━━━━━━━━━━━━━━━━━━━━━━━━━━━━━━━━━━━━━━━━\u001b[0m \u001b[32m45.3/45.3 kB\u001b[0m \u001b[31m3.2 MB/s\u001b[0m eta \u001b[36m0:00:00\u001b[0m\n",
            "\u001b[?25hDownloading click-8.1.8-py3-none-any.whl (98 kB)\n",
            "\u001b[2K   \u001b[90m━━━━━━━━━━━━━━━━━━━━━━━━━━━━━━━━━━━━━━━━\u001b[0m \u001b[32m98.2/98.2 kB\u001b[0m \u001b[31m8.0 MB/s\u001b[0m eta \u001b[36m0:00:00\u001b[0m\n",
            "\u001b[?25hInstalling collected packages: eval-type-backport, click, typer, together\n",
            "  Attempting uninstall: click\n",
            "    Found existing installation: click 8.2.1\n",
            "    Uninstalling click-8.2.1:\n",
            "      Successfully uninstalled click-8.2.1\n",
            "  Attempting uninstall: typer\n",
            "    Found existing installation: typer 0.16.0\n",
            "    Uninstalling typer-0.16.0:\n",
            "      Successfully uninstalled typer-0.16.0\n",
            "Successfully installed click-8.1.8 eval-type-backport-0.2.2 together-1.5.21 typer-0.15.4\n"
          ]
        }
      ],
      "source": [
        "!pip install together"
      ]
    },
    {
      "cell_type": "code",
      "source": [
        "from google.colab import userdata\n",
        "from together import Together\n",
        "\n",
        "client = Together(api_key=userdata.get('TOGETHER_API_KEY'))\n",
        "\n",
        "def print_llm_response(prompt):\n",
        "    response = client.chat.completions.create(\n",
        "        model=\"google/gemma-3n-E4B-it\",\n",
        "        # model=\"meta-llama/Llama-3.3-70B-Instruct-Turbo-Free\",\n",
        "        messages=[\n",
        "        {\n",
        "            \"role\": \"user\",\n",
        "            \"content\": prompt\n",
        "        }\n",
        "        ]\n",
        "    )\n",
        "    return response.choices[0].message.content"
      ],
      "metadata": {
        "id": "v3h0bTpJkOpc"
      },
      "id": "v3h0bTpJkOpc",
      "execution_count": 2,
      "outputs": []
    },
    {
      "cell_type": "markdown",
      "id": "25969c7c",
      "metadata": {
        "id": "25969c7c"
      },
      "source": [
        "برای ذخیره طعم بستنی ها همراه توصیف تبلیغاتی که از هوش مصنوعی گرفتی اگه فقط لیست‌ها وجود داشته باشن باید این طور کد بزنی:"
      ]
    },
    {
      "cell_type": "code",
      "execution_count": 3,
      "id": "ca5a2042",
      "metadata": {
        "id": "ca5a2042"
      },
      "outputs": [],
      "source": [
        "ice_cream_flavors = [\n",
        "    \"Vanilla: Classic and creamy with a rich, smooth flavor from real vanilla beans.\",\n",
        "    \"Chocolate: Deep and indulgent, made with rich cocoa for a satisfying chocolate experience.\",\n",
        "    \"Strawberry: Sweet and fruity, bursting with the fresh taste of ripe strawberries.\",\n",
        "    \"Mint Chocolate Chip: Refreshing mint ice cream studded with decadent chocolate chips.\",\n",
        "    \"Cookie Dough: Vanilla ice cream loaded with chunks of chocolate chip cookie dough.\",\n",
        "    \"Salted Caramel: Sweet and salty with a smooth caramel swirl and a hint of sea salt.\",\n",
        "    \"Pistachio: Nutty and creamy, featuring the distinct taste of real pistachios.\",\n",
        "    \"Cookies and Cream: Vanilla ice cream packed with chunks of chocolate sandwich cookies.\",\n",
        "    \"Mango: Tropical and tangy, made with juicy mangoes for a refreshing treat.\",\n",
        "    \"Rocky Road: Chocolate ice cream mixed with marshmallows, nuts, and chocolate chunks.\"\n",
        "]"
      ]
    },
    {
      "cell_type": "markdown",
      "id": "1eeea849-9f55-4f3c-884a-9181814c55fc",
      "metadata": {
        "id": "1eeea849-9f55-4f3c-884a-9181814c55fc"
      },
      "source": [
        "هر طعمی که بخواهی از این لیست بیرون بکشی باید ایندکسش رو صدا بزنی و بنابراین باید ایندکسش یادت باشه."
      ]
    },
    {
      "cell_type": "markdown",
      "id": "36e7364c-e8ac-4f32-80dc-955883ce072a",
      "metadata": {
        "id": "36e7364c-e8ac-4f32-80dc-955883ce072a"
      },
      "source": [
        "## درک شهودی دیکشنری‌ها\n",
        "\n",
        "دیکشنری‌ها در پایتون خیلی شبیه به کتاب‌های دیکشنری (فرهنگ لغت) هستن که تو کتابخونه‌ها می‌بینی.\n",
        "\n",
        "هر لغت یه توصیف داره و اگه بخواهی توصیفش رو بخونی باید اون لغت رو که معمولا به ترتیب الفبا هم تو کتاب جا گرفته پیدا کنی.\n",
        "\n",
        "حالا تصور کن یه دیشکنری داری که مخصوص طعم بستنی‌هاست!\n",
        "\n",
        "ولی این دیکشنری به صورت کتاب چاپی نیست بلکه به صورت مجازی و پایتونی هست:"
      ]
    },
    {
      "cell_type": "code",
      "execution_count": 4,
      "id": "7e725e5e-4fa2-4a09-95e9-a67c34f96e46",
      "metadata": {
        "id": "7e725e5e-4fa2-4a09-95e9-a67c34f96e46"
      },
      "outputs": [],
      "source": [
        "ice_cream_flavors = {\n",
        "    \"Mint Chocolate Chip\": \"Refreshing mint ice cream studded with decadent chocolate chips.\",\n",
        "    \"Cookie Dough\": \"Vanilla ice cream loaded with chunks of chocolate chip cookie dough.\",\n",
        "    \"Salted Caramel\": \"Sweet and salty with a smooth caramel swirl and a hint of sea salt.\"\n",
        "}"
      ]
    },
    {
      "cell_type": "markdown",
      "id": "ec17ee22",
      "metadata": {
        "id": "ec17ee22"
      },
      "source": [
        "کلیدهای دیشکنری\n",
        "\n",
        "`ice_cream_flavors`\n",
        "\n",
        "به کمک تابع «کیز» قابل نمایش هستن:"
      ]
    },
    {
      "cell_type": "code",
      "execution_count": 5,
      "id": "f798f6bf-7fa9-4eb3-b576-77fa101e24b2",
      "metadata": {
        "id": "f798f6bf-7fa9-4eb3-b576-77fa101e24b2",
        "colab": {
          "base_uri": "https://localhost:8080/"
        },
        "outputId": "8f2e9597-1db6-420c-80c1-4274e8648580"
      },
      "outputs": [
        {
          "output_type": "stream",
          "name": "stdout",
          "text": [
            "dict_keys(['Mint Chocolate Chip', 'Cookie Dough', 'Salted Caramel'])\n"
          ]
        }
      ],
      "source": [
        "print(ice_cream_flavors.keys())"
      ]
    },
    {
      "cell_type": "markdown",
      "id": "2fb5e9c3",
      "metadata": {
        "id": "2fb5e9c3"
      },
      "source": [
        "و مقدارهاش رو هم با تابع «ولیوز» می‌تونی نمایش بدی:"
      ]
    },
    {
      "cell_type": "code",
      "execution_count": 6,
      "id": "91a35e3b-f437-4832-8610-0960ac9705b5",
      "metadata": {
        "id": "91a35e3b-f437-4832-8610-0960ac9705b5",
        "colab": {
          "base_uri": "https://localhost:8080/"
        },
        "outputId": "48ba39be-bf4d-4883-b1f5-5b0ef71e4f5a"
      },
      "outputs": [
        {
          "output_type": "stream",
          "name": "stdout",
          "text": [
            "dict_values(['Refreshing mint ice cream studded with decadent chocolate chips.', 'Vanilla ice cream loaded with chunks of chocolate chip cookie dough.', 'Sweet and salty with a smooth caramel swirl and a hint of sea salt.'])\n"
          ]
        }
      ],
      "source": [
        "print(ice_cream_flavors.values())"
      ]
    },
    {
      "cell_type": "markdown",
      "id": "e5700c35-4814-4e92-8435-eb614da9bce0",
      "metadata": {
        "id": "e5700c35-4814-4e92-8435-eb614da9bce0"
      },
      "source": [
        "## دسترسی به اعضای دیکشنری"
      ]
    },
    {
      "cell_type": "markdown",
      "id": "cb11e3ff",
      "metadata": {
        "id": "cb11e3ff"
      },
      "source": [
        "دیکشنری‌های پایتونی مثل لیست‌های پایتونی نیستن. اعضاشون رو نمیشه با ایندکس صدا کرد.\n",
        "\n",
        "کد پایین اشتباه هست:"
      ]
    },
    {
      "cell_type": "code",
      "execution_count": null,
      "id": "c20fbfe7-e0fd-45e9-8fbb-071bf5a64ecb",
      "metadata": {
        "id": "c20fbfe7-e0fd-45e9-8fbb-071bf5a64ecb",
        "colab": {
          "base_uri": "https://localhost:8080/",
          "height": 159
        },
        "outputId": "4e535275-51b9-4fdd-f025-3282d65986d5"
      },
      "outputs": [
        {
          "output_type": "error",
          "ename": "KeyError",
          "evalue": "0",
          "traceback": [
            "\u001b[0;31m---------------------------------------------------------------------------\u001b[0m",
            "\u001b[0;31mKeyError\u001b[0m                                  Traceback (most recent call last)",
            "\u001b[0;32m/tmp/ipython-input-9-1495979282.py\u001b[0m in \u001b[0;36m<cell line: 0>\u001b[0;34m()\u001b[0m\n\u001b[1;32m      1\u001b[0m \u001b[0;31m#Wrong way of accessing elements (treating dict as a list)\u001b[0m\u001b[0;34m\u001b[0m\u001b[0;34m\u001b[0m\u001b[0m\n\u001b[0;32m----> 2\u001b[0;31m \u001b[0mprint\u001b[0m\u001b[0;34m(\u001b[0m\u001b[0mice_cream_flavors\u001b[0m\u001b[0;34m[\u001b[0m\u001b[0;36m0\u001b[0m\u001b[0;34m]\u001b[0m\u001b[0;34m)\u001b[0m\u001b[0;34m\u001b[0m\u001b[0;34m\u001b[0m\u001b[0m\n\u001b[0m",
            "\u001b[0;31mKeyError\u001b[0m: 0"
          ]
        }
      ],
      "source": [
        "#Wrong way of accessing elements (treating dict as a list)\n",
        "print(ice_cream_flavors[0])"
      ]
    },
    {
      "cell_type": "markdown",
      "id": "5f0d780a",
      "metadata": {
        "id": "5f0d780a"
      },
      "source": [
        "بیا از چت‌بات در مورد فراخوانی اعضای دیکشنری بپرسیم.\n",
        "\n",
        "<p style=\"background-color:#F5C780; padding:15px\"> 🤖 <b>پرامپت چت‌بات:</b>\n",
        "\n",
        "چطور در پایتون به یک عضو دیکشنری دسترسی پیدا کنم؟ مثلا دیکشنری پایین رو در نظر بگیر. <br>\n",
        "ice_cream_flavors = {<br>\n",
        "    \"Mint Chocolate Chip\": \"Refreshing mint ice cream studded with decadent chocolate chips.\",<br>\n",
        "    \"Cookie Dough\": \"Vanilla ice cream loaded with chunks of chocolate chip cookie dough.\",<br>\n",
        "    \"Salted Caramel\": \"Sweet and salty with a smooth caramel swirl and a hint of sea salt.\"<br>\n",
        "} <br>\n",
        "</p>"
      ]
    },
    {
      "cell_type": "markdown",
      "id": "66d94bb2",
      "metadata": {
        "id": "66d94bb2"
      },
      "source": [
        "پس برای دسترسی به مقدار داده‌های دیکشنری باید از کلیدشون استفاده کنی.\n",
        "\n",
        "مثلا برای دسترسی به توصیف بستنی با طعم خمیر کوکی باید کلیدش رو این شکلی صدا کنیم:"
      ]
    },
    {
      "cell_type": "code",
      "execution_count": null,
      "id": "529b68a1-57fe-4ebb-ad6a-db08c3c3f38a",
      "metadata": {
        "id": "529b68a1-57fe-4ebb-ad6a-db08c3c3f38a",
        "colab": {
          "base_uri": "https://localhost:8080/"
        },
        "outputId": "b7b6aef7-a8b2-4bfe-e9b0-6beff769aa7c"
      },
      "outputs": [
        {
          "output_type": "stream",
          "name": "stdout",
          "text": [
            "Vanilla ice cream loaded with chunks of chocolate chip cookie dough.\n"
          ]
        }
      ],
      "source": [
        "cookie_dough_description = ice_cream_flavors[\"Cookie Dough\"]\n",
        "print(cookie_dough_description)"
      ]
    },
    {
      "cell_type": "code",
      "source": [
        "print(ice_cream_flavors[\"Cookie Dough\"])"
      ],
      "metadata": {
        "colab": {
          "base_uri": "https://localhost:8080/"
        },
        "id": "f2AhHcCKgK_E",
        "outputId": "16fae643-1e76-49fa-ae21-dec9f1a2b5f1"
      },
      "id": "f2AhHcCKgK_E",
      "execution_count": null,
      "outputs": [
        {
          "output_type": "stream",
          "name": "stdout",
          "text": [
            "Vanilla ice cream loaded with chunks of chocolate chip cookie dough.\n"
          ]
        }
      ]
    },
    {
      "cell_type": "code",
      "source": [
        "print(ice_cream_flavors.get(\"Salted Caramel\"))"
      ],
      "metadata": {
        "colab": {
          "base_uri": "https://localhost:8080/"
        },
        "id": "ENnp4SUdgPID",
        "outputId": "e1781c6a-0395-4a24-cd15-0328b956144d"
      },
      "id": "ENnp4SUdgPID",
      "execution_count": null,
      "outputs": [
        {
          "output_type": "stream",
          "name": "stdout",
          "text": [
            "Sweet and salty with a smooth caramel swirl and a hint of sea salt.\n"
          ]
        }
      ]
    },
    {
      "cell_type": "markdown",
      "id": "0c72ec6c-54c3-4452-aeb6-7ca4c11365f8",
      "metadata": {
        "id": "0c72ec6c-54c3-4452-aeb6-7ca4c11365f8"
      },
      "source": [
        "## افزودن و روزآمدی عضو در دیکشنری"
      ]
    },
    {
      "cell_type": "markdown",
      "id": "525a82e3-8815-4e38-8c05-0d17b8e29e8b",
      "metadata": {
        "id": "525a82e3-8815-4e38-8c05-0d17b8e29e8b"
      },
      "source": [
        "دیشکنری طعم بستنی رو یه بار دیگه بهش دقت کن."
      ]
    },
    {
      "cell_type": "code",
      "execution_count": null,
      "id": "85b77c6b-f3a9-4c43-a88b-8b21a8ea3b14",
      "metadata": {
        "id": "85b77c6b-f3a9-4c43-a88b-8b21a8ea3b14",
        "colab": {
          "base_uri": "https://localhost:8080/"
        },
        "outputId": "dcbef355-6baf-4aa8-d8b8-2494b0a95460"
      },
      "outputs": [
        {
          "output_type": "stream",
          "name": "stdout",
          "text": [
            "{'Mint Chocolate Chip': 'Refreshing mint ice cream studded with decadent chocolate chips.', 'Cookie Dough': 'Vanilla ice cream loaded with chunks of chocolate chip cookie dough.', 'Salted Caramel': 'Sweet and salty with a smooth caramel swirl and a hint of sea salt.'}\n"
          ]
        }
      ],
      "source": [
        "print(ice_cream_flavors)"
      ]
    },
    {
      "cell_type": "markdown",
      "id": "c4f538b4",
      "metadata": {
        "id": "c4f538b4"
      },
      "source": [
        "برای افزودن طعم تازه‌ای به این دیکشنری کد پایتونی این شکلی میشه:"
      ]
    },
    {
      "cell_type": "code",
      "execution_count": null,
      "id": "f443cc67-2008-4e6a-93e9-b5ce7955dda2",
      "metadata": {
        "id": "f443cc67-2008-4e6a-93e9-b5ce7955dda2"
      },
      "outputs": [],
      "source": [
        "ice_cream_flavors[\"Rocky Road\"] = \"Chocolate ice cream mixd witother ngredients.\""
      ]
    },
    {
      "cell_type": "markdown",
      "id": "97ed0ed1",
      "metadata": {
        "id": "97ed0ed1"
      },
      "source": [
        "توجه کردی؟\n",
        "\n",
        "این همون سینتکسی هست که برای اشاره به یک عضو استفاده کرده بودیم. فقط این بار کلیدی رو اشاره کردیم که وجود نداره و یک مقدار هم همزمان بهش تخصیص دادیم.\n",
        "\n",
        "حالا دوباره دیکشنری طعم بستنی‌ها رو داشته باش:"
      ]
    },
    {
      "cell_type": "code",
      "execution_count": null,
      "id": "6547f5e5",
      "metadata": {
        "id": "6547f5e5",
        "colab": {
          "base_uri": "https://localhost:8080/"
        },
        "outputId": "3c6e4081-a57d-49c1-db2f-d1310c9ff559"
      },
      "outputs": [
        {
          "output_type": "stream",
          "name": "stdout",
          "text": [
            "{'Mint Chocolate Chip': 'Refreshing mint ice cream studded with decadent chocolate chips.', 'Cookie Dough': 'Vanilla ice cream loaded with chunks of chocolate chip cookie dough.', 'Salted Caramel': 'Sweet and salty with a smooth caramel swirl and a hint of sea salt.', 'Rocky Road': 'Chocolate ice cream mixd witother ngredients.'}\n"
          ]
        }
      ],
      "source": [
        "print(ice_cream_flavors)"
      ]
    },
    {
      "cell_type": "markdown",
      "id": "e1e0cce4",
      "metadata": {
        "id": "e1e0cce4"
      },
      "source": [
        "دقیقا به همین شکل هم می‌تونی با تخصیص مقدار به کلیدی که از قبل وجود داره، مقدار اون رو به‌روز کنی."
      ]
    },
    {
      "cell_type": "code",
      "execution_count": null,
      "id": "37d150d3",
      "metadata": {
        "id": "37d150d3"
      },
      "outputs": [],
      "source": [
        "ice_cream_flavors[\"Rocky Road\"] = \"Chocolate ice cream mixed with other ingredients.\""
      ]
    },
    {
      "cell_type": "code",
      "execution_count": null,
      "id": "2a411986-59a5-4553-9192-65a3b54a8410",
      "metadata": {
        "id": "2a411986-59a5-4553-9192-65a3b54a8410",
        "colab": {
          "base_uri": "https://localhost:8080/"
        },
        "outputId": "75fcf037-c2e6-4ac8-9682-0b12bfdaf3fe"
      },
      "outputs": [
        {
          "output_type": "stream",
          "name": "stdout",
          "text": [
            "{'Mint Chocolate Chip': 'Refreshing mint ice cream studded with decadent chocolate chips.', 'Cookie Dough': 'Vanilla ice cream loaded with chunks of chocolate chip cookie dough.', 'Salted Caramel': 'Sweet and salty with a smooth caramel swirl and a hint of sea salt.', 'Rocky Road': 'Chocolate ice cream mixed with other ingredients.'}\n"
          ]
        }
      ],
      "source": [
        "print(ice_cream_flavors)"
      ]
    },
    {
      "cell_type": "markdown",
      "id": "00ada507-22fe-468e-b3b4-5af0994a0cce",
      "metadata": {
        "id": "00ada507-22fe-468e-b3b4-5af0994a0cce"
      },
      "source": [
        "## اعضای دیشکنری با نوع‌داده‌های گوناگون"
      ]
    },
    {
      "cell_type": "markdown",
      "id": "84da9a17-038e-4d95-9dab-ec9471b48bd3",
      "metadata": {
        "id": "84da9a17-038e-4d95-9dab-ec9471b48bd3"
      },
      "source": [
        "فرض کن تو اطلاعات دوستات رو ذخیره می کنی تا بتونی بعدتر متناسب با ویژگی‌هاشون براشون هدیه بخری یا به هر نحوی خوشحالشون کنی."
      ]
    },
    {
      "cell_type": "code",
      "execution_count": null,
      "id": "a021ebf7-25c6-45b5-913b-b159c73a54b6",
      "metadata": {
        "id": "a021ebf7-25c6-45b5-913b-b159c73a54b6",
        "colab": {
          "base_uri": "https://localhost:8080/"
        },
        "outputId": "b918fe22-4209-4843-bb4e-953f6e202947"
      },
      "outputs": [
        {
          "output_type": "stream",
          "name": "stdout",
          "text": [
            "{'age': 28, 'Favorite color': 'red'}\n"
          ]
        }
      ],
      "source": [
        "reza_facts = {\n",
        "    \"age\": 28,\n",
        "    \"Favorite color\": \"red\"\n",
        "}\n",
        "print(reza_facts)"
      ]
    },
    {
      "cell_type": "markdown",
      "id": "71c84574-6b83-4586-83a2-1a12e6bc0878",
      "metadata": {
        "id": "71c84574-6b83-4586-83a2-1a12e6bc0878"
      },
      "source": [
        "می‌بینی؟ یک عضو با کلید «سن« مقدارش عدد صحیح هست و عضو دیگه مقدارش استرینگ.\n",
        "\n",
        "حتی می‌تونی مقدار یک عضو رو به صورت لیست تعریف کنی."
      ]
    },
    {
      "cell_type": "code",
      "execution_count": null,
      "id": "b1e47c85-fd16-404a-a866-a01a9410b7f1",
      "metadata": {
        "id": "b1e47c85-fd16-404a-a866-a01a9410b7f1"
      },
      "outputs": [],
      "source": [
        "reza_facts[\"Cat names\"] = [\"Charlie\", \"Smokey\", \"Tabitha\"]"
      ]
    },
    {
      "cell_type": "code",
      "execution_count": null,
      "id": "5596580c-7715-4b6e-92df-ca0f92134ddb",
      "metadata": {
        "id": "5596580c-7715-4b6e-92df-ca0f92134ddb",
        "colab": {
          "base_uri": "https://localhost:8080/"
        },
        "outputId": "005faadb-4161-403d-c284-ff2d2f0df476"
      },
      "outputs": [
        {
          "output_type": "stream",
          "name": "stdout",
          "text": [
            "{'age': 28, 'Favorite color': 'red', 'Cat names': ['Charlie', 'Smokey', 'Tabitha']}\n"
          ]
        }
      ],
      "source": [
        "print(reza_facts)"
      ]
    },
    {
      "cell_type": "code",
      "execution_count": null,
      "id": "db4c72de-08b1-4960-9b1a-d9d6b7a8c867",
      "metadata": {
        "id": "db4c72de-08b1-4960-9b1a-d9d6b7a8c867"
      },
      "outputs": [],
      "source": [
        "reza_facts[\"Favorite Snacks\"] = [\"pineapple cake\",\"candy\"]"
      ]
    },
    {
      "cell_type": "code",
      "execution_count": null,
      "id": "2f9d168e-793b-42a5-bce3-c4d5573f7b45",
      "metadata": {
        "id": "2f9d168e-793b-42a5-bce3-c4d5573f7b45",
        "colab": {
          "base_uri": "https://localhost:8080/"
        },
        "outputId": "7cc3b43d-fbc5-4be3-dba3-8b14721bfbc0"
      },
      "outputs": [
        {
          "output_type": "stream",
          "name": "stdout",
          "text": [
            "{'age': 28, 'Favorite color': 'red', 'Cat names': ['Charlie', 'Smokey', 'Tabitha'], 'Favorite Snacks': ['pineapple cake', 'candy']}\n"
          ]
        }
      ],
      "source": [
        "print(reza_facts)"
      ]
    },
    {
      "cell_type": "markdown",
      "source": [
        "به نظرت مقدار یک عضو می ‌تونه دیشکنری دیگه‌ای باشه؟ از چت‌بات مشورت بگیر."
      ],
      "metadata": {
        "id": "S6_KJ5hBpWCo"
      },
      "id": "S6_KJ5hBpWCo"
    },
    {
      "cell_type": "markdown",
      "id": "dca7e8ac-9a22-4298-a09a-05325bbd00bd",
      "metadata": {
        "id": "dca7e8ac-9a22-4298-a09a-05325bbd00bd"
      },
      "source": [
        "## استفاده از دیکشنری در پرامپت\n",
        "اولویت‌بندی کارها به کمک هوش مصنوعی"
      ]
    },
    {
      "cell_type": "markdown",
      "id": "057ee2c7",
      "metadata": {
        "id": "057ee2c7"
      },
      "source": [
        "درس گذشته اومدیم یه لیست از کارهای در دست انجام تهیه و برای اجرا به هوش مصنوعی ارسال کردیم."
      ]
    },
    {
      "cell_type": "code",
      "execution_count": null,
      "id": "1c7e996d-2cc1-48e5-9c8f-51b1403cfcb8",
      "metadata": {
        "id": "1c7e996d-2cc1-48e5-9c8f-51b1403cfcb8"
      },
      "outputs": [],
      "source": [
        "#task example, large list not ordered by priority. Want to prioritize\n",
        "list_of_tasks = [\n",
        "    \"Compose a brief email to my boss explaining that I will be late for tomorrow's meeting.\",\n",
        "    \"Write a birthday poem for Otto, celebrating his 28th birthday.\",\n",
        "    \"Write a 300-word review of the movie 'The Arrival'.\",\n",
        "    \"Draft a thank-you note for my neighbor Dapinder who helped water my plants while I was on vacation.\",\n",
        "    \"Create an outline for a presentation on the benefits of remote work.\"\n",
        "]"
      ]
    },
    {
      "cell_type": "markdown",
      "id": "6bbfc589",
      "metadata": {
        "id": "6bbfc589"
      },
      "source": [
        "تو دنیای واقعی همه کارها اولویت یکسانی ندارن! تو همین مثال بالا ما کارهایی با درجه اولویت «بالا» و «متوسط» و «پایین» داریم."
      ]
    },
    {
      "cell_type": "code",
      "execution_count": null,
      "id": "24fe42ec-0cbf-46e8-af15-6cc2eeff98a9",
      "metadata": {
        "id": "24fe42ec-0cbf-46e8-af15-6cc2eeff98a9"
      },
      "outputs": [],
      "source": [
        "#instead of that unorganized large list, divide tasks by priority\n",
        "high_priority_tasks = [\n",
        "    \"Compose a brief email to my boss explaining that I will be late for tomorrow's meeting.\",\n",
        "    \"Create an outline for a presentation on the benefits of remote work.\"\n",
        "]\n",
        "\n",
        "medium_priority_tasks = [\n",
        "    \"Write a birthday poem for Otto, celebrating his 28th birthday.\",\n",
        "    \"Draft a thank-you note for my neighbor Dapinder who helped water my plants while I was on vacation.\"\n",
        "]\n",
        "\n",
        "low_priority_tasks = [\n",
        "    \"Write a 300-word review of the movie 'The Arrival'.\"\n",
        "]"
      ]
    },
    {
      "cell_type": "markdown",
      "id": "f5732409",
      "metadata": {
        "id": "f5732409"
      },
      "source": [
        "حالا با شناخت دیشکنری می‌تونی هر کار رو همراه اولویتش ذخیره کنی."
      ]
    },
    {
      "cell_type": "code",
      "execution_count": null,
      "id": "9db13c1e-3c7a-49c2-aaf7-96ba2f5c129d",
      "metadata": {
        "id": "9db13c1e-3c7a-49c2-aaf7-96ba2f5c129d"
      },
      "outputs": [],
      "source": [
        "#create dictionary with all tasks\n",
        "#dictionaries can contain lists!\n",
        "prioritized_tasks = {\n",
        "    \"high_priority\": high_priority_tasks,\n",
        "    \"medium_priority\": medium_priority_tasks,\n",
        "    \"low_priority\": low_priority_tasks\n",
        "}"
      ]
    },
    {
      "cell_type": "code",
      "execution_count": null,
      "id": "0b5a6caf-ac2b-42de-bfed-34f65e7af533",
      "metadata": {
        "id": "0b5a6caf-ac2b-42de-bfed-34f65e7af533",
        "colab": {
          "base_uri": "https://localhost:8080/"
        },
        "outputId": "b3f22ac0-dd11-4ddd-b54c-b118a1cf5588"
      },
      "outputs": [
        {
          "output_type": "stream",
          "name": "stdout",
          "text": [
            "{'high_priority': [\"Compose a brief email to my boss explaining that I will be late for tomorrow's meeting.\", 'Create an outline for a presentation on the benefits of remote work.'], 'medium_priority': ['Write a birthday poem for Otto, celebrating his 28th birthday.', 'Draft a thank-you note for my neighbor Dapinder who helped water my plants while I was on vacation.'], 'low_priority': [\"Write a 300-word review of the movie 'The Arrival'.\"]}\n"
          ]
        }
      ],
      "source": [
        "print(prioritized_tasks)"
      ]
    },
    {
      "cell_type": "markdown",
      "id": "b9133811",
      "metadata": {
        "id": "b9133811"
      },
      "source": [
        "حالا می‌تونی برای مثال از بین همه کارها بیای روی کارهای با اولویت بالا تمرکز و اون‌ها رو کامل کنی.\n",
        "\n",
        "بندازشون تو یه حلقه فور تا خودکار فرستاده و کامل بشن."
      ]
    },
    {
      "cell_type": "code",
      "execution_count": null,
      "id": "a5983ba4-e53c-4e43-b00b-a405ed95cba4",
      "metadata": {
        "id": "a5983ba4-e53c-4e43-b00b-a405ed95cba4",
        "colab": {
          "base_uri": "https://localhost:8080/"
        },
        "outputId": "aa67f8d6-1442-458d-a3a1-91fe339bad3d"
      },
      "outputs": [
        {
          "output_type": "stream",
          "name": "stdout",
          "text": [
            "[\"Compose a brief email to my boss explaining that I will be late for tomorrow's meeting.\", 'Create an outline for a presentation on the benefits of remote work.']\n"
          ]
        }
      ],
      "source": [
        "print(prioritized_tasks[\"high_priority\"])"
      ]
    },
    {
      "cell_type": "code",
      "execution_count": null,
      "id": "497c5938-347d-4551-a291-2eb8d5c137f9",
      "metadata": {
        "id": "497c5938-347d-4551-a291-2eb8d5c137f9",
        "colab": {
          "base_uri": "https://localhost:8080/"
        },
        "outputId": "22ed246b-a66a-46a6-a225-1095057f7f25"
      },
      "outputs": [
        {
          "output_type": "stream",
          "name": "stdout",
          "text": [
            "Subject: Running a bit late - Tomorrow's Meeting\n",
            "\n",
            "Hi [Boss's Name],\n",
            "\n",
            "Just wanted to let you know that I anticipate being a little late to tomorrow's meeting. [Optional: Briefly state reason - e.g., \"I have a prior appointment\" or \"Dealing with a minor morning issue\"].\n",
            "\n",
            "I'll be there as soon as possible.\n",
            "\n",
            "Thanks,\n",
            "[Your Name]\n",
            "\n",
            "\n",
            "\n",
            "\n",
            "## Presentation Outline: The Benefits of Remote Work\n",
            "\n",
            "**Target Audience:** (Adapt this based on who you're presenting to - e.g., Employees, Managers, HR, Executives)\n",
            "\n",
            "**Overall Goal:** To persuade the audience that remote work offers significant benefits for both employees and the organization.\n",
            "\n",
            "**I. Introduction (2-3 minutes)**\n",
            "\n",
            "*   **Hook:** Start with a compelling statistic or anecdote about the rise of remote work (e.g., percentage of companies offering remote options, employee satisfaction with remote work).\n",
            "*   **Briefly define remote work:**  Clarify what you mean by \"remote work\" (fully remote, hybrid, etc.).\n",
            "*   **State the presentation's purpose:** Outline the key benefits you'll be covering.  (\"Today, we'll explore the numerous benefits of remote work, highlighting its advantages for employee well-being, productivity, and organizational success.\")\n",
            "*   **Agenda:** Briefly list the topics you'll be discussing.\n",
            "\n",
            "**II. Benefits for Employees (5-7 minutes)**\n",
            "\n",
            "*   **A. Improved Work-Life Balance:**\n",
            "    *   Flexibility in scheduling.\n",
            "    *   Reduced commute time & stress.\n",
            "    *   More time for personal pursuits, family, and hobbies.\n",
            "    *   Example:  Share a relatable scenario of how remote work improves work-life balance.\n",
            "*   **B. Increased Autonomy & Control:**\n",
            "    *   Empowerment to manage their own time and work environment.\n",
            "    *   Greater sense of ownership over their work.\n",
            "    *   Reduced micromanagement.\n",
            "*   **C. Enhanced Well-being:**\n",
            "    *   Reduced stress from commuting and office politics.\n",
            "    *   Ability to create a comfortable and personalized workspace.\n",
            "    *   Improved physical health (e.g., more time for exercise, healthier eating).\n",
            "*   **D. Cost Savings:**\n",
            "    *   Reduced expenses on commuting, work attire, lunches, etc.\n",
            "    *   (Optional) Mention potential tax benefits.\n",
            "\n",
            "**III. Benefits for Organizations (5-7 minutes)**\n",
            "\n",
            "*   **A. Increased Productivity:**\n",
            "    *   Studies showing higher productivity levels among remote workers.\n",
            "    *   Fewer distractions in a personalized workspace.\n",
            "    *   More focused work time.\n",
            "    *   Example:  Share data or research findings on productivity gains.\n",
            "*   **B. Reduced Overhead Costs:**\n",
            "    *   Lower office space costs (rent, utilities, maintenance).\n",
            "    *   Reduced expenses on office supplies and equipment.\n",
            "*   **C. Wider Talent Pool:**\n",
            "    *   Ability to recruit talent from anywhere in the world.\n",
            "    *   Access to a more diverse and skilled workforce.\n",
            "    *   Improved employee retention.\n",
            "*   **D. Improved Business Continuity:**\n",
            "    *   Greater resilience to disruptions (e.g., weather, pandemics).\n",
            "    *   Ability to maintain operations even in challenging circumstances.\n",
            "*   **E. Enhanced Company Culture (when implemented well):**\n",
            "    *   Can foster trust and empower employees.\n",
            "    *   Creates a more inclusive work environment.\n",
            "\n",
            "**IV. Addressing Potential Challenges & Solutions (3-5 minutes)**\n",
            "\n",
            "*   **A. Communication & Collaboration:**\n",
            "    *   Challenge: Maintaining effective communication and collaboration.\n",
            "    *   Solutions:  Utilizing collaboration tools (Slack, Microsoft Teams, Zoom), regular virtual meetings, clear communication protocols.\n",
            "*   **B. Maintaining Company Culture:**\n",
            "    *   Challenge:  Building and maintaining a strong company culture remotely.\n",
            "    *   Solutions:  Virtual team-building activities, regular check-ins, foster a sense of community through online channels.\n",
            "*   **C.  Potential for Isolation:**\n",
            "    *   Challenge:  Addressing feelings of isolation among remote workers.\n",
            "    *   Solutions:  Encourage social interaction through virtual coffee breaks, online communities, and occasional in-person meetups.\n",
            "*   **D.  Performance Management:**\n",
            "    *   Challenge: Ensuring accountability and measuring performance.\n",
            "    *   Solutions:  Focus on output and results, clear expectations, regular performance reviews.\n",
            "\n",
            "**V.  Conclusion (2-3 minutes)**\n",
            "\n",
            "*   **Recap Key Benefits:** Briefly summarize the main advantages of remote work for both employees and the organization.\n",
            "*   **Reinforce the Value Proposition:**  Reiterate why remote work is a valuable strategy for success in today's business environment.\n",
            "*   **Call to Action:** (Tailor this to your audience)\n",
            "    *   If for employees:  Encourage them to explore remote work opportunities.\n",
            "    *   If for managers:  Encourage them to consider implementing or expanding remote work options.\n",
            "    *   If for executives:  Suggest further research and planning for a successful remote work strategy.\n",
            "*   **Q&A:** Open the floor for questions from the audience.\n",
            "\n",
            "\n",
            "\n",
            "**Visual Aids:**\n",
            "\n",
            "*   Use visually appealing slides with minimal text.\n",
            "*   Incorporate charts, graphs, and images to illustrate key points.\n",
            "*   Use quotes from employees and industry experts.\n",
            "\n",
            "**Notes for Presenter:**\n",
            "\n",
            "*   Practice your presentation thoroughly.\n",
            "*   Maintain eye contact with the audience.\n",
            "*   Speak clearly and enthusiastically.\n",
            "*   Be prepared to answer questions.\n",
            "*   Adapt the content to suit your audience's specific needs and interests.\n",
            "\n",
            "\n",
            "\n",
            "\n"
          ]
        }
      ],
      "source": [
        "#complete high priority tasks\n",
        "for task in prioritized_tasks[\"high_priority\"]:\n",
        "    res = print_llm_response(task)\n",
        "    print(res)"
      ]
    },
    {
      "cell_type": "markdown",
      "id": "0252164f-5855-4c65-a631-bd71fd3b0586",
      "metadata": {
        "id": "0252164f-5855-4c65-a631-bd71fd3b0586"
      },
      "source": [
        "درس بعدی این مبحث رو در ترکیب با هوش مصنوعی ادامه می‌دیم.\n",
        "\n",
        "حالا بیا اونچه از دیکشنری یاد گرفتیم تمرین کنیم."
      ]
    },
    {
      "cell_type": "markdown",
      "id": "0b3b2ee6-0afb-4b3b-afc0-9d4906333edc",
      "metadata": {
        "id": "0b3b2ee6-0afb-4b3b-afc0-9d4906333edc"
      },
      "source": [
        "## تمرین"
      ]
    },
    {
      "cell_type": "markdown",
      "id": "39e1f950-58a2-43bb-a586-4e9f14155b32",
      "metadata": {
        "id": "39e1f950-58a2-43bb-a586-4e9f14155b32"
      },
      "source": [
        "با تمرین‌های پایین درک خودت از دیشکنری‌ها رو مرور و بهتر کن."
      ]
    },
    {
      "cell_type": "code",
      "execution_count": null,
      "id": "84928944-5d07-4475-8dda-07bb54823e32",
      "metadata": {
        "id": "84928944-5d07-4475-8dda-07bb54823e32"
      },
      "outputs": [],
      "source": [
        "# توصیف طعم «جاده سنگی» رو به کمک هوش مصنوعی روزآمد کن\n",
        "\n",
        "flavor = \"Rocky Road\"\n",
        "prompt = f\"Provide a brief description for the {flavor} ice cream flavor\"\n",
        "\n",
        "### EDIT THE FOLLOWING CODE ###\n",
        "ice_cream_flavors[\"Rocky Road\"] =\n",
        "### --------------- ###"
      ]
    },
    {
      "cell_type": "code",
      "source": [
        "flavor = \"Rocky Road\"\n",
        "prompt = f\"Provide a brief, creative description for the {flavor} ice cream flavor\"\n",
        "\n",
        "# دریافت پاسخ از هوش مصنوعی\n",
        "description = print_llm_response(prompt)\n",
        "\n",
        "### EDIT THE FOLLOWING CODE ###\n",
        "ice_cream_flavors[\"Rocky Road\"] = description\n",
        "### --------------- ###\n",
        "print(ice_cream_flavors)"
      ],
      "metadata": {
        "colab": {
          "base_uri": "https://localhost:8080/"
        },
        "id": "oHSfmTuVhp1A",
        "outputId": "14a21050-22d6-4f76-80c9-fe7798fef2b1"
      },
      "id": "oHSfmTuVhp1A",
      "execution_count": null,
      "outputs": [
        {
          "output_type": "stream",
          "name": "stdout",
          "text": [
            "{'Mint Chocolate Chip': 'Refreshing mint ice cream studded with decadent chocolate chips.', 'Cookie Dough': 'Vanilla ice cream loaded with chunks of chocolate chip cookie dough.', 'Salted Caramel': 'Sweet and salty with a smooth caramel swirl and a hint of sea salt.', 'Rocky Road': \"## Rocky Road Ice Cream:\\n\\n**A decadent adventure in every spoonful!** Imagine rich chocolate ice cream, a crunchy landscape of marshmallow boulders, and pockets of chewy, chocolate-covered almonds – a wild, sweet, and satisfying journey for your taste buds. It's a little bit nutty, a little bit gooey, and utterly unforgettable. \\n\"}\n"
          ]
        }
      ]
    },
    {
      "cell_type": "code",
      "execution_count": null,
      "id": "2bb222c9-9f01-4f29-9abc-d7c189e5d2d5",
      "metadata": {
        "id": "2bb222c9-9f01-4f29-9abc-d7c189e5d2d5"
      },
      "outputs": [],
      "source": [
        "# کارهای با درجه اولویت متوسط رو با اصلاح کد پایین انجام بده\n",
        "\n",
        "### EDIT THE FOLLOWING CODE ###\n",
        "for task in prioritized_tasks[\"high_priority\"]:\n",
        "    print_llm_response(task)\n",
        "### --------------- ###"
      ]
    },
    {
      "cell_type": "code",
      "source": [
        "### EDIT THE FOLLOWING CODE ###\n",
        "for task in prioritized_tasks[\"medium_priority\"]:\n",
        "    print_llm_response(task)\n",
        "### --------------- ###"
      ],
      "metadata": {
        "id": "P-Jmb0KhisfD"
      },
      "id": "P-Jmb0KhisfD",
      "execution_count": null,
      "outputs": []
    },
    {
      "cell_type": "code",
      "source": [
        "# از چت‌بات بپرس که آیا در پایتون میشه\n",
        "# از حلقه فور روی دیکشنری ها هم استفاده کرد؟\n",
        "# بخواه که مثال هم بزنه و پایین کدش رو بنویس\n",
        "\n"
      ],
      "metadata": {
        "id": "kmntGUCxCeq9"
      },
      "id": "kmntGUCxCeq9",
      "execution_count": null,
      "outputs": []
    },
    {
      "cell_type": "code",
      "source": [
        "prompt = \"\"\"آیا در پایتون می‌توان از حلقهٔ for روی دیکشنری‌ها استفاده کرد؟\n",
        "اگر بله، لطفاً یک مثال عملی بزنید که نشان دهد چگونه کلیدها و مقادیر آن‌ها چاپ می‌شوند.\"\"\""
      ],
      "metadata": {
        "id": "38krHnbXjD6D"
      },
      "id": "38krHnbXjD6D",
      "execution_count": 7,
      "outputs": []
    },
    {
      "cell_type": "code",
      "source": [
        "response = print_llm_response(prompt)\n",
        "print(\"**پاسخ:**\\n\")\n",
        "print(response)"
      ],
      "metadata": {
        "id": "qWfHsVR4jFMt",
        "colab": {
          "base_uri": "https://localhost:8080/"
        },
        "outputId": "d6489c7e-95fb-4e0d-d226-527624e4edab"
      },
      "id": "qWfHsVR4jFMt",
      "execution_count": 14,
      "outputs": [
        {
          "output_type": "stream",
          "name": "stdout",
          "text": [
            "**پاسخ:**\n",
            "\n",
            "بله، در پایتون می‌توان از حلقه `for` برای پیمایش روی دیکشنری‌ها استفاده کرد. به طور پیش‌فرض، وقتی از حلقه `for` روی یک دیکشنری استفاده می‌کنید، این حلقه روی کلیدهای دیکشنری تکرار می‌شود.\n",
            "\n",
            "در ادامه، یک مثال عملی آورده شده است که نشان می‌دهد چگونه می‌توان کلیدها و مقادیر یک دیکشنری را با استفاده از حلقه `for` چاپ کرد:\n",
            "\n",
            "```python\n",
            "my_dict = {'name': 'علی', 'age': 30, 'city': 'تهران'}\n",
            "\n",
            "# حلقه روی کلیدها\n",
            "print(\"پیمایش روی کلیدها:\")\n",
            "for key in my_dict:\n",
            "    print(key)\n",
            "\n",
            "# حلقه روی مقادیر\n",
            "print(\"\\nپیمایش روی مقادیر:\")\n",
            "for value in my_dict.values():\n",
            "    print(value)\n",
            "\n",
            "# حلقه روی کلیدها و مقادیر (با استفاده از items())\n",
            "print(\"\\nپیمایش روی کلیدها و مقادیر:\")\n",
            "for key, value in my_dict.items():\n",
            "    print(f\"کلید: {key}, مقدار: {value}\")\n",
            "```\n",
            "\n",
            "**توضیح کد:**\n",
            "\n",
            "1.  **`my_dict = {'name': 'علی', 'age': 30, 'city': 'تهران'}`**:  یک دیکشنری به نام `my_dict` ایجاد می‌شود.\n",
            "\n",
            "2.  **`for key in my_dict:`**: این حلقه روی کلیدهای دیکشنری تکرار می‌شود. در هر تکرار، مقدار کلید فعلی به متغیر `key` اختصاص داده می‌شود.\n",
            "\n",
            "3.  **`print(key)`**: مقدار کلید فعلی چاپ می‌شود.\n",
            "\n",
            "4.  **`for value in my_dict.values():`**:  متد `values()` یک نمایش از مقادیر دیکشنری را برمی‌گرداند. این حلقه روی این مقادیر تکرار می‌شود.\n",
            "\n",
            "5.  **`print(value)`**: مقدار فعلی چاپ می‌شود.\n",
            "\n",
            "6.  **`for key, value in my_dict.items():`**: متد `items()` یک نمایش از جفتی از (کلید، مقدار) دیکشنری را برمی‌گرداند.  این حلقه روی این جفت‌ها تکرار می‌شود. در هر تکرار، کلید و مقدار به متغیرهای `key` و `value` اختصاص داده می‌شوند.\n",
            "\n",
            "7.  **`print(f\"کلید: {key}, مقدار: {value}\")`**:  کلید و مقدار فعلی با استفاده از f-string (یک راه راحت برای فرمت کردن رشته‌ها در پایتون) چاپ می‌شوند.\n",
            "\n",
            "**خروجی کد:**\n",
            "\n",
            "```\n",
            "پیمایش روی کلیدها:\n",
            "name\n",
            "age\n",
            "city\n",
            "\n",
            "پیمایش روی مقادیر:\n",
            "علی\n",
            "30\n",
            "تهران\n",
            "\n",
            "پیمایش روی کلیدها و مقادیر:\n",
            "کلید: name, مقدار: علی\n",
            "کلید: age, مقدار: 30\n",
            "کلید: city, مقدار: تهران\n",
            "```\n",
            "\n",
            "**نکات مهم:**\n",
            "\n",
            "*   بهترین و رایج‌ترین روش برای پیمایش روی کلیدها و مقادیر یک دیکشنری، استفاده از متد `items()` است.\n",
            "*   می‌توانید از نام‌های متغیرهای `key` و `value` هر چیزی که می‌خواهید استفاده کنید، اما استفاده از نام‌های معنادار به خوانایی کد کمک می‌کند.\n",
            "\n",
            "امیدوارم این توضیحات و مثال برای شما مفید باشد! اگر سوال دیگری دارید، خوشحال می‌شوم پاسخ دهم.\n"
          ]
        }
      ]
    },
    {
      "cell_type": "code",
      "source": [
        "# بله، در پایتون می‌توان از حلقهٔ for برای پیمایش دیکشنری‌ها استفاده کرد.\n",
        "# هر دیکشنری از جفت‌های کلید-مقدار تشکیل شده است و می‌توان به صورت زیر از حلقه استفاده کرد:\n",
        "\n",
        "# مثال:\n",
        "\n",
        "my_dict = {\n",
        "    \"name\": \"Ali\",\n",
        "    \"age\": 30,\n",
        "    \"city\": \"Tehran\"\n",
        "}\n",
        "\n",
        "for key, value in my_dict.items():\n",
        "    print(f\"{key}: {value}\")\n",
        "\n"
      ],
      "metadata": {
        "id": "n_nh88S1jQV2",
        "colab": {
          "base_uri": "https://localhost:8080/"
        },
        "outputId": "5f92374c-ff15-44a9-bd6a-2399ea5baaf4"
      },
      "id": "n_nh88S1jQV2",
      "execution_count": 13,
      "outputs": [
        {
          "output_type": "stream",
          "name": "stdout",
          "text": [
            "name: Ali\n",
            "age: 30\n",
            "city: Tehran\n"
          ]
        }
      ]
    }
  ],
  "metadata": {
    "kernelspec": {
      "display_name": "Python 3 (ipykernel)",
      "language": "python",
      "name": "python3"
    },
    "language_info": {
      "codemirror_mode": {
        "name": "ipython",
        "version": 3
      },
      "file_extension": ".py",
      "mimetype": "text/x-python",
      "name": "python",
      "nbconvert_exporter": "python",
      "pygments_lexer": "ipython3",
      "version": "3.9.19"
    },
    "colab": {
      "provenance": []
    }
  },
  "nbformat": 4,
  "nbformat_minor": 5
}