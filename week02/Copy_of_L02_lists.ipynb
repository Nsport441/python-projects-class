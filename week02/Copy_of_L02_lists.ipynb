{
  "cells": [
    {
      "cell_type": "markdown",
      "id": "4bd8fbd2-de5c-47bd-bcd9-cbbe8cdc3104",
      "metadata": {
        "id": "4bd8fbd2-de5c-47bd-bcd9-cbbe8cdc3104"
      },
      "source": [
        "# هفته دوم - درس ۲: لیست\n",
        "\n",
        "تو چند درس پیش‌رو یاد می‌گیری که انجام لیست کارها رو با پایتون خودکار کنی.\n",
        "\n",
        "یاد می‌گیری منطقی با پایتون طراحی کنی که کارهای تکراری رو انجام بده و تصمیم‌های تو رو به موقع از طرف تو اعمال کنه.\n",
        "\n",
        "یکی از مهارت‌های مهمی که یاد می‌گیری این هست که چطور داده‌های پی‌درپی رو یکجا ذخیره کنی. لیست‌ها یکی از ابزارهای قدرتمند برای این کار هستند.\n",
        "\n",
        "در این درس به ساخت و مدیریت لیست‌ها در پایتون می‌پردازیم.\n"
      ]
    },
    {
      "cell_type": "markdown",
      "id": "f2ba7ff3",
      "metadata": {
        "id": "f2ba7ff3"
      },
      "source": [
        "### راه‌اندازی توگدر برای کار با هوش مصنوعی"
      ]
    },
    {
      "cell_type": "code",
      "execution_count": 1,
      "id": "41ef33ad-2b5c-40db-a1ab-9f3c689edd55",
      "metadata": {
        "id": "41ef33ad-2b5c-40db-a1ab-9f3c689edd55",
        "colab": {
          "base_uri": "https://localhost:8080/"
        },
        "outputId": "80b981d0-d767-4b89-ab96-5bc9b6e322b3",
        "collapsed": true
      },
      "outputs": [
        {
          "output_type": "stream",
          "name": "stdout",
          "text": [
            "Collecting together\n",
            "  Downloading together-1.5.21-py3-none-any.whl.metadata (15 kB)\n",
            "Requirement already satisfied: aiohttp<4.0.0,>=3.9.3 in /usr/local/lib/python3.11/dist-packages (from together) (3.12.14)\n",
            "Requirement already satisfied: click<9.0.0,>=8.1.7 in /usr/local/lib/python3.11/dist-packages (from together) (8.2.1)\n",
            "Collecting eval-type-backport<0.3.0,>=0.1.3 (from together)\n",
            "  Downloading eval_type_backport-0.2.2-py3-none-any.whl.metadata (2.2 kB)\n",
            "Requirement already satisfied: filelock<4.0.0,>=3.13.1 in /usr/local/lib/python3.11/dist-packages (from together) (3.18.0)\n",
            "Requirement already satisfied: numpy>=1.23.5 in /usr/local/lib/python3.11/dist-packages (from together) (2.0.2)\n",
            "Requirement already satisfied: pillow<12.0.0,>=11.1.0 in /usr/local/lib/python3.11/dist-packages (from together) (11.3.0)\n",
            "Requirement already satisfied: pydantic<3.0.0,>=2.6.3 in /usr/local/lib/python3.11/dist-packages (from together) (2.11.7)\n",
            "Requirement already satisfied: requests<3.0.0,>=2.31.0 in /usr/local/lib/python3.11/dist-packages (from together) (2.32.3)\n",
            "Requirement already satisfied: rich<15.0.0,>=13.8.1 in /usr/local/lib/python3.11/dist-packages (from together) (13.9.4)\n",
            "Requirement already satisfied: tabulate<0.10.0,>=0.9.0 in /usr/local/lib/python3.11/dist-packages (from together) (0.9.0)\n",
            "Requirement already satisfied: tqdm<5.0.0,>=4.66.2 in /usr/local/lib/python3.11/dist-packages (from together) (4.67.1)\n",
            "Collecting typer<0.16,>=0.9 (from together)\n",
            "  Downloading typer-0.15.4-py3-none-any.whl.metadata (15 kB)\n",
            "Requirement already satisfied: aiohappyeyeballs>=2.5.0 in /usr/local/lib/python3.11/dist-packages (from aiohttp<4.0.0,>=3.9.3->together) (2.6.1)\n",
            "Requirement already satisfied: aiosignal>=1.4.0 in /usr/local/lib/python3.11/dist-packages (from aiohttp<4.0.0,>=3.9.3->together) (1.4.0)\n",
            "Requirement already satisfied: attrs>=17.3.0 in /usr/local/lib/python3.11/dist-packages (from aiohttp<4.0.0,>=3.9.3->together) (25.3.0)\n",
            "Requirement already satisfied: frozenlist>=1.1.1 in /usr/local/lib/python3.11/dist-packages (from aiohttp<4.0.0,>=3.9.3->together) (1.7.0)\n",
            "Requirement already satisfied: multidict<7.0,>=4.5 in /usr/local/lib/python3.11/dist-packages (from aiohttp<4.0.0,>=3.9.3->together) (6.6.3)\n",
            "Requirement already satisfied: propcache>=0.2.0 in /usr/local/lib/python3.11/dist-packages (from aiohttp<4.0.0,>=3.9.3->together) (0.3.2)\n",
            "Requirement already satisfied: yarl<2.0,>=1.17.0 in /usr/local/lib/python3.11/dist-packages (from aiohttp<4.0.0,>=3.9.3->together) (1.20.1)\n",
            "Requirement already satisfied: annotated-types>=0.6.0 in /usr/local/lib/python3.11/dist-packages (from pydantic<3.0.0,>=2.6.3->together) (0.7.0)\n",
            "Requirement already satisfied: pydantic-core==2.33.2 in /usr/local/lib/python3.11/dist-packages (from pydantic<3.0.0,>=2.6.3->together) (2.33.2)\n",
            "Requirement already satisfied: typing-extensions>=4.12.2 in /usr/local/lib/python3.11/dist-packages (from pydantic<3.0.0,>=2.6.3->together) (4.14.1)\n",
            "Requirement already satisfied: typing-inspection>=0.4.0 in /usr/local/lib/python3.11/dist-packages (from pydantic<3.0.0,>=2.6.3->together) (0.4.1)\n",
            "Requirement already satisfied: charset-normalizer<4,>=2 in /usr/local/lib/python3.11/dist-packages (from requests<3.0.0,>=2.31.0->together) (3.4.2)\n",
            "Requirement already satisfied: idna<4,>=2.5 in /usr/local/lib/python3.11/dist-packages (from requests<3.0.0,>=2.31.0->together) (3.10)\n",
            "Requirement already satisfied: urllib3<3,>=1.21.1 in /usr/local/lib/python3.11/dist-packages (from requests<3.0.0,>=2.31.0->together) (2.5.0)\n",
            "Requirement already satisfied: certifi>=2017.4.17 in /usr/local/lib/python3.11/dist-packages (from requests<3.0.0,>=2.31.0->together) (2025.7.14)\n",
            "Requirement already satisfied: markdown-it-py>=2.2.0 in /usr/local/lib/python3.11/dist-packages (from rich<15.0.0,>=13.8.1->together) (3.0.0)\n",
            "Requirement already satisfied: pygments<3.0.0,>=2.13.0 in /usr/local/lib/python3.11/dist-packages (from rich<15.0.0,>=13.8.1->together) (2.19.2)\n",
            "Collecting click<9.0.0,>=8.1.7 (from together)\n",
            "  Downloading click-8.1.8-py3-none-any.whl.metadata (2.3 kB)\n",
            "Requirement already satisfied: shellingham>=1.3.0 in /usr/local/lib/python3.11/dist-packages (from typer<0.16,>=0.9->together) (1.5.4)\n",
            "Requirement already satisfied: mdurl~=0.1 in /usr/local/lib/python3.11/dist-packages (from markdown-it-py>=2.2.0->rich<15.0.0,>=13.8.1->together) (0.1.2)\n",
            "Downloading together-1.5.21-py3-none-any.whl (96 kB)\n",
            "\u001b[2K   \u001b[90m━━━━━━━━━━━━━━━━━━━━━━━━━━━━━━━━━━━━━━━━\u001b[0m \u001b[32m96.1/96.1 kB\u001b[0m \u001b[31m3.6 MB/s\u001b[0m eta \u001b[36m0:00:00\u001b[0m\n",
            "\u001b[?25hDownloading eval_type_backport-0.2.2-py3-none-any.whl (5.8 kB)\n",
            "Downloading typer-0.15.4-py3-none-any.whl (45 kB)\n",
            "\u001b[2K   \u001b[90m━━━━━━━━━━━━━━━━━━━━━━━━━━━━━━━━━━━━━━━━\u001b[0m \u001b[32m45.3/45.3 kB\u001b[0m \u001b[31m3.1 MB/s\u001b[0m eta \u001b[36m0:00:00\u001b[0m\n",
            "\u001b[?25hDownloading click-8.1.8-py3-none-any.whl (98 kB)\n",
            "\u001b[2K   \u001b[90m━━━━━━━━━━━━━━━━━━━━━━━━━━━━━━━━━━━━━━━━\u001b[0m \u001b[32m98.2/98.2 kB\u001b[0m \u001b[31m7.0 MB/s\u001b[0m eta \u001b[36m0:00:00\u001b[0m\n",
            "\u001b[?25hInstalling collected packages: eval-type-backport, click, typer, together\n",
            "  Attempting uninstall: click\n",
            "    Found existing installation: click 8.2.1\n",
            "    Uninstalling click-8.2.1:\n",
            "      Successfully uninstalled click-8.2.1\n",
            "  Attempting uninstall: typer\n",
            "    Found existing installation: typer 0.16.0\n",
            "    Uninstalling typer-0.16.0:\n",
            "      Successfully uninstalled typer-0.16.0\n",
            "Successfully installed click-8.1.8 eval-type-backport-0.2.2 together-1.5.21 typer-0.15.4\n"
          ]
        }
      ],
      "source": [
        "!pip install together"
      ]
    },
    {
      "cell_type": "code",
      "source": [
        "from google.colab import userdata\n",
        "from together import Together\n",
        "\n",
        "client = Together(api_key=userdata.get('TOGETHER_API_KEY'))\n",
        "\n",
        "def print_llm_response(prompt):\n",
        "    response = client.chat.completions.create(\n",
        "        model=\"google/gemma-3n-E4B-it\",\n",
        "        # model=\"meta-llama/Llama-3.3-70B-Instruct-Turbo-Free\",\n",
        "        messages=[\n",
        "        {\n",
        "            \"role\": \"user\",\n",
        "            \"content\": prompt\n",
        "        }\n",
        "        ]\n",
        "    )\n",
        "    return response.choices[0].message.content"
      ],
      "metadata": {
        "id": "8n3F5F2t363s"
      },
      "id": "8n3F5F2t363s",
      "execution_count": 2,
      "outputs": []
    },
    {
      "cell_type": "markdown",
      "id": "f156dba3",
      "metadata": {
        "id": "f156dba3"
      },
      "source": [
        "## لیست چیست؟\n",
        "از هفته گذشته، متغیرها رو به یاد داری؟ هر متغیر ظرفی بود که یک داده رو در خودش نگه می‌داشت.\n",
        "\n",
        ":برای مثال"
      ]
    },
    {
      "cell_type": "code",
      "execution_count": 5,
      "id": "73758fc8",
      "metadata": {
        "id": "73758fc8"
      },
      "outputs": [],
      "source": [
        "name = \"reza\""
      ]
    },
    {
      "cell_type": "markdown",
      "id": "b8e315cf",
      "metadata": {
        "id": "b8e315cf"
      },
      "source": [
        "برای تغییر مقدار یک متغیر باید به صورت دستی مقدار جدید رو بهش بدیم یا متغیر جدیدی با مقدار جدید تعریف کنیم.\n",
        "\n",
        "حالا تصور کنید قرار باشه پرامپت پایین برای سه نام تکرار بشه.\n",
        "\n",
        "چه کار می‌کنی؟\n"
      ]
    },
    {
      "cell_type": "code",
      "execution_count": 6,
      "id": "30a8e543",
      "metadata": {
        "id": "30a8e543",
        "colab": {
          "base_uri": "https://localhost:8080/"
        },
        "outputId": "80d99e00-7479-4992-d47b-751e439010c1"
      },
      "outputs": [
        {
          "output_type": "stream",
          "name": "stdout",
          "text": [
            "Happy birthday, Reza, a wonderful day!\n",
            "May joy and laughter light up your way.\n",
            "Wishing you happiness, success, and delight,\n",
            "Hope all your wishes come shining so bright! \n",
            "\n",
            "\n",
            "\n",
            "\n"
          ]
        }
      ],
      "source": [
        "prompt = f\"\"\"\n",
        "Write a four line birthday poem for my friend {name}.\n",
        "\"\"\"\n",
        "x = print_llm_response(prompt)\n",
        "print(x)"
      ]
    },
    {
      "cell_type": "markdown",
      "id": "cb48382c",
      "metadata": {
        "id": "cb48382c"
      },
      "source": [
        "سه بار باید مقدار متغیر رو تغییر بدی و پرامپت رو دوباره بفرستی. حالا اگه صد تا دوست داشتی چی؟\n",
        "\n",
        "\n",
        "راه بهتر این هست که از لیست استفاده کنم.\n",
        "\n",
        "لیست خودش یک نوع داده در پایتون هست. نوع داده‌ای برای نگهداری چندین داده مثل ۱۰۰ تا یا ۱۰۰۰ تا نام.\n"
      ]
    },
    {
      "cell_type": "markdown",
      "id": "5d36fc84-7238-478c-a70b-8b4988dae5b9",
      "metadata": {
        "id": "5d36fc84-7238-478c-a70b-8b4988dae5b9"
      },
      "source": [
        "## ساخت لیست\n",
        "\n",
        "با سینتکس پایین می‌تونی یک لیست در پایتون ایجاد و نام سه دوستت رو یکجا داخلش ذخیره کنی."
      ]
    },
    {
      "cell_type": "code",
      "execution_count": 8,
      "id": "b2cdf52d-f8be-4eb9-870b-19b0ed83fc25",
      "metadata": {
        "id": "b2cdf52d-f8be-4eb9-870b-19b0ed83fc25"
      },
      "outputs": [],
      "source": [
        "friends_list = [\"Reza\", \"Ali\", \"Mehrdad\"]"
      ]
    },
    {
      "cell_type": "code",
      "execution_count": 9,
      "id": "343fb2a6-3bfc-44b8-9dd3-a3d8e177906a",
      "metadata": {
        "id": "343fb2a6-3bfc-44b8-9dd3-a3d8e177906a",
        "colab": {
          "base_uri": "https://localhost:8080/"
        },
        "outputId": "b1391625-e714-4431-e2ba-5793b9967713"
      },
      "outputs": [
        {
          "output_type": "stream",
          "name": "stdout",
          "text": [
            "['Reza', 'Ali', 'Mehrdad']\n"
          ]
        }
      ],
      "source": [
        "print(friends_list)"
      ]
    },
    {
      "cell_type": "markdown",
      "id": "10fe72bf",
      "metadata": {
        "id": "10fe72bf"
      },
      "source": [
        "دقت کن که متغیر\n",
        "\n",
        "`friends_list`\n",
        "\n",
        "یک متغیر از نوع\n",
        "\n",
        " `list`\n",
        "\n",
        " هست که سه داده رو در خودش نگه داشته.\n"
      ]
    },
    {
      "cell_type": "code",
      "execution_count": 10,
      "id": "bfae06d5",
      "metadata": {
        "id": "bfae06d5",
        "colab": {
          "base_uri": "https://localhost:8080/"
        },
        "outputId": "8c8a090f-4759-4fed-a6f4-458b6791eef8"
      },
      "outputs": [
        {
          "output_type": "execute_result",
          "data": {
            "text/plain": [
              "list"
            ]
          },
          "metadata": {},
          "execution_count": 10
        }
      ],
      "source": [
        "type(friends_list)"
      ]
    },
    {
      "cell_type": "markdown",
      "id": "7df5e778",
      "metadata": {
        "id": "7df5e778"
      },
      "source": [
        "مثل استرینگ اینجا هم می‌تونی طول لیست رو با تابع\n",
        "\n",
        " `len()`\n",
        "\n",
        " از پایتون بپرسی:"
      ]
    },
    {
      "cell_type": "code",
      "execution_count": 11,
      "id": "c675bd49",
      "metadata": {
        "id": "c675bd49",
        "colab": {
          "base_uri": "https://localhost:8080/"
        },
        "outputId": "4aa535a2-de89-46f7-f6f1-a56c8b4581a2"
      },
      "outputs": [
        {
          "output_type": "execute_result",
          "data": {
            "text/plain": [
              "3"
            ]
          },
          "metadata": {},
          "execution_count": 11
        }
      ],
      "source": [
        "len(friends_list)"
      ]
    },
    {
      "cell_type": "markdown",
      "id": "54e11255",
      "metadata": {
        "id": "54e11255"
      },
      "source": [
        "لیست بالا سه عضو داره."
      ]
    },
    {
      "cell_type": "markdown",
      "id": "5ae55d3c",
      "metadata": {
        "id": "5ae55d3c"
      },
      "source": [
        "از لیست‌ها -مثل متغیرها- می‌تونی داخل پرامپت استفاده کنی.\n",
        "\n",
        "برای نمونه تو پرامپت پایین از هوش مصنوعی خواستی که برای هر کدوم از دوستانت چهار خط شعر بنویسه."
      ]
    },
    {
      "cell_type": "code",
      "execution_count": 13,
      "id": "e0b59524",
      "metadata": {
        "colab": {
          "base_uri": "https://localhost:8080/"
        },
        "id": "e0b59524",
        "outputId": "ac54cf0b-c0dc-4492-eaba-afb076a3caf1"
      },
      "outputs": [
        {
          "output_type": "stream",
          "name": "stdout",
          "text": [
            "\n",
            "Write a set of four line birthday poems for my friends ['Reza', 'Ali', 'Mehrdad'].\n",
            "The poems should be insipred by the first letter of each friend's name.\n",
            "\n"
          ]
        }
      ],
      "source": [
        "x = prompt = f\"\"\"\n",
        "Write a set of four line birthday poems for my friends {friends_list}.\n",
        "The poems should be insipred by the first letter of each friend's name.\n",
        "\"\"\"\n",
        "\n",
        "print(x)"
      ]
    },
    {
      "cell_type": "markdown",
      "id": "2cf56776",
      "metadata": {
        "id": "2cf56776"
      },
      "source": [
        "و حالا که این پرامپت رو درک کردی بیا امتحانش کنیم."
      ]
    },
    {
      "cell_type": "code",
      "execution_count": 14,
      "id": "ac8ed4b1",
      "metadata": {
        "id": "ac8ed4b1",
        "colab": {
          "base_uri": "https://localhost:8080/"
        },
        "outputId": "b8f87abf-cc83-4f7c-edb3-c1104c3fa224"
      },
      "outputs": [
        {
          "output_type": "stream",
          "name": "stdout",
          "text": [
            "Okay, here are four four-line birthday poems for Reza, Ali, and Mehrdad, inspired by the first letter of each name:\n",
            "\n",
            "**For Reza:**\n",
            "\n",
            "**R**adiant smile, a heart so true,\n",
            "**E**legant spirit, shining through.\n",
            "**Z**est for life in all you do,\n",
            "Happy Birthday, dear Reza, to you!\n",
            "\n",
            "**For Ali:**\n",
            "\n",
            "**A**lways kind, a helping hand,\n",
            "**L**oyal friend throughout the land.\n",
            "**I**nspiring joy, a joyful stand,\n",
            "Happy Birthday, dear Ali, understand!\n",
            "\n",
            "**For Mehrdad:**\n",
            "\n",
            "**M**agnificent and full of grace,\n",
            "**E**ver bright, a smiling face.\n",
            "**H**eart of gold, a warm embrace,\n",
            "Happy Birthday, dear Mehrdad, find your place!\n",
            "\n",
            "\n",
            "\n",
            "I hope your friends enjoy these! Let me know if you'd like any adjustments or different styles.\n",
            "\n",
            "\n",
            "\n",
            "\n"
          ]
        }
      ],
      "source": [
        "res = print_llm_response(prompt)\n",
        "print(res)"
      ]
    },
    {
      "cell_type": "markdown",
      "id": "2d0a44bf",
      "metadata": {
        "id": "2d0a44bf"
      },
      "source": [
        "## دسترسی به یک عضو لیست"
      ]
    },
    {
      "cell_type": "markdown",
      "id": "d7de8ba8",
      "metadata": {
        "id": "d7de8ba8"
      },
      "source": [
        "ما می‌تونیم یک عضو خاص داخل یک لیست رو صدا بزنیم.\n",
        "\n",
        "این امکان تو پایتون هست. من می‌دونم که هست ولی فراموشش کردم. بیایید از چت‌بات بپرسیم."
      ]
    },
    {
      "cell_type": "markdown",
      "id": "82fe4e72",
      "metadata": {
        "id": "82fe4e72"
      },
      "source": [
        "<p style=\"background-color:#F5C780; padding:15px\"> 🤖 <b>از چت‌بات کمک بگیر:</b>\n",
        "\n",
        " فرض کن لیست پایین رو داریم. چطور در پایتون یک عضو خاص از این لیست دسترسی پیدا می‌کنیم؟\n",
        "\n",
        "friends_list = [\"Reza\", \"Ali\", \"Mehrdad\"]\n",
        "</p>"
      ]
    },
    {
      "cell_type": "markdown",
      "id": "05ad7e82",
      "metadata": {
        "id": "05ad7e82"
      },
      "source": [
        "جوابی که چت‌جی‌پی‌تی به من داده:\n",
        "\n",
        "برای دسترسی به یک عضو خاص از لیست در پایتون، از اندیس‌گذاری (Indexing) استفاده می‌کنیم. اندیس‌ها (index) از صفر شروع می‌شوند. مثلا:"
      ]
    },
    {
      "cell_type": "code",
      "execution_count": 15,
      "id": "db3b8120",
      "metadata": {
        "id": "db3b8120",
        "colab": {
          "base_uri": "https://localhost:8080/"
        },
        "outputId": "8660fb97-7a75-4914-c0b9-dc1e347360c1"
      },
      "outputs": [
        {
          "output_type": "stream",
          "name": "stdout",
          "text": [
            "Reza\n",
            "Ali\n",
            "Mehrdad\n"
          ]
        }
      ],
      "source": [
        "friends_list = [\"Reza\", \"Ali\", \"Mehrdad\"]\n",
        "\n",
        "print(friends_list[0])  # خروجی: Reza\n",
        "print(friends_list[1])  # خروجی: Babak\n",
        "print(friends_list[2])  # خروجی: Rashid"
      ]
    },
    {
      "cell_type": "markdown",
      "id": "9ba91b9a-4bd7-4cc7-b9f1-87fa15e55dfc",
      "metadata": {
        "id": "9ba91b9a-4bd7-4cc7-b9f1-87fa15e55dfc"
      },
      "source": [
        "توجه کنید که ایندکس‌ها از شماره ۰ آغاز شدن.\n",
        "\n",
        "اولین عضو با ایندکس صفر فراخوانی شده و به همین ترتیب دومین و سومین عضو با ایندکس‌های ۱ و ۲ فراخوانی‌شدن."
      ]
    },
    {
      "cell_type": "markdown",
      "id": "59eed6c3",
      "metadata": {
        "id": "59eed6c3"
      },
      "source": [
        "پس برای یک لیست با سه عضو ما ایندکس ۳ نداریم و بالاترین ایندکس میشه ۳ منهای ۱."
      ]
    },
    {
      "cell_type": "code",
      "execution_count": null,
      "id": "c19112dc",
      "metadata": {
        "id": "c19112dc",
        "colab": {
          "base_uri": "https://localhost:8080/",
          "height": 141
        },
        "outputId": "f61b87d4-fd5d-405b-af63-8792b5258d63"
      },
      "outputs": [
        {
          "output_type": "error",
          "ename": "IndexError",
          "evalue": "list index out of range",
          "traceback": [
            "\u001b[0;31m---------------------------------------------------------------------------\u001b[0m",
            "\u001b[0;31mIndexError\u001b[0m                                Traceback (most recent call last)",
            "\u001b[0;32m/tmp/ipython-input-12-601185645.py\u001b[0m in \u001b[0;36m<cell line: 0>\u001b[0;34m()\u001b[0m\n\u001b[0;32m----> 1\u001b[0;31m \u001b[0mprint\u001b[0m\u001b[0;34m(\u001b[0m\u001b[0mfriends_list\u001b[0m\u001b[0;34m[\u001b[0m\u001b[0;36m3\u001b[0m\u001b[0;34m]\u001b[0m\u001b[0;34m)\u001b[0m \u001b[0;31m# Gives an error\u001b[0m\u001b[0;34m\u001b[0m\u001b[0;34m\u001b[0m\u001b[0m\n\u001b[0m",
            "\u001b[0;31mIndexError\u001b[0m: list index out of range"
          ]
        }
      ],
      "source": [
        "print(friends_list[3]) # Gives an error"
      ]
    },
    {
      "cell_type": "markdown",
      "id": "73cabe3b",
      "metadata": {
        "id": "73cabe3b"
      },
      "source": [
        "بنابراین برای اشاره به آخرین عضو تو این لیست خودمون باید ایندکس ۳ منهای ۱ یعنی ۲ رو قرار بدیم."
      ]
    },
    {
      "cell_type": "code",
      "execution_count": 27,
      "id": "408eff97",
      "metadata": {
        "id": "408eff97",
        "colab": {
          "base_uri": "https://localhost:8080/"
        },
        "outputId": "777787d1-76e7-4058-d888-016b702ba851"
      },
      "outputs": [
        {
          "output_type": "stream",
          "name": "stdout",
          "text": [
            "Ali\n"
          ]
        }
      ],
      "source": [
        "print(friends_list[2])"
      ]
    },
    {
      "cell_type": "markdown",
      "id": "88cef078",
      "metadata": {
        "id": "88cef078"
      },
      "source": [
        "## افزودن عضو به لیست"
      ]
    },
    {
      "cell_type": "code",
      "execution_count": 25,
      "id": "77705088-bfb4-40ed-8cc8-76b17b8f1357",
      "metadata": {
        "id": "77705088-bfb4-40ed-8cc8-76b17b8f1357",
        "colab": {
          "base_uri": "https://localhost:8080/"
        },
        "outputId": "90fc9ba0-594e-4ddb-9288-8780325ef074"
      },
      "outputs": [
        {
          "output_type": "stream",
          "name": "stdout",
          "text": [
            "['Reza', 'Ali', 'Ali', 'Neda', 'Rahman']\n"
          ]
        }
      ],
      "source": [
        "print(friends_list)"
      ]
    },
    {
      "cell_type": "markdown",
      "id": "6a9f875a-5fc9-4bde-be57-3ba9b0d4f1d5",
      "metadata": {
        "id": "6a9f875a-5fc9-4bde-be57-3ba9b0d4f1d5"
      },
      "source": [
        "من دوست تازه‌ای پیدا کردم. برای افزودن نام این دوست به لیست خودم می‌تونم از تابع اپند به صورت پایین استفاده کنم:\n",
        "\n",
        "`list.append(new_friend)`\n",
        "\n",
        "به نظرت چرا نرفتیم اسم رو دستی به جایی که لیست رو اولین بار تعریف کردیم اضافه کنیم؟"
      ]
    },
    {
      "cell_type": "code",
      "execution_count": 26,
      "id": "c2c816b9-f7c7-4f0b-a3e2-8fdf3d2e31f7",
      "metadata": {
        "id": "c2c816b9-f7c7-4f0b-a3e2-8fdf3d2e31f7"
      },
      "outputs": [],
      "source": [
        "# add single element to list\n",
        "friends_list.append(\"Rahman\")"
      ]
    },
    {
      "cell_type": "code",
      "execution_count": 24,
      "id": "5ed4248d-367d-4432-873d-229f084ca42c",
      "metadata": {
        "id": "5ed4248d-367d-4432-873d-229f084ca42c",
        "colab": {
          "base_uri": "https://localhost:8080/"
        },
        "outputId": "a615bedf-f449-44ca-d125-085db7d4a438"
      },
      "outputs": [
        {
          "output_type": "stream",
          "name": "stdout",
          "text": [
            "['Reza', 'Ali', 'Ali', 'Neda', 'Rahman']\n"
          ]
        }
      ],
      "source": [
        "print(friends_list)"
      ]
    },
    {
      "cell_type": "markdown",
      "id": "b6c04751",
      "metadata": {
        "id": "b6c04751"
      },
      "source": [
        "برای تمرین، کد پایین رو طوری ویرایش کنید که نام دوست دیگه‌ای اضافه بشه."
      ]
    },
    {
      "cell_type": "code",
      "execution_count": 20,
      "id": "ed18d3a1",
      "metadata": {
        "id": "ed18d3a1"
      },
      "outputs": [],
      "source": [
        "# Modify the code below to add another friend:\n",
        "friends_list.append('Neda')"
      ]
    },
    {
      "cell_type": "markdown",
      "id": "1b22945c-42b3-4ed5-aa1c-bc64c6845897",
      "metadata": {
        "id": "1b22945c-42b3-4ed5-aa1c-bc64c6845897"
      },
      "source": [
        "## حذف عضو از لیست"
      ]
    },
    {
      "cell_type": "markdown",
      "id": "91c62ca8",
      "metadata": {
        "id": "91c62ca8"
      },
      "source": [
        "من یه دوستم رو از دست دادم. دعوامون شد.\n",
        "\n",
        "حالا چطور از لیست دوستام حذفش کنم؟\n",
        "\n",
        "باز هم تابعی وجود داره به نام:\n",
        "\n",
        " `.remove()`:"
      ]
    },
    {
      "cell_type": "code",
      "execution_count": 28,
      "id": "999f5ce1-a7d0-4f17-a3de-b09eb524b130",
      "metadata": {
        "id": "999f5ce1-a7d0-4f17-a3de-b09eb524b130"
      },
      "outputs": [],
      "source": [
        "#using remove\n",
        "friends_list.remove(\"Ali\")"
      ]
    },
    {
      "cell_type": "code",
      "execution_count": 29,
      "id": "8b8fdd0f-709b-4076-ba2c-a5bb767dfa21",
      "metadata": {
        "id": "8b8fdd0f-709b-4076-ba2c-a5bb767dfa21",
        "colab": {
          "base_uri": "https://localhost:8080/"
        },
        "outputId": "22f829c3-05b6-4875-b661-a2985285e295"
      },
      "outputs": [
        {
          "output_type": "stream",
          "name": "stdout",
          "text": [
            "['Reza', 'Ali', 'Neda', 'Rahman', 'Rahman']\n"
          ]
        }
      ],
      "source": [
        "print(friends_list)"
      ]
    },
    {
      "cell_type": "markdown",
      "id": "e8eca359-4e2d-4f2e-8a3e-29a706cd5097",
      "metadata": {
        "id": "e8eca359-4e2d-4f2e-8a3e-29a706cd5097"
      },
      "source": [
        "## لیست‌هایی با نوع داده عددی\n",
        "\n",
        "لیست‌ها می‌تونن انواع داده رو نگهداری کنن.\n",
        "برای مثال می‌تونیم لیستی از عددهای صحیح داشته باشیم."
      ]
    },
    {
      "cell_type": "code",
      "execution_count": 30,
      "id": "8b884de4",
      "metadata": {
        "id": "8b884de4"
      },
      "outputs": [],
      "source": [
        "list_ages = [42, 28, 30]"
      ]
    },
    {
      "cell_type": "code",
      "execution_count": 31,
      "id": "53d6be61-0b24-4c3a-84c8-fd800296c2bb",
      "metadata": {
        "id": "53d6be61-0b24-4c3a-84c8-fd800296c2bb",
        "colab": {
          "base_uri": "https://localhost:8080/"
        },
        "outputId": "39dd42da-150f-4b0e-b8f4-7de457e5bb2d"
      },
      "outputs": [
        {
          "output_type": "stream",
          "name": "stdout",
          "text": [
            "[42, 28, 30]\n"
          ]
        }
      ],
      "source": [
        "print(list_ages)"
      ]
    },
    {
      "cell_type": "markdown",
      "id": "3fe09e1c",
      "metadata": {
        "id": "3fe09e1c"
      },
      "source": [
        "لیست‌ها می‌تونن استرینگ‌های بلند یا حتی چند خطی رو هم در خودشون نگه دارن."
      ]
    },
    {
      "cell_type": "code",
      "execution_count": 32,
      "id": "b3eded47-a74d-4f79-938b-f1580753a706",
      "metadata": {
        "id": "b3eded47-a74d-4f79-938b-f1580753a706"
      },
      "outputs": [],
      "source": [
        "#list of tasks in priority order. Multi-line lists are allowed in python!\n",
        "list_of_tasks = [\n",
        "    \"Compose a brief email to my boss explaining that I will be late for tomorrow's meeting.\",\n",
        "    \"Write a birthday poem for Reza, celebrating his 28th birthday.\",\n",
        "    \"Write a 300-word review of the movie 'The Arrival'.\"\n",
        "]"
      ]
    },
    {
      "cell_type": "markdown",
      "id": "62c4c86c",
      "metadata": {
        "id": "62c4c86c"
      },
      "source": [
        "حالا فرض کن که این سه استرینگ سه پرامپت هستن که به نوبت قصد داری به هوش مصنوعی بفرستی.\n"
      ]
    },
    {
      "cell_type": "code",
      "execution_count": 33,
      "id": "642ab497-32dd-45b9-996b-e06861b2b7dc",
      "metadata": {
        "id": "642ab497-32dd-45b9-996b-e06861b2b7dc",
        "colab": {
          "base_uri": "https://localhost:8080/"
        },
        "outputId": "7bf08d86-9921-45c4-f9b1-0d77b6704cb2"
      },
      "outputs": [
        {
          "output_type": "stream",
          "name": "stdout",
          "text": [
            "Subject: Running a bit late to tomorrow's meeting\n",
            "\n",
            "Hi [Boss's Name],\n",
            "\n",
            "Just wanted to let you know I'll be a little late to tomorrow's meeting. I have a [brief, neutral reason - e.g., prior appointment, unexpected issue] to take care of this morning.\n",
            "\n",
            "I'll be there as soon as possible.\n",
            "\n",
            "Thanks for your understanding.\n",
            "\n",
            "Best,\n",
            "\n",
            "[Your Name]\n",
            "\n",
            "\n",
            "\n",
            "\n"
          ]
        }
      ],
      "source": [
        "task = list_of_tasks[0]\n",
        "x = print_llm_response(task)\n",
        "print(x)"
      ]
    },
    {
      "cell_type": "code",
      "execution_count": 34,
      "id": "d5040f08-d01a-4b7f-acd0-70a9bfffe805",
      "metadata": {
        "id": "d5040f08-d01a-4b7f-acd0-70a9bfffe805",
        "colab": {
          "base_uri": "https://localhost:8080/"
        },
        "outputId": "9fb61916-9559-477e-ded4-0b77cb00d4bd"
      },
      "outputs": [
        {
          "output_type": "stream",
          "name": "stdout",
          "text": [
            "Here's a birthday poem for Reza, celebrating his 28th!\n",
            "\n",
            "Twenty-eight years have come and gone,\n",
            "A vibrant life, beautifully drawn.\n",
            "Reza, a name that shines so bright,\n",
            "Filling the world with warmth and light.\n",
            "\n",
            "Another year of laughter, grace,\n",
            "A smile that lights up any place.\n",
            "May joy and happiness abound,\n",
            "With blessings gently all around.\n",
            "\n",
            "May dreams take flight and futures gleam,\n",
            "And life unfold like a beautiful dream.\n",
            "So raise a glass, let music play,\n",
            "Happy Birthday, Reza, hip hip hooray!\n",
            "\n",
            "\n",
            "\n",
            "\n"
          ]
        }
      ],
      "source": [
        "task = list_of_tasks[1]\n",
        "x = print_llm_response(task)\n",
        "print(x)"
      ]
    },
    {
      "cell_type": "code",
      "execution_count": 35,
      "id": "2085c168-21ee-4675-b10e-082945b80af4",
      "metadata": {
        "id": "2085c168-21ee-4675-b10e-082945b80af4",
        "colab": {
          "base_uri": "https://localhost:8080/"
        },
        "outputId": "1da424fb-c0ca-4c75-b3b5-000e7a1fb20f"
      },
      "outputs": [
        {
          "output_type": "stream",
          "name": "stdout",
          "text": [
            "## A Thought-Provoking Masterpiece: A Review of Arrival\n",
            "\n",
            "Denis Villeneuve's \"Arrival\" isn't your typical alien invasion film. It’s a deeply moving and intellectually stimulating exploration of communication, language, and the very nature of time.  Far from explosions and warfare, this sci-fi drama centers on Dr. Louise Banks (Amy Adams), a linguist recruited by the US military to decipher the language of enigmatic alien visitors who have landed in twelve locations around the globe.\n",
            "\n",
            "The film's strength lies in its deliberate pacing and atmospheric storytelling. Villeneuve masterfully builds suspense, relying on visual cues and a haunting score by Jóhann Jóhannsson (in his final film) to create a sense of wonder and unease.  The aliens, dubbed \"heptapods\" due to their seven-limbed appearance, are beautifully designed and presented, their communication a complex and mesmerizing puzzle.\n",
            "\n",
            "Amy Adams delivers a career-defining performance as Louise. Her portrayal is nuanced and incredibly powerful, conveying a profound sense of empathy and intellectual curiosity.  We witness her journey from a grieving linguist grappling with personal tragedy to a woman unlocking a revolutionary understanding of time itself. \n",
            "\n",
            "\"Arrival\" isn’t about conquering aliens; it's about understanding them. It delves into the Sapir-Whorf hypothesis – the idea that language shapes thought – and how learning a new language can fundamentally alter our perception of reality.  The film’s philosophical depth resonates long after the credits roll, prompting reflection on free will, destiny, and the interconnectedness of all things.\n",
            "\n",
            "While the slow burn might not appeal to everyone, \"Arrival\" is a truly exceptional cinematic experience. It's a beautifully crafted, emotionally resonant, and intellectually challenging film that elevates the science fiction genre to new heights. Highly recommended for those seeking a thoughtful and unforgettable movie.\n",
            "\n",
            "\n",
            "\n",
            "\n"
          ]
        }
      ],
      "source": [
        "task = list_of_tasks[2]\n",
        "x = print_llm_response(task)\n",
        "print(x)"
      ]
    },
    {
      "cell_type": "markdown",
      "id": "dcac3fe6",
      "metadata": {
        "id": "dcac3fe6"
      },
      "source": [
        "خودمون رو تکرار کردیم نه؟ برخلاف شعار رایج برنامه‌نویسی که می‌گه «خودت رو تکرار نکن!». و اگه به جای این سه کار ده تا کار داشتیم سخت‌ترم می‌شد.\n",
        "\n",
        "یه راه بهتر براش وجود داره که تو درس بعدی بهش می‌پردازیم."
      ]
    },
    {
      "cell_type": "markdown",
      "id": "ba8d2d3b-8745-4d96-b175-08cffdc856a4",
      "metadata": {
        "id": "ba8d2d3b-8745-4d96-b175-08cffdc856a4"
      },
      "source": [
        "## تمرین بیش‌تر"
      ]
    },
    {
      "cell_type": "markdown",
      "id": "558ae3a6-972f-45a2-bfc3-7dbbda7f1c7b",
      "metadata": {
        "id": "558ae3a6-972f-45a2-bfc3-7dbbda7f1c7b"
      },
      "source": [
        "تمرین‌های پایین برای کنکاش بیشتر در مورد لیست‌هاست."
      ]
    },
    {
      "cell_type": "code",
      "execution_count": null,
      "id": "a52ac3fe-7e72-44c4-9556-8f872ec6bf73",
      "metadata": {
        "id": "a52ac3fe-7e72-44c4-9556-8f872ec6bf73"
      },
      "outputs": [],
      "source": [
        "# لیستی از پنج فیلم دلخواهت بساز\n",
        "\n",
        "### WRITE CODE HERE ###\n",
        "movie_list =\n",
        "### --------------- ###"
      ]
    },
    {
      "cell_type": "code",
      "source": [
        "movie_list = [\"The Shawshank Redemption\", \"Inception\", \"Interstellar\", \"The Godfather\", \"Forrest Gump\"]\n",
        "\n",
        "print(\"فیلم ۱:\", movie_list[0])\n",
        "print(\"فیلم ۲:\", movie_list[1])\n",
        "print(\"فیلم ۳:\", movie_list[2])\n",
        "print(\"فیلم ۴:\", movie_list[3])\n",
        "print(\"فیلم ۵:\", movie_list[4])"
      ],
      "metadata": {
        "colab": {
          "base_uri": "https://localhost:8080/"
        },
        "id": "OOqxXIZMLbz0",
        "outputId": "1fd8364e-8d54-47d6-ab56-97af4ecd274d"
      },
      "id": "OOqxXIZMLbz0",
      "execution_count": null,
      "outputs": [
        {
          "output_type": "stream",
          "name": "stdout",
          "text": [
            "فیلم ۱: The Shawshank Redemption\n",
            "فیلم ۲: Inception\n",
            "فیلم ۳: Interstellar\n",
            "فیلم ۴: The Godfather\n",
            "فیلم ۵: Forrest Gump\n"
          ]
        }
      ]
    },
    {
      "cell_type": "code",
      "execution_count": null,
      "id": "a2f8afeb-ee8e-46f9-ad39-751a1ab9fdf3",
      "metadata": {
        "id": "a2f8afeb-ee8e-46f9-ad39-751a1ab9fdf3"
      },
      "outputs": [],
      "source": [
        "# با استفاده از تابع پرینت،\n",
        "# چهارمین عضو لیست زیر رو چاپ کن.\n",
        "\n",
        "prime_numbers = [2, 3, 5, 7, 11]\n",
        "\n",
        "### WRITE CODE HERE ###\n",
        "\n",
        "### --------------- ###"
      ]
    },
    {
      "cell_type": "code",
      "source": [
        "print(prime_numbers[3])"
      ],
      "metadata": {
        "colab": {
          "base_uri": "https://localhost:8080/"
        },
        "id": "Sc3sIa2MMlAV",
        "outputId": "4679caf0-b5c8-4c8d-8359-482b917d8187"
      },
      "id": "Sc3sIa2MMlAV",
      "execution_count": null,
      "outputs": [
        {
          "output_type": "stream",
          "name": "stdout",
          "text": [
            "7\n"
          ]
        }
      ]
    },
    {
      "cell_type": "code",
      "execution_count": null,
      "id": "ca358297-651e-4ad7-912f-921af007ef01",
      "metadata": {
        "id": "ca358297-651e-4ad7-912f-921af007ef01",
        "colab": {
          "base_uri": "https://localhost:8080/",
          "height": 193
        },
        "outputId": "8a00d667-4bc5-4fdb-fb13-94b319211924"
      },
      "outputs": [
        {
          "output_type": "error",
          "ename": "TypeError",
          "evalue": "'list' object is not callable",
          "traceback": [
            "\u001b[0;31m---------------------------------------------------------------------------\u001b[0m",
            "\u001b[0;31mTypeError\u001b[0m                                 Traceback (most recent call last)",
            "\u001b[0;32m/tmp/ipython-input-31-3237652301.py\u001b[0m in \u001b[0;36m<cell line: 0>\u001b[0;34m()\u001b[0m\n\u001b[1;32m      4\u001b[0m \u001b[0;34m\u001b[0m\u001b[0m\n\u001b[1;32m      5\u001b[0m \u001b[0;31m### FIX THIS CODE ###\u001b[0m\u001b[0;34m\u001b[0m\u001b[0;34m\u001b[0m\u001b[0m\n\u001b[0;32m----> 6\u001b[0;31m \u001b[0mprint\u001b[0m\u001b[0;34m(\u001b[0m\u001b[0mprime_numbers\u001b[0m\u001b[0;34m(\u001b[0m\u001b[0;36m3\u001b[0m\u001b[0;34m)\u001b[0m\u001b[0;34m)\u001b[0m \u001b[0;31m#هدف، فراخوانی و چاپ چهارمین عضو هست\u001b[0m\u001b[0;34m\u001b[0m\u001b[0;34m\u001b[0m\u001b[0m\n\u001b[0m\u001b[1;32m      7\u001b[0m \u001b[0;31m### --------------- ###\u001b[0m\u001b[0;34m\u001b[0m\u001b[0;34m\u001b[0m\u001b[0m\n",
            "\u001b[0;31mTypeError\u001b[0m: 'list' object is not callable"
          ]
        }
      ],
      "source": [
        "# باگ کد پایین رو پیدا و برطرف کن\n",
        "\n",
        "prime_numbers = [2, 3, 5, 7, 11]\n",
        "\n",
        "### FIX THIS CODE ###\n",
        "print(prime_numbers(3)) #هدف، فراخوانی و چاپ چهارمین عضو هست\n",
        "### --------------- ###"
      ]
    },
    {
      "cell_type": "code",
      "source": [
        "prime_numbers = [2, 3, 5, 7, 11]\n",
        "\n",
        "print(prime_numbers[3])  # اینجا اصلاح شد: پرانتز با کروشه عوض شد"
      ],
      "metadata": {
        "colab": {
          "base_uri": "https://localhost:8080/"
        },
        "id": "MmMn1OYSMzil",
        "outputId": "4931c3e5-93af-45d2-9e14-ef9a513571a9"
      },
      "id": "MmMn1OYSMzil",
      "execution_count": null,
      "outputs": [
        {
          "output_type": "stream",
          "name": "stdout",
          "text": [
            "7\n"
          ]
        }
      ]
    },
    {
      "cell_type": "code",
      "execution_count": null,
      "id": "a823e76b-18b1-45d9-a678-1aa481d17496",
      "metadata": {
        "id": "a823e76b-18b1-45d9-a678-1aa481d17496"
      },
      "outputs": [],
      "source": [
        "# فهرستی از نام دوستانت بساز و بعد یک دوست تازه رو اضافه کن\n",
        "\n",
        "friends_list = []\n",
        "\n",
        "### WRITE CODE HERE ###\n",
        "\n",
        "### --------------- ###\n",
        "\n",
        "print(friends_list)"
      ]
    },
    {
      "cell_type": "code",
      "source": [
        "friends_list = [\"علی\", \"سارا\", \"رضا\"]\n",
        "\n",
        "\n",
        "\n",
        "# اضافه کردن یک دوست تازه\n",
        "friends_list.append(\"نگار\")\n",
        "\n",
        "### --------------- ###\n",
        "\n",
        "print(friends_list)"
      ],
      "metadata": {
        "colab": {
          "base_uri": "https://localhost:8080/"
        },
        "id": "WyyepuZ9NDr1",
        "outputId": "53bf50c5-977d-411e-fa64-9dbdeacd29ce"
      },
      "id": "WyyepuZ9NDr1",
      "execution_count": null,
      "outputs": [
        {
          "output_type": "stream",
          "name": "stdout",
          "text": [
            "['علی', 'سارا', 'رضا', 'نگار']\n"
          ]
        }
      ]
    },
    {
      "cell_type": "code",
      "execution_count": null,
      "id": "bae37d2d-3736-410b-983b-2e40fe5b1302",
      "metadata": {
        "id": "bae37d2d-3736-410b-983b-2e40fe5b1302",
        "colab": {
          "base_uri": "https://localhost:8080/"
        },
        "outputId": "a2ced00a-86e3-493f-d797-5419757429d7"
      },
      "outputs": [
        {
          "output_type": "stream",
          "name": "stdout",
          "text": [
            "['Colombia', 'Peru', 'Brasil', 'Japan', 'Argentina']\n"
          ]
        }
      ],
      "source": [
        "# در لیست پایین نام یک کشور رو که اشتباه درج شده حذف کن\n",
        "\n",
        "countries_in_south_america = [\"Colombia\", \"Peru\",\n",
        "                              \"Brasil\", \"Japan\",\n",
        "                              \"Argentina\"]\n",
        "\n",
        "### WRITE CODE HERE ###\n",
        "\n",
        "### --------------- ###\n",
        "\n",
        "print(countries_in_south_america)"
      ]
    },
    {
      "cell_type": "code",
      "source": [
        "countries_in_south_america = [\"Colombia\", \"Peru\",\n",
        "                              \"Brasil\", \"Japan\",\n",
        "                              \"Argentina\"]\n",
        "\n",
        "### WRITE CODE HERE ###\n",
        "countries_in_south_america.remove(\"Japan\")\n",
        "### --------------- ###\n",
        "\n",
        "print(countries_in_south_america)"
      ],
      "metadata": {
        "colab": {
          "base_uri": "https://localhost:8080/"
        },
        "id": "33RmF0Q8NkSv",
        "outputId": "c81b1f05-5ad2-49ac-95d3-fc9c2e5da6a4"
      },
      "id": "33RmF0Q8NkSv",
      "execution_count": null,
      "outputs": [
        {
          "output_type": "stream",
          "name": "stdout",
          "text": [
            "['Colombia', 'Peru', 'Brasil', 'Argentina']\n"
          ]
        }
      ]
    }
  ],
  "metadata": {
    "kernelspec": {
      "display_name": "Python 3 (ipykernel)",
      "language": "python",
      "name": "python3"
    },
    "language_info": {
      "codemirror_mode": {
        "name": "ipython",
        "version": 3
      },
      "file_extension": ".py",
      "mimetype": "text/x-python",
      "name": "python",
      "nbconvert_exporter": "python",
      "pygments_lexer": "ipython3",
      "version": "3.9.19"
    },
    "colab": {
      "provenance": []
    }
  },
  "nbformat": 4,
  "nbformat_minor": 5
}