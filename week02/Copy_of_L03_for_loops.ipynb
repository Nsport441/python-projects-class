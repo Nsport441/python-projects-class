{
  "cells": [
    {
      "cell_type": "markdown",
      "id": "4bd8fbd2-de5c-47bd-bcd9-cbbe8cdc3104",
      "metadata": {
        "id": "4bd8fbd2-de5c-47bd-bcd9-cbbe8cdc3104"
      },
      "source": [
        "# هفته دوم - درس ۳: حلقه‌ی فور"
      ]
    },
    {
      "cell_type": "markdown",
      "id": "e270cc1f",
      "metadata": {
        "id": "e270cc1f"
      },
      "source": [
        "این درس تو رو با مفهوم مهمی در برنامه‌نویسی آشنا می‌کنه.\n",
        "\n",
        "`for loop`\n",
        "\n",
        "حلقه‌ی فور در زبان‌های برنامه‌نویسی گوناگون وجود داره هرچند با سینتکس متفاوت.\n",
        "\n",
        "\n",
        "با حلقه فور می‌تونی یک کار تکراری «به ازای» همه اعضای لیست رو خودکار کنی.\n"
      ]
    },
    {
      "cell_type": "markdown",
      "source": [
        "## راه‌اندازی توگدر برای کار با هوش مصنوعی"
      ],
      "metadata": {
        "id": "OCeYYwDiLThZ"
      },
      "id": "OCeYYwDiLThZ"
    },
    {
      "cell_type": "code",
      "execution_count": 1,
      "id": "41ef33ad-2b5c-40db-a1ab-9f3c689edd55",
      "metadata": {
        "id": "41ef33ad-2b5c-40db-a1ab-9f3c689edd55",
        "colab": {
          "base_uri": "https://localhost:8080/"
        },
        "outputId": "86e10637-9239-430a-cf60-2cb7720535bf",
        "collapsed": true
      },
      "outputs": [
        {
          "output_type": "stream",
          "name": "stdout",
          "text": [
            "Collecting together\n",
            "  Downloading together-1.5.21-py3-none-any.whl.metadata (15 kB)\n",
            "Requirement already satisfied: aiohttp<4.0.0,>=3.9.3 in /usr/local/lib/python3.11/dist-packages (from together) (3.12.14)\n",
            "Requirement already satisfied: click<9.0.0,>=8.1.7 in /usr/local/lib/python3.11/dist-packages (from together) (8.2.1)\n",
            "Collecting eval-type-backport<0.3.0,>=0.1.3 (from together)\n",
            "  Downloading eval_type_backport-0.2.2-py3-none-any.whl.metadata (2.2 kB)\n",
            "Requirement already satisfied: filelock<4.0.0,>=3.13.1 in /usr/local/lib/python3.11/dist-packages (from together) (3.18.0)\n",
            "Requirement already satisfied: numpy>=1.23.5 in /usr/local/lib/python3.11/dist-packages (from together) (2.0.2)\n",
            "Requirement already satisfied: pillow<12.0.0,>=11.1.0 in /usr/local/lib/python3.11/dist-packages (from together) (11.3.0)\n",
            "Requirement already satisfied: pydantic<3.0.0,>=2.6.3 in /usr/local/lib/python3.11/dist-packages (from together) (2.11.7)\n",
            "Requirement already satisfied: requests<3.0.0,>=2.31.0 in /usr/local/lib/python3.11/dist-packages (from together) (2.32.3)\n",
            "Requirement already satisfied: rich<15.0.0,>=13.8.1 in /usr/local/lib/python3.11/dist-packages (from together) (13.9.4)\n",
            "Requirement already satisfied: tabulate<0.10.0,>=0.9.0 in /usr/local/lib/python3.11/dist-packages (from together) (0.9.0)\n",
            "Requirement already satisfied: tqdm<5.0.0,>=4.66.2 in /usr/local/lib/python3.11/dist-packages (from together) (4.67.1)\n",
            "Collecting typer<0.16,>=0.9 (from together)\n",
            "  Downloading typer-0.15.4-py3-none-any.whl.metadata (15 kB)\n",
            "Requirement already satisfied: aiohappyeyeballs>=2.5.0 in /usr/local/lib/python3.11/dist-packages (from aiohttp<4.0.0,>=3.9.3->together) (2.6.1)\n",
            "Requirement already satisfied: aiosignal>=1.4.0 in /usr/local/lib/python3.11/dist-packages (from aiohttp<4.0.0,>=3.9.3->together) (1.4.0)\n",
            "Requirement already satisfied: attrs>=17.3.0 in /usr/local/lib/python3.11/dist-packages (from aiohttp<4.0.0,>=3.9.3->together) (25.3.0)\n",
            "Requirement already satisfied: frozenlist>=1.1.1 in /usr/local/lib/python3.11/dist-packages (from aiohttp<4.0.0,>=3.9.3->together) (1.7.0)\n",
            "Requirement already satisfied: multidict<7.0,>=4.5 in /usr/local/lib/python3.11/dist-packages (from aiohttp<4.0.0,>=3.9.3->together) (6.6.3)\n",
            "Requirement already satisfied: propcache>=0.2.0 in /usr/local/lib/python3.11/dist-packages (from aiohttp<4.0.0,>=3.9.3->together) (0.3.2)\n",
            "Requirement already satisfied: yarl<2.0,>=1.17.0 in /usr/local/lib/python3.11/dist-packages (from aiohttp<4.0.0,>=3.9.3->together) (1.20.1)\n",
            "Requirement already satisfied: annotated-types>=0.6.0 in /usr/local/lib/python3.11/dist-packages (from pydantic<3.0.0,>=2.6.3->together) (0.7.0)\n",
            "Requirement already satisfied: pydantic-core==2.33.2 in /usr/local/lib/python3.11/dist-packages (from pydantic<3.0.0,>=2.6.3->together) (2.33.2)\n",
            "Requirement already satisfied: typing-extensions>=4.12.2 in /usr/local/lib/python3.11/dist-packages (from pydantic<3.0.0,>=2.6.3->together) (4.14.1)\n",
            "Requirement already satisfied: typing-inspection>=0.4.0 in /usr/local/lib/python3.11/dist-packages (from pydantic<3.0.0,>=2.6.3->together) (0.4.1)\n",
            "Requirement already satisfied: charset-normalizer<4,>=2 in /usr/local/lib/python3.11/dist-packages (from requests<3.0.0,>=2.31.0->together) (3.4.2)\n",
            "Requirement already satisfied: idna<4,>=2.5 in /usr/local/lib/python3.11/dist-packages (from requests<3.0.0,>=2.31.0->together) (3.10)\n",
            "Requirement already satisfied: urllib3<3,>=1.21.1 in /usr/local/lib/python3.11/dist-packages (from requests<3.0.0,>=2.31.0->together) (2.5.0)\n",
            "Requirement already satisfied: certifi>=2017.4.17 in /usr/local/lib/python3.11/dist-packages (from requests<3.0.0,>=2.31.0->together) (2025.7.14)\n",
            "Requirement already satisfied: markdown-it-py>=2.2.0 in /usr/local/lib/python3.11/dist-packages (from rich<15.0.0,>=13.8.1->together) (3.0.0)\n",
            "Requirement already satisfied: pygments<3.0.0,>=2.13.0 in /usr/local/lib/python3.11/dist-packages (from rich<15.0.0,>=13.8.1->together) (2.19.2)\n",
            "Collecting click<9.0.0,>=8.1.7 (from together)\n",
            "  Downloading click-8.1.8-py3-none-any.whl.metadata (2.3 kB)\n",
            "Requirement already satisfied: shellingham>=1.3.0 in /usr/local/lib/python3.11/dist-packages (from typer<0.16,>=0.9->together) (1.5.4)\n",
            "Requirement already satisfied: mdurl~=0.1 in /usr/local/lib/python3.11/dist-packages (from markdown-it-py>=2.2.0->rich<15.0.0,>=13.8.1->together) (0.1.2)\n",
            "Downloading together-1.5.21-py3-none-any.whl (96 kB)\n",
            "\u001b[2K   \u001b[90m━━━━━━━━━━━━━━━━━━━━━━━━━━━━━━━━━━━━━━━━\u001b[0m \u001b[32m96.1/96.1 kB\u001b[0m \u001b[31m2.7 MB/s\u001b[0m eta \u001b[36m0:00:00\u001b[0m\n",
            "\u001b[?25hDownloading eval_type_backport-0.2.2-py3-none-any.whl (5.8 kB)\n",
            "Downloading typer-0.15.4-py3-none-any.whl (45 kB)\n",
            "\u001b[2K   \u001b[90m━━━━━━━━━━━━━━━━━━━━━━━━━━━━━━━━━━━━━━━━\u001b[0m \u001b[32m45.3/45.3 kB\u001b[0m \u001b[31m2.7 MB/s\u001b[0m eta \u001b[36m0:00:00\u001b[0m\n",
            "\u001b[?25hDownloading click-8.1.8-py3-none-any.whl (98 kB)\n",
            "\u001b[2K   \u001b[90m━━━━━━━━━━━━━━━━━━━━━━━━━━━━━━━━━━━━━━━━\u001b[0m \u001b[32m98.2/98.2 kB\u001b[0m \u001b[31m4.9 MB/s\u001b[0m eta \u001b[36m0:00:00\u001b[0m\n",
            "\u001b[?25hInstalling collected packages: eval-type-backport, click, typer, together\n",
            "  Attempting uninstall: click\n",
            "    Found existing installation: click 8.2.1\n",
            "    Uninstalling click-8.2.1:\n",
            "      Successfully uninstalled click-8.2.1\n",
            "  Attempting uninstall: typer\n",
            "    Found existing installation: typer 0.16.0\n",
            "    Uninstalling typer-0.16.0:\n",
            "      Successfully uninstalled typer-0.16.0\n",
            "Successfully installed click-8.1.8 eval-type-backport-0.2.2 together-1.5.21 typer-0.15.4\n"
          ]
        }
      ],
      "source": [
        "!pip install together"
      ]
    },
    {
      "cell_type": "code",
      "source": [
        "from google.colab import userdata\n",
        "from together import Together\n",
        "\n",
        "client = Together(api_key=userdata.get('TOGETHER_API_KEY'))\n",
        "\n",
        "def print_llm_response(prompt):\n",
        "    response = client.chat.completions.create(\n",
        "        model=\"google/gemma-3n-E4B-it\",\n",
        "        # model=\"meta-llama/Llama-3.3-70B-Instruct-Turbo-Free\",\n",
        "        messages=[\n",
        "        {\n",
        "            \"role\": \"user\",\n",
        "            \"content\": prompt\n",
        "        }\n",
        "        ]\n",
        "    )\n",
        "    return response.choices[0].message.content"
      ],
      "metadata": {
        "id": "n6ag_ZIhLL_x"
      },
      "id": "n6ag_ZIhLL_x",
      "execution_count": 2,
      "outputs": []
    },
    {
      "cell_type": "markdown",
      "id": "db2a457b",
      "metadata": {
        "id": "db2a457b"
      },
      "source": [
        "## از درس قبل\n",
        "\n",
        "پایان درس قبل لیستی از کارها رو داشتیم یادته؟"
      ]
    },
    {
      "cell_type": "code",
      "execution_count": 4,
      "id": "c2f3989f",
      "metadata": {
        "id": "c2f3989f",
        "colab": {
          "base_uri": "https://localhost:8080/"
        },
        "outputId": "f50ad61b-b79e-4365-817a-579f0679b250"
      },
      "outputs": [
        {
          "output_type": "stream",
          "name": "stdout",
          "text": [
            "[\"Compose a brief email to my boss explaining that I will be late for tomorrow's meeting.\", 'Write a birthday poem for Otto, celebrating his 28th birthday.', \"Write a 300-word review of the movie 'The Arrival'.\"]\n"
          ]
        }
      ],
      "source": [
        "#from previous lesson:\n",
        "list_of_tasks = [\n",
        "    \"Compose a brief email to my boss explaining that I will be late for tomorrow's meeting.\",\n",
        "    \"Write a birthday poem for Otto, celebrating his 28th birthday.\",\n",
        "    \"Write a 300-word review of the movie 'The Arrival'.\"\n",
        "]\n",
        "print(list_of_tasks)\n"
      ]
    },
    {
      "cell_type": "markdown",
      "id": "e5bae794",
      "metadata": {
        "id": "e5bae794"
      },
      "source": [
        "تک تک اعضای این لیست رو جدا جدا به مدل زبانی بزرگ فرستادیم."
      ]
    },
    {
      "cell_type": "code",
      "execution_count": 5,
      "id": "9f426b72",
      "metadata": {
        "id": "9f426b72",
        "colab": {
          "base_uri": "https://localhost:8080/"
        },
        "outputId": "2cd0f6f3-e82f-4559-c227-ebc9071e4908"
      },
      "outputs": [
        {
          "output_type": "stream",
          "name": "stdout",
          "text": [
            "Subject: Running a bit late to tomorrow's meeting\n",
            "\n",
            "Hi [Boss's Name],\n",
            "\n",
            "Just wanted to let you know I'll be a little late to tomorrow's meeting. I have a [brief, neutral reason - e.g., prior appointment, unexpected issue] to take care of this morning.\n",
            "\n",
            "I'll be there as soon as possible.\n",
            "\n",
            "Thanks,\n",
            "[Your Name]\n",
            "\n",
            "\n",
            "\n",
            "\n"
          ]
        }
      ],
      "source": [
        "task = list_of_tasks[0]\n",
        "x = print_llm_response(task)\n",
        "print(x)"
      ]
    },
    {
      "cell_type": "markdown",
      "id": "c46ed944-05e1-4ae0-a238-f172413b1771",
      "metadata": {
        "id": "c46ed944-05e1-4ae0-a238-f172413b1771"
      },
      "source": [
        "به جای تکرار دستی می‌تونی از حلقه فور استفاده کنی."
      ]
    },
    {
      "cell_type": "markdown",
      "id": "b40551bc",
      "metadata": {
        "id": "b40551bc"
      },
      "source": [
        "## تکرار وظایف ارسالی به هوش مصنوعی"
      ]
    },
    {
      "cell_type": "markdown",
      "id": "58985454-e28e-49c8-9fe9-3b9057bafd08",
      "metadata": {
        "id": "58985454-e28e-49c8-9fe9-3b9057bafd08"
      },
      "source": [
        "کد پایین رو ببین. با این دو خط کد ما به پایتون گفتیم که «به ازای» تک اعضای لیست مورد نظرمون اون عضو رو چاپ کنه."
      ]
    },
    {
      "cell_type": "code",
      "execution_count": 6,
      "id": "0c05dc28-4833-46ae-aad1-3607fab9cd67",
      "metadata": {
        "id": "0c05dc28-4833-46ae-aad1-3607fab9cd67",
        "colab": {
          "base_uri": "https://localhost:8080/"
        },
        "outputId": "d937c128-5ad2-4351-b737-e0a79ee6ee69"
      },
      "outputs": [
        {
          "output_type": "stream",
          "name": "stdout",
          "text": [
            "Compose a brief email to my boss explaining that I will be late for tomorrow's meeting.\n",
            "Write a birthday poem for Otto, celebrating his 28th birthday.\n",
            "Write a 300-word review of the movie 'The Arrival'.\n"
          ]
        }
      ],
      "source": [
        "for task in list_of_tasks:\n",
        "    print(task)"
      ]
    },
    {
      "cell_type": "markdown",
      "id": "e7dedcb5",
      "metadata": {
        "id": "e7dedcb5"
      },
      "source": [
        "حالا این یکی رو داشته باش\n",
        "\n",
        "اینجا گفتیم «به ازای» هر عضو لیست بیا اون عضو رو -که در واقع یک پرامپت هست- به مدل زبانی بزرگ\n",
        " بفرست و جوابش رو چاپ کن و بعد برو سراغ عضو بعدی"
      ]
    },
    {
      "cell_type": "code",
      "execution_count": 7,
      "id": "721136bd",
      "metadata": {
        "id": "721136bd"
      },
      "outputs": [],
      "source": [
        "for task in list_of_tasks:\n",
        "    print_llm_response(task)"
      ]
    },
    {
      "cell_type": "markdown",
      "id": "f9a7a927",
      "metadata": {
        "id": "f9a7a927"
      },
      "source": [
        "بیا برات مراحل اجرای کد بالا توسط پایتون رو توضیح بدم.\n",
        "\n",
        "عبارت\n",
        "\n",
        "`for task in list`\n",
        "\n",
        "به این صورت کار می‌کنه:\n",
        "\n",
        "- اول متغیر\n",
        "\n",
        "`task`\n",
        "\n",
        "مقدار اولین عضو رو می‌گیره یعنی:\n",
        "\n",
        "`\"Compose a brief email to my boss explaining that I will be late for tomorrow's meeting.\"`\n",
        "\n",
        "- بعد عملی که داخل حلقه نوشته شده روی متغیر\n",
        "\n",
        "`task`\n",
        "\n",
        "اجرا میشه و در واقع مقدار اون رو به تابع پرینت ریسپانس میده تا به مدل زبانی بفرسته و جوابش رو برگردونه.\n",
        "\n",
        "- سرانجام این دور کامل میشه و حلقه فور سراغ دور بعدی میره. مقدارعضو دوم به متغیر تخصیص داده میشه و پرامپت به مدل زبانی فرستاده میشه.\n",
        "\n",
        "- مراحل بالا به ازای همه اعضای لیست تکرار میشه.\n",
        "\n",
        "\n",
        "*نکته مهم*\n",
        "\n",
        "علامت دو نقطه در پایان عبارت فور الزامی هست و دندانه گذاری عبارت داخل فور هم همین طور."
      ]
    },
    {
      "cell_type": "code",
      "execution_count": 8,
      "id": "8516a3dc",
      "metadata": {
        "id": "8516a3dc",
        "colab": {
          "base_uri": "https://localhost:8080/",
          "height": 110
        },
        "outputId": "8b311804-ba89-4c1f-e457-fbc5f3da85b8"
      },
      "outputs": [
        {
          "output_type": "error",
          "ename": "IndentationError",
          "evalue": "expected an indented block after 'for' statement on line 1 (ipython-input-2524768439.py, line 2)",
          "traceback": [
            "\u001b[0;36m  File \u001b[0;32m\"/tmp/ipython-input-2524768439.py\"\u001b[0;36m, line \u001b[0;32m2\u001b[0m\n\u001b[0;31m    print_llm_response(task)\u001b[0m\n\u001b[0m    ^\u001b[0m\n\u001b[0;31mIndentationError\u001b[0m\u001b[0;31m:\u001b[0m expected an indented block after 'for' statement on line 1\n"
          ]
        }
      ],
      "source": [
        "for task in list_of_tasks:\n",
        "print_llm_response(task)"
      ]
    },
    {
      "cell_type": "markdown",
      "id": "2d8e58be",
      "metadata": {
        "id": "2d8e58be"
      },
      "source": [
        "<p style=\"background-color:#F5C780; padding:15px\"> 🤖 <b>از چت‌بات استفاده کنید:</b>\n",
        "\n",
        "خطای دندانه گذاری رو برام توضیح بده و تکه کد پایین رو اصلاح کنی:\n",
        "\n",
        " <br>\n",
        "for task in list_of_tasks:<br>\n",
        "print_llm_response(task)\n",
        "</p>"
      ]
    },
    {
      "cell_type": "markdown",
      "source": [
        "در زبان پایتون، دندانه‌گذاری (یا همان فاصله‌ی ابتدای خط ) اهمیت بسیار زیادی دارد و مشخص می‌کند که کدام خطوط، داخل یک بلاک (مثلاً حلقه یا شرط یا تابع) قرار دارند."
      ],
      "metadata": {
        "id": "iTYmcn_-FxCA"
      },
      "id": "iTYmcn_-FxCA"
    },
    {
      "cell_type": "code",
      "source": [
        "for task in list_of_tasks:\n",
        "    print_llm_response(task)\n"
      ],
      "metadata": {
        "id": "zA1DCdkMGeXk"
      },
      "id": "zA1DCdkMGeXk",
      "execution_count": null,
      "outputs": []
    },
    {
      "cell_type": "markdown",
      "id": "8fdafdba-1a33-4bbd-9061-6950bd8bc488",
      "metadata": {
        "id": "8fdafdba-1a33-4bbd-9061-6950bd8bc488"
      },
      "source": [
        "## پرامپت پویا با حلقه‌ی فور"
      ]
    },
    {
      "cell_type": "markdown",
      "id": "09cf3e07",
      "metadata": {
        "id": "09cf3e07"
      },
      "source": [
        "می تونی از حلقه فور استفاده کنی و پرامپت‌های پویایی با مقدارهای گوناگون متغیرها درست کنی.\n",
        "\n",
        "مثلا فرض کن تعدادی طعم بستنی داریم:"
      ]
    },
    {
      "cell_type": "code",
      "execution_count": null,
      "id": "385f6ec5",
      "metadata": {
        "id": "385f6ec5"
      },
      "outputs": [],
      "source": [
        "#ice cream flavor example\n",
        "ice_cream_flavors = [\n",
        "    \"وانیل\",\n",
        "    \"شکلات\",\n",
        "    \"توت فرنگی\",\n",
        "    \"چیپس شکلات نعنایی\"\n",
        "]"
      ]
    },
    {
      "cell_type": "code",
      "execution_count": null,
      "id": "d732762f",
      "metadata": {
        "id": "d732762f",
        "colab": {
          "base_uri": "https://localhost:8080/"
        },
        "outputId": "154ed057-f3f5-41cb-dac4-443545700f26"
      },
      "outputs": [
        {
          "output_type": "stream",
          "name": "stdout",
          "text": [
            "با یک لایه‌ی خوش‌طعم وانیل، هر لقمه‌ی این بستنی، سفری به خاطرات شیرین کودکی‌ت است. 🍦✨\n",
            "\n",
            "در یک لایه‌ی دلپذیر از شکلات غنی و عمیق، لذت بی‌نظیری را تجربه کنید!\n",
            "\n",
            "در هر لقمه از این بستنی توت فرنگی، طراوت و شیرینی بی‌نظیری را تجربه کنید که مثل یک بوسه از دل تابستان، قلب شما را شاد می‌کند!\n",
            "\n",
            "با هر لایه‌ای از این بستنی چیپس شکلات نعنایی، حس تازگی و لذت بی‌نظیری را تجربه کن!\n",
            "\n"
          ]
        }
      ],
      "source": [
        "for flavor in ice_cream_flavors:\n",
        "    prompt = f\"\"\"من بستنی‌فروشی دارم. طعم بستنی پایین رو در نظر بگیر و\n",
        "    یه توصیف گیرا برای تبلیغ این بستنی بنویس. یک جمله باشه.\n",
        "\n",
        "    طعم: {flavor}\n",
        "\n",
        "    \"\"\"\n",
        "    res = print_llm_response(prompt)\n",
        "\n",
        "    print(res)"
      ]
    },
    {
      "cell_type": "markdown",
      "id": "d3f3ead6",
      "metadata": {
        "id": "d3f3ead6"
      },
      "source": [
        "از درس قبلی تابع\n",
        "\n",
        " `.append()`\n",
        "\n",
        "یادت هست؟\n",
        "\n",
        "با کمک این تابع می‌تونیم خروجی‌های مدل (توصیف‌ طعم‌های گوناگون بستنی) رو هم تو به لیست تازهز ای اضافه کنیم."
      ]
    },
    {
      "cell_type": "code",
      "execution_count": null,
      "id": "db66a442",
      "metadata": {
        "id": "db66a442"
      },
      "outputs": [],
      "source": [
        "#saving results to a list\n",
        "promotional_descriptions = []\n",
        "for flavor in ice_cream_flavors:\n",
        "    prompt = f\"\"\"For the ice cream flavor listed below,\n",
        "    provide a captivating description that could be used for promotional purposes.\n",
        "\n",
        "    Flavor: {flavor}\n",
        "\n",
        "    \"\"\"\n",
        "    description = print_llm_response(prompt)\n",
        "    promotional_descriptions.append(description)"
      ]
    },
    {
      "cell_type": "markdown",
      "id": "ebdbcfa5",
      "metadata": {
        "id": "ebdbcfa5"
      },
      "source": [
        "با اجرای کد بالا همه توصیف‌ها رو یکجا داری."
      ]
    },
    {
      "cell_type": "code",
      "execution_count": null,
      "id": "cad94172",
      "metadata": {
        "id": "cad94172",
        "colab": {
          "base_uri": "https://localhost:8080/"
        },
        "outputId": "23329aac-2166-4474-a8b2-499014fc142c"
      },
      "outputs": [
        {
          "output_type": "stream",
          "name": "stdout",
          "text": [
            "['## Vanilla: The Timeless Classic, Elevated.\\n\\n**Indulge in the pure, unadulterated bliss of our Vanilla ice cream.** More than just a flavor, it\\'s a comforting embrace, a nostalgic memory, and a canvas for endless possibilities. \\n\\nCrafted with the finest vanilla beans, this creamy, smooth ice cream boasts a delicate sweetness and a rich, aromatic depth. It\\'s the perfect foundation for your favorite toppings – swirls of chocolate sauce, crunchy nuts, fresh berries, or a decadent caramel drizzle. \\n\\n**Experience the simplicity of perfection. Experience our Vanilla.** \\n\\n**(Optional additions depending on brand/target audience):**\\n\\n* **If highlighting quality:** \"Made with real vanilla beans for an unparalleled depth of flavor.\"\\n* **If emphasizing versatility:** \"The perfect starting point for creating your dream ice cream sundae.\"\\n* **If aiming for a sophisticated feel:** \"A refined indulgence for the discerning palate.\"\\n\\n\\n\\n', \"## شکلات (Chocolate) - Indulge Your Senses\\n\\n**Escape into a world of pure, unadulterated bliss with our شکلات (Chocolate) ice cream.** \\n\\nCrafted with the finest cocoa, this isn't just ice cream – it's an experience. Each spoonful delivers a rich, velvety texture and an intensely satisfying chocolate flavor that will awaken your senses. \\n\\nWhether you crave the deep, dark notes of bittersweet chocolate or the smooth, creamy sweetness of milk chocolate, our شکلات is the perfect indulgence. \\n\\n**It's a classic for a reason. A timeless treat. A moment of pure happiness.**\\n\\n**#Chocolate #IceCream #Indulgence #SweetTreat #ClassicFlavor #Delicious #TreatYourself**\\n\", '## توت فرنگی (Strawberry) - Captivating Descriptions:\\n\\nHere are a few options, catering to different vibes:\\n\\n**Option 1 (Classic & Romantic):**\\n\\n> **توت فرنگی: A taste of sunshine and summer romance.** Imagine fields bursting with ripe, juicy strawberries, captured in every spoonful. This creamy, vibrant ice cream is a delightful blend of sweet, tangy bliss – a timeless classic that will transport you to a perfect day. \\n\\n**Option 2 (Fresh & Vibrant):**\\n\\n> **توت فرنگی: Bursting with the flavor of fresh-picked strawberries!** Experience the invigorating taste of real fruit, swirled into a luscious, creamy base.  This is not just ice cream; it\\'s a refreshing explosion of summery goodness that will awaken your senses.\\n\\n**Option 3 (Simple & Elegant):**\\n\\n> **توت فرنگی: Pure, delightful, and irresistibly refreshing.**  Our توت فرنگی ice cream is crafted with the finest ingredients to deliver a smooth, creamy texture and a delicate, natural strawberry flavor.  The perfect simple pleasure.\\n\\n**Option 4 (A little more descriptive):**\\n\\n> **توت فرنگی: Sweet, tart, and utterly enchanting.** Indulge in the velvety smoothness of our توت فرنگی ice cream, infused with the bright, fruity essence of ripe strawberries. Each bite is a delightful dance of sweetness and tang, a truly unforgettable treat.\\n\\n\\n\\n**Key elements used in these descriptions:**\\n\\n*   **Sensory Language:** Words like \"bursting,\" \"velvety,\" \"tangy,\" \"sweet\" engage the reader\\'s senses.\\n*   **Evocative Imagery:**  Phrases like \"fields bursting with ripe strawberries\" create a mental picture.\\n*   **Emotional Connection:**  Linking the flavor to feelings like \"summer romance\" or \"delightful bliss\" makes it more appealing.\\n*   **Highlighting Quality:**  Mentioning \"real fruit\" or \"finest ingredients\" suggests a premium product.\\n\\n\\n\\nI hope these help! Let me know if you\\'d like more options or variations.\\n\\n\\n\\n', '## چیپس شکلات نعنایی (Chocolate Mint Chips) - Promotional Description:\\n\\n**Indulge in a refreshing explosion of cool mint and decadent chocolate!** \\n\\nOur چیپس شکلات نعنایی (Chocolate Mint Chips) ice cream is a symphony of contrasting textures and flavors. Imagine creamy, velvety ice cream studded with generous chunks of rich, dark chocolate and invigorating bursts of fresh mint. \\n\\nIt\\'s the perfect balance of cool and comforting, a delightful escape that will awaken your senses.  **A classic treat, elevated to pure bliss.**\\n\\n**#ChocolateMint #MintChocolate #IceCream #TreatYourself #Refreshing #Delicious #چیپس_شکلات_نعنایی**\\n\\n\\n\\n**Here\\'s why this description works:**\\n\\n* **Evocative language:** Uses words like \"explosion,\" \"symphony,\" \"velvety,\" and \"invigorating\" to create a vivid sensory experience.\\n* **Highlights key features:**  Emphasizes both the chocolate and mint components.\\n* **Focuses on the experience:**  Describes how the ice cream *feels* and *tastes*.\\n* **Appeals to emotion:**  Suggests a treat that will \"elevate\" and bring \"bliss.\"\\n* **Includes relevant hashtags:** For social media promotion.\\n\\n\\n\\n']\n"
          ]
        }
      ],
      "source": [
        "print(promotional_descriptions)"
      ]
    },
    {
      "cell_type": "markdown",
      "id": "7135f13d-0f36-4de4-9365-bdadb8e6d611",
      "metadata": {
        "id": "7135f13d-0f36-4de4-9365-bdadb8e6d611"
      },
      "source": [
        "## تمرین فراتر"
      ]
    },
    {
      "cell_type": "markdown",
      "id": "c01cc56d-92c7-4632-8cf9-aef3f9f9e3c7",
      "metadata": {
        "id": "c01cc56d-92c7-4632-8cf9-aef3f9f9e3c7"
      },
      "source": [
        "برای تمرین بیشتر کار با حلقه‌ها تمرین‌های پایین رو حل کن."
      ]
    },
    {
      "cell_type": "code",
      "execution_count": 11,
      "id": "f5a19e85-cd80-4e02-a5e1-762284bd27b6",
      "metadata": {
        "id": "f5a19e85-cd80-4e02-a5e1-762284bd27b6",
        "colab": {
          "base_uri": "https://localhost:8080/",
          "height": 110
        },
        "collapsed": true,
        "outputId": "ae54bb76-d338-4a09-8f48-06e3f7ffa0be"
      },
      "outputs": [
        {
          "output_type": "error",
          "ename": "SyntaxError",
          "evalue": "invalid syntax (ipython-input-3725614954.py, line 7)",
          "traceback": [
            "\u001b[0;36m  File \u001b[0;32m\"/tmp/ipython-input-3725614954.py\"\u001b[0;36m, line \u001b[0;32m7\u001b[0m\n\u001b[0;31m    for flavor in ice_cream_flavors;\u001b[0m\n\u001b[0m                                   ^\u001b[0m\n\u001b[0;31mSyntaxError\u001b[0m\u001b[0;31m:\u001b[0m invalid syntax\n"
          ]
        }
      ],
      "source": [
        "# کد پایین رو اصلاح کن.\n",
        "# باید طوری بشه که تک تک طعم ها چاپ بشن\n",
        "\n",
        "ice_cream_flavors = [\"Chocolate\", \"Mint Chocolate Chip\"]\n",
        "\n",
        "### EDIT THE FOLLOWING CODE ###\n",
        "for flavor in ice_cream_flavors;\n",
        "    print(ice_cream_flavors)\n",
        "### --------------- ###"
      ]
    },
    {
      "cell_type": "code",
      "source": [
        "ice_cream_flavors = [\"Chocolate\", \"Mint Chocolate Chip\"]\n",
        "\n",
        "### EDIT THE FOLLOWING CODE ###\n",
        "for flavor in ice_cream_flavors:\n",
        "    print(flavor)\n",
        "### --------------- ###"
      ],
      "metadata": {
        "colab": {
          "base_uri": "https://localhost:8080/"
        },
        "id": "PpEeg5LtVkni",
        "outputId": "5857d0b3-ce63-4946-ca64-e05d8b5ac789"
      },
      "id": "PpEeg5LtVkni",
      "execution_count": 12,
      "outputs": [
        {
          "output_type": "stream",
          "name": "stdout",
          "text": [
            "Chocolate\n",
            "Mint Chocolate Chip\n"
          ]
        }
      ]
    },
    {
      "cell_type": "code",
      "execution_count": null,
      "id": "7b7480c4-ae67-42bd-8cac-189f1f087053",
      "metadata": {
        "id": "7b7480c4-ae67-42bd-8cac-189f1f087053"
      },
      "outputs": [],
      "source": [
        "# طعم های لیست پایین رو\n",
        "# با اضافه کردن یکی دو جمله به پرامپت\n",
        "# به فارسی ترجمه کن\n",
        "ice_cream_flavors = [\"Vanilla\", \"Strawberry\"]\n",
        "\n",
        "for flavor in ice_cream_flavors:\n",
        "    ### EDIT THE FOLLOWING CODE ###\n",
        "    #Hint: you only need to add one or two sentences to the prompt\n",
        "    prompt = f\"\"\"For the ice cream flavor listed below,\n",
        "\n",
        "    \"\"\"\n",
        "    ### --------------- ###\n",
        "    print_llm_response(prompt)"
      ]
    },
    {
      "cell_type": "code",
      "source": [
        "ice_cream_flavors = [\"Vanilla\", \"Strawberry\"]\n",
        "\n",
        "for flavor in ice_cream_flavors:\n",
        "    ### EDIT THE FOLLOWING CODE ###\n",
        "    prompt = f\"\"\"لطفاً طعم برفک \"{flavor}\" را به زبان فارسی ترجمه کنید.\n",
        "    فقط خروجی را به صورت خالص و بدون توضیحات اضافی برگردانید.\"\"\"\n",
        "    ### --------------- ###\n",
        "    translation = print_llm_response(prompt)\n",
        "    print(f\"ترجمه طعم {flavor}: {translation}\")"
      ],
      "metadata": {
        "colab": {
          "base_uri": "https://localhost:8080/"
        },
        "id": "_yZC0_kXV3p7",
        "outputId": "400251b5-7ea0-4281-dd61-c51463205125"
      },
      "id": "_yZC0_kXV3p7",
      "execution_count": null,
      "outputs": [
        {
          "output_type": "stream",
          "name": "stdout",
          "text": [
            "ترجمه طعم Vanilla: وانیلی\n",
            "\n",
            "ترجمه طعم Strawberry: طعم توت فرنگی\n",
            "\n"
          ]
        }
      ]
    },
    {
      "cell_type": "code",
      "execution_count": null,
      "id": "6394bb74-a839-4732-8dbf-1b96bd8e97f9",
      "metadata": {
        "id": "6394bb74-a839-4732-8dbf-1b96bd8e97f9"
      },
      "outputs": [],
      "source": [
        "# کاری کن که فهرست کلمات بدون غلط املایی کامل بشه\n",
        "\n",
        "words_with_typos = [\"Aple\", \"Wether\", \"Newpaper\"]\n",
        "words_without_typos = []\n",
        "\n",
        "for word in words_with_typos:\n",
        "    prompt = f\"\"\"Fix the spelling mistake in the following word: {word}\n",
        "    Provide only the word.\n",
        "    \"\"\"\n",
        "    correct_word = print_llm_response(prompt)\n",
        "    ### WRITE CODE HERE  ###\n",
        "    #Hint: Append the correct_word to the words_without_typos list\n",
        "    ### --------------- ###\n",
        "\n",
        "print(words_without_typos)"
      ]
    },
    {
      "cell_type": "code",
      "source": [
        "words_with_typos = [\"Aple\", \"Wether\", \"Newpaper\"]\n",
        "words_without_typos = []\n",
        "\n",
        "for word in words_with_typos:\n",
        "    prompt = f\"\"\"Fix the spelling mistake in the following word: {word}\n",
        "    Provide only the word.\n",
        "    \"\"\"\n",
        "    correct_word = print_llm_response(prompt)\n",
        "    ### WRITE CODE HERE  ###\n",
        "    words_without_typos.append(correct_word)\n",
        "    ### --------------- ###\n",
        "\n",
        "print(words_without_typos)\n",
        "\n"
      ],
      "metadata": {
        "colab": {
          "base_uri": "https://localhost:8080/"
        },
        "id": "YWWKzbKSHMr6",
        "outputId": "4a8d5b7b-9a42-4732-db75-7d6692f0abe1"
      },
      "id": "YWWKzbKSHMr6",
      "execution_count": 16,
      "outputs": [
        {
          "output_type": "stream",
          "name": "stdout",
          "text": [
            "['Apple\\n', 'Whether\\n', 'Newspaper\\n']\n"
          ]
        }
      ]
    }
  ],
  "metadata": {
    "kernelspec": {
      "display_name": "Python 3 (ipykernel)",
      "language": "python",
      "name": "python3"
    },
    "language_info": {
      "codemirror_mode": {
        "name": "ipython",
        "version": 3
      },
      "file_extension": ".py",
      "mimetype": "text/x-python",
      "name": "python",
      "nbconvert_exporter": "python",
      "pygments_lexer": "ipython3",
      "version": "3.9.19"
    },
    "colab": {
      "provenance": []
    }
  },
  "nbformat": 4,
  "nbformat_minor": 5
}